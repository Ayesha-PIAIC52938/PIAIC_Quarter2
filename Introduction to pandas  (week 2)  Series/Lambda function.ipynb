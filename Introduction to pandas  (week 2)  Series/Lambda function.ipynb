{
 "cells": [
  {
   "cell_type": "markdown",
   "id": "3085868b",
   "metadata": {},
   "source": [
    "#  <div class=\"alert alert-success\" > Lambda functions: Anonymous functions (IIF)"
   ]
  },
  {
   "cell_type": "markdown",
   "id": "50bc4ae4",
   "metadata": {},
   "source": [
    "A lambda function is a small anonymous function. It can take any number of arguments, but can only have one expression.\n",
    "We use lambda functions when a function is not reusable i.e lambda functions are one time call function thatsmade and calles to execute on the same line.\n",
    "\n",
    "Always make simple logics in the lambda functions"
   ]
  },
  {
   "cell_type": "markdown",
   "id": "f2c87f53",
   "metadata": {},
   "source": [
    "## Syntex\n",
    "<div class= \"alert alert-info\">lambda arguments : expression </div>\n",
    "    \n",
    "The expression is executed and the result is returned:"
   ]
  },
  {
   "cell_type": "code",
   "execution_count": 1,
   "id": "77537c31",
   "metadata": {},
   "outputs": [
    {
     "data": {
      "text/plain": [
       "15"
      ]
     },
     "execution_count": 1,
     "metadata": {},
     "output_type": "execute_result"
    }
   ],
   "source": [
    "x = lambda a : a + 10                    # Add 10 to argument a, and return the result:\n",
    "\n",
    "x(5) # a=5 send to lambda funxtion x that adds 10 to a"
   ]
  },
  {
   "cell_type": "markdown",
   "id": "acaa592d",
   "metadata": {},
   "source": [
    "Lambda functions can take any number of arguments:\n",
    "\n"
   ]
  },
  {
   "cell_type": "code",
   "execution_count": 2,
   "id": "932d3937",
   "metadata": {},
   "outputs": [
    {
     "data": {
      "text/plain": [
       "30"
      ]
     },
     "execution_count": 2,
     "metadata": {},
     "output_type": "execute_result"
    }
   ],
   "source": [
    "x = lambda a, b : a * b    # Multiply argument a with argument b and return the result:\n",
    "x(5, 6)"
   ]
  },
  {
   "cell_type": "code",
   "execution_count": 3,
   "id": "c6ca4b42",
   "metadata": {},
   "outputs": [
    {
     "data": {
      "text/plain": [
       "13"
      ]
     },
     "execution_count": 3,
     "metadata": {},
     "output_type": "execute_result"
    }
   ],
   "source": [
    "x = lambda a, b, c : a + b + c   # Summarize argument a, b, and c and return the result:\n",
    "\n",
    "x(5, 6, 2)"
   ]
  },
  {
   "cell_type": "markdown",
   "id": "27fab0b4",
   "metadata": {},
   "source": [
    "## Why Use Lambda Functions?\n",
    "The power of lambda is better shown when you use them as an anonymous function inside another function.\n",
    "\n",
    "Say you have a function definition that takes one argument, and that argument will be multiplied with an unknown number:"
   ]
  },
  {
   "cell_type": "markdown",
   "id": "4326ca6c",
   "metadata": {},
   "source": [
    "Making a function that always doubles the number you send in:"
   ]
  },
  {
   "cell_type": "code",
   "execution_count": 9,
   "id": "ef9dae5b",
   "metadata": {},
   "outputs": [
    {
     "data": {
      "text/plain": [
       "<function __main__.myfunc.<locals>.<lambda>(a)>"
      ]
     },
     "execution_count": 9,
     "metadata": {},
     "output_type": "execute_result"
    }
   ],
   "source": [
    "def myfunc(n):\n",
    "  return lambda b : b * n\n",
    "\n",
    "mydoubler = myfunc(2)     # after calling mfunc(2) : mydoubler = b: b*2  (n=2)\n",
    "\n",
    "mydoubler(11)             # mydoubler(11) provides the value for b i.e b=11"
   ]
  },
  {
   "cell_type": "markdown",
   "id": "95b8f308",
   "metadata": {},
   "source": [
    "Or, use the same function definition to make a function that always triples the number you send in:"
   ]
  },
  {
   "cell_type": "code",
   "execution_count": 6,
   "id": "6e5e2ea7",
   "metadata": {},
   "outputs": [
    {
     "name": "stdout",
     "output_type": "stream",
     "text": [
      "22\n",
      "33\n"
     ]
    }
   ],
   "source": [
    "def myfunc(n):\n",
    "  return lambda a : a * n\n",
    "\n",
    "mydoubler = myfunc(2)\n",
    "mytripler = myfunc(3)\n",
    "\n",
    "print(mydoubler(11))\n",
    "print(mytripler(11))"
   ]
  },
  {
   "cell_type": "code",
   "execution_count": null,
   "id": "00160a51",
   "metadata": {},
   "outputs": [],
   "source": []
  }
 ],
 "metadata": {
  "kernelspec": {
   "display_name": "Python 3 (ipykernel)",
   "language": "python",
   "name": "python3"
  },
  "language_info": {
   "codemirror_mode": {
    "name": "ipython",
    "version": 3
   },
   "file_extension": ".py",
   "mimetype": "text/x-python",
   "name": "python",
   "nbconvert_exporter": "python",
   "pygments_lexer": "ipython3",
   "version": "3.9.12"
  }
 },
 "nbformat": 4,
 "nbformat_minor": 5
}
