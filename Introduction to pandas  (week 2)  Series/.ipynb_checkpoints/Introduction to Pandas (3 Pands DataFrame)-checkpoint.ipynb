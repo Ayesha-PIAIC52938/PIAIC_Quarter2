{
 "cells": [
  {
   "cell_type": "markdown",
   "id": "136a4a3d",
   "metadata": {},
   "source": [
    "# <div class=\"alert alert-success\" >(3) Pandas DataFrame\n",
    "\n",
    "The pandas DataFrame object extends the capabilities of the Series object into two-dimensions. A Series object adds an index to a NumPy array but can only associate a single data item per index label, a DataFrame integrates multiple Series objects by aligning them along common index labels. This automatic alignment by index label provides a seamless view across all the Series at each index label that has the appearance of a row in a table.\n",
    "    \n",
    "Because of the increased dimensionality of the DataFrame object, it becomes necessary to provide a means to select both rows and columns. Carrying over from a Series, the DataFrame uses the [] operator for selection, but it is now applied to the selection of columns of data. This means that another construct must be used to select specific rows of a DataFrame object. For those operations, a DataFrame object provides several methods and attributes that can be used in various fashions to select data by rows. A DataFrame also introduces the concept of multiple axes, specifically the horizontal and vertical axis. Functions from pandas can then be applied to either axis, in essence stating that the operation be applied horizontally to all the values in the rows, or up and down each column.    "
   ]
  },
  {
   "cell_type": "code",
   "execution_count": 1,
   "id": "5bd75cd0",
   "metadata": {},
   "outputs": [],
   "source": [
    "import pandas as pd\n",
    "import numpy as np"
   ]
  },
  {
   "cell_type": "markdown",
   "id": "3e913f1a",
   "metadata": {},
   "source": [
    "## <div class= \"alert alert-info\">Creating DataFrame from scratch\n",
    "    \n",
    "There are several ways to create a DataFrame. Probably the most straightforward way, is by creating it from a NumPy array. The following code creates a DataFrame from a two dimensional NumPy array.    "
   ]
  },
  {
   "cell_type": "markdown",
   "id": "29014345",
   "metadata": {},
   "source": [
    "#### Creating dataframe from list (just to understand)"
   ]
  },
  {
   "cell_type": "code",
   "execution_count": 2,
   "id": "e8a3122a",
   "metadata": {},
   "outputs": [
    {
     "data": {
      "text/html": [
       "<div>\n",
       "<style scoped>\n",
       "    .dataframe tbody tr th:only-of-type {\n",
       "        vertical-align: middle;\n",
       "    }\n",
       "\n",
       "    .dataframe tbody tr th {\n",
       "        vertical-align: top;\n",
       "    }\n",
       "\n",
       "    .dataframe thead th {\n",
       "        text-align: right;\n",
       "    }\n",
       "</style>\n",
       "<table border=\"1\" class=\"dataframe\">\n",
       "  <thead>\n",
       "    <tr style=\"text-align: right;\">\n",
       "      <th></th>\n",
       "      <th>a</th>\n",
       "      <th>b</th>\n",
       "      <th>c</th>\n",
       "    </tr>\n",
       "  </thead>\n",
       "  <tbody>\n",
       "    <tr>\n",
       "      <th>1</th>\n",
       "      <td>1</td>\n",
       "      <td>2</td>\n",
       "      <td>3</td>\n",
       "    </tr>\n",
       "    <tr>\n",
       "      <th>2</th>\n",
       "      <td>1</td>\n",
       "      <td>2</td>\n",
       "      <td>3</td>\n",
       "    </tr>\n",
       "    <tr>\n",
       "      <th>3</th>\n",
       "      <td>1</td>\n",
       "      <td>2</td>\n",
       "      <td>3</td>\n",
       "    </tr>\n",
       "  </tbody>\n",
       "</table>\n",
       "</div>"
      ],
      "text/plain": [
       "   a  b  c\n",
       "1  1  2  3\n",
       "2  1  2  3\n",
       "3  1  2  3"
      ]
     },
     "execution_count": 2,
     "metadata": {},
     "output_type": "execute_result"
    }
   ],
   "source": [
    "lst1 = [1,2,3]  \n",
    "df_l1 = pd.DataFrame([lst1],index=[1,2,3],columns=['a','b','c'])  # lst is 1D so we pass it as 2D\n",
    "df_l1"
   ]
  },
  {
   "cell_type": "code",
   "execution_count": 3,
   "id": "2909350e",
   "metadata": {},
   "outputs": [
    {
     "data": {
      "text/html": [
       "<div>\n",
       "<style scoped>\n",
       "    .dataframe tbody tr th:only-of-type {\n",
       "        vertical-align: middle;\n",
       "    }\n",
       "\n",
       "    .dataframe tbody tr th {\n",
       "        vertical-align: top;\n",
       "    }\n",
       "\n",
       "    .dataframe thead th {\n",
       "        text-align: right;\n",
       "    }\n",
       "</style>\n",
       "<table border=\"1\" class=\"dataframe\">\n",
       "  <thead>\n",
       "    <tr style=\"text-align: right;\">\n",
       "      <th></th>\n",
       "      <th>series1</th>\n",
       "      <th>series2</th>\n",
       "      <th>series3</th>\n",
       "    </tr>\n",
       "  </thead>\n",
       "  <tbody>\n",
       "    <tr>\n",
       "      <th>record1</th>\n",
       "      <td>1</td>\n",
       "      <td>2</td>\n",
       "      <td>3</td>\n",
       "    </tr>\n",
       "    <tr>\n",
       "      <th>record2</th>\n",
       "      <td>3</td>\n",
       "      <td>2</td>\n",
       "      <td>1</td>\n",
       "    </tr>\n",
       "    <tr>\n",
       "      <th>record3</th>\n",
       "      <td>1</td>\n",
       "      <td>1</td>\n",
       "      <td>3</td>\n",
       "    </tr>\n",
       "  </tbody>\n",
       "</table>\n",
       "</div>"
      ],
      "text/plain": [
       "         series1  series2  series3\n",
       "record1        1        2        3\n",
       "record2        3        2        1\n",
       "record3        1        1        3"
      ]
     },
     "execution_count": 3,
     "metadata": {},
     "output_type": "execute_result"
    }
   ],
   "source": [
    "lst2 = [[1,2,3] , [3,2,1] , [1,1,3] ]\n",
    "df_l2 = pd.DataFrame(lst2,index=['record1','record2','record3'],columns=['series1','series2','series3'])\n",
    "df_l2"
   ]
  },
  {
   "cell_type": "markdown",
   "id": "cf864746",
   "metadata": {},
   "source": [
    "#### Creating dataframe from dictionary\n",
    "\n",
    "A DataFrame object can also be created by passing a dictionary containing one or\n",
    "more Series objects, where the dictionary keys contain the column names and each\n",
    "series is one column of data:"
   ]
  },
  {
   "cell_type": "code",
   "execution_count": 4,
   "id": "7cae90a5",
   "metadata": {},
   "outputs": [],
   "source": [
    "students = {'rolls':[1,2,3,4,5,6],\n",
    "            'names':['Ali','Amjad', 'Saima', 'Qaiser','Hamid','Nasir'], \n",
    "            'courses':['Python', 'Pandas', 'Numpy','Pandas', 'Numpy', \"Python\"], \n",
    "            'mode':['Online', 'Onsite','Online', 'Onsite','Online', 'Onsite']}"
   ]
  },
  {
   "cell_type": "markdown",
   "id": "4d5ff0f2",
   "metadata": {},
   "source": [
    "<b> Note</b>   for dataframe each list should have same length. so for uneven length list in a dictionary add NaN "
   ]
  },
  {
   "cell_type": "code",
   "execution_count": 5,
   "id": "656ac5d3",
   "metadata": {},
   "outputs": [
    {
     "data": {
      "text/html": [
       "<div>\n",
       "<style scoped>\n",
       "    .dataframe tbody tr th:only-of-type {\n",
       "        vertical-align: middle;\n",
       "    }\n",
       "\n",
       "    .dataframe tbody tr th {\n",
       "        vertical-align: top;\n",
       "    }\n",
       "\n",
       "    .dataframe thead th {\n",
       "        text-align: right;\n",
       "    }\n",
       "</style>\n",
       "<table border=\"1\" class=\"dataframe\">\n",
       "  <thead>\n",
       "    <tr style=\"text-align: right;\">\n",
       "      <th></th>\n",
       "      <th>rolls</th>\n",
       "      <th>names</th>\n",
       "      <th>courses</th>\n",
       "      <th>mode</th>\n",
       "    </tr>\n",
       "  </thead>\n",
       "  <tbody>\n",
       "    <tr>\n",
       "      <th>0</th>\n",
       "      <td>1</td>\n",
       "      <td>Ali</td>\n",
       "      <td>Python</td>\n",
       "      <td>Online</td>\n",
       "    </tr>\n",
       "    <tr>\n",
       "      <th>1</th>\n",
       "      <td>2</td>\n",
       "      <td>Amjad</td>\n",
       "      <td>Pandas</td>\n",
       "      <td>Onsite</td>\n",
       "    </tr>\n",
       "    <tr>\n",
       "      <th>2</th>\n",
       "      <td>3</td>\n",
       "      <td>Saima</td>\n",
       "      <td>Numpy</td>\n",
       "      <td>Online</td>\n",
       "    </tr>\n",
       "    <tr>\n",
       "      <th>3</th>\n",
       "      <td>4</td>\n",
       "      <td>Qaiser</td>\n",
       "      <td>Pandas</td>\n",
       "      <td>Onsite</td>\n",
       "    </tr>\n",
       "    <tr>\n",
       "      <th>4</th>\n",
       "      <td>5</td>\n",
       "      <td>Hamid</td>\n",
       "      <td>Numpy</td>\n",
       "      <td>Online</td>\n",
       "    </tr>\n",
       "    <tr>\n",
       "      <th>5</th>\n",
       "      <td>6</td>\n",
       "      <td>Nasir</td>\n",
       "      <td>Python</td>\n",
       "      <td>Onsite</td>\n",
       "    </tr>\n",
       "  </tbody>\n",
       "</table>\n",
       "</div>"
      ],
      "text/plain": [
       "   rolls   names courses    mode\n",
       "0      1     Ali  Python  Online\n",
       "1      2   Amjad  Pandas  Onsite\n",
       "2      3   Saima   Numpy  Online\n",
       "3      4  Qaiser  Pandas  Onsite\n",
       "4      5   Hamid   Numpy  Online\n",
       "5      6   Nasir  Python  Onsite"
      ]
     },
     "execution_count": 5,
     "metadata": {},
     "output_type": "execute_result"
    }
   ],
   "source": [
    "df_d  = pd.DataFrame(students)    # Creating a data frame\n",
    "df_d"
   ]
  },
  {
   "cell_type": "markdown",
   "id": "c1232b1b",
   "metadata": {},
   "source": [
    "<mark> rolls, names, courses and mode are 4 series combined to make a data frame. horizontal rows are called records</mark> "
   ]
  },
  {
   "cell_type": "code",
   "execution_count": 6,
   "id": "034d70d3",
   "metadata": {},
   "outputs": [
    {
     "data": {
      "text/plain": [
       "pandas.core.frame.DataFrame"
      ]
     },
     "execution_count": 6,
     "metadata": {},
     "output_type": "execute_result"
    }
   ],
   "source": [
    "type(df_d)"
   ]
  },
  {
   "cell_type": "code",
   "execution_count": 7,
   "id": "c9abce77",
   "metadata": {},
   "outputs": [
    {
     "data": {
      "text/plain": [
       "pandas.core.series.Series"
      ]
     },
     "execution_count": 7,
     "metadata": {},
     "output_type": "execute_result"
    }
   ],
   "source": [
    "type(df_d[\"rolls\"])"
   ]
  },
  {
   "cell_type": "code",
   "execution_count": 8,
   "id": "a907a8d1",
   "metadata": {},
   "outputs": [
    {
     "data": {
      "text/plain": [
       "pandas.core.frame.DataFrame"
      ]
     },
     "execution_count": 8,
     "metadata": {},
     "output_type": "execute_result"
    }
   ],
   "source": [
    "type(df_d[[\"rolls\",'mode']])"
   ]
  },
  {
   "cell_type": "markdown",
   "id": "bb11e07b",
   "metadata": {},
   "source": [
    "### <div class= \"alert alert-warning\">DataFrame dimension\n",
    "    \n",
    "The dimensions of a DataFrame object can be determined using its .shape property. A DataFrame is always two-dimensional. The first value informs us about the number of rows and the second value is the number of columns:"
   ]
  },
  {
   "cell_type": "code",
   "execution_count": 9,
   "id": "444c58e4",
   "metadata": {},
   "outputs": [
    {
     "data": {
      "text/plain": [
       "(6, 4)"
      ]
     },
     "execution_count": 9,
     "metadata": {},
     "output_type": "execute_result"
    }
   ],
   "source": [
    "# what's the shape of this DataFrame i.e dimensions\n",
    "df_d.shape  # it is 4 rows by 6 columns"
   ]
  },
  {
   "cell_type": "markdown",
   "id": "ea0fbbf9",
   "metadata": {},
   "source": [
    "### <div class= \"alert alert-warning\"> Naming dataframe columns\n",
    "    \n",
    "Column names can be specified at the time of creating the DataFrame by using the\n",
    "columns parameter of the DataFrame constructor:"
   ]
  },
  {
   "cell_type": "code",
   "execution_count": 10,
   "id": "5bcad59d",
   "metadata": {},
   "outputs": [
    {
     "data": {
      "text/html": [
       "<div>\n",
       "<style scoped>\n",
       "    .dataframe tbody tr th:only-of-type {\n",
       "        vertical-align: middle;\n",
       "    }\n",
       "\n",
       "    .dataframe tbody tr th {\n",
       "        vertical-align: top;\n",
       "    }\n",
       "\n",
       "    .dataframe thead th {\n",
       "        text-align: right;\n",
       "    }\n",
       "</style>\n",
       "<table border=\"1\" class=\"dataframe\">\n",
       "  <thead>\n",
       "    <tr style=\"text-align: right;\">\n",
       "      <th></th>\n",
       "      <th>a</th>\n",
       "      <th>b</th>\n",
       "    </tr>\n",
       "  </thead>\n",
       "  <tbody>\n",
       "    <tr>\n",
       "      <th>0</th>\n",
       "      <td>10</td>\n",
       "      <td>11</td>\n",
       "    </tr>\n",
       "    <tr>\n",
       "      <th>1</th>\n",
       "      <td>20</td>\n",
       "      <td>21</td>\n",
       "    </tr>\n",
       "  </tbody>\n",
       "</table>\n",
       "</div>"
      ],
      "text/plain": [
       "    a   b\n",
       "0  10  11\n",
       "1  20  21"
      ]
     },
     "execution_count": 10,
     "metadata": {},
     "output_type": "execute_result"
    }
   ],
   "source": [
    "# specify column names\n",
    "df = pd.DataFrame(np.array([[10, 11], [20, 21]]),columns=['a', 'b'])\n",
    "df"
   ]
  },
  {
   "cell_type": "markdown",
   "id": "5d89dfa5",
   "metadata": {},
   "source": [
    "The names of the columns of a DataFrame can be accessed with its .columns property:"
   ]
  },
  {
   "cell_type": "code",
   "execution_count": 11,
   "id": "b14ce339",
   "metadata": {},
   "outputs": [
    {
     "data": {
      "text/plain": [
       "Index(['a', 'b'], dtype='object')"
      ]
     },
     "execution_count": 11,
     "metadata": {},
     "output_type": "execute_result"
    }
   ],
   "source": [
    "# what are the names of the columns?\n",
    "df.columns"
   ]
  },
  {
   "cell_type": "markdown",
   "id": "5af144ba",
   "metadata": {},
   "source": [
    "<mark>This value of the .columns property is actually a pandas index. The individual column names can be accessed by position.</mark>"
   ]
  },
  {
   "cell_type": "code",
   "execution_count": 12,
   "id": "c0cdcc63",
   "metadata": {},
   "outputs": [
    {
     "data": {
      "text/plain": [
       "'a'"
      ]
     },
     "execution_count": 12,
     "metadata": {},
     "output_type": "execute_result"
    }
   ],
   "source": [
    "df.columns[0]     # df.columns[1]   = 'b'"
   ]
  },
  {
   "cell_type": "markdown",
   "id": "1caa0c0b",
   "metadata": {},
   "source": [
    "The names of the columns can be changed by assigning a list of the new names to the the .columns property:"
   ]
  },
  {
   "cell_type": "code",
   "execution_count": 13,
   "id": "9c727624",
   "metadata": {},
   "outputs": [
    {
     "data": {
      "text/html": [
       "<div>\n",
       "<style scoped>\n",
       "    .dataframe tbody tr th:only-of-type {\n",
       "        vertical-align: middle;\n",
       "    }\n",
       "\n",
       "    .dataframe tbody tr th {\n",
       "        vertical-align: top;\n",
       "    }\n",
       "\n",
       "    .dataframe thead th {\n",
       "        text-align: right;\n",
       "    }\n",
       "</style>\n",
       "<table border=\"1\" class=\"dataframe\">\n",
       "  <thead>\n",
       "    <tr style=\"text-align: right;\">\n",
       "      <th></th>\n",
       "      <th>c1</th>\n",
       "      <th>c2</th>\n",
       "    </tr>\n",
       "  </thead>\n",
       "  <tbody>\n",
       "    <tr>\n",
       "      <th>0</th>\n",
       "      <td>10</td>\n",
       "      <td>11</td>\n",
       "    </tr>\n",
       "    <tr>\n",
       "      <th>1</th>\n",
       "      <td>20</td>\n",
       "      <td>21</td>\n",
       "    </tr>\n",
       "  </tbody>\n",
       "</table>\n",
       "</div>"
      ],
      "text/plain": [
       "   c1  c2\n",
       "0  10  11\n",
       "1  20  21"
      ]
     },
     "execution_count": 13,
     "metadata": {},
     "output_type": "execute_result"
    }
   ],
   "source": [
    "df.columns = ['c1', 'c2'] # rename the columns\n",
    "df"
   ]
  },
  {
   "cell_type": "markdown",
   "id": "a0887279",
   "metadata": {},
   "source": [
    "### <div class= \"alert alert-warning\"> Naming dataframe index i.e labels"
   ]
  },
  {
   "cell_type": "markdown",
   "id": "ae6128b3",
   "metadata": {},
   "source": [
    "Index labels can likewise be assigned using the index parameter of the constructor or by assigning a list directly to the .index property."
   ]
  },
  {
   "cell_type": "code",
   "execution_count": 14,
   "id": "17ca5598",
   "metadata": {},
   "outputs": [
    {
     "data": {
      "text/html": [
       "<div>\n",
       "<style scoped>\n",
       "    .dataframe tbody tr th:only-of-type {\n",
       "        vertical-align: middle;\n",
       "    }\n",
       "\n",
       "    .dataframe tbody tr th {\n",
       "        vertical-align: top;\n",
       "    }\n",
       "\n",
       "    .dataframe thead th {\n",
       "        text-align: right;\n",
       "    }\n",
       "</style>\n",
       "<table border=\"1\" class=\"dataframe\">\n",
       "  <thead>\n",
       "    <tr style=\"text-align: right;\">\n",
       "      <th></th>\n",
       "      <th>c1</th>\n",
       "      <th>c2</th>\n",
       "    </tr>\n",
       "  </thead>\n",
       "  <tbody>\n",
       "    <tr>\n",
       "      <th>r1</th>\n",
       "      <td>0</td>\n",
       "      <td>1</td>\n",
       "    </tr>\n",
       "    <tr>\n",
       "      <th>r2</th>\n",
       "      <td>2</td>\n",
       "      <td>3</td>\n",
       "    </tr>\n",
       "  </tbody>\n",
       "</table>\n",
       "</div>"
      ],
      "text/plain": [
       "    c1  c2\n",
       "r1   0   1\n",
       "r2   2   3"
      ]
     },
     "execution_count": 14,
     "metadata": {},
     "output_type": "execute_result"
    }
   ],
   "source": [
    "# create a DataFrame with named columns and rows\n",
    "\n",
    "df = pd.DataFrame(np.array([[0, 1], [2, 3]]),columns=['c1', 'c2'],index=['r1', 'r2']) \n",
    "df"
   ]
  },
  {
   "cell_type": "markdown",
   "id": "3382c7d4",
   "metadata": {},
   "source": [
    "Similar to the Series object, the index of a DataFrame object can be accessed with its .index property: "
   ]
  },
  {
   "cell_type": "code",
   "execution_count": 15,
   "id": "5f9c2e99",
   "metadata": {},
   "outputs": [
    {
     "data": {
      "text/plain": [
       "Index(['r1', 'r2'], dtype='object')"
      ]
     },
     "execution_count": 15,
     "metadata": {},
     "output_type": "execute_result"
    }
   ],
   "source": [
    "# retrieve the index of the DataFrame\n",
    "df.index"
   ]
  },
  {
   "cell_type": "markdown",
   "id": "c22d364a",
   "metadata": {},
   "source": [
    "#### Creating dataframe from ndarray object"
   ]
  },
  {
   "cell_type": "code",
   "execution_count": 16,
   "id": "b1e45ebd",
   "metadata": {},
   "outputs": [
    {
     "data": {
      "text/html": [
       "<div>\n",
       "<style scoped>\n",
       "    .dataframe tbody tr th:only-of-type {\n",
       "        vertical-align: middle;\n",
       "    }\n",
       "\n",
       "    .dataframe tbody tr th {\n",
       "        vertical-align: top;\n",
       "    }\n",
       "\n",
       "    .dataframe thead th {\n",
       "        text-align: right;\n",
       "    }\n",
       "</style>\n",
       "<table border=\"1\" class=\"dataframe\">\n",
       "  <thead>\n",
       "    <tr style=\"text-align: right;\">\n",
       "      <th></th>\n",
       "      <th>0</th>\n",
       "      <th>1</th>\n",
       "      <th>2</th>\n",
       "    </tr>\n",
       "  </thead>\n",
       "  <tbody>\n",
       "    <tr>\n",
       "      <th>0</th>\n",
       "      <td>10</td>\n",
       "      <td>11</td>\n",
       "      <td>12</td>\n",
       "    </tr>\n",
       "    <tr>\n",
       "      <th>1</th>\n",
       "      <td>20</td>\n",
       "      <td>21</td>\n",
       "      <td>22</td>\n",
       "    </tr>\n",
       "  </tbody>\n",
       "</table>\n",
       "</div>"
      ],
      "text/plain": [
       "    0   1   2\n",
       "0  10  11  12\n",
       "1  20  21  22"
      ]
     },
     "execution_count": 16,
     "metadata": {},
     "output_type": "execute_result"
    }
   ],
   "source": [
    "df_s = pd.DataFrame(np.array([[10, 11,12], [20, 21,22]]))\n",
    "df_s"
   ]
  },
  {
   "cell_type": "markdown",
   "id": "0a057c91",
   "metadata": {},
   "source": [
    "Each row of the array forms a row in the DataFrame object. Since we did not specify an index, pandas creates a default int64 index in the same manner as a Series object. Since we did not specify column names, pandas also assigns the names for\n",
    "each column with a zero-based integer series."
   ]
  },
  {
   "cell_type": "markdown",
   "id": "768f7ed8",
   "metadata": {},
   "source": [
    "#### Creating dataframe from list of series"
   ]
  },
  {
   "cell_type": "code",
   "execution_count": 17,
   "id": "4a79d2ee",
   "metadata": {},
   "outputs": [
    {
     "data": {
      "text/html": [
       "<div>\n",
       "<style scoped>\n",
       "    .dataframe tbody tr th:only-of-type {\n",
       "        vertical-align: middle;\n",
       "    }\n",
       "\n",
       "    .dataframe tbody tr th {\n",
       "        vertical-align: top;\n",
       "    }\n",
       "\n",
       "    .dataframe thead th {\n",
       "        text-align: right;\n",
       "    }\n",
       "</style>\n",
       "<table border=\"1\" class=\"dataframe\">\n",
       "  <thead>\n",
       "    <tr style=\"text-align: right;\">\n",
       "      <th></th>\n",
       "      <th>0</th>\n",
       "      <th>1</th>\n",
       "      <th>2</th>\n",
       "      <th>3</th>\n",
       "      <th>4</th>\n",
       "    </tr>\n",
       "  </thead>\n",
       "  <tbody>\n",
       "    <tr>\n",
       "      <th>0</th>\n",
       "      <td>10</td>\n",
       "      <td>11</td>\n",
       "      <td>12</td>\n",
       "      <td>13</td>\n",
       "      <td>14</td>\n",
       "    </tr>\n",
       "    <tr>\n",
       "      <th>1</th>\n",
       "      <td>15</td>\n",
       "      <td>16</td>\n",
       "      <td>17</td>\n",
       "      <td>18</td>\n",
       "      <td>19</td>\n",
       "    </tr>\n",
       "  </tbody>\n",
       "</table>\n",
       "</div>"
      ],
      "text/plain": [
       "    0   1   2   3   4\n",
       "0  10  11  12  13  14\n",
       "1  15  16  17  18  19"
      ]
     },
     "execution_count": 17,
     "metadata": {},
     "output_type": "execute_result"
    }
   ],
   "source": [
    "s1 = pd.Series(np.arange(10, 15))\n",
    "s2 = pd.Series(np.arange(15, 20))\n",
    "df1 = pd.DataFrame([s1,s2])\n",
    "df1"
   ]
  },
  {
   "cell_type": "code",
   "execution_count": 18,
   "id": "56757394",
   "metadata": {},
   "outputs": [
    {
     "data": {
      "text/html": [
       "<div>\n",
       "<style scoped>\n",
       "    .dataframe tbody tr th:only-of-type {\n",
       "        vertical-align: middle;\n",
       "    }\n",
       "\n",
       "    .dataframe tbody tr th {\n",
       "        vertical-align: top;\n",
       "    }\n",
       "\n",
       "    .dataframe thead th {\n",
       "        text-align: right;\n",
       "    }\n",
       "</style>\n",
       "<table border=\"1\" class=\"dataframe\">\n",
       "  <thead>\n",
       "    <tr style=\"text-align: right;\">\n",
       "      <th></th>\n",
       "      <th>a</th>\n",
       "      <th>b</th>\n",
       "      <th>c</th>\n",
       "      <th>d</th>\n",
       "      <th>e</th>\n",
       "    </tr>\n",
       "  </thead>\n",
       "  <tbody>\n",
       "    <tr>\n",
       "      <th>0</th>\n",
       "      <td>10</td>\n",
       "      <td>11</td>\n",
       "      <td>12</td>\n",
       "      <td>13</td>\n",
       "      <td>14</td>\n",
       "    </tr>\n",
       "    <tr>\n",
       "      <th>1</th>\n",
       "      <td>15</td>\n",
       "      <td>16</td>\n",
       "      <td>17</td>\n",
       "      <td>18</td>\n",
       "      <td>19</td>\n",
       "    </tr>\n",
       "  </tbody>\n",
       "</table>\n",
       "</div>"
      ],
      "text/plain": [
       "    a   b   c   d   e\n",
       "0  10  11  12  13  14\n",
       "1  15  16  17  18  19"
      ]
     },
     "execution_count": 18,
     "metadata": {},
     "output_type": "execute_result"
    }
   ],
   "source": [
    "s1 = pd.Series(np.arange(10, 15),index=['a','b','c','d','e'])\n",
    "s2 = pd.Series(np.arange(15, 20),index=['a','b','c','d','e'])\n",
    "df1 = pd.DataFrame([s1,s2])\n",
    "df1"
   ]
  },
  {
   "cell_type": "code",
   "execution_count": 19,
   "id": "19676ae4",
   "metadata": {},
   "outputs": [
    {
     "data": {
      "text/html": [
       "<div>\n",
       "<style scoped>\n",
       "    .dataframe tbody tr th:only-of-type {\n",
       "        vertical-align: middle;\n",
       "    }\n",
       "\n",
       "    .dataframe tbody tr th {\n",
       "        vertical-align: top;\n",
       "    }\n",
       "\n",
       "    .dataframe thead th {\n",
       "        text-align: right;\n",
       "    }\n",
       "</style>\n",
       "<table border=\"1\" class=\"dataframe\">\n",
       "  <thead>\n",
       "    <tr style=\"text-align: right;\">\n",
       "      <th></th>\n",
       "      <th>a</th>\n",
       "      <th>b</th>\n",
       "      <th>c</th>\n",
       "      <th>d</th>\n",
       "      <th>e</th>\n",
       "      <th>0</th>\n",
       "      <th>1</th>\n",
       "      <th>2</th>\n",
       "      <th>3</th>\n",
       "      <th>4</th>\n",
       "    </tr>\n",
       "  </thead>\n",
       "  <tbody>\n",
       "    <tr>\n",
       "      <th>0</th>\n",
       "      <td>10.0</td>\n",
       "      <td>11.0</td>\n",
       "      <td>12.0</td>\n",
       "      <td>13.0</td>\n",
       "      <td>14.0</td>\n",
       "      <td>NaN</td>\n",
       "      <td>NaN</td>\n",
       "      <td>NaN</td>\n",
       "      <td>NaN</td>\n",
       "      <td>NaN</td>\n",
       "    </tr>\n",
       "    <tr>\n",
       "      <th>1</th>\n",
       "      <td>NaN</td>\n",
       "      <td>NaN</td>\n",
       "      <td>NaN</td>\n",
       "      <td>NaN</td>\n",
       "      <td>NaN</td>\n",
       "      <td>15.0</td>\n",
       "      <td>16.0</td>\n",
       "      <td>17.0</td>\n",
       "      <td>18.0</td>\n",
       "      <td>19.0</td>\n",
       "    </tr>\n",
       "  </tbody>\n",
       "</table>\n",
       "</div>"
      ],
      "text/plain": [
       "      a     b     c     d     e     0     1     2     3     4\n",
       "0  10.0  11.0  12.0  13.0  14.0   NaN   NaN   NaN   NaN   NaN\n",
       "1   NaN   NaN   NaN   NaN   NaN  15.0  16.0  17.0  18.0  19.0"
      ]
     },
     "execution_count": 19,
     "metadata": {},
     "output_type": "execute_result"
    }
   ],
   "source": [
    "s1 = pd.Series(np.arange(10, 15),index=['a','b','c','d','e'])  #if indecis of series different or one missing\n",
    "s2 = pd.Series(np.arange(15, 20))\n",
    "df1 = pd.DataFrame([s1,s2])\n",
    "df1"
   ]
  },
  {
   "cell_type": "markdown",
   "id": "07481645",
   "metadata": {},
   "source": [
    "A DataFrame also performs automatic alignment of the data for each Series passed in by a dictionary. For example, the following code adds a third column in the DataFrame initialization. This third Series contains two values and will specify its index. When the DataFrame is created, each series in the dictionary is aligned with each other by the index label, as it is added to the DataFrame object. The code is as follows:"
   ]
  },
  {
   "cell_type": "code",
   "execution_count": 20,
   "id": "e417370c",
   "metadata": {},
   "outputs": [
    {
     "data": {
      "text/html": [
       "<div>\n",
       "<style scoped>\n",
       "    .dataframe tbody tr th:only-of-type {\n",
       "        vertical-align: middle;\n",
       "    }\n",
       "\n",
       "    .dataframe tbody tr th {\n",
       "        vertical-align: top;\n",
       "    }\n",
       "\n",
       "    .dataframe thead th {\n",
       "        text-align: right;\n",
       "    }\n",
       "</style>\n",
       "<table border=\"1\" class=\"dataframe\">\n",
       "  <thead>\n",
       "    <tr style=\"text-align: right;\">\n",
       "      <th></th>\n",
       "      <th>c1</th>\n",
       "      <th>c2</th>\n",
       "      <th>c3</th>\n",
       "    </tr>\n",
       "  </thead>\n",
       "  <tbody>\n",
       "    <tr>\n",
       "      <th>0</th>\n",
       "      <td>1</td>\n",
       "      <td>6</td>\n",
       "      <td>NaN</td>\n",
       "    </tr>\n",
       "    <tr>\n",
       "      <th>1</th>\n",
       "      <td>2</td>\n",
       "      <td>7</td>\n",
       "      <td>12.0</td>\n",
       "    </tr>\n",
       "    <tr>\n",
       "      <th>2</th>\n",
       "      <td>3</td>\n",
       "      <td>8</td>\n",
       "      <td>13.0</td>\n",
       "    </tr>\n",
       "    <tr>\n",
       "      <th>3</th>\n",
       "      <td>4</td>\n",
       "      <td>9</td>\n",
       "      <td>NaN</td>\n",
       "    </tr>\n",
       "    <tr>\n",
       "      <th>4</th>\n",
       "      <td>5</td>\n",
       "      <td>10</td>\n",
       "      <td>NaN</td>\n",
       "    </tr>\n",
       "  </tbody>\n",
       "</table>\n",
       "</div>"
      ],
      "text/plain": [
       "   c1  c2    c3\n",
       "0   1   6   NaN\n",
       "1   2   7  12.0\n",
       "2   3   8  13.0\n",
       "3   4   9   NaN\n",
       "4   5  10   NaN"
      ]
     },
     "execution_count": 20,
     "metadata": {},
     "output_type": "execute_result"
    }
   ],
   "source": [
    "s1 = pd.Series(np.arange(1, 6, 1))\n",
    "s2 = pd.Series(np.arange(6, 11, 1))\n",
    "s3 =  pd.Series(np.arange(12, 14), index=[1, 2])\n",
    "df2 = pd.DataFrame({'c1': s1, 'c2': s2, 'c3': s3})\n",
    "df2"
   ]
  },
  {
   "cell_type": "markdown",
   "id": "17f08e5f",
   "metadata": {},
   "source": [
    "The first two Series did not have an index specified, so they both were indexed with 0..4. The third Series has index values, and therefore the values for those indexes are placed in DataFrame in the row with the matching index from the previous columns. Then, pandas automatically filled in NaN for the values that were not supplied."
   ]
  },
  {
   "cell_type": "markdown",
   "id": "e3278e93",
   "metadata": {},
   "source": [
    "## <div class= \"alert alert-info\"> Adding, Accessing and modifying DataFrame data\n",
    "  "
   ]
  },
  {
   "cell_type": "code",
   "execution_count": 21,
   "id": "a7ec264b",
   "metadata": {},
   "outputs": [
    {
     "data": {
      "text/html": [
       "<div>\n",
       "<style scoped>\n",
       "    .dataframe tbody tr th:only-of-type {\n",
       "        vertical-align: middle;\n",
       "    }\n",
       "\n",
       "    .dataframe tbody tr th {\n",
       "        vertical-align: top;\n",
       "    }\n",
       "\n",
       "    .dataframe thead th {\n",
       "        text-align: right;\n",
       "    }\n",
       "</style>\n",
       "<table border=\"1\" class=\"dataframe\">\n",
       "  <thead>\n",
       "    <tr style=\"text-align: right;\">\n",
       "      <th></th>\n",
       "      <th>rolls</th>\n",
       "      <th>names</th>\n",
       "      <th>courses</th>\n",
       "      <th>mode</th>\n",
       "    </tr>\n",
       "  </thead>\n",
       "  <tbody>\n",
       "    <tr>\n",
       "      <th>0</th>\n",
       "      <td>1</td>\n",
       "      <td>Ali</td>\n",
       "      <td>Python</td>\n",
       "      <td>Online</td>\n",
       "    </tr>\n",
       "    <tr>\n",
       "      <th>1</th>\n",
       "      <td>2</td>\n",
       "      <td>Amjad</td>\n",
       "      <td>Pandas</td>\n",
       "      <td>Onsite</td>\n",
       "    </tr>\n",
       "    <tr>\n",
       "      <th>2</th>\n",
       "      <td>3</td>\n",
       "      <td>Saima</td>\n",
       "      <td>Numpy</td>\n",
       "      <td>Online</td>\n",
       "    </tr>\n",
       "    <tr>\n",
       "      <th>3</th>\n",
       "      <td>4</td>\n",
       "      <td>Qaiser</td>\n",
       "      <td>Pandas</td>\n",
       "      <td>Onsite</td>\n",
       "    </tr>\n",
       "    <tr>\n",
       "      <th>4</th>\n",
       "      <td>5</td>\n",
       "      <td>Hamid</td>\n",
       "      <td>Numpy</td>\n",
       "      <td>Online</td>\n",
       "    </tr>\n",
       "    <tr>\n",
       "      <th>5</th>\n",
       "      <td>6</td>\n",
       "      <td>Nasir</td>\n",
       "      <td>Python</td>\n",
       "      <td>Onsite</td>\n",
       "    </tr>\n",
       "  </tbody>\n",
       "</table>\n",
       "</div>"
      ],
      "text/plain": [
       "   rolls   names courses    mode\n",
       "0      1     Ali  Python  Online\n",
       "1      2   Amjad  Pandas  Onsite\n",
       "2      3   Saima   Numpy  Online\n",
       "3      4  Qaiser  Pandas  Onsite\n",
       "4      5   Hamid   Numpy  Online\n",
       "5      6   Nasir  Python  Onsite"
      ]
     },
     "execution_count": 21,
     "metadata": {},
     "output_type": "execute_result"
    }
   ],
   "source": [
    "df_d"
   ]
  },
  {
   "cell_type": "code",
   "execution_count": 22,
   "id": "e6b616cc",
   "metadata": {},
   "outputs": [
    {
     "data": {
      "text/plain": [
       "0       Ali\n",
       "1     Amjad\n",
       "2     Saima\n",
       "3    Qaiser\n",
       "4     Hamid\n",
       "5     Nasir\n",
       "Name: names, dtype: object"
      ]
     },
     "execution_count": 22,
     "metadata": {},
     "output_type": "execute_result"
    }
   ],
   "source": [
    "df_d['names']    # selecting single column (i.e series)"
   ]
  },
  {
   "cell_type": "code",
   "execution_count": 23,
   "id": "0e94ab61",
   "metadata": {},
   "outputs": [
    {
     "data": {
      "text/plain": [
       "0       Ali\n",
       "1     Amjad\n",
       "2     Saima\n",
       "3    Qaiser\n",
       "4     Hamid\n",
       "5     Nasir\n",
       "Name: names, dtype: object"
      ]
     },
     "execution_count": 23,
     "metadata": {},
     "output_type": "execute_result"
    }
   ],
   "source": [
    "df_d.names"
   ]
  },
  {
   "cell_type": "code",
   "execution_count": 24,
   "id": "a59067d3",
   "metadata": {},
   "outputs": [
    {
     "data": {
      "text/html": [
       "<div>\n",
       "<style scoped>\n",
       "    .dataframe tbody tr th:only-of-type {\n",
       "        vertical-align: middle;\n",
       "    }\n",
       "\n",
       "    .dataframe tbody tr th {\n",
       "        vertical-align: top;\n",
       "    }\n",
       "\n",
       "    .dataframe thead th {\n",
       "        text-align: right;\n",
       "    }\n",
       "</style>\n",
       "<table border=\"1\" class=\"dataframe\">\n",
       "  <thead>\n",
       "    <tr style=\"text-align: right;\">\n",
       "      <th></th>\n",
       "      <th>names</th>\n",
       "      <th>rolls</th>\n",
       "    </tr>\n",
       "  </thead>\n",
       "  <tbody>\n",
       "    <tr>\n",
       "      <th>0</th>\n",
       "      <td>Ali</td>\n",
       "      <td>1</td>\n",
       "    </tr>\n",
       "    <tr>\n",
       "      <th>1</th>\n",
       "      <td>Amjad</td>\n",
       "      <td>2</td>\n",
       "    </tr>\n",
       "    <tr>\n",
       "      <th>2</th>\n",
       "      <td>Saima</td>\n",
       "      <td>3</td>\n",
       "    </tr>\n",
       "    <tr>\n",
       "      <th>3</th>\n",
       "      <td>Qaiser</td>\n",
       "      <td>4</td>\n",
       "    </tr>\n",
       "    <tr>\n",
       "      <th>4</th>\n",
       "      <td>Hamid</td>\n",
       "      <td>5</td>\n",
       "    </tr>\n",
       "    <tr>\n",
       "      <th>5</th>\n",
       "      <td>Nasir</td>\n",
       "      <td>6</td>\n",
       "    </tr>\n",
       "  </tbody>\n",
       "</table>\n",
       "</div>"
      ],
      "text/plain": [
       "    names  rolls\n",
       "0     Ali      1\n",
       "1   Amjad      2\n",
       "2   Saima      3\n",
       "3  Qaiser      4\n",
       "4   Hamid      5\n",
       "5   Nasir      6"
      ]
     },
     "execution_count": 24,
     "metadata": {},
     "output_type": "execute_result"
    }
   ],
   "source": [
    "df_d[[\"names\", 'rolls']]  # selecting two column"
   ]
  },
  {
   "cell_type": "code",
   "execution_count": 25,
   "id": "9a4658b1",
   "metadata": {},
   "outputs": [
    {
     "data": {
      "text/html": [
       "<div>\n",
       "<style scoped>\n",
       "    .dataframe tbody tr th:only-of-type {\n",
       "        vertical-align: middle;\n",
       "    }\n",
       "\n",
       "    .dataframe tbody tr th {\n",
       "        vertical-align: top;\n",
       "    }\n",
       "\n",
       "    .dataframe thead th {\n",
       "        text-align: right;\n",
       "    }\n",
       "</style>\n",
       "<table border=\"1\" class=\"dataframe\">\n",
       "  <thead>\n",
       "    <tr style=\"text-align: right;\">\n",
       "      <th></th>\n",
       "      <th>rolls</th>\n",
       "      <th>names</th>\n",
       "      <th>courses</th>\n",
       "      <th>mode</th>\n",
       "      <th>cities</th>\n",
       "    </tr>\n",
       "  </thead>\n",
       "  <tbody>\n",
       "    <tr>\n",
       "      <th>0</th>\n",
       "      <td>1</td>\n",
       "      <td>Ali</td>\n",
       "      <td>Python</td>\n",
       "      <td>Online</td>\n",
       "      <td>islamabad</td>\n",
       "    </tr>\n",
       "    <tr>\n",
       "      <th>1</th>\n",
       "      <td>2</td>\n",
       "      <td>Amjad</td>\n",
       "      <td>Pandas</td>\n",
       "      <td>Onsite</td>\n",
       "      <td>islamabad</td>\n",
       "    </tr>\n",
       "    <tr>\n",
       "      <th>2</th>\n",
       "      <td>3</td>\n",
       "      <td>Saima</td>\n",
       "      <td>Numpy</td>\n",
       "      <td>Online</td>\n",
       "      <td>islamabad</td>\n",
       "    </tr>\n",
       "    <tr>\n",
       "      <th>3</th>\n",
       "      <td>4</td>\n",
       "      <td>Qaiser</td>\n",
       "      <td>Pandas</td>\n",
       "      <td>Onsite</td>\n",
       "      <td>islamabad</td>\n",
       "    </tr>\n",
       "    <tr>\n",
       "      <th>4</th>\n",
       "      <td>5</td>\n",
       "      <td>Hamid</td>\n",
       "      <td>Numpy</td>\n",
       "      <td>Online</td>\n",
       "      <td>islamabad</td>\n",
       "    </tr>\n",
       "    <tr>\n",
       "      <th>5</th>\n",
       "      <td>6</td>\n",
       "      <td>Nasir</td>\n",
       "      <td>Python</td>\n",
       "      <td>Onsite</td>\n",
       "      <td>islamabad</td>\n",
       "    </tr>\n",
       "  </tbody>\n",
       "</table>\n",
       "</div>"
      ],
      "text/plain": [
       "   rolls   names courses    mode     cities\n",
       "0      1     Ali  Python  Online  islamabad\n",
       "1      2   Amjad  Pandas  Onsite  islamabad\n",
       "2      3   Saima   Numpy  Online  islamabad\n",
       "3      4  Qaiser  Pandas  Onsite  islamabad\n",
       "4      5   Hamid   Numpy  Online  islamabad\n",
       "5      6   Nasir  Python  Onsite  islamabad"
      ]
     },
     "execution_count": 25,
     "metadata": {},
     "output_type": "execute_result"
    }
   ],
   "source": [
    "df_d['cities']  = \"islamabad\" # creating new column with islamabad broadcasted to all records\n",
    "df_d"
   ]
  },
  {
   "cell_type": "code",
   "execution_count": 26,
   "id": "30b68405",
   "metadata": {},
   "outputs": [
    {
     "data": {
      "text/html": [
       "<div>\n",
       "<style scoped>\n",
       "    .dataframe tbody tr th:only-of-type {\n",
       "        vertical-align: middle;\n",
       "    }\n",
       "\n",
       "    .dataframe tbody tr th {\n",
       "        vertical-align: top;\n",
       "    }\n",
       "\n",
       "    .dataframe thead th {\n",
       "        text-align: right;\n",
       "    }\n",
       "</style>\n",
       "<table border=\"1\" class=\"dataframe\">\n",
       "  <thead>\n",
       "    <tr style=\"text-align: right;\">\n",
       "      <th></th>\n",
       "      <th>rolls</th>\n",
       "      <th>names</th>\n",
       "      <th>courses</th>\n",
       "      <th>mode</th>\n",
       "      <th>cities</th>\n",
       "      <th>Ages</th>\n",
       "    </tr>\n",
       "  </thead>\n",
       "  <tbody>\n",
       "    <tr>\n",
       "      <th>0</th>\n",
       "      <td>1</td>\n",
       "      <td>Ali</td>\n",
       "      <td>Python</td>\n",
       "      <td>Online</td>\n",
       "      <td>islamabad</td>\n",
       "      <td>12</td>\n",
       "    </tr>\n",
       "    <tr>\n",
       "      <th>1</th>\n",
       "      <td>2</td>\n",
       "      <td>Amjad</td>\n",
       "      <td>Pandas</td>\n",
       "      <td>Onsite</td>\n",
       "      <td>karachi</td>\n",
       "      <td>33</td>\n",
       "    </tr>\n",
       "    <tr>\n",
       "      <th>2</th>\n",
       "      <td>3</td>\n",
       "      <td>Saima</td>\n",
       "      <td>Numpy</td>\n",
       "      <td>Online</td>\n",
       "      <td>lahor</td>\n",
       "      <td>44</td>\n",
       "    </tr>\n",
       "    <tr>\n",
       "      <th>3</th>\n",
       "      <td>4</td>\n",
       "      <td>Qaiser</td>\n",
       "      <td>Pandas</td>\n",
       "      <td>Onsite</td>\n",
       "      <td>peshawar</td>\n",
       "      <td>13</td>\n",
       "    </tr>\n",
       "    <tr>\n",
       "      <th>4</th>\n",
       "      <td>5</td>\n",
       "      <td>Hamid</td>\n",
       "      <td>Numpy</td>\n",
       "      <td>Online</td>\n",
       "      <td>quetta</td>\n",
       "      <td>55</td>\n",
       "    </tr>\n",
       "    <tr>\n",
       "      <th>5</th>\n",
       "      <td>6</td>\n",
       "      <td>Nasir</td>\n",
       "      <td>Python</td>\n",
       "      <td>Onsite</td>\n",
       "      <td>xyz</td>\n",
       "      <td>21</td>\n",
       "    </tr>\n",
       "  </tbody>\n",
       "</table>\n",
       "</div>"
      ],
      "text/plain": [
       "   rolls   names courses    mode     cities  Ages\n",
       "0      1     Ali  Python  Online  islamabad    12\n",
       "1      2   Amjad  Pandas  Onsite    karachi    33\n",
       "2      3   Saima   Numpy  Online      lahor    44\n",
       "3      4  Qaiser  Pandas  Onsite   peshawar    13\n",
       "4      5   Hamid   Numpy  Online     quetta    55\n",
       "5      6   Nasir  Python  Onsite        xyz    21"
      ]
     },
     "execution_count": 26,
     "metadata": {},
     "output_type": "execute_result"
    }
   ],
   "source": [
    "df_d['cities']  = [\"islamabad\" , \"karachi\",\"lahor\",\"peshawar\",\"quetta\",\"xyz\"] # reassigning column values\n",
    "df_d['Ages']  =  [12,33,44,13,55,21]\n",
    "df_d"
   ]
  },
  {
   "cell_type": "markdown",
   "id": "5e504700",
   "metadata": {},
   "source": [
    "#### list comprehension for adding series to dataframe:"
   ]
  },
  {
   "cell_type": "code",
   "execution_count": 27,
   "id": "03e059bd",
   "metadata": {},
   "outputs": [],
   "source": [
    "df_d['Status'] = [\"Pass\" if age>25 else \"Fails\" for age in df_d['Ages']]"
   ]
  },
  {
   "cell_type": "markdown",
   "id": "66bb42fc",
   "metadata": {},
   "source": [
    "df['Status'] = [\"Pass\" if age>25 else \"Fails\" for age in df['Ages']] \n",
    "\n",
    "this is a list comprehension. we are saying that iteate through Ages column (iterator = age) and  replace pass in Status column if age is >25 else place fail"
   ]
  },
  {
   "cell_type": "code",
   "execution_count": 28,
   "id": "bd64acde",
   "metadata": {},
   "outputs": [
    {
     "data": {
      "text/html": [
       "<div>\n",
       "<style scoped>\n",
       "    .dataframe tbody tr th:only-of-type {\n",
       "        vertical-align: middle;\n",
       "    }\n",
       "\n",
       "    .dataframe tbody tr th {\n",
       "        vertical-align: top;\n",
       "    }\n",
       "\n",
       "    .dataframe thead th {\n",
       "        text-align: right;\n",
       "    }\n",
       "</style>\n",
       "<table border=\"1\" class=\"dataframe\">\n",
       "  <thead>\n",
       "    <tr style=\"text-align: right;\">\n",
       "      <th></th>\n",
       "      <th>rolls</th>\n",
       "      <th>names</th>\n",
       "      <th>courses</th>\n",
       "      <th>mode</th>\n",
       "      <th>cities</th>\n",
       "      <th>Ages</th>\n",
       "      <th>Status</th>\n",
       "      <th>onsite/online</th>\n",
       "    </tr>\n",
       "  </thead>\n",
       "  <tbody>\n",
       "    <tr>\n",
       "      <th>0</th>\n",
       "      <td>1</td>\n",
       "      <td>Ali</td>\n",
       "      <td>Python</td>\n",
       "      <td>Online</td>\n",
       "      <td>islamabad</td>\n",
       "      <td>12</td>\n",
       "      <td>Fails</td>\n",
       "      <td>Outside Khi</td>\n",
       "    </tr>\n",
       "    <tr>\n",
       "      <th>1</th>\n",
       "      <td>2</td>\n",
       "      <td>Amjad</td>\n",
       "      <td>Pandas</td>\n",
       "      <td>Onsite</td>\n",
       "      <td>karachi</td>\n",
       "      <td>33</td>\n",
       "      <td>Pass</td>\n",
       "      <td>Karachi</td>\n",
       "    </tr>\n",
       "    <tr>\n",
       "      <th>2</th>\n",
       "      <td>3</td>\n",
       "      <td>Saima</td>\n",
       "      <td>Numpy</td>\n",
       "      <td>Online</td>\n",
       "      <td>lahor</td>\n",
       "      <td>44</td>\n",
       "      <td>Pass</td>\n",
       "      <td>Outside Khi</td>\n",
       "    </tr>\n",
       "    <tr>\n",
       "      <th>3</th>\n",
       "      <td>4</td>\n",
       "      <td>Qaiser</td>\n",
       "      <td>Pandas</td>\n",
       "      <td>Onsite</td>\n",
       "      <td>peshawar</td>\n",
       "      <td>13</td>\n",
       "      <td>Fails</td>\n",
       "      <td>Karachi</td>\n",
       "    </tr>\n",
       "    <tr>\n",
       "      <th>4</th>\n",
       "      <td>5</td>\n",
       "      <td>Hamid</td>\n",
       "      <td>Numpy</td>\n",
       "      <td>Online</td>\n",
       "      <td>quetta</td>\n",
       "      <td>55</td>\n",
       "      <td>Pass</td>\n",
       "      <td>Outside Khi</td>\n",
       "    </tr>\n",
       "    <tr>\n",
       "      <th>5</th>\n",
       "      <td>6</td>\n",
       "      <td>Nasir</td>\n",
       "      <td>Python</td>\n",
       "      <td>Onsite</td>\n",
       "      <td>xyz</td>\n",
       "      <td>21</td>\n",
       "      <td>Fails</td>\n",
       "      <td>Karachi</td>\n",
       "    </tr>\n",
       "  </tbody>\n",
       "</table>\n",
       "</div>"
      ],
      "text/plain": [
       "   rolls   names courses    mode     cities  Ages Status onsite/online\n",
       "0      1     Ali  Python  Online  islamabad    12  Fails   Outside Khi\n",
       "1      2   Amjad  Pandas  Onsite    karachi    33   Pass       Karachi\n",
       "2      3   Saima   Numpy  Online      lahor    44   Pass   Outside Khi\n",
       "3      4  Qaiser  Pandas  Onsite   peshawar    13  Fails       Karachi\n",
       "4      5   Hamid   Numpy  Online     quetta    55   Pass   Outside Khi\n",
       "5      6   Nasir  Python  Onsite        xyz    21  Fails       Karachi"
      ]
     },
     "execution_count": 28,
     "metadata": {},
     "output_type": "execute_result"
    }
   ],
   "source": [
    "df_d['onsite/online'] = df_d['mode'].apply(lambda x: 'Karachi' if x==\"Onsite\" else \"Outside Khi\")\n",
    "df_d"
   ]
  },
  {
   "cell_type": "markdown",
   "id": "8a879ed4",
   "metadata": {},
   "source": [
    "#### functions for addinf series to dataframe:"
   ]
  },
  {
   "cell_type": "code",
   "execution_count": 29,
   "id": "1c7d9767",
   "metadata": {},
   "outputs": [],
   "source": [
    "def generationAssign(age):\n",
    "    if age <20:\n",
    "        return \"Teen Ager\"\n",
    "    elif age<40:\n",
    "        return \"Young\"\n",
    "    elif age <60:\n",
    "        return \"Matured\"\n",
    "    else:\n",
    "        return 'Senior'"
   ]
  },
  {
   "cell_type": "code",
   "execution_count": 30,
   "id": "f5fc5eb5",
   "metadata": {},
   "outputs": [
    {
     "data": {
      "text/html": [
       "<div>\n",
       "<style scoped>\n",
       "    .dataframe tbody tr th:only-of-type {\n",
       "        vertical-align: middle;\n",
       "    }\n",
       "\n",
       "    .dataframe tbody tr th {\n",
       "        vertical-align: top;\n",
       "    }\n",
       "\n",
       "    .dataframe thead th {\n",
       "        text-align: right;\n",
       "    }\n",
       "</style>\n",
       "<table border=\"1\" class=\"dataframe\">\n",
       "  <thead>\n",
       "    <tr style=\"text-align: right;\">\n",
       "      <th></th>\n",
       "      <th>rolls</th>\n",
       "      <th>names</th>\n",
       "      <th>courses</th>\n",
       "      <th>mode</th>\n",
       "      <th>cities</th>\n",
       "      <th>Ages</th>\n",
       "      <th>Status</th>\n",
       "      <th>onsite/online</th>\n",
       "      <th>Next Gen</th>\n",
       "    </tr>\n",
       "  </thead>\n",
       "  <tbody>\n",
       "    <tr>\n",
       "      <th>0</th>\n",
       "      <td>1</td>\n",
       "      <td>Ali</td>\n",
       "      <td>Python</td>\n",
       "      <td>Online</td>\n",
       "      <td>islamabad</td>\n",
       "      <td>12</td>\n",
       "      <td>Fails</td>\n",
       "      <td>Outside Khi</td>\n",
       "      <td>Teen Ager</td>\n",
       "    </tr>\n",
       "    <tr>\n",
       "      <th>1</th>\n",
       "      <td>2</td>\n",
       "      <td>Amjad</td>\n",
       "      <td>Pandas</td>\n",
       "      <td>Onsite</td>\n",
       "      <td>karachi</td>\n",
       "      <td>33</td>\n",
       "      <td>Pass</td>\n",
       "      <td>Karachi</td>\n",
       "      <td>Young</td>\n",
       "    </tr>\n",
       "    <tr>\n",
       "      <th>2</th>\n",
       "      <td>3</td>\n",
       "      <td>Saima</td>\n",
       "      <td>Numpy</td>\n",
       "      <td>Online</td>\n",
       "      <td>lahor</td>\n",
       "      <td>44</td>\n",
       "      <td>Pass</td>\n",
       "      <td>Outside Khi</td>\n",
       "      <td>Matured</td>\n",
       "    </tr>\n",
       "    <tr>\n",
       "      <th>3</th>\n",
       "      <td>4</td>\n",
       "      <td>Qaiser</td>\n",
       "      <td>Pandas</td>\n",
       "      <td>Onsite</td>\n",
       "      <td>peshawar</td>\n",
       "      <td>13</td>\n",
       "      <td>Fails</td>\n",
       "      <td>Karachi</td>\n",
       "      <td>Teen Ager</td>\n",
       "    </tr>\n",
       "    <tr>\n",
       "      <th>4</th>\n",
       "      <td>5</td>\n",
       "      <td>Hamid</td>\n",
       "      <td>Numpy</td>\n",
       "      <td>Online</td>\n",
       "      <td>quetta</td>\n",
       "      <td>55</td>\n",
       "      <td>Pass</td>\n",
       "      <td>Outside Khi</td>\n",
       "      <td>Matured</td>\n",
       "    </tr>\n",
       "    <tr>\n",
       "      <th>5</th>\n",
       "      <td>6</td>\n",
       "      <td>Nasir</td>\n",
       "      <td>Python</td>\n",
       "      <td>Onsite</td>\n",
       "      <td>xyz</td>\n",
       "      <td>21</td>\n",
       "      <td>Fails</td>\n",
       "      <td>Karachi</td>\n",
       "      <td>Young</td>\n",
       "    </tr>\n",
       "  </tbody>\n",
       "</table>\n",
       "</div>"
      ],
      "text/plain": [
       "   rolls   names courses    mode     cities  Ages Status onsite/online  \\\n",
       "0      1     Ali  Python  Online  islamabad    12  Fails   Outside Khi   \n",
       "1      2   Amjad  Pandas  Onsite    karachi    33   Pass       Karachi   \n",
       "2      3   Saima   Numpy  Online      lahor    44   Pass   Outside Khi   \n",
       "3      4  Qaiser  Pandas  Onsite   peshawar    13  Fails       Karachi   \n",
       "4      5   Hamid   Numpy  Online     quetta    55   Pass   Outside Khi   \n",
       "5      6   Nasir  Python  Onsite        xyz    21  Fails       Karachi   \n",
       "\n",
       "    Next Gen  \n",
       "0  Teen Ager  \n",
       "1      Young  \n",
       "2    Matured  \n",
       "3  Teen Ager  \n",
       "4    Matured  \n",
       "5      Young  "
      ]
     },
     "execution_count": 30,
     "metadata": {},
     "output_type": "execute_result"
    }
   ],
   "source": [
    "df_d['Next Gen'] = df_d['Ages'].apply(generationAssign)\n",
    "df_d"
   ]
  },
  {
   "cell_type": "markdown",
   "id": "925eb123",
   "metadata": {},
   "source": [
    "#### making an exel file from a dataframe"
   ]
  },
  {
   "cell_type": "code",
   "execution_count": 31,
   "id": "aa69b0d5",
   "metadata": {},
   "outputs": [],
   "source": [
    "df_d.to_excel(\"student.xlsx\")          #df_d data frame to exel file"
   ]
  },
  {
   "cell_type": "markdown",
   "id": "793a191d",
   "metadata": {},
   "source": [
    "## <div class= \"alert alert-info\"> Selecting rows and values of a DataFrame using the index\n",
    "    \n",
    "Elements of an array or Series are selected using the [] operator. DataFrame overloads [] to select columns instead of rows, except for a specific case of slicing. Therefore, most operations of selection of one or more rows in a DataFrame, require\n",
    "alternate methods to using []. Understanding this is important in pandas, as it is a common mistake is try and select rows using [] due to familiarity with other languages or data structures.\n",
    "    \n",
    "When doing so, errors are often received, and can often be difficult to diagnose without realizing [] is working along a completely different axis than with a Series object. Row selection using the index on a DataFrame then breaks down to the following general categories of operations:\n",
    "    \n",
    "• Slicing using the [] operator\n",
    "    \n",
    "• Label or location based lookup using .loc, .iloc\n",
    "    \n",
    "• Scalar lookup by label or location using .at and .iat\n",
    "    \n",
    "We will briefly examine each of these techniques and attributes. Remember, all of these are working against the content of the index of the DataFrame. There is no involvement with data in the columns in the selection of the rows. We will cover that in the next section on Boolean selection.    \n",
    "    \n",
    "    \n",
    "### (1). Slicing using the [ ] operator\n",
    "\n",
    "\n",
    "Slicing a DataFrame across its index is syntactically identical to performing the same on a Series. Because of this, we will not go into the details of the various permutations of slices in this section, and only give representative examples\n",
    "applied to a DataFrame. Slicing works along both positions and labels. The following code demonstrates several examples of slicing by position:    "
   ]
  },
  {
   "cell_type": "code",
   "execution_count": 32,
   "id": "85e95e5b",
   "metadata": {},
   "outputs": [
    {
     "data": {
      "text/html": [
       "<div>\n",
       "<style scoped>\n",
       "    .dataframe tbody tr th:only-of-type {\n",
       "        vertical-align: middle;\n",
       "    }\n",
       "\n",
       "    .dataframe tbody tr th {\n",
       "        vertical-align: top;\n",
       "    }\n",
       "\n",
       "    .dataframe thead th {\n",
       "        text-align: right;\n",
       "    }\n",
       "</style>\n",
       "<table border=\"1\" class=\"dataframe\">\n",
       "  <thead>\n",
       "    <tr style=\"text-align: right;\">\n",
       "      <th></th>\n",
       "      <th>rolls</th>\n",
       "      <th>names</th>\n",
       "      <th>courses</th>\n",
       "      <th>mode</th>\n",
       "    </tr>\n",
       "  </thead>\n",
       "  <tbody>\n",
       "    <tr>\n",
       "      <th>r0</th>\n",
       "      <td>1</td>\n",
       "      <td>Ali</td>\n",
       "      <td>Python</td>\n",
       "      <td>Online</td>\n",
       "    </tr>\n",
       "    <tr>\n",
       "      <th>r1</th>\n",
       "      <td>2</td>\n",
       "      <td>Amjad</td>\n",
       "      <td>Pandas</td>\n",
       "      <td>Onsite</td>\n",
       "    </tr>\n",
       "    <tr>\n",
       "      <th>r2</th>\n",
       "      <td>3</td>\n",
       "      <td>Saima</td>\n",
       "      <td>Numpy</td>\n",
       "      <td>Online</td>\n",
       "    </tr>\n",
       "    <tr>\n",
       "      <th>r3</th>\n",
       "      <td>4</td>\n",
       "      <td>Qaiser</td>\n",
       "      <td>Pandas</td>\n",
       "      <td>Onsite</td>\n",
       "    </tr>\n",
       "    <tr>\n",
       "      <th>r4</th>\n",
       "      <td>5</td>\n",
       "      <td>Hamid</td>\n",
       "      <td>Numpy</td>\n",
       "      <td>Online</td>\n",
       "    </tr>\n",
       "    <tr>\n",
       "      <th>r5</th>\n",
       "      <td>6</td>\n",
       "      <td>Nasir</td>\n",
       "      <td>Python</td>\n",
       "      <td>Onsite</td>\n",
       "    </tr>\n",
       "  </tbody>\n",
       "</table>\n",
       "</div>"
      ],
      "text/plain": [
       "    rolls   names courses    mode\n",
       "r0      1     Ali  Python  Online\n",
       "r1      2   Amjad  Pandas  Onsite\n",
       "r2      3   Saima   Numpy  Online\n",
       "r3      4  Qaiser  Pandas  Onsite\n",
       "r4      5   Hamid   Numpy  Online\n",
       "r5      6   Nasir  Python  Onsite"
      ]
     },
     "execution_count": 32,
     "metadata": {},
     "output_type": "execute_result"
    }
   ],
   "source": [
    "df_d  = pd.DataFrame(students,index = ['r0', 'r1', 'r2', 'r3', 'r4', 'r5'])    # Creating a data frame\n",
    "df_d"
   ]
  },
  {
   "cell_type": "markdown",
   "id": "d557a050",
   "metadata": {},
   "source": [
    "####  <span style= \"color:green\"> [  records_start_point ,  records_end_point     ]"
   ]
  },
  {
   "cell_type": "code",
   "execution_count": 33,
   "id": "1347773d",
   "metadata": {},
   "outputs": [
    {
     "data": {
      "text/html": [
       "<div>\n",
       "<style scoped>\n",
       "    .dataframe tbody tr th:only-of-type {\n",
       "        vertical-align: middle;\n",
       "    }\n",
       "\n",
       "    .dataframe tbody tr th {\n",
       "        vertical-align: top;\n",
       "    }\n",
       "\n",
       "    .dataframe thead th {\n",
       "        text-align: right;\n",
       "    }\n",
       "</style>\n",
       "<table border=\"1\" class=\"dataframe\">\n",
       "  <thead>\n",
       "    <tr style=\"text-align: right;\">\n",
       "      <th></th>\n",
       "      <th>rolls</th>\n",
       "      <th>names</th>\n",
       "      <th>courses</th>\n",
       "      <th>mode</th>\n",
       "    </tr>\n",
       "  </thead>\n",
       "  <tbody>\n",
       "  </tbody>\n",
       "</table>\n",
       "</div>"
      ],
      "text/plain": [
       "Empty DataFrame\n",
       "Columns: [rolls, names, courses, mode]\n",
       "Index: []"
      ]
     },
     "execution_count": 33,
     "metadata": {},
     "output_type": "execute_result"
    }
   ],
   "source": [
    "df_d[:0]         # names of series"
   ]
  },
  {
   "cell_type": "code",
   "execution_count": 34,
   "id": "43c40647",
   "metadata": {},
   "outputs": [
    {
     "data": {
      "text/html": [
       "<div>\n",
       "<style scoped>\n",
       "    .dataframe tbody tr th:only-of-type {\n",
       "        vertical-align: middle;\n",
       "    }\n",
       "\n",
       "    .dataframe tbody tr th {\n",
       "        vertical-align: top;\n",
       "    }\n",
       "\n",
       "    .dataframe thead th {\n",
       "        text-align: right;\n",
       "    }\n",
       "</style>\n",
       "<table border=\"1\" class=\"dataframe\">\n",
       "  <thead>\n",
       "    <tr style=\"text-align: right;\">\n",
       "      <th></th>\n",
       "      <th>rolls</th>\n",
       "      <th>names</th>\n",
       "      <th>courses</th>\n",
       "      <th>mode</th>\n",
       "    </tr>\n",
       "  </thead>\n",
       "  <tbody>\n",
       "    <tr>\n",
       "      <th>r0</th>\n",
       "      <td>1</td>\n",
       "      <td>Ali</td>\n",
       "      <td>Python</td>\n",
       "      <td>Online</td>\n",
       "    </tr>\n",
       "  </tbody>\n",
       "</table>\n",
       "</div>"
      ],
      "text/plain": [
       "    rolls names courses    mode\n",
       "r0      1   Ali  Python  Online"
      ]
     },
     "execution_count": 34,
     "metadata": {},
     "output_type": "execute_result"
    }
   ],
   "source": [
    "df_d[:1]         # first record"
   ]
  },
  {
   "cell_type": "code",
   "execution_count": 35,
   "id": "25d92991",
   "metadata": {},
   "outputs": [
    {
     "data": {
      "text/html": [
       "<div>\n",
       "<style scoped>\n",
       "    .dataframe tbody tr th:only-of-type {\n",
       "        vertical-align: middle;\n",
       "    }\n",
       "\n",
       "    .dataframe tbody tr th {\n",
       "        vertical-align: top;\n",
       "    }\n",
       "\n",
       "    .dataframe thead th {\n",
       "        text-align: right;\n",
       "    }\n",
       "</style>\n",
       "<table border=\"1\" class=\"dataframe\">\n",
       "  <thead>\n",
       "    <tr style=\"text-align: right;\">\n",
       "      <th></th>\n",
       "      <th>rolls</th>\n",
       "      <th>names</th>\n",
       "      <th>courses</th>\n",
       "      <th>mode</th>\n",
       "    </tr>\n",
       "  </thead>\n",
       "  <tbody>\n",
       "    <tr>\n",
       "      <th>r0</th>\n",
       "      <td>1</td>\n",
       "      <td>Ali</td>\n",
       "      <td>Python</td>\n",
       "      <td>Online</td>\n",
       "    </tr>\n",
       "    <tr>\n",
       "      <th>r1</th>\n",
       "      <td>2</td>\n",
       "      <td>Amjad</td>\n",
       "      <td>Pandas</td>\n",
       "      <td>Onsite</td>\n",
       "    </tr>\n",
       "    <tr>\n",
       "      <th>r2</th>\n",
       "      <td>3</td>\n",
       "      <td>Saima</td>\n",
       "      <td>Numpy</td>\n",
       "      <td>Online</td>\n",
       "    </tr>\n",
       "  </tbody>\n",
       "</table>\n",
       "</div>"
      ],
      "text/plain": [
       "    rolls  names courses    mode\n",
       "r0      1    Ali  Python  Online\n",
       "r1      2  Amjad  Pandas  Onsite\n",
       "r2      3  Saima   Numpy  Online"
      ]
     },
     "execution_count": 35,
     "metadata": {},
     "output_type": "execute_result"
    }
   ],
   "source": [
    "df_d[:3]         # first three records"
   ]
  },
  {
   "cell_type": "code",
   "execution_count": 36,
   "id": "393e0560",
   "metadata": {},
   "outputs": [
    {
     "data": {
      "text/html": [
       "<div>\n",
       "<style scoped>\n",
       "    .dataframe tbody tr th:only-of-type {\n",
       "        vertical-align: middle;\n",
       "    }\n",
       "\n",
       "    .dataframe tbody tr th {\n",
       "        vertical-align: top;\n",
       "    }\n",
       "\n",
       "    .dataframe thead th {\n",
       "        text-align: right;\n",
       "    }\n",
       "</style>\n",
       "<table border=\"1\" class=\"dataframe\">\n",
       "  <thead>\n",
       "    <tr style=\"text-align: right;\">\n",
       "      <th></th>\n",
       "      <th>rolls</th>\n",
       "      <th>names</th>\n",
       "      <th>courses</th>\n",
       "      <th>mode</th>\n",
       "    </tr>\n",
       "  </thead>\n",
       "  <tbody>\n",
       "    <tr>\n",
       "      <th>r0</th>\n",
       "      <td>1</td>\n",
       "      <td>Ali</td>\n",
       "      <td>Python</td>\n",
       "      <td>Online</td>\n",
       "    </tr>\n",
       "    <tr>\n",
       "      <th>r1</th>\n",
       "      <td>2</td>\n",
       "      <td>Amjad</td>\n",
       "      <td>Pandas</td>\n",
       "      <td>Onsite</td>\n",
       "    </tr>\n",
       "    <tr>\n",
       "      <th>r2</th>\n",
       "      <td>3</td>\n",
       "      <td>Saima</td>\n",
       "      <td>Numpy</td>\n",
       "      <td>Online</td>\n",
       "    </tr>\n",
       "    <tr>\n",
       "      <th>r3</th>\n",
       "      <td>4</td>\n",
       "      <td>Qaiser</td>\n",
       "      <td>Pandas</td>\n",
       "      <td>Onsite</td>\n",
       "    </tr>\n",
       "    <tr>\n",
       "      <th>r4</th>\n",
       "      <td>5</td>\n",
       "      <td>Hamid</td>\n",
       "      <td>Numpy</td>\n",
       "      <td>Online</td>\n",
       "    </tr>\n",
       "    <tr>\n",
       "      <th>r5</th>\n",
       "      <td>6</td>\n",
       "      <td>Nasir</td>\n",
       "      <td>Python</td>\n",
       "      <td>Onsite</td>\n",
       "    </tr>\n",
       "  </tbody>\n",
       "</table>\n",
       "</div>"
      ],
      "text/plain": [
       "    rolls   names courses    mode\n",
       "r0      1     Ali  Python  Online\n",
       "r1      2   Amjad  Pandas  Onsite\n",
       "r2      3   Saima   Numpy  Online\n",
       "r3      4  Qaiser  Pandas  Onsite\n",
       "r4      5   Hamid   Numpy  Online\n",
       "r5      6   Nasir  Python  Onsite"
      ]
     },
     "execution_count": 36,
     "metadata": {},
     "output_type": "execute_result"
    }
   ],
   "source": [
    "df_d[:6]          # All 6 records"
   ]
  },
  {
   "cell_type": "code",
   "execution_count": 37,
   "id": "0bdb9c71",
   "metadata": {},
   "outputs": [
    {
     "data": {
      "text/html": [
       "<div>\n",
       "<style scoped>\n",
       "    .dataframe tbody tr th:only-of-type {\n",
       "        vertical-align: middle;\n",
       "    }\n",
       "\n",
       "    .dataframe tbody tr th {\n",
       "        vertical-align: top;\n",
       "    }\n",
       "\n",
       "    .dataframe thead th {\n",
       "        text-align: right;\n",
       "    }\n",
       "</style>\n",
       "<table border=\"1\" class=\"dataframe\">\n",
       "  <thead>\n",
       "    <tr style=\"text-align: right;\">\n",
       "      <th></th>\n",
       "      <th>rolls</th>\n",
       "      <th>names</th>\n",
       "      <th>courses</th>\n",
       "      <th>mode</th>\n",
       "    </tr>\n",
       "  </thead>\n",
       "  <tbody>\n",
       "    <tr>\n",
       "      <th>r2</th>\n",
       "      <td>3</td>\n",
       "      <td>Saima</td>\n",
       "      <td>Numpy</td>\n",
       "      <td>Online</td>\n",
       "    </tr>\n",
       "    <tr>\n",
       "      <th>r3</th>\n",
       "      <td>4</td>\n",
       "      <td>Qaiser</td>\n",
       "      <td>Pandas</td>\n",
       "      <td>Onsite</td>\n",
       "    </tr>\n",
       "    <tr>\n",
       "      <th>r4</th>\n",
       "      <td>5</td>\n",
       "      <td>Hamid</td>\n",
       "      <td>Numpy</td>\n",
       "      <td>Online</td>\n",
       "    </tr>\n",
       "    <tr>\n",
       "      <th>r5</th>\n",
       "      <td>6</td>\n",
       "      <td>Nasir</td>\n",
       "      <td>Python</td>\n",
       "      <td>Onsite</td>\n",
       "    </tr>\n",
       "  </tbody>\n",
       "</table>\n",
       "</div>"
      ],
      "text/plain": [
       "    rolls   names courses    mode\n",
       "r2      3   Saima   Numpy  Online\n",
       "r3      4  Qaiser  Pandas  Onsite\n",
       "r4      5   Hamid   Numpy  Online\n",
       "r5      6   Nasir  Python  Onsite"
      ]
     },
     "execution_count": 37,
     "metadata": {},
     "output_type": "execute_result"
    }
   ],
   "source": [
    "df_d[2:]      # All records starting from record 2"
   ]
  },
  {
   "cell_type": "code",
   "execution_count": 38,
   "id": "3577a3f1",
   "metadata": {},
   "outputs": [
    {
     "data": {
      "text/html": [
       "<div>\n",
       "<style scoped>\n",
       "    .dataframe tbody tr th:only-of-type {\n",
       "        vertical-align: middle;\n",
       "    }\n",
       "\n",
       "    .dataframe tbody tr th {\n",
       "        vertical-align: top;\n",
       "    }\n",
       "\n",
       "    .dataframe thead th {\n",
       "        text-align: right;\n",
       "    }\n",
       "</style>\n",
       "<table border=\"1\" class=\"dataframe\">\n",
       "  <thead>\n",
       "    <tr style=\"text-align: right;\">\n",
       "      <th></th>\n",
       "      <th>rolls</th>\n",
       "      <th>names</th>\n",
       "      <th>courses</th>\n",
       "      <th>mode</th>\n",
       "    </tr>\n",
       "  </thead>\n",
       "  <tbody>\n",
       "    <tr>\n",
       "      <th>r2</th>\n",
       "      <td>3</td>\n",
       "      <td>Saima</td>\n",
       "      <td>Numpy</td>\n",
       "      <td>Online</td>\n",
       "    </tr>\n",
       "    <tr>\n",
       "      <th>r3</th>\n",
       "      <td>4</td>\n",
       "      <td>Qaiser</td>\n",
       "      <td>Pandas</td>\n",
       "      <td>Onsite</td>\n",
       "    </tr>\n",
       "    <tr>\n",
       "      <th>r4</th>\n",
       "      <td>5</td>\n",
       "      <td>Hamid</td>\n",
       "      <td>Numpy</td>\n",
       "      <td>Online</td>\n",
       "    </tr>\n",
       "  </tbody>\n",
       "</table>\n",
       "</div>"
      ],
      "text/plain": [
       "    rolls   names courses    mode\n",
       "r2      3   Saima   Numpy  Online\n",
       "r3      4  Qaiser  Pandas  Onsite\n",
       "r4      5   Hamid   Numpy  Online"
      ]
     },
     "execution_count": 38,
     "metadata": {},
     "output_type": "execute_result"
    }
   ],
   "source": [
    "df_d['r2':'r4']    # returns records of label r2 to r4 (including r4)"
   ]
  },
  {
   "cell_type": "markdown",
   "id": "74848fb7",
   "metadata": {},
   "source": [
    "#### <mark> Doing the above with index exclude record at index 4"
   ]
  },
  {
   "cell_type": "code",
   "execution_count": 39,
   "id": "ee85f3f9",
   "metadata": {},
   "outputs": [
    {
     "data": {
      "text/html": [
       "<div>\n",
       "<style scoped>\n",
       "    .dataframe tbody tr th:only-of-type {\n",
       "        vertical-align: middle;\n",
       "    }\n",
       "\n",
       "    .dataframe tbody tr th {\n",
       "        vertical-align: top;\n",
       "    }\n",
       "\n",
       "    .dataframe thead th {\n",
       "        text-align: right;\n",
       "    }\n",
       "</style>\n",
       "<table border=\"1\" class=\"dataframe\">\n",
       "  <thead>\n",
       "    <tr style=\"text-align: right;\">\n",
       "      <th></th>\n",
       "      <th>rolls</th>\n",
       "      <th>names</th>\n",
       "      <th>courses</th>\n",
       "      <th>mode</th>\n",
       "    </tr>\n",
       "  </thead>\n",
       "  <tbody>\n",
       "    <tr>\n",
       "      <th>r2</th>\n",
       "      <td>3</td>\n",
       "      <td>Saima</td>\n",
       "      <td>Numpy</td>\n",
       "      <td>Online</td>\n",
       "    </tr>\n",
       "    <tr>\n",
       "      <th>r3</th>\n",
       "      <td>4</td>\n",
       "      <td>Qaiser</td>\n",
       "      <td>Pandas</td>\n",
       "      <td>Onsite</td>\n",
       "    </tr>\n",
       "  </tbody>\n",
       "</table>\n",
       "</div>"
      ],
      "text/plain": [
       "    rolls   names courses    mode\n",
       "r2      3   Saima   Numpy  Online\n",
       "r3      4  Qaiser  Pandas  Onsite"
      ]
     },
     "execution_count": 39,
     "metadata": {},
     "output_type": "execute_result"
    }
   ],
   "source": [
    "df_d[2:4]    # returns records of label 2 to 4 (excluding 4)"
   ]
  },
  {
   "cell_type": "markdown",
   "id": "515b3ca3",
   "metadata": {},
   "source": [
    "### (2). Selecting rows by index label and location:.loc[] and .iloc[]\n",
    "\n",
    "Rows can be retrieved via an index label value using .loc[]. This is shown in the following code:"
   ]
  },
  {
   "cell_type": "code",
   "execution_count": 40,
   "id": "2ed02e05",
   "metadata": {},
   "outputs": [
    {
     "data": {
      "text/plain": [
       "rolls           4\n",
       "names      Qaiser\n",
       "courses    Pandas\n",
       "mode       Onsite\n",
       "Name: r3, dtype: object"
      ]
     },
     "execution_count": 40,
     "metadata": {},
     "output_type": "execute_result"
    }
   ],
   "source": [
    "df_d.loc['r3'] # get row with label r3"
   ]
  },
  {
   "cell_type": "code",
   "execution_count": 41,
   "id": "b30a57c2",
   "metadata": {},
   "outputs": [
    {
     "data": {
      "text/plain": [
       "pandas.core.series.Series"
      ]
     },
     "execution_count": 41,
     "metadata": {},
     "output_type": "execute_result"
    }
   ],
   "source": [
    "type(df_d.loc['r3'] )    # returned as a Series"
   ]
  },
  {
   "cell_type": "code",
   "execution_count": 42,
   "id": "b3d89fbb",
   "metadata": {},
   "outputs": [
    {
     "data": {
      "text/html": [
       "<div>\n",
       "<style scoped>\n",
       "    .dataframe tbody tr th:only-of-type {\n",
       "        vertical-align: middle;\n",
       "    }\n",
       "\n",
       "    .dataframe tbody tr th {\n",
       "        vertical-align: top;\n",
       "    }\n",
       "\n",
       "    .dataframe thead th {\n",
       "        text-align: right;\n",
       "    }\n",
       "</style>\n",
       "<table border=\"1\" class=\"dataframe\">\n",
       "  <thead>\n",
       "    <tr style=\"text-align: right;\">\n",
       "      <th></th>\n",
       "      <th>rolls</th>\n",
       "      <th>names</th>\n",
       "      <th>courses</th>\n",
       "      <th>mode</th>\n",
       "    </tr>\n",
       "  </thead>\n",
       "  <tbody>\n",
       "    <tr>\n",
       "      <th>r3</th>\n",
       "      <td>4</td>\n",
       "      <td>Qaiser</td>\n",
       "      <td>Pandas</td>\n",
       "      <td>Onsite</td>\n",
       "    </tr>\n",
       "    <tr>\n",
       "      <th>r4</th>\n",
       "      <td>5</td>\n",
       "      <td>Hamid</td>\n",
       "      <td>Numpy</td>\n",
       "      <td>Online</td>\n",
       "    </tr>\n",
       "  </tbody>\n",
       "</table>\n",
       "</div>"
      ],
      "text/plain": [
       "    rolls   names courses    mode\n",
       "r3      4  Qaiser  Pandas  Onsite\n",
       "r4      5   Hamid   Numpy  Online"
      ]
     },
     "execution_count": 42,
     "metadata": {},
     "output_type": "execute_result"
    }
   ],
   "source": [
    "df_d.loc[['r3','r4']]          # get records at labels r3 & r4  "
   ]
  },
  {
   "cell_type": "markdown",
   "id": "db8a8f9b",
   "metadata": {},
   "source": [
    "Rows can also be retrieved by location using .iloc[]:\n"
   ]
  },
  {
   "cell_type": "code",
   "execution_count": 43,
   "id": "a82efc91",
   "metadata": {},
   "outputs": [
    {
     "data": {
      "text/html": [
       "<div>\n",
       "<style scoped>\n",
       "    .dataframe tbody tr th:only-of-type {\n",
       "        vertical-align: middle;\n",
       "    }\n",
       "\n",
       "    .dataframe tbody tr th {\n",
       "        vertical-align: top;\n",
       "    }\n",
       "\n",
       "    .dataframe thead th {\n",
       "        text-align: right;\n",
       "    }\n",
       "</style>\n",
       "<table border=\"1\" class=\"dataframe\">\n",
       "  <thead>\n",
       "    <tr style=\"text-align: right;\">\n",
       "      <th></th>\n",
       "      <th>rolls</th>\n",
       "      <th>names</th>\n",
       "      <th>courses</th>\n",
       "      <th>mode</th>\n",
       "    </tr>\n",
       "  </thead>\n",
       "  <tbody>\n",
       "    <tr>\n",
       "      <th>r3</th>\n",
       "      <td>4</td>\n",
       "      <td>Qaiser</td>\n",
       "      <td>Pandas</td>\n",
       "      <td>Onsite</td>\n",
       "    </tr>\n",
       "    <tr>\n",
       "      <th>r4</th>\n",
       "      <td>5</td>\n",
       "      <td>Hamid</td>\n",
       "      <td>Numpy</td>\n",
       "      <td>Online</td>\n",
       "    </tr>\n",
       "  </tbody>\n",
       "</table>\n",
       "</div>"
      ],
      "text/plain": [
       "    rolls   names courses    mode\n",
       "r3      4  Qaiser  Pandas  Onsite\n",
       "r4      5   Hamid   Numpy  Online"
      ]
     },
     "execution_count": 43,
     "metadata": {},
     "output_type": "execute_result"
    }
   ],
   "source": [
    "df_d.iloc[[3, 4]]      # get rows in locations 3 and 4"
   ]
  },
  {
   "cell_type": "code",
   "execution_count": 44,
   "id": "3f340180",
   "metadata": {},
   "outputs": [
    {
     "data": {
      "text/plain": [
       "'0 3'"
      ]
     },
     "execution_count": 44,
     "metadata": {},
     "output_type": "execute_result"
    }
   ],
   "source": [
    "# get the location of row 0  and row 3 in the index\n",
    "i1 = df_d.index.get_loc('r0')\n",
    "i2 = df_d.index.get_loc('r3')\n",
    "\n",
    "\"{0} {1}\".format(i1, i2)    # location (index) of label r0 and r3"
   ]
  },
  {
   "cell_type": "code",
   "execution_count": 45,
   "id": "9c4475d5",
   "metadata": {},
   "outputs": [
    {
     "data": {
      "text/html": [
       "<div>\n",
       "<style scoped>\n",
       "    .dataframe tbody tr th:only-of-type {\n",
       "        vertical-align: middle;\n",
       "    }\n",
       "\n",
       "    .dataframe tbody tr th {\n",
       "        vertical-align: top;\n",
       "    }\n",
       "\n",
       "    .dataframe thead th {\n",
       "        text-align: right;\n",
       "    }\n",
       "</style>\n",
       "<table border=\"1\" class=\"dataframe\">\n",
       "  <thead>\n",
       "    <tr style=\"text-align: right;\">\n",
       "      <th></th>\n",
       "      <th>rolls</th>\n",
       "      <th>names</th>\n",
       "      <th>courses</th>\n",
       "      <th>mode</th>\n",
       "    </tr>\n",
       "  </thead>\n",
       "  <tbody>\n",
       "    <tr>\n",
       "      <th>r0</th>\n",
       "      <td>1</td>\n",
       "      <td>Ali</td>\n",
       "      <td>Python</td>\n",
       "      <td>Online</td>\n",
       "    </tr>\n",
       "    <tr>\n",
       "      <th>r3</th>\n",
       "      <td>4</td>\n",
       "      <td>Qaiser</td>\n",
       "      <td>Pandas</td>\n",
       "      <td>Onsite</td>\n",
       "    </tr>\n",
       "  </tbody>\n",
       "</table>\n",
       "</div>"
      ],
      "text/plain": [
       "    rolls   names courses    mode\n",
       "r0      1     Ali  Python  Online\n",
       "r3      4  Qaiser  Pandas  Onsite"
      ]
     },
     "execution_count": 45,
     "metadata": {},
     "output_type": "execute_result"
    }
   ],
   "source": [
    "df_d.iloc[[i1, i2]]    # and get the rows at loc i1 & i2"
   ]
  },
  {
   "cell_type": "markdown",
   "id": "a66e8741",
   "metadata": {},
   "source": [
    "### (3). Scalar lookup by label or location using .at[  ] and .iat[  ]\n",
    "\n",
    "Scalar values can be looked up by label using .at, by passing both the row label and then the column name/value:"
   ]
  },
  {
   "cell_type": "code",
   "execution_count": 46,
   "id": "e321942b",
   "metadata": {},
   "outputs": [
    {
     "data": {
      "text/html": [
       "<div>\n",
       "<style scoped>\n",
       "    .dataframe tbody tr th:only-of-type {\n",
       "        vertical-align: middle;\n",
       "    }\n",
       "\n",
       "    .dataframe tbody tr th {\n",
       "        vertical-align: top;\n",
       "    }\n",
       "\n",
       "    .dataframe thead th {\n",
       "        text-align: right;\n",
       "    }\n",
       "</style>\n",
       "<table border=\"1\" class=\"dataframe\">\n",
       "  <thead>\n",
       "    <tr style=\"text-align: right;\">\n",
       "      <th></th>\n",
       "      <th>rolls</th>\n",
       "      <th>names</th>\n",
       "      <th>courses</th>\n",
       "      <th>mode</th>\n",
       "    </tr>\n",
       "  </thead>\n",
       "  <tbody>\n",
       "    <tr>\n",
       "      <th>r0</th>\n",
       "      <td>1</td>\n",
       "      <td>Ali</td>\n",
       "      <td>Python</td>\n",
       "      <td>Online</td>\n",
       "    </tr>\n",
       "    <tr>\n",
       "      <th>r1</th>\n",
       "      <td>2</td>\n",
       "      <td>Amjad</td>\n",
       "      <td>Pandas</td>\n",
       "      <td>Onsite</td>\n",
       "    </tr>\n",
       "    <tr>\n",
       "      <th>r2</th>\n",
       "      <td>3</td>\n",
       "      <td>Saima</td>\n",
       "      <td>Numpy</td>\n",
       "      <td>Online</td>\n",
       "    </tr>\n",
       "    <tr>\n",
       "      <th>r3</th>\n",
       "      <td>4</td>\n",
       "      <td>Qaiser</td>\n",
       "      <td>Pandas</td>\n",
       "      <td>Onsite</td>\n",
       "    </tr>\n",
       "    <tr>\n",
       "      <th>r4</th>\n",
       "      <td>5</td>\n",
       "      <td>Hamid</td>\n",
       "      <td>Numpy</td>\n",
       "      <td>Online</td>\n",
       "    </tr>\n",
       "    <tr>\n",
       "      <th>r5</th>\n",
       "      <td>6</td>\n",
       "      <td>Nasir</td>\n",
       "      <td>Python</td>\n",
       "      <td>Onsite</td>\n",
       "    </tr>\n",
       "  </tbody>\n",
       "</table>\n",
       "</div>"
      ],
      "text/plain": [
       "    rolls   names courses    mode\n",
       "r0      1     Ali  Python  Online\n",
       "r1      2   Amjad  Pandas  Onsite\n",
       "r2      3   Saima   Numpy  Online\n",
       "r3      4  Qaiser  Pandas  Onsite\n",
       "r4      5   Hamid   Numpy  Online\n",
       "r5      6   Nasir  Python  Onsite"
      ]
     },
     "execution_count": 46,
     "metadata": {},
     "output_type": "execute_result"
    }
   ],
   "source": [
    "df_d"
   ]
  },
  {
   "cell_type": "markdown",
   "id": "26e15f4c",
   "metadata": {},
   "source": [
    "By label in both the index and column:"
   ]
  },
  {
   "cell_type": "code",
   "execution_count": 47,
   "id": "26cde9b9",
   "metadata": {},
   "outputs": [
    {
     "data": {
      "text/plain": [
       "'Online'"
      ]
     },
     "execution_count": 47,
     "metadata": {},
     "output_type": "execute_result"
    }
   ],
   "source": [
    "df_d.at['r0', 'mode']     # value in the mode column and row r0"
   ]
  },
  {
   "cell_type": "markdown",
   "id": "8616284d",
   "metadata": {},
   "source": [
    "### By location. Row 0, column 4"
   ]
  },
  {
   "cell_type": "code",
   "execution_count": 48,
   "id": "4fac52fa",
   "metadata": {},
   "outputs": [
    {
     "data": {
      "text/plain": [
       "'Online'"
      ]
     },
     "execution_count": 48,
     "metadata": {},
     "output_type": "execute_result"
    }
   ],
   "source": [
    "df_d.iat[0, 3]"
   ]
  },
  {
   "cell_type": "markdown",
   "id": "97a1dd46",
   "metadata": {},
   "source": [
    "## <div class= \"alert alert-info\"> Selecting rows of a DataFrame by Boolean selection\n",
    "\n",
    "Rows can also be selected by using Boolean selection, using an array calculated from the result of applying a logical condition on the values in any of the columns. This allows us to build more complicated selections than those based simply upon index\n",
    "labels or positions."
   ]
  },
  {
   "cell_type": "code",
   "execution_count": 49,
   "id": "30e3b4be",
   "metadata": {},
   "outputs": [
    {
     "data": {
      "text/plain": [
       "r0     True\n",
       "r1     True\n",
       "r2     True\n",
       "r3     True\n",
       "r4    False\n",
       "r5    False\n",
       "Name: rolls, dtype: bool"
      ]
     },
     "execution_count": 49,
     "metadata": {},
     "output_type": "execute_result"
    }
   ],
   "source": [
    "# what rows have rolls < 5?\n",
    "df_d.rolls <5"
   ]
  },
  {
   "cell_type": "markdown",
   "id": "a5a64cba",
   "metadata": {},
   "source": [
    "This results in a Series that can be used to select the rows where the value is True, exactly the same way it was done with a Series or a NumPy array:"
   ]
  },
  {
   "cell_type": "code",
   "execution_count": 50,
   "id": "54571df4",
   "metadata": {},
   "outputs": [
    {
     "data": {
      "text/html": [
       "<div>\n",
       "<style scoped>\n",
       "    .dataframe tbody tr th:only-of-type {\n",
       "        vertical-align: middle;\n",
       "    }\n",
       "\n",
       "    .dataframe tbody tr th {\n",
       "        vertical-align: top;\n",
       "    }\n",
       "\n",
       "    .dataframe thead th {\n",
       "        text-align: right;\n",
       "    }\n",
       "</style>\n",
       "<table border=\"1\" class=\"dataframe\">\n",
       "  <thead>\n",
       "    <tr style=\"text-align: right;\">\n",
       "      <th></th>\n",
       "      <th>rolls</th>\n",
       "      <th>names</th>\n",
       "      <th>courses</th>\n",
       "      <th>mode</th>\n",
       "    </tr>\n",
       "  </thead>\n",
       "  <tbody>\n",
       "    <tr>\n",
       "      <th>r0</th>\n",
       "      <td>1</td>\n",
       "      <td>Ali</td>\n",
       "      <td>Python</td>\n",
       "      <td>Online</td>\n",
       "    </tr>\n",
       "    <tr>\n",
       "      <th>r1</th>\n",
       "      <td>2</td>\n",
       "      <td>Amjad</td>\n",
       "      <td>Pandas</td>\n",
       "      <td>Onsite</td>\n",
       "    </tr>\n",
       "    <tr>\n",
       "      <th>r2</th>\n",
       "      <td>3</td>\n",
       "      <td>Saima</td>\n",
       "      <td>Numpy</td>\n",
       "      <td>Online</td>\n",
       "    </tr>\n",
       "    <tr>\n",
       "      <th>r3</th>\n",
       "      <td>4</td>\n",
       "      <td>Qaiser</td>\n",
       "      <td>Pandas</td>\n",
       "      <td>Onsite</td>\n",
       "    </tr>\n",
       "  </tbody>\n",
       "</table>\n",
       "</div>"
      ],
      "text/plain": [
       "    rolls   names courses    mode\n",
       "r0      1     Ali  Python  Online\n",
       "r1      2   Amjad  Pandas  Onsite\n",
       "r2      3   Saima   Numpy  Online\n",
       "r3      4  Qaiser  Pandas  Onsite"
      ]
     },
     "execution_count": 50,
     "metadata": {},
     "output_type": "execute_result"
    }
   ],
   "source": [
    "df_d[df_d.rolls <5]"
   ]
  },
  {
   "cell_type": "markdown",
   "id": "af99ad21",
   "metadata": {},
   "source": [
    "Multiple conditions can be put together using parentheses; at the same time, it is possible to select only a subset of the columns."
   ]
  },
  {
   "cell_type": "code",
   "execution_count": 51,
   "id": "695052cb",
   "metadata": {},
   "outputs": [
    {
     "data": {
      "text/html": [
       "<div>\n",
       "<style scoped>\n",
       "    .dataframe tbody tr th:only-of-type {\n",
       "        vertical-align: middle;\n",
       "    }\n",
       "\n",
       "    .dataframe tbody tr th {\n",
       "        vertical-align: top;\n",
       "    }\n",
       "\n",
       "    .dataframe thead th {\n",
       "        text-align: right;\n",
       "    }\n",
       "</style>\n",
       "<table border=\"1\" class=\"dataframe\">\n",
       "  <thead>\n",
       "    <tr style=\"text-align: right;\">\n",
       "      <th></th>\n",
       "      <th>rolls</th>\n",
       "    </tr>\n",
       "  </thead>\n",
       "  <tbody>\n",
       "    <tr>\n",
       "      <th>r2</th>\n",
       "      <td>3</td>\n",
       "    </tr>\n",
       "    <tr>\n",
       "      <th>r3</th>\n",
       "      <td>4</td>\n",
       "    </tr>\n",
       "  </tbody>\n",
       "</table>\n",
       "</div>"
      ],
      "text/plain": [
       "    rolls\n",
       "r2      3\n",
       "r3      4"
      ]
     },
     "execution_count": 51,
     "metadata": {},
     "output_type": "execute_result"
    }
   ],
   "source": [
    " df_d[(df_d.rolls < 5) & (df_d.rolls > 2)] [['rolls']]  # get only the rolls column where rolls is < 5 and > 2"
   ]
  },
  {
   "cell_type": "code",
   "execution_count": 52,
   "id": "5c945c3d",
   "metadata": {},
   "outputs": [
    {
     "data": {
      "text/html": [
       "<div>\n",
       "<style scoped>\n",
       "    .dataframe tbody tr th:only-of-type {\n",
       "        vertical-align: middle;\n",
       "    }\n",
       "\n",
       "    .dataframe tbody tr th {\n",
       "        vertical-align: top;\n",
       "    }\n",
       "\n",
       "    .dataframe thead th {\n",
       "        text-align: right;\n",
       "    }\n",
       "</style>\n",
       "<table border=\"1\" class=\"dataframe\">\n",
       "  <thead>\n",
       "    <tr style=\"text-align: right;\">\n",
       "      <th></th>\n",
       "      <th>rolls</th>\n",
       "      <th>names</th>\n",
       "      <th>courses</th>\n",
       "      <th>mode</th>\n",
       "    </tr>\n",
       "  </thead>\n",
       "  <tbody>\n",
       "    <tr>\n",
       "      <th>r2</th>\n",
       "      <td>3</td>\n",
       "      <td>Saima</td>\n",
       "      <td>Numpy</td>\n",
       "      <td>Online</td>\n",
       "    </tr>\n",
       "    <tr>\n",
       "      <th>r3</th>\n",
       "      <td>4</td>\n",
       "      <td>Qaiser</td>\n",
       "      <td>Pandas</td>\n",
       "      <td>Onsite</td>\n",
       "    </tr>\n",
       "  </tbody>\n",
       "</table>\n",
       "</div>"
      ],
      "text/plain": [
       "    rolls   names courses    mode\n",
       "r2      3   Saima   Numpy  Online\n",
       "r3      4  Qaiser  Pandas  Onsite"
      ]
     },
     "execution_count": 52,
     "metadata": {},
     "output_type": "execute_result"
    }
   ],
   "source": [
    "df_d[(df_d.rolls < 5) & (df_d.rolls > 2)] # get the record where rolls is < 5 and > 2"
   ]
  },
  {
   "cell_type": "markdown",
   "id": "0cf9fb90",
   "metadata": {},
   "source": [
    "## <div class= \"alert alert-info\">  Modifying the structure and content of DataFrame\n",
    "    \n",
    "The structure and content of a DataFrame can be mutated in several ways. Rows and columns can be added and removed, and data within either can be modified to take on new values. Additionally, columns, as well as index labels, can also be renamed.\n",
    "Each of these will be described in the following sections.\n",
    "\n"
   ]
  },
  {
   "cell_type": "markdown",
   "id": "f8937c02",
   "metadata": {},
   "source": [
    "### <div class= \"alert alert-success\">  Modification of Columns"
   ]
  },
  {
   "cell_type": "code",
   "execution_count": 53,
   "id": "02ca2be3",
   "metadata": {},
   "outputs": [
    {
     "data": {
      "text/html": [
       "<div>\n",
       "<style scoped>\n",
       "    .dataframe tbody tr th:only-of-type {\n",
       "        vertical-align: middle;\n",
       "    }\n",
       "\n",
       "    .dataframe tbody tr th {\n",
       "        vertical-align: top;\n",
       "    }\n",
       "\n",
       "    .dataframe thead th {\n",
       "        text-align: right;\n",
       "    }\n",
       "</style>\n",
       "<table border=\"1\" class=\"dataframe\">\n",
       "  <thead>\n",
       "    <tr style=\"text-align: right;\">\n",
       "      <th></th>\n",
       "      <th>rolls</th>\n",
       "      <th>names</th>\n",
       "      <th>courses</th>\n",
       "      <th>mode</th>\n",
       "    </tr>\n",
       "  </thead>\n",
       "  <tbody>\n",
       "    <tr>\n",
       "      <th>r0</th>\n",
       "      <td>1</td>\n",
       "      <td>Ali</td>\n",
       "      <td>Python</td>\n",
       "      <td>Online</td>\n",
       "    </tr>\n",
       "    <tr>\n",
       "      <th>r1</th>\n",
       "      <td>2</td>\n",
       "      <td>Amjad</td>\n",
       "      <td>Pandas</td>\n",
       "      <td>Onsite</td>\n",
       "    </tr>\n",
       "    <tr>\n",
       "      <th>r2</th>\n",
       "      <td>3</td>\n",
       "      <td>Saima</td>\n",
       "      <td>Numpy</td>\n",
       "      <td>Online</td>\n",
       "    </tr>\n",
       "    <tr>\n",
       "      <th>r3</th>\n",
       "      <td>4</td>\n",
       "      <td>Qaiser</td>\n",
       "      <td>Pandas</td>\n",
       "      <td>Onsite</td>\n",
       "    </tr>\n",
       "    <tr>\n",
       "      <th>r4</th>\n",
       "      <td>5</td>\n",
       "      <td>Hamid</td>\n",
       "      <td>Numpy</td>\n",
       "      <td>Online</td>\n",
       "    </tr>\n",
       "    <tr>\n",
       "      <th>r5</th>\n",
       "      <td>6</td>\n",
       "      <td>Nasir</td>\n",
       "      <td>Python</td>\n",
       "      <td>Onsite</td>\n",
       "    </tr>\n",
       "  </tbody>\n",
       "</table>\n",
       "</div>"
      ],
      "text/plain": [
       "    rolls   names courses    mode\n",
       "r0      1     Ali  Python  Online\n",
       "r1      2   Amjad  Pandas  Onsite\n",
       "r2      3   Saima   Numpy  Online\n",
       "r3      4  Qaiser  Pandas  Onsite\n",
       "r4      5   Hamid   Numpy  Online\n",
       "r5      6   Nasir  Python  Onsite"
      ]
     },
     "execution_count": 53,
     "metadata": {},
     "output_type": "execute_result"
    }
   ],
   "source": [
    "df_d"
   ]
  },
  {
   "cell_type": "markdown",
   "id": "c1e86026",
   "metadata": {},
   "source": [
    "### <span style=\"color:green\"> Renaming columns\n",
    "    \n",
    "A column can be renamed using the .rename() method of the DataFrame. The rolls Value column rennamed to roll_no:    "
   ]
  },
  {
   "cell_type": "code",
   "execution_count": 54,
   "id": "903d17e5",
   "metadata": {},
   "outputs": [
    {
     "data": {
      "text/plain": [
       "Index(['roll_no', 'names', 'courses', 'mode'], dtype='object')"
      ]
     },
     "execution_count": 54,
     "metadata": {},
     "output_type": "execute_result"
    }
   ],
   "source": [
    "d = df_d.rename(columns = {'rolls': 'roll_no'})\n",
    "d.columns"
   ]
  },
  {
   "cell_type": "markdown",
   "id": "00e12c36",
   "metadata": {},
   "source": [
    "This has returned a new DataFrame object with the renamed column and data copied from the original DataFrame. We can verify that the original DataFrame did not have its column names modified:"
   ]
  },
  {
   "cell_type": "code",
   "execution_count": 55,
   "id": "1fce7efd",
   "metadata": {},
   "outputs": [
    {
     "data": {
      "text/plain": [
       "Index(['rolls', 'names', 'courses', 'mode'], dtype='object')"
      ]
     },
     "execution_count": 55,
     "metadata": {},
     "output_type": "execute_result"
    }
   ],
   "source": [
    "df_d.columns"
   ]
  },
  {
   "cell_type": "markdown",
   "id": "987e68db",
   "metadata": {},
   "source": [
    "To modify the DataFrame without making a copy, we can use the inplace=True parameter to .rename():"
   ]
  },
  {
   "cell_type": "code",
   "execution_count": 56,
   "id": "44dbacc7",
   "metadata": {},
   "outputs": [
    {
     "data": {
      "text/plain": [
       "Index(['roll_no', 'names', 'courses', 'mode'], dtype='object')"
      ]
     },
     "execution_count": 56,
     "metadata": {},
     "output_type": "execute_result"
    }
   ],
   "source": [
    "df_d.rename(columns = {'rolls': 'roll_no'}, inplace = True)\n",
    "df_d.columns"
   ]
  },
  {
   "cell_type": "markdown",
   "id": "1d16fc6e",
   "metadata": {},
   "source": [
    "### <span style=\"color:green\">Adding and inserting columns\n",
    "\n",
    "Columns can be added to a DataFrame using several methods. The simplest way is by merging a new Series into the DataFrame object, along the index using the [] operator assigning the Series to a new column, with a name not already in the .columns index. Note that this will modify the DataFrame in-place and not result in a copy.\n",
    "\n",
    "\n",
    "Alignment of data is important to understanding this process, as pandas does not simply concatenate the Series to the DataFrame. pandas will first align the data in the DataFrame with the Series using the index from both objects, and fill in the data from the Series into the new DataFrame at the appropriate index labels.\n",
    "\n",
    "\n",
    "To demonstrate this, we will add a purely demonstrative column called Twice_roll_no which adds a new column with a calculated value of 2.0 * the roll_no column. Since this modifies the DataFrame object in-place, we will also make a copy and then add\n",
    "the column to the copy, so as to leave the original unmodified:"
   ]
  },
  {
   "cell_type": "code",
   "execution_count": 57,
   "id": "4d178087",
   "metadata": {},
   "outputs": [
    {
     "data": {
      "text/html": [
       "<div>\n",
       "<style scoped>\n",
       "    .dataframe tbody tr th:only-of-type {\n",
       "        vertical-align: middle;\n",
       "    }\n",
       "\n",
       "    .dataframe tbody tr th {\n",
       "        vertical-align: top;\n",
       "    }\n",
       "\n",
       "    .dataframe thead th {\n",
       "        text-align: right;\n",
       "    }\n",
       "</style>\n",
       "<table border=\"1\" class=\"dataframe\">\n",
       "  <thead>\n",
       "    <tr style=\"text-align: right;\">\n",
       "      <th></th>\n",
       "      <th>roll_no</th>\n",
       "      <th>names</th>\n",
       "      <th>courses</th>\n",
       "      <th>mode</th>\n",
       "      <th>Twice_roll_no</th>\n",
       "    </tr>\n",
       "  </thead>\n",
       "  <tbody>\n",
       "    <tr>\n",
       "      <th>r0</th>\n",
       "      <td>1</td>\n",
       "      <td>Ali</td>\n",
       "      <td>Python</td>\n",
       "      <td>Online</td>\n",
       "      <td>2</td>\n",
       "    </tr>\n",
       "    <tr>\n",
       "      <th>r1</th>\n",
       "      <td>2</td>\n",
       "      <td>Amjad</td>\n",
       "      <td>Pandas</td>\n",
       "      <td>Onsite</td>\n",
       "      <td>4</td>\n",
       "    </tr>\n",
       "  </tbody>\n",
       "</table>\n",
       "</div>"
      ],
      "text/plain": [
       "    roll_no  names courses    mode  Twice_roll_no\n",
       "r0        1    Ali  Python  Online              2\n",
       "r1        2  Amjad  Pandas  Onsite              4"
      ]
     },
     "execution_count": 57,
     "metadata": {},
     "output_type": "execute_result"
    }
   ],
   "source": [
    "df_d_c = df_d.copy()         # make a copy\n",
    "df_d_c['Twice_roll_no'] = df_d.roll_no * 2      # add a new column to the copy\n",
    "df_d_c[:2]"
   ]
  },
  {
   "cell_type": "markdown",
   "id": "b62af220",
   "metadata": {},
   "source": [
    "<mark>This process is actually selecting the roll_no column out of the df_d object, then creating another Series with each value of the roll_no multiplied by two. The DataFrame then aligns this new Series by label, copies the data at the appropriate\n",
    "labels, and adds the column at the end of the columns index."
   ]
  },
  {
   "cell_type": "markdown",
   "id": "3d840693",
   "metadata": {},
   "source": [
    "If you want to add the column at a different location in the DataFrame object, instead of at the rightmost position, use the .insert() method of the DataFrame. The following code inserts the Twice_roll_no column between names and courses:"
   ]
  },
  {
   "cell_type": "code",
   "execution_count": 58,
   "id": "a3188330",
   "metadata": {},
   "outputs": [
    {
     "data": {
      "text/html": [
       "<div>\n",
       "<style scoped>\n",
       "    .dataframe tbody tr th:only-of-type {\n",
       "        vertical-align: middle;\n",
       "    }\n",
       "\n",
       "    .dataframe tbody tr th {\n",
       "        vertical-align: top;\n",
       "    }\n",
       "\n",
       "    .dataframe thead th {\n",
       "        text-align: right;\n",
       "    }\n",
       "</style>\n",
       "<table border=\"1\" class=\"dataframe\">\n",
       "  <thead>\n",
       "    <tr style=\"text-align: right;\">\n",
       "      <th></th>\n",
       "      <th>roll_no</th>\n",
       "      <th>names</th>\n",
       "      <th>Twice_roll_no</th>\n",
       "      <th>courses</th>\n",
       "      <th>mode</th>\n",
       "    </tr>\n",
       "  </thead>\n",
       "  <tbody>\n",
       "    <tr>\n",
       "      <th>r0</th>\n",
       "      <td>1</td>\n",
       "      <td>Ali</td>\n",
       "      <td>2</td>\n",
       "      <td>Python</td>\n",
       "      <td>Online</td>\n",
       "    </tr>\n",
       "    <tr>\n",
       "      <th>r1</th>\n",
       "      <td>2</td>\n",
       "      <td>Amjad</td>\n",
       "      <td>4</td>\n",
       "      <td>Pandas</td>\n",
       "      <td>Onsite</td>\n",
       "    </tr>\n",
       "  </tbody>\n",
       "</table>\n",
       "</div>"
      ],
      "text/plain": [
       "    roll_no  names  Twice_roll_no courses    mode\n",
       "r0        1    Ali              2  Python  Online\n",
       "r1        2  Amjad              4  Pandas  Onsite"
      ]
     },
     "execution_count": 58,
     "metadata": {},
     "output_type": "execute_result"
    }
   ],
   "source": [
    "df_d_c1 = df_d.copy()         # make a copy\n",
    "df_d_c1 .insert(2, 'Twice_roll_no', df_d.roll_no * 2)     # insert  df_d.roll_no * 2  as the third column in the DataFrame\n",
    "df_d_c1 [:2]"
   ]
  },
  {
   "cell_type": "markdown",
   "id": "a8945e51",
   "metadata": {},
   "source": [
    "It is important to remember that this is not simply inserting a column into the DataFrame. The alignment process used here is performing a left join of the DataFrame and the Series by their index labels, and then creating the column and populating the\n",
    "data in the appropriate cells in the DataFrame from matching entries in the Series. If an index label in the DataFrame is not matched in the Series, the value used will be NaN. Items in the Series that do not have a matching label will be ignored."
   ]
  },
  {
   "cell_type": "code",
   "execution_count": 59,
   "id": "ddc7c6f3",
   "metadata": {},
   "outputs": [
    {
     "data": {
      "text/html": [
       "<div>\n",
       "<style scoped>\n",
       "    .dataframe tbody tr th:only-of-type {\n",
       "        vertical-align: middle;\n",
       "    }\n",
       "\n",
       "    .dataframe tbody tr th {\n",
       "        vertical-align: top;\n",
       "    }\n",
       "\n",
       "    .dataframe thead th {\n",
       "        text-align: right;\n",
       "    }\n",
       "</style>\n",
       "<table border=\"1\" class=\"dataframe\">\n",
       "  <thead>\n",
       "    <tr style=\"text-align: right;\">\n",
       "      <th></th>\n",
       "      <th>names</th>\n",
       "    </tr>\n",
       "  </thead>\n",
       "  <tbody>\n",
       "    <tr>\n",
       "      <th>r0</th>\n",
       "      <td>Ali</td>\n",
       "    </tr>\n",
       "    <tr>\n",
       "      <th>r1</th>\n",
       "      <td>Amjad</td>\n",
       "    </tr>\n",
       "    <tr>\n",
       "      <th>r2</th>\n",
       "      <td>Saima</td>\n",
       "    </tr>\n",
       "  </tbody>\n",
       "</table>\n",
       "</div>"
      ],
      "text/plain": [
       "    names\n",
       "r0    Ali\n",
       "r1  Amjad\n",
       "r2  Saima"
      ]
     },
     "execution_count": 59,
     "metadata": {},
     "output_type": "execute_result"
    }
   ],
   "source": [
    "rcopy = df_d[0:3][['names']].copy()    # extract the first four rows and just the names column\n",
    "rcopy"
   ]
  },
  {
   "cell_type": "code",
   "execution_count": 60,
   "id": "38f27232",
   "metadata": {},
   "outputs": [
    {
     "name": "stdout",
     "output_type": "stream",
     "text": [
      "MMM     Is in the DataFrame\n",
      "r2     Not in the DataFrame\n",
      "dtype: object\n"
     ]
    },
    {
     "data": {
      "text/html": [
       "<div>\n",
       "<style scoped>\n",
       "    .dataframe tbody tr th:only-of-type {\n",
       "        vertical-align: middle;\n",
       "    }\n",
       "\n",
       "    .dataframe tbody tr th {\n",
       "        vertical-align: top;\n",
       "    }\n",
       "\n",
       "    .dataframe thead th {\n",
       "        text-align: right;\n",
       "    }\n",
       "</style>\n",
       "<table border=\"1\" class=\"dataframe\">\n",
       "  <thead>\n",
       "    <tr style=\"text-align: right;\">\n",
       "      <th></th>\n",
       "      <th>names</th>\n",
       "      <th>Comment</th>\n",
       "    </tr>\n",
       "  </thead>\n",
       "  <tbody>\n",
       "    <tr>\n",
       "      <th>r0</th>\n",
       "      <td>Ali</td>\n",
       "      <td>NaN</td>\n",
       "    </tr>\n",
       "    <tr>\n",
       "      <th>r1</th>\n",
       "      <td>Amjad</td>\n",
       "      <td>NaN</td>\n",
       "    </tr>\n",
       "    <tr>\n",
       "      <th>r2</th>\n",
       "      <td>Saima</td>\n",
       "      <td>Not in the DataFrame</td>\n",
       "    </tr>\n",
       "  </tbody>\n",
       "</table>\n",
       "</div>"
      ],
      "text/plain": [
       "    names               Comment\n",
       "r0    Ali                   NaN\n",
       "r1  Amjad                   NaN\n",
       "r2  Saima  Not in the DataFrame"
      ]
     },
     "execution_count": 60,
     "metadata": {},
     "output_type": "execute_result"
    }
   ],
   "source": [
    " # create a new Series to merge as a column\n",
    "s = pd.Series({'MMM': 'Is in the DataFrame','r2': 'Not in the DataFrame'} ) # one label exists in rcopy (r2), and MMM does not\n",
    "print(s)\n",
    "rcopy['Comment'] = s # add rcopy into a column named 'Comment'\n",
    "rcopy"
   ]
  },
  {
   "cell_type": "markdown",
   "id": "a89936eb",
   "metadata": {},
   "source": [
    "The labels for r0 and r1 were not found in rcopy and therefore, the values in the result are NaN. r2 is the only value in both, so the value from rcopy is put in the result."
   ]
  },
  {
   "cell_type": "markdown",
   "id": "dd1eeaf1",
   "metadata": {},
   "source": [
    "##  <span style=\"color:green\">Replacing the contents of a column\n",
    "\n",
    "In general, assignment of a Series to a column using the [] operator will either create a new column if the column does not already exist, or replace the contents of a column if it already exists. To demonstrate replacement, the following code replaces the Twice_roll_no column with the result of the multiplication, instead of creating a new column:"
   ]
  },
  {
   "cell_type": "code",
   "execution_count": 64,
   "id": "d0a71ccf",
   "metadata": {},
   "outputs": [
    {
     "data": {
      "text/html": [
       "<div>\n",
       "<style scoped>\n",
       "    .dataframe tbody tr th:only-of-type {\n",
       "        vertical-align: middle;\n",
       "    }\n",
       "\n",
       "    .dataframe tbody tr th {\n",
       "        vertical-align: top;\n",
       "    }\n",
       "\n",
       "    .dataframe thead th {\n",
       "        text-align: right;\n",
       "    }\n",
       "</style>\n",
       "<table border=\"1\" class=\"dataframe\">\n",
       "  <thead>\n",
       "    <tr style=\"text-align: right;\">\n",
       "      <th></th>\n",
       "      <th>roll_no</th>\n",
       "      <th>names</th>\n",
       "      <th>Twice_roll_no</th>\n",
       "      <th>courses</th>\n",
       "      <th>mode</th>\n",
       "    </tr>\n",
       "  </thead>\n",
       "  <tbody>\n",
       "    <tr>\n",
       "      <th>r0</th>\n",
       "      <td>1</td>\n",
       "      <td>Ali</td>\n",
       "      <td>3</td>\n",
       "      <td>Python</td>\n",
       "      <td>Online</td>\n",
       "    </tr>\n",
       "    <tr>\n",
       "      <th>r1</th>\n",
       "      <td>2</td>\n",
       "      <td>Amjad</td>\n",
       "      <td>5</td>\n",
       "      <td>Pandas</td>\n",
       "      <td>Onsite</td>\n",
       "    </tr>\n",
       "    <tr>\n",
       "      <th>r2</th>\n",
       "      <td>3</td>\n",
       "      <td>Saima</td>\n",
       "      <td>7</td>\n",
       "      <td>Numpy</td>\n",
       "      <td>Online</td>\n",
       "    </tr>\n",
       "    <tr>\n",
       "      <th>r3</th>\n",
       "      <td>4</td>\n",
       "      <td>Qaiser</td>\n",
       "      <td>9</td>\n",
       "      <td>Pandas</td>\n",
       "      <td>Onsite</td>\n",
       "    </tr>\n",
       "    <tr>\n",
       "      <th>r4</th>\n",
       "      <td>5</td>\n",
       "      <td>Hamid</td>\n",
       "      <td>11</td>\n",
       "      <td>Numpy</td>\n",
       "      <td>Online</td>\n",
       "    </tr>\n",
       "    <tr>\n",
       "      <th>r5</th>\n",
       "      <td>6</td>\n",
       "      <td>Nasir</td>\n",
       "      <td>13</td>\n",
       "      <td>Python</td>\n",
       "      <td>Onsite</td>\n",
       "    </tr>\n",
       "  </tbody>\n",
       "</table>\n",
       "</div>"
      ],
      "text/plain": [
       "    roll_no   names  Twice_roll_no courses    mode\n",
       "r0        1     Ali              3  Python  Online\n",
       "r1        2   Amjad              5  Pandas  Onsite\n",
       "r2        3   Saima              7   Numpy  Online\n",
       "r3        4  Qaiser              9  Pandas  Onsite\n",
       "r4        5   Hamid             11   Numpy  Online\n",
       "r5        6   Nasir             13  Python  Onsite"
      ]
     },
     "execution_count": 64,
     "metadata": {},
     "output_type": "execute_result"
    }
   ],
   "source": [
    "df_d_c2 = df_d_c1.copy()\n",
    "df_d_c2.Twice_roll_no = df_d_c1.Twice_roll_no+1 # replace the twice_roll_no column data with the new values \n",
    "df_d_c2[:6]"
   ]
  },
  {
   "cell_type": "markdown",
   "id": "0e24f939",
   "metadata": {},
   "source": [
    "To emphasize that this is also doing an alignment, we can change the sample slightly. The following code only utilizes the prices from three of the first four rows. This will force the result to not align values for 497 of the symbols, resulting in NaN values:"
   ]
  },
  {
   "cell_type": "code",
   "execution_count": 67,
   "id": "185cebdc",
   "metadata": {},
   "outputs": [
    {
     "data": {
      "text/plain": [
       "r3    8\n",
       "r1    4\n",
       "r0    2\n",
       "Name: Twice_roll_no, dtype: int64"
      ]
     },
     "execution_count": 67,
     "metadata": {},
     "output_type": "execute_result"
    }
   ],
   "source": [
    "copy = df_d_c1.copy()\n",
    "\n",
    "Twice_roll_nos = df_d_c1.iloc[[3, 1, 0]].Twice_roll_no.copy()   # this just copies the first 2 rows of Twice_roll_no\n",
    "Twice_roll_nos"
   ]
  },
  {
   "cell_type": "code",
   "execution_count": 68,
   "id": "f1e39e1e",
   "metadata": {},
   "outputs": [
    {
     "data": {
      "text/html": [
       "<div>\n",
       "<style scoped>\n",
       "    .dataframe tbody tr th:only-of-type {\n",
       "        vertical-align: middle;\n",
       "    }\n",
       "\n",
       "    .dataframe tbody tr th {\n",
       "        vertical-align: top;\n",
       "    }\n",
       "\n",
       "    .dataframe thead th {\n",
       "        text-align: right;\n",
       "    }\n",
       "</style>\n",
       "<table border=\"1\" class=\"dataframe\">\n",
       "  <thead>\n",
       "    <tr style=\"text-align: right;\">\n",
       "      <th></th>\n",
       "      <th>roll_no</th>\n",
       "      <th>names</th>\n",
       "      <th>Twice_roll_no</th>\n",
       "      <th>courses</th>\n",
       "      <th>mode</th>\n",
       "    </tr>\n",
       "  </thead>\n",
       "  <tbody>\n",
       "    <tr>\n",
       "      <th>r0</th>\n",
       "      <td>1</td>\n",
       "      <td>Ali</td>\n",
       "      <td>2.0</td>\n",
       "      <td>Python</td>\n",
       "      <td>Online</td>\n",
       "    </tr>\n",
       "    <tr>\n",
       "      <th>r1</th>\n",
       "      <td>2</td>\n",
       "      <td>Amjad</td>\n",
       "      <td>4.0</td>\n",
       "      <td>Pandas</td>\n",
       "      <td>Onsite</td>\n",
       "    </tr>\n",
       "    <tr>\n",
       "      <th>r2</th>\n",
       "      <td>3</td>\n",
       "      <td>Saima</td>\n",
       "      <td>NaN</td>\n",
       "      <td>Numpy</td>\n",
       "      <td>Online</td>\n",
       "    </tr>\n",
       "    <tr>\n",
       "      <th>r3</th>\n",
       "      <td>4</td>\n",
       "      <td>Qaiser</td>\n",
       "      <td>8.0</td>\n",
       "      <td>Pandas</td>\n",
       "      <td>Onsite</td>\n",
       "    </tr>\n",
       "    <tr>\n",
       "      <th>r4</th>\n",
       "      <td>5</td>\n",
       "      <td>Hamid</td>\n",
       "      <td>NaN</td>\n",
       "      <td>Numpy</td>\n",
       "      <td>Online</td>\n",
       "    </tr>\n",
       "    <tr>\n",
       "      <th>r5</th>\n",
       "      <td>6</td>\n",
       "      <td>Nasir</td>\n",
       "      <td>NaN</td>\n",
       "      <td>Python</td>\n",
       "      <td>Onsite</td>\n",
       "    </tr>\n",
       "  </tbody>\n",
       "</table>\n",
       "</div>"
      ],
      "text/plain": [
       "    roll_no   names  Twice_roll_no courses    mode\n",
       "r0        1     Ali            2.0  Python  Online\n",
       "r1        2   Amjad            4.0  Pandas  Onsite\n",
       "r2        3   Saima            NaN   Numpy  Online\n",
       "r3        4  Qaiser            8.0  Pandas  Onsite\n",
       "r4        5   Hamid            NaN   Numpy  Online\n",
       "r5        6   Nasir            NaN  Python  Onsite"
      ]
     },
     "execution_count": 68,
     "metadata": {},
     "output_type": "execute_result"
    }
   ],
   "source": [
    "# now replace the Twice_roll_no column with Twice_roll_nos\n",
    "copy.Twice_roll_no = Twice_roll_nos\n",
    "# it's not really simple insertion, it is alignment, values are put in the correct place according to labels\n",
    "copy"
   ]
  },
  {
   "cell_type": "markdown",
   "id": "d013be30",
   "metadata": {},
   "source": [
    "##  <span style=\"color:green\">Deleting columns in a DataFrame\n",
    "    \n",
    "Columns can be deleted from a DataFrame by using the del keyword, the pop(column) method of the DataFrame, or by calling the drop() method of the DataFrame.\n",
    "    \n",
    "The behavior of each of these differs slightly:\n",
    "    \n",
    "- del will simply delete the Series from the DataFrame (in-place)\n",
    "    \n",
    "- pop() will both delete the Series and return the Series as a result (also in-place)\n",
    "    \n",
    "- drop(labels, axis=1) will return a new DataFrame with the column(s) removed (the original DataFrame object is not modified)\n",
    "    \n",
    "The following code demonstrates using del to delete the BookValue column from acopy of the sp500 data:    "
   ]
  },
  {
   "cell_type": "code",
   "execution_count": 71,
   "id": "230a5696",
   "metadata": {},
   "outputs": [
    {
     "data": {
      "text/html": [
       "<div>\n",
       "<style scoped>\n",
       "    .dataframe tbody tr th:only-of-type {\n",
       "        vertical-align: middle;\n",
       "    }\n",
       "\n",
       "    .dataframe tbody tr th {\n",
       "        vertical-align: top;\n",
       "    }\n",
       "\n",
       "    .dataframe thead th {\n",
       "        text-align: right;\n",
       "    }\n",
       "</style>\n",
       "<table border=\"1\" class=\"dataframe\">\n",
       "  <thead>\n",
       "    <tr style=\"text-align: right;\">\n",
       "      <th></th>\n",
       "      <th>roll_no</th>\n",
       "      <th>names</th>\n",
       "      <th>courses</th>\n",
       "      <th>mode</th>\n",
       "    </tr>\n",
       "  </thead>\n",
       "  <tbody>\n",
       "    <tr>\n",
       "      <th>r0</th>\n",
       "      <td>1</td>\n",
       "      <td>Ali</td>\n",
       "      <td>Python</td>\n",
       "      <td>Online</td>\n",
       "    </tr>\n",
       "    <tr>\n",
       "      <th>r1</th>\n",
       "      <td>2</td>\n",
       "      <td>Amjad</td>\n",
       "      <td>Pandas</td>\n",
       "      <td>Onsite</td>\n",
       "    </tr>\n",
       "  </tbody>\n",
       "</table>\n",
       "</div>"
      ],
      "text/plain": [
       "    roll_no  names courses    mode\n",
       "r0        1    Ali  Python  Online\n",
       "r1        2  Amjad  Pandas  Onsite"
      ]
     },
     "execution_count": 71,
     "metadata": {},
     "output_type": "execute_result"
    }
   ],
   "source": [
    "copy = df_d[:2].copy()   # make a copy of a subset of the data frame\n",
    "copy"
   ]
  },
  {
   "cell_type": "code",
   "execution_count": 73,
   "id": "06fd741b",
   "metadata": {},
   "outputs": [
    {
     "data": {
      "text/html": [
       "<div>\n",
       "<style scoped>\n",
       "    .dataframe tbody tr th:only-of-type {\n",
       "        vertical-align: middle;\n",
       "    }\n",
       "\n",
       "    .dataframe tbody tr th {\n",
       "        vertical-align: top;\n",
       "    }\n",
       "\n",
       "    .dataframe thead th {\n",
       "        text-align: right;\n",
       "    }\n",
       "</style>\n",
       "<table border=\"1\" class=\"dataframe\">\n",
       "  <thead>\n",
       "    <tr style=\"text-align: right;\">\n",
       "      <th></th>\n",
       "      <th>roll_no</th>\n",
       "      <th>names</th>\n",
       "      <th>courses</th>\n",
       "    </tr>\n",
       "  </thead>\n",
       "  <tbody>\n",
       "    <tr>\n",
       "      <th>r0</th>\n",
       "      <td>1</td>\n",
       "      <td>Ali</td>\n",
       "      <td>Python</td>\n",
       "    </tr>\n",
       "    <tr>\n",
       "      <th>r1</th>\n",
       "      <td>2</td>\n",
       "      <td>Amjad</td>\n",
       "      <td>Pandas</td>\n",
       "    </tr>\n",
       "  </tbody>\n",
       "</table>\n",
       "</div>"
      ],
      "text/plain": [
       "    roll_no  names courses\n",
       "r0        1    Ali  Python\n",
       "r1        2  Amjad  Pandas"
      ]
     },
     "execution_count": 73,
     "metadata": {},
     "output_type": "execute_result"
    }
   ],
   "source": [
    "# delete the mode column\n",
    "\n",
    "del copy['mode']    # deletion is in-place\n",
    "copy"
   ]
  },
  {
   "cell_type": "markdown",
   "id": "dd512f81",
   "metadata": {},
   "source": [
    "The following code demonstrates using the .pop() method to remove a column:"
   ]
  },
  {
   "cell_type": "code",
   "execution_count": 75,
   "id": "41bbdbd3",
   "metadata": {},
   "outputs": [
    {
     "data": {
      "text/html": [
       "<div>\n",
       "<style scoped>\n",
       "    .dataframe tbody tr th:only-of-type {\n",
       "        vertical-align: middle;\n",
       "    }\n",
       "\n",
       "    .dataframe tbody tr th {\n",
       "        vertical-align: top;\n",
       "    }\n",
       "\n",
       "    .dataframe thead th {\n",
       "        text-align: right;\n",
       "    }\n",
       "</style>\n",
       "<table border=\"1\" class=\"dataframe\">\n",
       "  <thead>\n",
       "    <tr style=\"text-align: right;\">\n",
       "      <th></th>\n",
       "      <th>roll_no</th>\n",
       "      <th>names</th>\n",
       "      <th>courses</th>\n",
       "    </tr>\n",
       "  </thead>\n",
       "  <tbody>\n",
       "    <tr>\n",
       "      <th>r0</th>\n",
       "      <td>1</td>\n",
       "      <td>Ali</td>\n",
       "      <td>Python</td>\n",
       "    </tr>\n",
       "    <tr>\n",
       "      <th>r1</th>\n",
       "      <td>2</td>\n",
       "      <td>Amjad</td>\n",
       "      <td>Pandas</td>\n",
       "    </tr>\n",
       "  </tbody>\n",
       "</table>\n",
       "</div>"
      ],
      "text/plain": [
       "    roll_no  names courses\n",
       "r0        1    Ali  Python\n",
       "r1        2  Amjad  Pandas"
      ]
     },
     "execution_count": 75,
     "metadata": {},
     "output_type": "execute_result"
    }
   ],
   "source": [
    "# Example of using pop to remove a column from a DataFrame\n",
    "\n",
    "\n",
    "copy = df_d[:2].copy()   # make a copy of a subset of the data frame\n",
    "popped = copy.pop('mode')      # this will remove Sector and return it as a series. (pop works in-place)\n",
    "\n",
    "# Sector column removed in-place\n",
    "copy"
   ]
  },
  {
   "cell_type": "markdown",
   "id": "c6effc57",
   "metadata": {},
   "source": [
    "The .drop() method can be used to remove both rows and columns. To use it to remove a column, specify axis=1:"
   ]
  },
  {
   "cell_type": "code",
   "execution_count": 82,
   "id": "d747594c",
   "metadata": {},
   "outputs": [
    {
     "name": "stdout",
     "output_type": "stream",
     "text": [
      "before using drop() method:\n",
      "\n",
      "     roll_no  names courses    mode\n",
      "r0        1    Ali  Python  Online\n",
      "r1        2  Amjad  Pandas  Onsite\n",
      "\n",
      "\n",
      "after using drop() method:\n",
      "\n",
      "     roll_no  names courses\n",
      "r0        1    Ali  Python\n",
      "r1        2  Amjad  Pandas\n"
     ]
    }
   ],
   "source": [
    "# Example of using drop to remove a column\n",
    "\n",
    "copy = df_d[:2].copy()   # make a copy of a subset of the DataFrame\n",
    "afterdrop = copy.drop(['mode'], axis = 1) # return a new DataFrame with mode removed. (the copy DataFrame is not modified\n",
    "print(\"before using drop() method:\\n\\n\",copy)\n",
    "print('\\n')\n",
    "print(\"after using drop() method:\\n\\n\",afterdrop)"
   ]
  },
  {
   "cell_type": "markdown",
   "id": "43ed3ab2",
   "metadata": {},
   "source": [
    "### <div class= \"alert alert-success\">  Modification of Rows "
   ]
  },
  {
   "cell_type": "markdown",
   "id": "8fe09a92",
   "metadata": {},
   "source": [
    "##  <span style=\"color:green\">Adding rows to a DataFrame\n",
    "    \n",
    "Rows can be added to a DataFrame object via several different operations:\n",
    "    \n",
    "- Appending a DataFrame to another\n",
    "    \n",
    "- Concatenation of two DataFrame objects\n",
    "    \n",
    "- Setting with enlargement\n",
    "    \n",
    "### Appending rows with .append():\n",
    "    \n",
    "Appending is performed using the .append() method of the DataFrame. The process of appending returns a new DataFrame with the data from the original DataFrame added first, and the rows from the second. <mark>Appending does not perform alignment and can result in duplicate index values</mark>.  The following code demonstrates appending two DataFrame objects extracted from the df_d data. The first DataFrame consists of rows  1 and 2, and the\n",
    "second consists of rows 3 and 2. Row 2 (with label r2) is included in\n",
    "both to demonstrate creation of duplicate index labels. The code is as follows:    "
   ]
  },
  {
   "cell_type": "code",
   "execution_count": 86,
   "id": "98f28b0a",
   "metadata": {},
   "outputs": [
    {
     "name": "stderr",
     "output_type": "stream",
     "text": [
      "C:\\Users\\Ayesha\\AppData\\Local\\Temp\\ipykernel_1628\\2787503370.py:5: FutureWarning: The frame.append method is deprecated and will be removed from pandas in a future version. Use pandas.concat instead.\n",
      "  appended = df1.append(df2)      # append df1 and df2\n"
     ]
    },
    {
     "data": {
      "text/html": [
       "<div>\n",
       "<style scoped>\n",
       "    .dataframe tbody tr th:only-of-type {\n",
       "        vertical-align: middle;\n",
       "    }\n",
       "\n",
       "    .dataframe tbody tr th {\n",
       "        vertical-align: top;\n",
       "    }\n",
       "\n",
       "    .dataframe thead th {\n",
       "        text-align: right;\n",
       "    }\n",
       "</style>\n",
       "<table border=\"1\" class=\"dataframe\">\n",
       "  <thead>\n",
       "    <tr style=\"text-align: right;\">\n",
       "      <th></th>\n",
       "      <th>roll_no</th>\n",
       "      <th>names</th>\n",
       "      <th>courses</th>\n",
       "      <th>mode</th>\n",
       "    </tr>\n",
       "  </thead>\n",
       "  <tbody>\n",
       "    <tr>\n",
       "      <th>r1</th>\n",
       "      <td>2</td>\n",
       "      <td>Amjad</td>\n",
       "      <td>Pandas</td>\n",
       "      <td>Onsite</td>\n",
       "    </tr>\n",
       "    <tr>\n",
       "      <th>r2</th>\n",
       "      <td>3</td>\n",
       "      <td>Saima</td>\n",
       "      <td>Numpy</td>\n",
       "      <td>Online</td>\n",
       "    </tr>\n",
       "    <tr>\n",
       "      <th>r2</th>\n",
       "      <td>3</td>\n",
       "      <td>Saima</td>\n",
       "      <td>Numpy</td>\n",
       "      <td>Online</td>\n",
       "    </tr>\n",
       "    <tr>\n",
       "      <th>r3</th>\n",
       "      <td>4</td>\n",
       "      <td>Qaiser</td>\n",
       "      <td>Pandas</td>\n",
       "      <td>Onsite</td>\n",
       "    </tr>\n",
       "  </tbody>\n",
       "</table>\n",
       "</div>"
      ],
      "text/plain": [
       "    roll_no   names courses    mode\n",
       "r1        2   Amjad  Pandas  Onsite\n",
       "r2        3   Saima   Numpy  Online\n",
       "r2        3   Saima   Numpy  Online\n",
       "r3        4  Qaiser  Pandas  Onsite"
      ]
     },
     "execution_count": 86,
     "metadata": {},
     "output_type": "execute_result"
    }
   ],
   "source": [
    "df1 = df_d.iloc[1:3].copy()     # copy r1 &r2 of df_d\n",
    "\n",
    "df2 = df_d.iloc[[2, 3]]   # copy r2 and r3 rows\n",
    "\n",
    "appended = df1.append(df2)      # append df1 and df2\n",
    "\n",
    "appended                        # the result is the rows of the first followed by those of the second"
   ]
  },
  {
   "cell_type": "markdown",
   "id": "45bc1ad7",
   "metadata": {},
   "source": [
    "The set of columns of the DataFrame objects being appended do not need to be the same. The resulting DataFrame will consist of the union of the columns in both and where either did not have a column, NaN will be used as the value. The following code demonstrates this by creating a third DataFrame using the same index as df1, but having a single column with a unique column name:"
   ]
  },
  {
   "cell_type": "code",
   "execution_count": 87,
   "id": "4cd57d35",
   "metadata": {},
   "outputs": [
    {
     "data": {
      "text/html": [
       "<div>\n",
       "<style scoped>\n",
       "    .dataframe tbody tr th:only-of-type {\n",
       "        vertical-align: middle;\n",
       "    }\n",
       "\n",
       "    .dataframe tbody tr th {\n",
       "        vertical-align: top;\n",
       "    }\n",
       "\n",
       "    .dataframe thead th {\n",
       "        text-align: right;\n",
       "    }\n",
       "</style>\n",
       "<table border=\"1\" class=\"dataframe\">\n",
       "  <thead>\n",
       "    <tr style=\"text-align: right;\">\n",
       "      <th></th>\n",
       "      <th>PER</th>\n",
       "    </tr>\n",
       "  </thead>\n",
       "  <tbody>\n",
       "    <tr>\n",
       "      <th>r1</th>\n",
       "      <td>0.0</td>\n",
       "    </tr>\n",
       "    <tr>\n",
       "      <th>r2</th>\n",
       "      <td>0.0</td>\n",
       "    </tr>\n",
       "  </tbody>\n",
       "</table>\n",
       "</div>"
      ],
      "text/plain": [
       "    PER\n",
       "r1  0.0\n",
       "r2  0.0"
      ]
     },
     "execution_count": 87,
     "metadata": {},
     "output_type": "execute_result"
    }
   ],
   "source": [
    "# DataFrame using df1.index and just a PER column also a good example of using a scalar value to initialize multiple rows\n",
    "\n",
    "df3 = pd.DataFrame(0.0,index=df1.index,columns=['PER'])\n",
    "df3"
   ]
  },
  {
   "cell_type": "code",
   "execution_count": 88,
   "id": "c5789c71",
   "metadata": {},
   "outputs": [
    {
     "name": "stderr",
     "output_type": "stream",
     "text": [
      "C:\\Users\\Ayesha\\AppData\\Local\\Temp\\ipykernel_1628\\3564215398.py:3: FutureWarning: The frame.append method is deprecated and will be removed from pandas in a future version. Use pandas.concat instead.\n",
      "  df1.append(df3)\n"
     ]
    },
    {
     "data": {
      "text/html": [
       "<div>\n",
       "<style scoped>\n",
       "    .dataframe tbody tr th:only-of-type {\n",
       "        vertical-align: middle;\n",
       "    }\n",
       "\n",
       "    .dataframe tbody tr th {\n",
       "        vertical-align: top;\n",
       "    }\n",
       "\n",
       "    .dataframe thead th {\n",
       "        text-align: right;\n",
       "    }\n",
       "</style>\n",
       "<table border=\"1\" class=\"dataframe\">\n",
       "  <thead>\n",
       "    <tr style=\"text-align: right;\">\n",
       "      <th></th>\n",
       "      <th>roll_no</th>\n",
       "      <th>names</th>\n",
       "      <th>courses</th>\n",
       "      <th>mode</th>\n",
       "      <th>PER</th>\n",
       "    </tr>\n",
       "  </thead>\n",
       "  <tbody>\n",
       "    <tr>\n",
       "      <th>r1</th>\n",
       "      <td>2.0</td>\n",
       "      <td>Amjad</td>\n",
       "      <td>Pandas</td>\n",
       "      <td>Onsite</td>\n",
       "      <td>NaN</td>\n",
       "    </tr>\n",
       "    <tr>\n",
       "      <th>r2</th>\n",
       "      <td>3.0</td>\n",
       "      <td>Saima</td>\n",
       "      <td>Numpy</td>\n",
       "      <td>Online</td>\n",
       "      <td>NaN</td>\n",
       "    </tr>\n",
       "    <tr>\n",
       "      <th>r1</th>\n",
       "      <td>NaN</td>\n",
       "      <td>NaN</td>\n",
       "      <td>NaN</td>\n",
       "      <td>NaN</td>\n",
       "      <td>0.0</td>\n",
       "    </tr>\n",
       "    <tr>\n",
       "      <th>r2</th>\n",
       "      <td>NaN</td>\n",
       "      <td>NaN</td>\n",
       "      <td>NaN</td>\n",
       "      <td>NaN</td>\n",
       "      <td>0.0</td>\n",
       "    </tr>\n",
       "  </tbody>\n",
       "</table>\n",
       "</div>"
      ],
      "text/plain": [
       "    roll_no  names courses    mode  PER\n",
       "r1      2.0  Amjad  Pandas  Onsite  NaN\n",
       "r2      3.0  Saima   Numpy  Online  NaN\n",
       "r1      NaN    NaN     NaN     NaN  0.0\n",
       "r2      NaN    NaN     NaN     NaN  0.0"
      ]
     },
     "execution_count": 88,
     "metadata": {},
     "output_type": "execute_result"
    }
   ],
   "source": [
    "# df1 had no PER column, so NaN for those rows. df3 had no roll_no, names, coursrs or mode, so NaN values\n",
    "\n",
    "df1.append(df3)"
   ]
  },
  {
   "cell_type": "markdown",
   "id": "64e92b7b",
   "metadata": {},
   "source": [
    "To append without forcing the index to be taken from either DataFrame, you can use the ignore_index=True parameter. This is useful when the index values are not of significant meaning, and you just want concatenated data with sequentially increasing integers as indexes:"
   ]
  },
  {
   "cell_type": "code",
   "execution_count": 89,
   "id": "56beb71b",
   "metadata": {},
   "outputs": [
    {
     "name": "stderr",
     "output_type": "stream",
     "text": [
      "C:\\Users\\Ayesha\\AppData\\Local\\Temp\\ipykernel_1628\\2220566185.py:1: FutureWarning: The frame.append method is deprecated and will be removed from pandas in a future version. Use pandas.concat instead.\n",
      "  df1.append(df3, ignore_index=True)    # ignore index labels, create default index\n"
     ]
    },
    {
     "data": {
      "text/html": [
       "<div>\n",
       "<style scoped>\n",
       "    .dataframe tbody tr th:only-of-type {\n",
       "        vertical-align: middle;\n",
       "    }\n",
       "\n",
       "    .dataframe tbody tr th {\n",
       "        vertical-align: top;\n",
       "    }\n",
       "\n",
       "    .dataframe thead th {\n",
       "        text-align: right;\n",
       "    }\n",
       "</style>\n",
       "<table border=\"1\" class=\"dataframe\">\n",
       "  <thead>\n",
       "    <tr style=\"text-align: right;\">\n",
       "      <th></th>\n",
       "      <th>roll_no</th>\n",
       "      <th>names</th>\n",
       "      <th>courses</th>\n",
       "      <th>mode</th>\n",
       "      <th>PER</th>\n",
       "    </tr>\n",
       "  </thead>\n",
       "  <tbody>\n",
       "    <tr>\n",
       "      <th>0</th>\n",
       "      <td>2.0</td>\n",
       "      <td>Amjad</td>\n",
       "      <td>Pandas</td>\n",
       "      <td>Onsite</td>\n",
       "      <td>NaN</td>\n",
       "    </tr>\n",
       "    <tr>\n",
       "      <th>1</th>\n",
       "      <td>3.0</td>\n",
       "      <td>Saima</td>\n",
       "      <td>Numpy</td>\n",
       "      <td>Online</td>\n",
       "      <td>NaN</td>\n",
       "    </tr>\n",
       "    <tr>\n",
       "      <th>2</th>\n",
       "      <td>NaN</td>\n",
       "      <td>NaN</td>\n",
       "      <td>NaN</td>\n",
       "      <td>NaN</td>\n",
       "      <td>0.0</td>\n",
       "    </tr>\n",
       "    <tr>\n",
       "      <th>3</th>\n",
       "      <td>NaN</td>\n",
       "      <td>NaN</td>\n",
       "      <td>NaN</td>\n",
       "      <td>NaN</td>\n",
       "      <td>0.0</td>\n",
       "    </tr>\n",
       "  </tbody>\n",
       "</table>\n",
       "</div>"
      ],
      "text/plain": [
       "   roll_no  names courses    mode  PER\n",
       "0      2.0  Amjad  Pandas  Onsite  NaN\n",
       "1      3.0  Saima   Numpy  Online  NaN\n",
       "2      NaN    NaN     NaN     NaN  0.0\n",
       "3      NaN    NaN     NaN     NaN  0.0"
      ]
     },
     "execution_count": 89,
     "metadata": {},
     "output_type": "execute_result"
    }
   ],
   "source": [
    "df1.append(df3, ignore_index=True)    # ignore index labels, create default index"
   ]
  },
  {
   "cell_type": "markdown",
   "id": "85a198eb",
   "metadata": {},
   "source": [
    "##  <span style=\"color:green\">Concatenating DataFrame objects with pd.concat()\n",
    "\n",
    "A DataFrame can be concatenated to another using the pd.concat() function. This function functions similarly to the .append() method, but also adds the ability to specify an axis (appending can be row or column based), as well as being able to perform several join operations between the objects. Also,<mark> the function takes a list of pandas objects to concatenate, so you can concatenate more than two objects in a single call </mark>. The default operation of pd.concat() on two DataFrame objects operates in the same way as the .append() method. This can be demonstrated by reconstructing the two datasets from the earlier example and concatenating them. This is shown in the  following example that concatenate along rows (axis = 0):"
   ]
  },
  {
   "cell_type": "code",
   "execution_count": 90,
   "id": "d6b7c51a",
   "metadata": {},
   "outputs": [
    {
     "data": {
      "text/html": [
       "<div>\n",
       "<style scoped>\n",
       "    .dataframe tbody tr th:only-of-type {\n",
       "        vertical-align: middle;\n",
       "    }\n",
       "\n",
       "    .dataframe tbody tr th {\n",
       "        vertical-align: top;\n",
       "    }\n",
       "\n",
       "    .dataframe thead th {\n",
       "        text-align: right;\n",
       "    }\n",
       "</style>\n",
       "<table border=\"1\" class=\"dataframe\">\n",
       "  <thead>\n",
       "    <tr style=\"text-align: right;\">\n",
       "      <th></th>\n",
       "      <th>roll_no</th>\n",
       "      <th>names</th>\n",
       "      <th>courses</th>\n",
       "      <th>mode</th>\n",
       "    </tr>\n",
       "  </thead>\n",
       "  <tbody>\n",
       "    <tr>\n",
       "      <th>r1</th>\n",
       "      <td>2</td>\n",
       "      <td>Amjad</td>\n",
       "      <td>Pandas</td>\n",
       "      <td>Onsite</td>\n",
       "    </tr>\n",
       "    <tr>\n",
       "      <th>r2</th>\n",
       "      <td>3</td>\n",
       "      <td>Saima</td>\n",
       "      <td>Numpy</td>\n",
       "      <td>Online</td>\n",
       "    </tr>\n",
       "    <tr>\n",
       "      <th>r2</th>\n",
       "      <td>3</td>\n",
       "      <td>Saima</td>\n",
       "      <td>Numpy</td>\n",
       "      <td>Online</td>\n",
       "    </tr>\n",
       "    <tr>\n",
       "      <th>r3</th>\n",
       "      <td>4</td>\n",
       "      <td>Qaiser</td>\n",
       "      <td>Pandas</td>\n",
       "      <td>Onsite</td>\n",
       "    </tr>\n",
       "  </tbody>\n",
       "</table>\n",
       "</div>"
      ],
      "text/plain": [
       "    roll_no   names courses    mode\n",
       "r1        2   Amjad  Pandas  Onsite\n",
       "r2        3   Saima   Numpy  Online\n",
       "r2        3   Saima   Numpy  Online\n",
       "r3        4  Qaiser  Pandas  Onsite"
      ]
     },
     "execution_count": 90,
     "metadata": {},
     "output_type": "execute_result"
    }
   ],
   "source": [
    "df1 = df_d.iloc[1:3].copy()     # copy r1 &r2 of df_d\n",
    "df2 = df_d.iloc[[2, 3]]         # copy r2 and r3 rows\n",
    "pd.concat([df1, df2])           # pass them as a list"
   ]
  },
  {
   "cell_type": "markdown",
   "id": "2fcfd752",
   "metadata": {},
   "source": [
    "Actually, pandas calculates the sorted union of distinct column names across all supplied objects and uses those as the columns, and then appends data along the rows for each object in the order given in the list. A slight variant of this example adds an additional column to one of the DataFrame objects and then performs the concatenation:"
   ]
  },
  {
   "cell_type": "code",
   "execution_count": 93,
   "id": "bffd4889",
   "metadata": {},
   "outputs": [
    {
     "data": {
      "text/html": [
       "<div>\n",
       "<style scoped>\n",
       "    .dataframe tbody tr th:only-of-type {\n",
       "        vertical-align: middle;\n",
       "    }\n",
       "\n",
       "    .dataframe tbody tr th {\n",
       "        vertical-align: top;\n",
       "    }\n",
       "\n",
       "    .dataframe thead th {\n",
       "        text-align: right;\n",
       "    }\n",
       "</style>\n",
       "<table border=\"1\" class=\"dataframe\">\n",
       "  <thead>\n",
       "    <tr style=\"text-align: right;\">\n",
       "      <th></th>\n",
       "      <th>roll_no</th>\n",
       "      <th>names</th>\n",
       "      <th>courses</th>\n",
       "      <th>Foo</th>\n",
       "      <th>mode</th>\n",
       "    </tr>\n",
       "  </thead>\n",
       "  <tbody>\n",
       "    <tr>\n",
       "      <th>r2</th>\n",
       "      <td>3</td>\n",
       "      <td>Saima</td>\n",
       "      <td>Numpy</td>\n",
       "      <td>0</td>\n",
       "      <td>Online</td>\n",
       "    </tr>\n",
       "    <tr>\n",
       "      <th>r3</th>\n",
       "      <td>4</td>\n",
       "      <td>Qaiser</td>\n",
       "      <td>Pandas</td>\n",
       "      <td>0</td>\n",
       "      <td>Onsite</td>\n",
       "    </tr>\n",
       "  </tbody>\n",
       "</table>\n",
       "</div>"
      ],
      "text/plain": [
       "    roll_no   names courses  Foo    mode\n",
       "r2        3   Saima   Numpy    0  Online\n",
       "r3        4  Qaiser  Pandas    0  Onsite"
      ]
     },
     "execution_count": 93,
     "metadata": {},
     "output_type": "execute_result"
    }
   ],
   "source": [
    "df2_2 = df2.copy()\n",
    "df2_2.insert(3, 'Foo', pd.Series(0, index=df2.index))        # add a column to df2_2 that is not in df1\n",
    "df2_2\n"
   ]
  },
  {
   "cell_type": "code",
   "execution_count": 94,
   "id": "f3be3c01",
   "metadata": {},
   "outputs": [
    {
     "data": {
      "text/html": [
       "<div>\n",
       "<style scoped>\n",
       "    .dataframe tbody tr th:only-of-type {\n",
       "        vertical-align: middle;\n",
       "    }\n",
       "\n",
       "    .dataframe tbody tr th {\n",
       "        vertical-align: top;\n",
       "    }\n",
       "\n",
       "    .dataframe thead th {\n",
       "        text-align: right;\n",
       "    }\n",
       "</style>\n",
       "<table border=\"1\" class=\"dataframe\">\n",
       "  <thead>\n",
       "    <tr style=\"text-align: right;\">\n",
       "      <th></th>\n",
       "      <th>roll_no</th>\n",
       "      <th>names</th>\n",
       "      <th>courses</th>\n",
       "      <th>mode</th>\n",
       "      <th>Foo</th>\n",
       "    </tr>\n",
       "  </thead>\n",
       "  <tbody>\n",
       "    <tr>\n",
       "      <th>r1</th>\n",
       "      <td>2</td>\n",
       "      <td>Amjad</td>\n",
       "      <td>Pandas</td>\n",
       "      <td>Onsite</td>\n",
       "      <td>NaN</td>\n",
       "    </tr>\n",
       "    <tr>\n",
       "      <th>r2</th>\n",
       "      <td>3</td>\n",
       "      <td>Saima</td>\n",
       "      <td>Numpy</td>\n",
       "      <td>Online</td>\n",
       "      <td>NaN</td>\n",
       "    </tr>\n",
       "    <tr>\n",
       "      <th>r2</th>\n",
       "      <td>3</td>\n",
       "      <td>Saima</td>\n",
       "      <td>Numpy</td>\n",
       "      <td>Online</td>\n",
       "      <td>0.0</td>\n",
       "    </tr>\n",
       "    <tr>\n",
       "      <th>r3</th>\n",
       "      <td>4</td>\n",
       "      <td>Qaiser</td>\n",
       "      <td>Pandas</td>\n",
       "      <td>Onsite</td>\n",
       "      <td>0.0</td>\n",
       "    </tr>\n",
       "  </tbody>\n",
       "</table>\n",
       "</div>"
      ],
      "text/plain": [
       "    roll_no   names courses    mode  Foo\n",
       "r1        2   Amjad  Pandas  Onsite  NaN\n",
       "r2        3   Saima   Numpy  Online  NaN\n",
       "r2        3   Saima   Numpy  Online  0.0\n",
       "r3        4  Qaiser  Pandas  Onsite  0.0"
      ]
     },
     "execution_count": 94,
     "metadata": {},
     "output_type": "execute_result"
    }
   ],
   "source": [
    "pd.concat([df1, df2_2])                                      # after concatenating"
   ]
  },
  {
   "cell_type": "markdown",
   "id": "72d1ea05",
   "metadata": {},
   "source": [
    "Duplicate index labels still result, as the rows are copied verbatim from the source objects. However, note the NaN values in the rows originating from df1, since it does not have a Foo column. \n",
    "\n",
    "<mark>Using the keys parameter, it is possible to differentiate the pandas objects from which the rows originated. The following code adds a level to the index which represents the source object:"
   ]
  },
  {
   "cell_type": "code",
   "execution_count": 95,
   "id": "6e22b368",
   "metadata": {},
   "outputs": [
    {
     "data": {
      "text/html": [
       "<div>\n",
       "<style scoped>\n",
       "    .dataframe tbody tr th:only-of-type {\n",
       "        vertical-align: middle;\n",
       "    }\n",
       "\n",
       "    .dataframe tbody tr th {\n",
       "        vertical-align: top;\n",
       "    }\n",
       "\n",
       "    .dataframe thead th {\n",
       "        text-align: right;\n",
       "    }\n",
       "</style>\n",
       "<table border=\"1\" class=\"dataframe\">\n",
       "  <thead>\n",
       "    <tr style=\"text-align: right;\">\n",
       "      <th></th>\n",
       "      <th></th>\n",
       "      <th>roll_no</th>\n",
       "      <th>names</th>\n",
       "      <th>courses</th>\n",
       "      <th>mode</th>\n",
       "      <th>Foo</th>\n",
       "    </tr>\n",
       "  </thead>\n",
       "  <tbody>\n",
       "    <tr>\n",
       "      <th rowspan=\"2\" valign=\"top\">df1</th>\n",
       "      <th>r1</th>\n",
       "      <td>2</td>\n",
       "      <td>Amjad</td>\n",
       "      <td>Pandas</td>\n",
       "      <td>Onsite</td>\n",
       "      <td>NaN</td>\n",
       "    </tr>\n",
       "    <tr>\n",
       "      <th>r2</th>\n",
       "      <td>3</td>\n",
       "      <td>Saima</td>\n",
       "      <td>Numpy</td>\n",
       "      <td>Online</td>\n",
       "      <td>NaN</td>\n",
       "    </tr>\n",
       "    <tr>\n",
       "      <th rowspan=\"2\" valign=\"top\">df2</th>\n",
       "      <th>r2</th>\n",
       "      <td>3</td>\n",
       "      <td>Saima</td>\n",
       "      <td>Numpy</td>\n",
       "      <td>Online</td>\n",
       "      <td>0.0</td>\n",
       "    </tr>\n",
       "    <tr>\n",
       "      <th>r3</th>\n",
       "      <td>4</td>\n",
       "      <td>Qaiser</td>\n",
       "      <td>Pandas</td>\n",
       "      <td>Onsite</td>\n",
       "      <td>0.0</td>\n",
       "    </tr>\n",
       "  </tbody>\n",
       "</table>\n",
       "</div>"
      ],
      "text/plain": [
       "        roll_no   names courses    mode  Foo\n",
       "df1 r1        2   Amjad  Pandas  Onsite  NaN\n",
       "    r2        3   Saima   Numpy  Online  NaN\n",
       "df2 r2        3   Saima   Numpy  Online  0.0\n",
       "    r3        4  Qaiser  Pandas  Onsite  0.0"
      ]
     },
     "execution_count": 95,
     "metadata": {},
     "output_type": "execute_result"
    }
   ],
   "source": [
    "# specify keys\n",
    "r = pd.concat([df1, df2_2], keys=['df1', 'df2'])\n",
    "r"
   ]
  },
  {
   "cell_type": "markdown",
   "id": "bfbc2d45",
   "metadata": {},
   "source": [
    "We can change the axis of the concatenation to work along the columns by specifying axis=1, which will calculate the sorted union of the distinct index labels from the rows and then append columns and their data from the specified objects.To demonstrate, the following splits the df_d data into two DataFrame objects, each with a different set of columns, and then concatenates along axis=1:"
   ]
  },
  {
   "cell_type": "code",
   "execution_count": 107,
   "id": "3a19107f",
   "metadata": {},
   "outputs": [
    {
     "name": "stdout",
     "output_type": "stream",
     "text": [
      "first three rows and columns (roll_no and names):\n",
      "\n",
      "     roll_no  names\n",
      "r0        1    Ali\n",
      "r1        2  Amjad\n",
      "r2        3  Saima\n",
      "first three rows and column (courses):\n",
      "\n",
      "    courses\n",
      "r0  Python\n",
      "r1  Pandas\n",
      "r2   Numpy \n",
      "\n",
      "\n",
      "put them back together along axis = 1:\n"
     ]
    },
    {
     "data": {
      "text/html": [
       "<div>\n",
       "<style scoped>\n",
       "    .dataframe tbody tr th:only-of-type {\n",
       "        vertical-align: middle;\n",
       "    }\n",
       "\n",
       "    .dataframe tbody tr th {\n",
       "        vertical-align: top;\n",
       "    }\n",
       "\n",
       "    .dataframe thead th {\n",
       "        text-align: right;\n",
       "    }\n",
       "</style>\n",
       "<table border=\"1\" class=\"dataframe\">\n",
       "  <thead>\n",
       "    <tr style=\"text-align: right;\">\n",
       "      <th></th>\n",
       "      <th>roll_no</th>\n",
       "      <th>names</th>\n",
       "      <th>courses</th>\n",
       "    </tr>\n",
       "  </thead>\n",
       "  <tbody>\n",
       "    <tr>\n",
       "      <th>r0</th>\n",
       "      <td>1</td>\n",
       "      <td>Ali</td>\n",
       "      <td>Python</td>\n",
       "    </tr>\n",
       "    <tr>\n",
       "      <th>r1</th>\n",
       "      <td>2</td>\n",
       "      <td>Amjad</td>\n",
       "      <td>Pandas</td>\n",
       "    </tr>\n",
       "    <tr>\n",
       "      <th>r2</th>\n",
       "      <td>3</td>\n",
       "      <td>Saima</td>\n",
       "      <td>Numpy</td>\n",
       "    </tr>\n",
       "  </tbody>\n",
       "</table>\n",
       "</div>"
      ],
      "text/plain": [
       "    roll_no  names courses\n",
       "r0        1    Ali  Python\n",
       "r1        2  Amjad  Pandas\n",
       "r2        3  Saima   Numpy"
      ]
     },
     "execution_count": 107,
     "metadata": {},
     "output_type": "execute_result"
    }
   ],
   "source": [
    "df3 = df_d[:3][['roll_no', 'names']]   \n",
    "print('first three rows and columns (roll_no and names):\\n\\n',df3)\n",
    "df4 = df_d[:3][['courses']]             \n",
    "print('first three rows and column (courses):\\n\\n',df4,'\\n\\n')\n",
    "print('put them back together along axis = 1:')\n",
    "pd.concat([df3, df4], axis=1)         "
   ]
  },
  {
   "cell_type": "markdown",
   "id": "e7b3987d",
   "metadata": {},
   "source": [
    "We can further examine this operation by adding a column to the second DataFrame that has a duplicate name to a column in the first. The result will have duplicate columns, as the columns are blindly appended without regard to already existing columns:"
   ]
  },
  {
   "cell_type": "code",
   "execution_count": 110,
   "id": "9cd0adab",
   "metadata": {},
   "outputs": [
    {
     "name": "stdout",
     "output_type": "stream",
     "text": [
      "After add a column to df4_2, that is also in df3\n",
      "\n",
      ":    courses  names\n",
      "r0  Python      1\n",
      "r1  Pandas      1\n",
      "r2   Numpy      1\n"
     ]
    },
    {
     "data": {
      "text/html": [
       "<div>\n",
       "<style scoped>\n",
       "    .dataframe tbody tr th:only-of-type {\n",
       "        vertical-align: middle;\n",
       "    }\n",
       "\n",
       "    .dataframe tbody tr th {\n",
       "        vertical-align: top;\n",
       "    }\n",
       "\n",
       "    .dataframe thead th {\n",
       "        text-align: right;\n",
       "    }\n",
       "</style>\n",
       "<table border=\"1\" class=\"dataframe\">\n",
       "  <thead>\n",
       "    <tr style=\"text-align: right;\">\n",
       "      <th></th>\n",
       "      <th>roll_no</th>\n",
       "      <th>names</th>\n",
       "      <th>courses</th>\n",
       "      <th>names</th>\n",
       "    </tr>\n",
       "  </thead>\n",
       "  <tbody>\n",
       "    <tr>\n",
       "      <th>r0</th>\n",
       "      <td>1</td>\n",
       "      <td>Ali</td>\n",
       "      <td>Python</td>\n",
       "      <td>1</td>\n",
       "    </tr>\n",
       "    <tr>\n",
       "      <th>r1</th>\n",
       "      <td>2</td>\n",
       "      <td>Amjad</td>\n",
       "      <td>Pandas</td>\n",
       "      <td>1</td>\n",
       "    </tr>\n",
       "    <tr>\n",
       "      <th>r2</th>\n",
       "      <td>3</td>\n",
       "      <td>Saima</td>\n",
       "      <td>Numpy</td>\n",
       "      <td>1</td>\n",
       "    </tr>\n",
       "  </tbody>\n",
       "</table>\n",
       "</div>"
      ],
      "text/plain": [
       "    roll_no  names courses  names\n",
       "r0        1    Ali  Python      1\n",
       "r1        2  Amjad  Pandas      1\n",
       "r2        3  Saima   Numpy      1"
      ]
     },
     "execution_count": 110,
     "metadata": {},
     "output_type": "execute_result"
    }
   ],
   "source": [
    "df4_2 = df4.copy()\n",
    "df4_2.insert(1, 'names', pd.Series(1, index=df4_2.index))   \n",
    "print('After add a column to df4_2, that is also in df3\\n\\n:',df4_2)\n",
    "pd.concat([df3, df4_2], axis=1)"
   ]
  },
  {
   "cell_type": "markdown",
   "id": "90a01a42",
   "metadata": {},
   "source": [
    "To be very specific, pandas is performing an outer join along the labels of the specified axis. An inner join can be specified using the join='inner' parameter, which changes the operation from being a sorted union of distinct labels to the distinct\n",
    "values of the intersection of the labels. To demonstrate, the following selects two subsets of the financial data with one row in common and performs an inner join:"
   ]
  },
  {
   "cell_type": "code",
   "execution_count": 117,
   "id": "54c8419f",
   "metadata": {},
   "outputs": [
    {
     "name": "stdout",
     "output_type": "stream",
     "text": [
      "first three rows and first two columns:\n",
      "\n",
      "     roll_no  names\n",
      "r0        1    Ali\n",
      "r1        2  Amjad\n",
      "r2        3  Saima\n",
      "\n",
      "row 2 through 4 and first two columns:\n",
      "\n",
      "     roll_no   names\n",
      "r2        3   Saima\n",
      "r3        4  Qaiser\n",
      "r4        5   Hamid\n",
      "\n",
      "inner join on index labels will return in only one row:\n",
      "\n",
      "\n"
     ]
    },
    {
     "data": {
      "text/html": [
       "<div>\n",
       "<style scoped>\n",
       "    .dataframe tbody tr th:only-of-type {\n",
       "        vertical-align: middle;\n",
       "    }\n",
       "\n",
       "    .dataframe tbody tr th {\n",
       "        vertical-align: top;\n",
       "    }\n",
       "\n",
       "    .dataframe thead th {\n",
       "        text-align: right;\n",
       "    }\n",
       "</style>\n",
       "<table border=\"1\" class=\"dataframe\">\n",
       "  <thead>\n",
       "    <tr style=\"text-align: right;\">\n",
       "      <th></th>\n",
       "      <th>roll_no</th>\n",
       "      <th>names</th>\n",
       "      <th>roll_no</th>\n",
       "      <th>names</th>\n",
       "    </tr>\n",
       "  </thead>\n",
       "  <tbody>\n",
       "    <tr>\n",
       "      <th>r2</th>\n",
       "      <td>3</td>\n",
       "      <td>Saima</td>\n",
       "      <td>3</td>\n",
       "      <td>Saima</td>\n",
       "    </tr>\n",
       "  </tbody>\n",
       "</table>\n",
       "</div>"
      ],
      "text/plain": [
       "    roll_no  names  roll_no  names\n",
       "r2        3  Saima        3  Saima"
      ]
     },
     "execution_count": 117,
     "metadata": {},
     "output_type": "execute_result"
    }
   ],
   "source": [
    "df5 = df_d[:3][['roll_no','names']] \n",
    "print('first three rows and first two columns:\\n\\n',df5)\n",
    "df6 = df_d[2:5][['roll_no','names']]\n",
    "print('\\nrow 2 through 4 and first two columns:\\n\\n',df6)\n",
    "print('\\ninner join on index labels will return in only one row:\\n\\n')\n",
    "pd.concat([df5, df6], join='inner', axis=1) "
   ]
  },
  {
   "cell_type": "markdown",
   "id": "0bba74f4",
   "metadata": {},
   "source": [
    "##  <span style=\"color:green\">Adding rows (and columns) via setting with enlargement\n",
    "    \n",
    "Rows can also be added to a DataFrame through the .loc property. <mark>This technique is referred to as setting with enlargement</mark>. The parameter for .loc specifies the index label where the row is to be placed. If the label does not exist, the values are appended to the DataFrame using the given index label. If it does exist, then the values in the specified row are replaced. \n",
    "    \n",
    "The following example takes a subset of sp500 and adds a row with the label FOO:"
   ]
  },
  {
   "cell_type": "code",
   "execution_count": 121,
   "id": "9e09ddcd",
   "metadata": {},
   "outputs": [
    {
     "data": {
      "text/html": [
       "<div>\n",
       "<style scoped>\n",
       "    .dataframe tbody tr th:only-of-type {\n",
       "        vertical-align: middle;\n",
       "    }\n",
       "\n",
       "    .dataframe tbody tr th {\n",
       "        vertical-align: top;\n",
       "    }\n",
       "\n",
       "    .dataframe thead th {\n",
       "        text-align: right;\n",
       "    }\n",
       "</style>\n",
       "<table border=\"1\" class=\"dataframe\">\n",
       "  <thead>\n",
       "    <tr style=\"text-align: right;\">\n",
       "      <th></th>\n",
       "      <th>roll_no</th>\n",
       "      <th>names</th>\n",
       "      <th>courses</th>\n",
       "      <th>mode</th>\n",
       "    </tr>\n",
       "  </thead>\n",
       "  <tbody>\n",
       "    <tr>\n",
       "      <th>r0</th>\n",
       "      <td>1</td>\n",
       "      <td>Ali</td>\n",
       "      <td>Python</td>\n",
       "      <td>Online</td>\n",
       "    </tr>\n",
       "    <tr>\n",
       "      <th>r1</th>\n",
       "      <td>2</td>\n",
       "      <td>Amjad</td>\n",
       "      <td>Pandas</td>\n",
       "      <td>Onsite</td>\n",
       "    </tr>\n",
       "    <tr>\n",
       "      <th>r2</th>\n",
       "      <td>3</td>\n",
       "      <td>Saima</td>\n",
       "      <td>Numpy</td>\n",
       "      <td>Online</td>\n",
       "    </tr>\n",
       "    <tr>\n",
       "      <th>FOO</th>\n",
       "      <td>7</td>\n",
       "      <td>Ayesha</td>\n",
       "      <td>Pandas</td>\n",
       "      <td>Online</td>\n",
       "    </tr>\n",
       "  </tbody>\n",
       "</table>\n",
       "</div>"
      ],
      "text/plain": [
       "     roll_no   names courses    mode\n",
       "r0         1     Ali  Python  Online\n",
       "r1         2   Amjad  Pandas  Onsite\n",
       "r2         3   Saima   Numpy  Online\n",
       "FOO        7  Ayesha  Pandas  Online"
      ]
     },
     "execution_count": 121,
     "metadata": {},
     "output_type": "execute_result"
    }
   ],
   "source": [
    "ss = df_d[:3].copy()                      # get a small subset of the df_d. Make sure to copy the slice to make a copy\n",
    "# create a new row with index label FOO and assign some values to the columns via a list\n",
    "ss.loc['FOO'] = [7,'Ayesha', 'Pandas', 'Online']\n",
    "ss"
   ]
  },
  {
   "cell_type": "markdown",
   "id": "be835ca6",
   "metadata": {},
   "source": [
    "Note that the change is made in place. If FOO already exists as an index label, then the column data would be replaced. This is one of the means of updating data in a DataFrame in-place, as .loc not only retrieves row(s), but also lets you modify the\n",
    "results that are returned. \n",
    "\n",
    "It is also possible to add columns in this manner. The following code demonstrates by adding a new column to a subset of df_d using .loc. Note that to accomplish this, we use the colon in the rows' position to select all rows to be included to add\n",
    "the new column and value:"
   ]
  },
  {
   "cell_type": "code",
   "execution_count": 122,
   "id": "cae24046",
   "metadata": {},
   "outputs": [
    {
     "data": {
      "text/html": [
       "<div>\n",
       "<style scoped>\n",
       "    .dataframe tbody tr th:only-of-type {\n",
       "        vertical-align: middle;\n",
       "    }\n",
       "\n",
       "    .dataframe tbody tr th {\n",
       "        vertical-align: top;\n",
       "    }\n",
       "\n",
       "    .dataframe thead th {\n",
       "        text-align: right;\n",
       "    }\n",
       "</style>\n",
       "<table border=\"1\" class=\"dataframe\">\n",
       "  <thead>\n",
       "    <tr style=\"text-align: right;\">\n",
       "      <th></th>\n",
       "      <th>roll_no</th>\n",
       "      <th>names</th>\n",
       "      <th>courses</th>\n",
       "      <th>mode</th>\n",
       "      <th>PER</th>\n",
       "    </tr>\n",
       "  </thead>\n",
       "  <tbody>\n",
       "    <tr>\n",
       "      <th>r0</th>\n",
       "      <td>1</td>\n",
       "      <td>Ali</td>\n",
       "      <td>Python</td>\n",
       "      <td>Online</td>\n",
       "      <td>0</td>\n",
       "    </tr>\n",
       "    <tr>\n",
       "      <th>r1</th>\n",
       "      <td>2</td>\n",
       "      <td>Amjad</td>\n",
       "      <td>Pandas</td>\n",
       "      <td>Onsite</td>\n",
       "      <td>0</td>\n",
       "    </tr>\n",
       "    <tr>\n",
       "      <th>r2</th>\n",
       "      <td>3</td>\n",
       "      <td>Saima</td>\n",
       "      <td>Numpy</td>\n",
       "      <td>Online</td>\n",
       "      <td>0</td>\n",
       "    </tr>\n",
       "  </tbody>\n",
       "</table>\n",
       "</div>"
      ],
      "text/plain": [
       "    roll_no  names courses    mode  PER\n",
       "r0        1    Ali  Python  Online    0\n",
       "r1        2  Amjad  Pandas  Onsite    0\n",
       "r2        3  Saima   Numpy  Online    0"
      ]
     },
     "execution_count": 122,
     "metadata": {},
     "output_type": "execute_result"
    }
   ],
   "source": [
    "ss = df_d[:3].copy()         # copy of subset / slice\n",
    "ss.loc[:,'PER'] = 0          # add the new column initialized to 0\n",
    "ss"
   ]
  },
  {
   "cell_type": "markdown",
   "id": "30d36b35",
   "metadata": {},
   "source": [
    "##  <span style=\"color:green\">Removing rows from a DataFrame\n",
    "    \n",
    "Removing rows from a DataFrame object is normally performed using one of three techniques:\n",
    "    \n",
    "- Using the .drop() method\n",
    "    \n",
    "- Boolean selection\n",
    "    \n",
    "- Selection using a slice\n",
    "    \n",
    "Technically, only the .drop() method removes rows in-place on the source object. The other techniques either create a copy without specific rows, or a view into the rows that are not to be dropped. Details of each are given in the following sections.\n",
    "    \n",
    "### Removing rows using .drop()\n",
    "To remove rows from a DataFrame by the index label, you can use the .drop() method of the DataFrame. The .drop() method takes a list of index labels and will return a copy of the DataFrame with the rows for the specified labels removed. The source DataFrame remains unmodified. The code is as follows:"
   ]
  },
  {
   "cell_type": "code",
   "execution_count": 125,
   "id": "14e6adc7",
   "metadata": {},
   "outputs": [
    {
     "name": "stdout",
     "output_type": "stream",
     "text": [
      "    roll_no   names courses    mode\n",
      "r0        1     Ali  Python  Online\n",
      "r1        2   Amjad  Pandas  Onsite\n",
      "r2        3   Saima   Numpy  Online\n",
      "r3        4  Qaiser  Pandas  Onsite\n",
      "r4        5   Hamid   Numpy  Online\n"
     ]
    },
    {
     "data": {
      "text/html": [
       "<div>\n",
       "<style scoped>\n",
       "    .dataframe tbody tr th:only-of-type {\n",
       "        vertical-align: middle;\n",
       "    }\n",
       "\n",
       "    .dataframe tbody tr th {\n",
       "        vertical-align: top;\n",
       "    }\n",
       "\n",
       "    .dataframe thead th {\n",
       "        text-align: right;\n",
       "    }\n",
       "</style>\n",
       "<table border=\"1\" class=\"dataframe\">\n",
       "  <thead>\n",
       "    <tr style=\"text-align: right;\">\n",
       "      <th></th>\n",
       "      <th>roll_no</th>\n",
       "      <th>names</th>\n",
       "      <th>courses</th>\n",
       "      <th>mode</th>\n",
       "    </tr>\n",
       "  </thead>\n",
       "  <tbody>\n",
       "    <tr>\n",
       "      <th>r1</th>\n",
       "      <td>2</td>\n",
       "      <td>Amjad</td>\n",
       "      <td>Pandas</td>\n",
       "      <td>Onsite</td>\n",
       "    </tr>\n",
       "    <tr>\n",
       "      <th>r2</th>\n",
       "      <td>3</td>\n",
       "      <td>Saima</td>\n",
       "      <td>Numpy</td>\n",
       "      <td>Online</td>\n",
       "    </tr>\n",
       "    <tr>\n",
       "      <th>r4</th>\n",
       "      <td>5</td>\n",
       "      <td>Hamid</td>\n",
       "      <td>Numpy</td>\n",
       "      <td>Online</td>\n",
       "    </tr>\n",
       "  </tbody>\n",
       "</table>\n",
       "</div>"
      ],
      "text/plain": [
       "    roll_no  names courses    mode\n",
       "r1        2  Amjad  Pandas  Onsite\n",
       "r2        3  Saima   Numpy  Online\n",
       "r4        5  Hamid   Numpy  Online"
      ]
     },
     "execution_count": 125,
     "metadata": {},
     "output_type": "execute_result"
    }
   ],
   "source": [
    "ss = df_d[:5].copy()\n",
    "print(ss)\n",
    "# drop rows with labels ABT and ACN\n",
    "afterdrop = ss.drop(['r0', 'r3'])\n",
    "afterdrop"
   ]
  },
  {
   "cell_type": "code",
   "execution_count": 126,
   "id": "d7d3c0f3",
   "metadata": {},
   "outputs": [
    {
     "data": {
      "text/html": [
       "<div>\n",
       "<style scoped>\n",
       "    .dataframe tbody tr th:only-of-type {\n",
       "        vertical-align: middle;\n",
       "    }\n",
       "\n",
       "    .dataframe tbody tr th {\n",
       "        vertical-align: top;\n",
       "    }\n",
       "\n",
       "    .dataframe thead th {\n",
       "        text-align: right;\n",
       "    }\n",
       "</style>\n",
       "<table border=\"1\" class=\"dataframe\">\n",
       "  <thead>\n",
       "    <tr style=\"text-align: right;\">\n",
       "      <th></th>\n",
       "      <th>roll_no</th>\n",
       "      <th>names</th>\n",
       "      <th>courses</th>\n",
       "      <th>mode</th>\n",
       "    </tr>\n",
       "  </thead>\n",
       "  <tbody>\n",
       "    <tr>\n",
       "      <th>r0</th>\n",
       "      <td>1</td>\n",
       "      <td>Ali</td>\n",
       "      <td>Python</td>\n",
       "      <td>Online</td>\n",
       "    </tr>\n",
       "    <tr>\n",
       "      <th>r1</th>\n",
       "      <td>2</td>\n",
       "      <td>Amjad</td>\n",
       "      <td>Pandas</td>\n",
       "      <td>Onsite</td>\n",
       "    </tr>\n",
       "    <tr>\n",
       "      <th>r2</th>\n",
       "      <td>3</td>\n",
       "      <td>Saima</td>\n",
       "      <td>Numpy</td>\n",
       "      <td>Online</td>\n",
       "    </tr>\n",
       "    <tr>\n",
       "      <th>r3</th>\n",
       "      <td>4</td>\n",
       "      <td>Qaiser</td>\n",
       "      <td>Pandas</td>\n",
       "      <td>Onsite</td>\n",
       "    </tr>\n",
       "    <tr>\n",
       "      <th>r4</th>\n",
       "      <td>5</td>\n",
       "      <td>Hamid</td>\n",
       "      <td>Numpy</td>\n",
       "      <td>Online</td>\n",
       "    </tr>\n",
       "  </tbody>\n",
       "</table>\n",
       "</div>"
      ],
      "text/plain": [
       "    roll_no   names courses    mode\n",
       "r0        1     Ali  Python  Online\n",
       "r1        2   Amjad  Pandas  Onsite\n",
       "r2        3   Saima   Numpy  Online\n",
       "r3        4  Qaiser  Pandas  Onsite\n",
       "r4        5   Hamid   Numpy  Online"
      ]
     },
     "execution_count": 126,
     "metadata": {},
     "output_type": "execute_result"
    }
   ],
   "source": [
    "ss      # note that ss is not modified"
   ]
  },
  {
   "cell_type": "markdown",
   "id": "6cdd51d0",
   "metadata": {},
   "source": [
    "### Removing rows using Boolean selection\n",
    "\n",
    "Boolean selection can be used to remove rows from a DataFrame by creating a new DataFrame without the desired rows. Suppose we want to remove rows where roll_no > 4. The process to do this, is to first determine which rows match that criteria, and then to select the rows that do not. The following code selects those rows and lets us know how many of them there are:"
   ]
  },
  {
   "cell_type": "code",
   "execution_count": 128,
   "id": "a3008de9",
   "metadata": {},
   "outputs": [
    {
     "data": {
      "text/html": [
       "<div>\n",
       "<style scoped>\n",
       "    .dataframe tbody tr th:only-of-type {\n",
       "        vertical-align: middle;\n",
       "    }\n",
       "\n",
       "    .dataframe tbody tr th {\n",
       "        vertical-align: top;\n",
       "    }\n",
       "\n",
       "    .dataframe thead th {\n",
       "        text-align: right;\n",
       "    }\n",
       "</style>\n",
       "<table border=\"1\" class=\"dataframe\">\n",
       "  <thead>\n",
       "    <tr style=\"text-align: right;\">\n",
       "      <th></th>\n",
       "      <th>roll_no</th>\n",
       "      <th>names</th>\n",
       "      <th>courses</th>\n",
       "      <th>mode</th>\n",
       "    </tr>\n",
       "  </thead>\n",
       "  <tbody>\n",
       "    <tr>\n",
       "      <th>r4</th>\n",
       "      <td>5</td>\n",
       "      <td>Hamid</td>\n",
       "      <td>Numpy</td>\n",
       "      <td>Online</td>\n",
       "    </tr>\n",
       "    <tr>\n",
       "      <th>r5</th>\n",
       "      <td>6</td>\n",
       "      <td>Nasir</td>\n",
       "      <td>Python</td>\n",
       "      <td>Onsite</td>\n",
       "    </tr>\n",
       "  </tbody>\n",
       "</table>\n",
       "</div>"
      ],
      "text/plain": [
       "    roll_no  names courses    mode\n",
       "r4        5  Hamid   Numpy  Online\n",
       "r5        6  Nasir  Python  Onsite"
      ]
     },
     "execution_count": 128,
     "metadata": {},
     "output_type": "execute_result"
    }
   ],
   "source": [
    "selection = df_d.roll_no > 4\n",
    "x = df_d[selection]\n",
    "x"
   ]
  },
  {
   "cell_type": "markdown",
   "id": "e0aac0d3",
   "metadata": {},
   "source": [
    "To remove rows thad dont match the criteria ie roll_no > 4 use binary not (~)"
   ]
  },
  {
   "cell_type": "code",
   "execution_count": 129,
   "id": "065bf7c5",
   "metadata": {},
   "outputs": [
    {
     "data": {
      "text/html": [
       "<div>\n",
       "<style scoped>\n",
       "    .dataframe tbody tr th:only-of-type {\n",
       "        vertical-align: middle;\n",
       "    }\n",
       "\n",
       "    .dataframe tbody tr th {\n",
       "        vertical-align: top;\n",
       "    }\n",
       "\n",
       "    .dataframe thead th {\n",
       "        text-align: right;\n",
       "    }\n",
       "</style>\n",
       "<table border=\"1\" class=\"dataframe\">\n",
       "  <thead>\n",
       "    <tr style=\"text-align: right;\">\n",
       "      <th></th>\n",
       "      <th>roll_no</th>\n",
       "      <th>names</th>\n",
       "      <th>courses</th>\n",
       "      <th>mode</th>\n",
       "    </tr>\n",
       "  </thead>\n",
       "  <tbody>\n",
       "    <tr>\n",
       "      <th>r0</th>\n",
       "      <td>1</td>\n",
       "      <td>Ali</td>\n",
       "      <td>Python</td>\n",
       "      <td>Online</td>\n",
       "    </tr>\n",
       "    <tr>\n",
       "      <th>r1</th>\n",
       "      <td>2</td>\n",
       "      <td>Amjad</td>\n",
       "      <td>Pandas</td>\n",
       "      <td>Onsite</td>\n",
       "    </tr>\n",
       "    <tr>\n",
       "      <th>r2</th>\n",
       "      <td>3</td>\n",
       "      <td>Saima</td>\n",
       "      <td>Numpy</td>\n",
       "      <td>Online</td>\n",
       "    </tr>\n",
       "    <tr>\n",
       "      <th>r3</th>\n",
       "      <td>4</td>\n",
       "      <td>Qaiser</td>\n",
       "      <td>Pandas</td>\n",
       "      <td>Onsite</td>\n",
       "    </tr>\n",
       "  </tbody>\n",
       "</table>\n",
       "</div>"
      ],
      "text/plain": [
       "    roll_no   names courses    mode\n",
       "r0        1     Ali  Python  Online\n",
       "r1        2   Amjad  Pandas  Onsite\n",
       "r2        3   Saima   Numpy  Online\n",
       "r3        4  Qaiser  Pandas  Onsite"
      ]
     },
     "execution_count": 129,
     "metadata": {},
     "output_type": "execute_result"
    }
   ],
   "source": [
    "y = df_d[~selection]\n",
    "y"
   ]
  },
  {
   "cell_type": "markdown",
   "id": "3606ad79",
   "metadata": {},
   "source": [
    "### Removing rows using a slice\n",
    "\n",
    "Slicing is also often used to remove records from a DataFrame. It is a process similar to Boolean selection, where we select out all of the rows, except for the ones you want deleted. \n",
    "\n",
    "Suppose we want to remove all but the first three records from df_d. The slice to perform this task is [:3]:"
   ]
  },
  {
   "cell_type": "code",
   "execution_count": 130,
   "id": "2f657c63",
   "metadata": {},
   "outputs": [
    {
     "data": {
      "text/html": [
       "<div>\n",
       "<style scoped>\n",
       "    .dataframe tbody tr th:only-of-type {\n",
       "        vertical-align: middle;\n",
       "    }\n",
       "\n",
       "    .dataframe tbody tr th {\n",
       "        vertical-align: top;\n",
       "    }\n",
       "\n",
       "    .dataframe thead th {\n",
       "        text-align: right;\n",
       "    }\n",
       "</style>\n",
       "<table border=\"1\" class=\"dataframe\">\n",
       "  <thead>\n",
       "    <tr style=\"text-align: right;\">\n",
       "      <th></th>\n",
       "      <th>roll_no</th>\n",
       "      <th>names</th>\n",
       "      <th>courses</th>\n",
       "      <th>mode</th>\n",
       "    </tr>\n",
       "  </thead>\n",
       "  <tbody>\n",
       "    <tr>\n",
       "      <th>r0</th>\n",
       "      <td>1</td>\n",
       "      <td>Ali</td>\n",
       "      <td>Python</td>\n",
       "      <td>Online</td>\n",
       "    </tr>\n",
       "    <tr>\n",
       "      <th>r1</th>\n",
       "      <td>2</td>\n",
       "      <td>Amjad</td>\n",
       "      <td>Pandas</td>\n",
       "      <td>Onsite</td>\n",
       "    </tr>\n",
       "    <tr>\n",
       "      <th>r2</th>\n",
       "      <td>3</td>\n",
       "      <td>Saima</td>\n",
       "      <td>Numpy</td>\n",
       "      <td>Online</td>\n",
       "    </tr>\n",
       "  </tbody>\n",
       "</table>\n",
       "</div>"
      ],
      "text/plain": [
       "    roll_no  names courses    mode\n",
       "r0        1    Ali  Python  Online\n",
       "r1        2  Amjad  Pandas  Onsite\n",
       "r2        3  Saima   Numpy  Online"
      ]
     },
     "execution_count": 130,
     "metadata": {},
     "output_type": "execute_result"
    }
   ],
   "source": [
    "onlyFirstThree = df_d[:3]\n",
    "onlyFirstThree"
   ]
  },
  {
   "cell_type": "markdown",
   "id": "fa5ef827",
   "metadata": {},
   "source": [
    "<mark>Remember, that this result is a slice. Therefore, it is a view into the DataFrame. Data has not been removed from the df_d object. Changes to these three rows will change the data in df_d. To prevent this from occurring, the proper action \n",
    "is to make a copy of the slice, as follows:"
   ]
  },
  {
   "cell_type": "code",
   "execution_count": 131,
   "id": "f0eb756f",
   "metadata": {},
   "outputs": [
    {
     "data": {
      "text/html": [
       "<div>\n",
       "<style scoped>\n",
       "    .dataframe tbody tr th:only-of-type {\n",
       "        vertical-align: middle;\n",
       "    }\n",
       "\n",
       "    .dataframe tbody tr th {\n",
       "        vertical-align: top;\n",
       "    }\n",
       "\n",
       "    .dataframe thead th {\n",
       "        text-align: right;\n",
       "    }\n",
       "</style>\n",
       "<table border=\"1\" class=\"dataframe\">\n",
       "  <thead>\n",
       "    <tr style=\"text-align: right;\">\n",
       "      <th></th>\n",
       "      <th>roll_no</th>\n",
       "      <th>names</th>\n",
       "      <th>courses</th>\n",
       "      <th>mode</th>\n",
       "    </tr>\n",
       "  </thead>\n",
       "  <tbody>\n",
       "    <tr>\n",
       "      <th>r0</th>\n",
       "      <td>1</td>\n",
       "      <td>Ali</td>\n",
       "      <td>Python</td>\n",
       "      <td>Online</td>\n",
       "    </tr>\n",
       "    <tr>\n",
       "      <th>r1</th>\n",
       "      <td>2</td>\n",
       "      <td>Amjad</td>\n",
       "      <td>Pandas</td>\n",
       "      <td>Onsite</td>\n",
       "    </tr>\n",
       "    <tr>\n",
       "      <th>r2</th>\n",
       "      <td>3</td>\n",
       "      <td>Saima</td>\n",
       "      <td>Numpy</td>\n",
       "      <td>Online</td>\n",
       "    </tr>\n",
       "  </tbody>\n",
       "</table>\n",
       "</div>"
      ],
      "text/plain": [
       "    roll_no  names courses    mode\n",
       "r0        1    Ali  Python  Online\n",
       "r1        2  Amjad  Pandas  Onsite\n",
       "r2        3  Saima   Numpy  Online"
      ]
     },
     "execution_count": 131,
     "metadata": {},
     "output_type": "execute_result"
    }
   ],
   "source": [
    "onlyFirstThree = df_d[:3].copy()\n",
    "onlyFirstThree"
   ]
  },
  {
   "cell_type": "markdown",
   "id": "80a4c0d2",
   "metadata": {},
   "source": [
    "### <div class= \"alert alert-success\">Changing scalar values in a DataFrame\n",
    "    \n",
    "Scalar values in a DataFrame can be changed by assignment of the new value to the result of the value lookup using the .iloc and .loc attributes. These two attributes can all be passed both a row and column selectors, and the result can be\n",
    "assigned a new value that will be made in the original DataFrame.\n",
    "    \n",
    "The following code makes a copy of df_d and then demonstrates changing the roll_no on\n",
    "the r3 and r4 rows:"
   ]
  },
  {
   "cell_type": "code",
   "execution_count": 133,
   "id": "c5311e2b",
   "metadata": {},
   "outputs": [
    {
     "data": {
      "text/html": [
       "<div>\n",
       "<style scoped>\n",
       "    .dataframe tbody tr th:only-of-type {\n",
       "        vertical-align: middle;\n",
       "    }\n",
       "\n",
       "    .dataframe tbody tr th {\n",
       "        vertical-align: top;\n",
       "    }\n",
       "\n",
       "    .dataframe thead th {\n",
       "        text-align: right;\n",
       "    }\n",
       "</style>\n",
       "<table border=\"1\" class=\"dataframe\">\n",
       "  <thead>\n",
       "    <tr style=\"text-align: right;\">\n",
       "      <th></th>\n",
       "      <th>roll_no</th>\n",
       "      <th>names</th>\n",
       "      <th>courses</th>\n",
       "      <th>mode</th>\n",
       "    </tr>\n",
       "  </thead>\n",
       "  <tbody>\n",
       "    <tr>\n",
       "      <th>r0</th>\n",
       "      <td>1</td>\n",
       "      <td>Ali</td>\n",
       "      <td>Python</td>\n",
       "      <td>Online</td>\n",
       "    </tr>\n",
       "    <tr>\n",
       "      <th>r1</th>\n",
       "      <td>2</td>\n",
       "      <td>Amjad</td>\n",
       "      <td>Pandas</td>\n",
       "      <td>Onsite</td>\n",
       "    </tr>\n",
       "    <tr>\n",
       "      <th>r2</th>\n",
       "      <td>3</td>\n",
       "      <td>Saima</td>\n",
       "      <td>Numpy</td>\n",
       "      <td>Online</td>\n",
       "    </tr>\n",
       "    <tr>\n",
       "      <th>r3</th>\n",
       "      <td>10</td>\n",
       "      <td>Qaiser</td>\n",
       "      <td>Pandas</td>\n",
       "      <td>Onsite</td>\n",
       "    </tr>\n",
       "    <tr>\n",
       "      <th>r4</th>\n",
       "      <td>20</td>\n",
       "      <td>Hamid</td>\n",
       "      <td>Numpy</td>\n",
       "      <td>Online</td>\n",
       "    </tr>\n",
       "    <tr>\n",
       "      <th>r5</th>\n",
       "      <td>6</td>\n",
       "      <td>Nasir</td>\n",
       "      <td>Python</td>\n",
       "      <td>Onsite</td>\n",
       "    </tr>\n",
       "  </tbody>\n",
       "</table>\n",
       "</div>"
      ],
      "text/plain": [
       "    roll_no   names courses    mode\n",
       "r0        1     Ali  Python  Online\n",
       "r1        2   Amjad  Pandas  Onsite\n",
       "r2        3   Saima   Numpy  Online\n",
       "r3       10  Qaiser  Pandas  Onsite\n",
       "r4       20   Hamid   Numpy  Online\n",
       "r5        6   Nasir  Python  Onsite"
      ]
     },
     "execution_count": 133,
     "metadata": {},
     "output_type": "execute_result"
    }
   ],
   "source": [
    "subset = df_d.copy()\n",
    "subset.loc['r3', 'roll_no'] = 10\n",
    "subset.loc['r4', 'roll_no'] = 20\n",
    "subset"
   ]
  },
  {
   "cell_type": "markdown",
   "id": "9887893a",
   "metadata": {},
   "source": [
    ".loc may suffer from lower performance, as compared to .iloc, due to the possibility of needing to map the label values into locations. The following example gets the location of the specific row and column that is desired to be changed and then uses\n",
    ".iloc to execute the change :"
   ]
  },
  {
   "cell_type": "code",
   "execution_count": 135,
   "id": "596161fc",
   "metadata": {},
   "outputs": [
    {
     "data": {
      "text/html": [
       "<div>\n",
       "<style scoped>\n",
       "    .dataframe tbody tr th:only-of-type {\n",
       "        vertical-align: middle;\n",
       "    }\n",
       "\n",
       "    .dataframe tbody tr th {\n",
       "        vertical-align: top;\n",
       "    }\n",
       "\n",
       "    .dataframe thead th {\n",
       "        text-align: right;\n",
       "    }\n",
       "</style>\n",
       "<table border=\"1\" class=\"dataframe\">\n",
       "  <thead>\n",
       "    <tr style=\"text-align: right;\">\n",
       "      <th></th>\n",
       "      <th>roll_no</th>\n",
       "      <th>names</th>\n",
       "      <th>courses</th>\n",
       "      <th>mode</th>\n",
       "    </tr>\n",
       "  </thead>\n",
       "  <tbody>\n",
       "    <tr>\n",
       "      <th>r0</th>\n",
       "      <td>1</td>\n",
       "      <td>Ali</td>\n",
       "      <td>Python</td>\n",
       "      <td>Online</td>\n",
       "    </tr>\n",
       "    <tr>\n",
       "      <th>r1</th>\n",
       "      <td>2</td>\n",
       "      <td>Amjad</td>\n",
       "      <td>Pandas</td>\n",
       "      <td>Onsite</td>\n",
       "    </tr>\n",
       "    <tr>\n",
       "      <th>r2</th>\n",
       "      <td>1000</td>\n",
       "      <td>Saima</td>\n",
       "      <td>Numpy</td>\n",
       "      <td>Online</td>\n",
       "    </tr>\n",
       "    <tr>\n",
       "      <th>r3</th>\n",
       "      <td>4</td>\n",
       "      <td>Qaiser</td>\n",
       "      <td>Pandas</td>\n",
       "      <td>Onsite</td>\n",
       "    </tr>\n",
       "    <tr>\n",
       "      <th>r4</th>\n",
       "      <td>5</td>\n",
       "      <td>Hamid</td>\n",
       "      <td>Numpy</td>\n",
       "      <td>Online</td>\n",
       "    </tr>\n",
       "    <tr>\n",
       "      <th>r5</th>\n",
       "      <td>6</td>\n",
       "      <td>Nasir</td>\n",
       "      <td>Python</td>\n",
       "      <td>Onsite</td>\n",
       "    </tr>\n",
       "  </tbody>\n",
       "</table>\n",
       "</div>"
      ],
      "text/plain": [
       "    roll_no   names courses    mode\n",
       "r0        1     Ali  Python  Online\n",
       "r1        2   Amjad  Pandas  Onsite\n",
       "r2     1000   Saima   Numpy  Online\n",
       "r3        4  Qaiser  Pandas  Onsite\n",
       "r4        5   Hamid   Numpy  Online\n",
       "r5        6   Nasir  Python  Onsite"
      ]
     },
     "execution_count": 135,
     "metadata": {},
     "output_type": "execute_result"
    }
   ],
   "source": [
    "subset = df_d.copy()\n",
    "roll_no_loc = df_d.columns.get_loc('roll_no')    # get the location of the Price column\n",
    "r2_row_loc = df_d.index.get_loc('r2')            # get the location of the r2 row\n",
    "subset.iloc[r2_row_loc, roll_no_loc] = 1000       # change the price\n",
    "subset"
   ]
  },
  {
   "cell_type": "markdown",
   "id": "acb7845a",
   "metadata": {},
   "source": [
    "This may be look like overkill for this small example. But if this is where code is being executed frequently, such as in a loop or in response to market changes, looking up the locations once and always using .loc with those values, will give significant performance gains over the other options."
   ]
  },
  {
   "cell_type": "markdown",
   "id": "615a3621",
   "metadata": {},
   "source": [
    "### <div class= \"alert alert-success\">Resetting and reindexing\n",
    "    \n",
    "A DataFrame can have its index reset by using the .reset_index(). A common use of this, is to move the contents of a DataFrame object's index into one or more columns. The following code moves the symbols in the index of sp500 into a column and replaces the index with a default integer index. The result is a new DataFrame, not an in-place update. The code is as follows:"
   ]
  },
  {
   "cell_type": "code",
   "execution_count": 136,
   "id": "1ee902f5",
   "metadata": {},
   "outputs": [
    {
     "data": {
      "text/html": [
       "<div>\n",
       "<style scoped>\n",
       "    .dataframe tbody tr th:only-of-type {\n",
       "        vertical-align: middle;\n",
       "    }\n",
       "\n",
       "    .dataframe tbody tr th {\n",
       "        vertical-align: top;\n",
       "    }\n",
       "\n",
       "    .dataframe thead th {\n",
       "        text-align: right;\n",
       "    }\n",
       "</style>\n",
       "<table border=\"1\" class=\"dataframe\">\n",
       "  <thead>\n",
       "    <tr style=\"text-align: right;\">\n",
       "      <th></th>\n",
       "      <th>index</th>\n",
       "      <th>roll_no</th>\n",
       "      <th>names</th>\n",
       "      <th>courses</th>\n",
       "      <th>mode</th>\n",
       "    </tr>\n",
       "  </thead>\n",
       "  <tbody>\n",
       "    <tr>\n",
       "      <th>0</th>\n",
       "      <td>r0</td>\n",
       "      <td>1</td>\n",
       "      <td>Ali</td>\n",
       "      <td>Python</td>\n",
       "      <td>Online</td>\n",
       "    </tr>\n",
       "    <tr>\n",
       "      <th>1</th>\n",
       "      <td>r1</td>\n",
       "      <td>2</td>\n",
       "      <td>Amjad</td>\n",
       "      <td>Pandas</td>\n",
       "      <td>Onsite</td>\n",
       "    </tr>\n",
       "    <tr>\n",
       "      <th>2</th>\n",
       "      <td>r2</td>\n",
       "      <td>3</td>\n",
       "      <td>Saima</td>\n",
       "      <td>Numpy</td>\n",
       "      <td>Online</td>\n",
       "    </tr>\n",
       "    <tr>\n",
       "      <th>3</th>\n",
       "      <td>r3</td>\n",
       "      <td>4</td>\n",
       "      <td>Qaiser</td>\n",
       "      <td>Pandas</td>\n",
       "      <td>Onsite</td>\n",
       "    </tr>\n",
       "    <tr>\n",
       "      <th>4</th>\n",
       "      <td>r4</td>\n",
       "      <td>5</td>\n",
       "      <td>Hamid</td>\n",
       "      <td>Numpy</td>\n",
       "      <td>Online</td>\n",
       "    </tr>\n",
       "    <tr>\n",
       "      <th>5</th>\n",
       "      <td>r5</td>\n",
       "      <td>6</td>\n",
       "      <td>Nasir</td>\n",
       "      <td>Python</td>\n",
       "      <td>Onsite</td>\n",
       "    </tr>\n",
       "  </tbody>\n",
       "</table>\n",
       "</div>"
      ],
      "text/plain": [
       "  index  roll_no   names courses    mode\n",
       "0    r0        1     Ali  Python  Online\n",
       "1    r1        2   Amjad  Pandas  Onsite\n",
       "2    r2        3   Saima   Numpy  Online\n",
       "3    r3        4  Qaiser  Pandas  Onsite\n",
       "4    r4        5   Hamid   Numpy  Online\n",
       "5    r5        6   Nasir  Python  Onsite"
      ]
     },
     "execution_count": 136,
     "metadata": {},
     "output_type": "execute_result"
    }
   ],
   "source": [
    "reset_df_d = df_d.reset_index()\n",
    "reset_df_d"
   ]
  },
  {
   "cell_type": "markdown",
   "id": "8a5a1827",
   "metadata": {},
   "source": [
    "One or more columns can also be moved into the index. Another common scenario is exhibited by the reset variable we just created, as this may have been data read in from a file with the symbols in a column when we really would like it in the index.\n",
    "To do this, we can utilize the .set_index() method. The following code moves Symbol into the index of a new DataFrame:"
   ]
  },
  {
   "cell_type": "code",
   "execution_count": 137,
   "id": "0e85b6cb",
   "metadata": {},
   "outputs": [
    {
     "data": {
      "text/html": [
       "<div>\n",
       "<style scoped>\n",
       "    .dataframe tbody tr th:only-of-type {\n",
       "        vertical-align: middle;\n",
       "    }\n",
       "\n",
       "    .dataframe tbody tr th {\n",
       "        vertical-align: top;\n",
       "    }\n",
       "\n",
       "    .dataframe thead th {\n",
       "        text-align: right;\n",
       "    }\n",
       "</style>\n",
       "<table border=\"1\" class=\"dataframe\">\n",
       "  <thead>\n",
       "    <tr style=\"text-align: right;\">\n",
       "      <th></th>\n",
       "      <th>roll_no</th>\n",
       "      <th>names</th>\n",
       "      <th>courses</th>\n",
       "      <th>mode</th>\n",
       "    </tr>\n",
       "    <tr>\n",
       "      <th>index</th>\n",
       "      <th></th>\n",
       "      <th></th>\n",
       "      <th></th>\n",
       "      <th></th>\n",
       "    </tr>\n",
       "  </thead>\n",
       "  <tbody>\n",
       "    <tr>\n",
       "      <th>r0</th>\n",
       "      <td>1</td>\n",
       "      <td>Ali</td>\n",
       "      <td>Python</td>\n",
       "      <td>Online</td>\n",
       "    </tr>\n",
       "    <tr>\n",
       "      <th>r1</th>\n",
       "      <td>2</td>\n",
       "      <td>Amjad</td>\n",
       "      <td>Pandas</td>\n",
       "      <td>Onsite</td>\n",
       "    </tr>\n",
       "    <tr>\n",
       "      <th>r2</th>\n",
       "      <td>3</td>\n",
       "      <td>Saima</td>\n",
       "      <td>Numpy</td>\n",
       "      <td>Online</td>\n",
       "    </tr>\n",
       "    <tr>\n",
       "      <th>r3</th>\n",
       "      <td>4</td>\n",
       "      <td>Qaiser</td>\n",
       "      <td>Pandas</td>\n",
       "      <td>Onsite</td>\n",
       "    </tr>\n",
       "    <tr>\n",
       "      <th>r4</th>\n",
       "      <td>5</td>\n",
       "      <td>Hamid</td>\n",
       "      <td>Numpy</td>\n",
       "      <td>Online</td>\n",
       "    </tr>\n",
       "    <tr>\n",
       "      <th>r5</th>\n",
       "      <td>6</td>\n",
       "      <td>Nasir</td>\n",
       "      <td>Python</td>\n",
       "      <td>Onsite</td>\n",
       "    </tr>\n",
       "  </tbody>\n",
       "</table>\n",
       "</div>"
      ],
      "text/plain": [
       "       roll_no   names courses    mode\n",
       "index                                 \n",
       "r0           1     Ali  Python  Online\n",
       "r1           2   Amjad  Pandas  Onsite\n",
       "r2           3   Saima   Numpy  Online\n",
       "r3           4  Qaiser  Pandas  Onsite\n",
       "r4           5   Hamid   Numpy  Online\n",
       "r5           6   Nasir  Python  Onsite"
      ]
     },
     "execution_count": 137,
     "metadata": {},
     "output_type": "execute_result"
    }
   ],
   "source": [
    "reset_df_d.set_index('index')      # move the Symbol column into the index"
   ]
  },
  {
   "cell_type": "markdown",
   "id": "f4fb8fc0",
   "metadata": {},
   "source": [
    "An index can be explicitly set using the .set_index() method. This method, given a list of values representing the new index, will create a new DataFrame using the specified values, and then align the data from the target in the new object.\n",
    "\n",
    "The following code demonstrates this, by using a subset of df_d and assigning a new index that contains a subset of those indexes and an additional label FOO:"
   ]
  },
  {
   "cell_type": "code",
   "execution_count": 138,
   "id": "3bf0e913",
   "metadata": {},
   "outputs": [
    {
     "data": {
      "text/html": [
       "<div>\n",
       "<style scoped>\n",
       "    .dataframe tbody tr th:only-of-type {\n",
       "        vertical-align: middle;\n",
       "    }\n",
       "\n",
       "    .dataframe tbody tr th {\n",
       "        vertical-align: top;\n",
       "    }\n",
       "\n",
       "    .dataframe thead th {\n",
       "        text-align: right;\n",
       "    }\n",
       "</style>\n",
       "<table border=\"1\" class=\"dataframe\">\n",
       "  <thead>\n",
       "    <tr style=\"text-align: right;\">\n",
       "      <th></th>\n",
       "      <th>roll_no</th>\n",
       "      <th>names</th>\n",
       "      <th>courses</th>\n",
       "      <th>mode</th>\n",
       "    </tr>\n",
       "  </thead>\n",
       "  <tbody>\n",
       "    <tr>\n",
       "      <th>r0</th>\n",
       "      <td>1</td>\n",
       "      <td>Ali</td>\n",
       "      <td>Python</td>\n",
       "      <td>Online</td>\n",
       "    </tr>\n",
       "    <tr>\n",
       "      <th>r1</th>\n",
       "      <td>2</td>\n",
       "      <td>Amjad</td>\n",
       "      <td>Pandas</td>\n",
       "      <td>Onsite</td>\n",
       "    </tr>\n",
       "    <tr>\n",
       "      <th>r2</th>\n",
       "      <td>3</td>\n",
       "      <td>Saima</td>\n",
       "      <td>Numpy</td>\n",
       "      <td>Online</td>\n",
       "    </tr>\n",
       "    <tr>\n",
       "      <th>r3</th>\n",
       "      <td>4</td>\n",
       "      <td>Qaiser</td>\n",
       "      <td>Pandas</td>\n",
       "      <td>Onsite</td>\n",
       "    </tr>\n",
       "  </tbody>\n",
       "</table>\n",
       "</div>"
      ],
      "text/plain": [
       "    roll_no   names courses    mode\n",
       "r0        1     Ali  Python  Online\n",
       "r1        2   Amjad  Pandas  Onsite\n",
       "r2        3   Saima   Numpy  Online\n",
       "r3        4  Qaiser  Pandas  Onsite"
      ]
     },
     "execution_count": 138,
     "metadata": {},
     "output_type": "execute_result"
    }
   ],
   "source": [
    "# get first four rows\n",
    "subset = df_d[:4].copy()\n",
    "subset"
   ]
  },
  {
   "cell_type": "code",
   "execution_count": 139,
   "id": "c34f3108",
   "metadata": {},
   "outputs": [
    {
     "data": {
      "text/html": [
       "<div>\n",
       "<style scoped>\n",
       "    .dataframe tbody tr th:only-of-type {\n",
       "        vertical-align: middle;\n",
       "    }\n",
       "\n",
       "    .dataframe tbody tr th {\n",
       "        vertical-align: top;\n",
       "    }\n",
       "\n",
       "    .dataframe thead th {\n",
       "        text-align: right;\n",
       "    }\n",
       "</style>\n",
       "<table border=\"1\" class=\"dataframe\">\n",
       "  <thead>\n",
       "    <tr style=\"text-align: right;\">\n",
       "      <th></th>\n",
       "      <th>roll_no</th>\n",
       "      <th>names</th>\n",
       "      <th>courses</th>\n",
       "      <th>mode</th>\n",
       "    </tr>\n",
       "  </thead>\n",
       "  <tbody>\n",
       "    <tr>\n",
       "      <th>r0</th>\n",
       "      <td>1.0</td>\n",
       "      <td>Ali</td>\n",
       "      <td>Python</td>\n",
       "      <td>Online</td>\n",
       "    </tr>\n",
       "    <tr>\n",
       "      <th>r3</th>\n",
       "      <td>4.0</td>\n",
       "      <td>Qaiser</td>\n",
       "      <td>Pandas</td>\n",
       "      <td>Onsite</td>\n",
       "    </tr>\n",
       "    <tr>\n",
       "      <th>FOO</th>\n",
       "      <td>NaN</td>\n",
       "      <td>NaN</td>\n",
       "      <td>NaN</td>\n",
       "      <td>NaN</td>\n",
       "    </tr>\n",
       "  </tbody>\n",
       "</table>\n",
       "</div>"
      ],
      "text/plain": [
       "     roll_no   names courses    mode\n",
       "r0       1.0     Ali  Python  Online\n",
       "r3       4.0  Qaiser  Pandas  Onsite\n",
       "FOO      NaN     NaN     NaN     NaN"
      ]
     },
     "execution_count": 139,
     "metadata": {},
     "output_type": "execute_result"
    }
   ],
   "source": [
    "\n",
    "reindexed = subset.reindex(index=['r0', 'r3', 'FOO'])  # reindex to have MMM, ABBV, and FOO index labels\n",
    "\n",
    "reindexed                                                 # note that r1 and r2 are dropped and FOO has NaN values"
   ]
  },
  {
   "cell_type": "markdown",
   "id": "b36a48f8",
   "metadata": {},
   "source": [
    "Reindexing can also be done upon the columns. The following reindexes the columns of subset:"
   ]
  },
  {
   "cell_type": "code",
   "execution_count": 143,
   "id": "b80bcfe6",
   "metadata": {},
   "outputs": [
    {
     "data": {
      "text/html": [
       "<div>\n",
       "<style scoped>\n",
       "    .dataframe tbody tr th:only-of-type {\n",
       "        vertical-align: middle;\n",
       "    }\n",
       "\n",
       "    .dataframe tbody tr th {\n",
       "        vertical-align: top;\n",
       "    }\n",
       "\n",
       "    .dataframe thead th {\n",
       "        text-align: right;\n",
       "    }\n",
       "</style>\n",
       "<table border=\"1\" class=\"dataframe\">\n",
       "  <thead>\n",
       "    <tr style=\"text-align: right;\">\n",
       "      <th></th>\n",
       "      <th>roll_no</th>\n",
       "      <th>Names</th>\n",
       "      <th>Courses</th>\n",
       "    </tr>\n",
       "  </thead>\n",
       "  <tbody>\n",
       "    <tr>\n",
       "      <th>r0</th>\n",
       "      <td>1</td>\n",
       "      <td>NaN</td>\n",
       "      <td>NaN</td>\n",
       "    </tr>\n",
       "    <tr>\n",
       "      <th>r1</th>\n",
       "      <td>2</td>\n",
       "      <td>NaN</td>\n",
       "      <td>NaN</td>\n",
       "    </tr>\n",
       "    <tr>\n",
       "      <th>r2</th>\n",
       "      <td>3</td>\n",
       "      <td>NaN</td>\n",
       "      <td>NaN</td>\n",
       "    </tr>\n",
       "    <tr>\n",
       "      <th>r3</th>\n",
       "      <td>4</td>\n",
       "      <td>NaN</td>\n",
       "      <td>NaN</td>\n",
       "    </tr>\n",
       "  </tbody>\n",
       "</table>\n",
       "</div>"
      ],
      "text/plain": [
       "    roll_no  Names  Courses\n",
       "r0        1    NaN      NaN\n",
       "r1        2    NaN      NaN\n",
       "r2        3    NaN      NaN\n",
       "r3        4    NaN      NaN"
      ]
     },
     "execution_count": 143,
     "metadata": {},
     "output_type": "execute_result"
    }
   ],
   "source": [
    "subset.reindex(columns=['roll_no','Names','Courses'])"
   ]
  },
  {
   "cell_type": "markdown",
   "id": "3b144927",
   "metadata": {},
   "source": [
    "This result is created by pandas by creating a new DataFrame with the specified columns, and then aligning the data for those columns from the subset into the new object. Because subset did not have 'Names' and 'Courses' columns, the values are filled with NaN.\n",
    "\n",
    "Finally, a DataFrame can also be reindexed on rows and columns at the same time:"
   ]
  },
  {
   "cell_type": "code",
   "execution_count": 145,
   "id": "b3f9e6cb",
   "metadata": {},
   "outputs": [
    {
     "data": {
      "text/html": [
       "<div>\n",
       "<style scoped>\n",
       "    .dataframe tbody tr th:only-of-type {\n",
       "        vertical-align: middle;\n",
       "    }\n",
       "\n",
       "    .dataframe tbody tr th {\n",
       "        vertical-align: top;\n",
       "    }\n",
       "\n",
       "    .dataframe thead th {\n",
       "        text-align: right;\n",
       "    }\n",
       "</style>\n",
       "<table border=\"1\" class=\"dataframe\">\n",
       "  <thead>\n",
       "    <tr style=\"text-align: right;\">\n",
       "      <th></th>\n",
       "      <th>roll_no</th>\n",
       "      <th>Names</th>\n",
       "      <th>Courses</th>\n",
       "    </tr>\n",
       "  </thead>\n",
       "  <tbody>\n",
       "    <tr>\n",
       "      <th>R0</th>\n",
       "      <td>NaN</td>\n",
       "      <td>NaN</td>\n",
       "      <td>NaN</td>\n",
       "    </tr>\n",
       "    <tr>\n",
       "      <th>R1</th>\n",
       "      <td>NaN</td>\n",
       "      <td>NaN</td>\n",
       "      <td>NaN</td>\n",
       "    </tr>\n",
       "    <tr>\n",
       "      <th>R2</th>\n",
       "      <td>NaN</td>\n",
       "      <td>NaN</td>\n",
       "      <td>NaN</td>\n",
       "    </tr>\n",
       "    <tr>\n",
       "      <th>r3</th>\n",
       "      <td>4.0</td>\n",
       "      <td>NaN</td>\n",
       "      <td>NaN</td>\n",
       "    </tr>\n",
       "  </tbody>\n",
       "</table>\n",
       "</div>"
      ],
      "text/plain": [
       "    roll_no  Names  Courses\n",
       "R0      NaN    NaN      NaN\n",
       "R1      NaN    NaN      NaN\n",
       "R2      NaN    NaN      NaN\n",
       "r3      4.0    NaN      NaN"
      ]
     },
     "execution_count": 145,
     "metadata": {},
     "output_type": "execute_result"
    }
   ],
   "source": [
    "subset.reindex(columns=['roll_no','Names','Courses'],index=['R0','R1','R2','r3'])"
   ]
  },
  {
   "cell_type": "code",
   "execution_count": null,
   "id": "c557a393",
   "metadata": {},
   "outputs": [],
   "source": []
  }
 ],
 "metadata": {
  "kernelspec": {
   "display_name": "Python 3 (ipykernel)",
   "language": "python",
   "name": "python3"
  },
  "language_info": {
   "codemirror_mode": {
    "name": "ipython",
    "version": 3
   },
   "file_extension": ".py",
   "mimetype": "text/x-python",
   "name": "python",
   "nbconvert_exporter": "python",
   "pygments_lexer": "ipython3",
   "version": "3.9.12"
  }
 },
 "nbformat": 4,
 "nbformat_minor": 5
}
