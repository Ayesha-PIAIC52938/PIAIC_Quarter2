{
 "cells": [
  {
   "cell_type": "markdown",
   "id": "d938e518",
   "metadata": {},
   "source": [
    "# <div class=\"alert alert-success\" >(1) Pandas Basics \n",
    "    \n",
    "Pandas is a high-performance python library that is used to analyze data. Pandas library has functions for analyzing, cleaning, exploring and manipulating data. \"Pandas\" name has a refrence to both 'Panel Data' ans 'Python Data Analysis' and was created by Wes Mc Kinney in 2008.    \n",
    "    \n",
    "#### Why use Pandas?\n",
    "\n",
    "- It allows us to analyze big data and make conclusions based on statistical theories.\n",
    "    \n",
    "- Clean messy dataset and make them relevant and readable. Relevant data is very important in <mark>Data Science</mark> (DS).\n",
    "    \n",
    "- Provides a comprehensive set of data structures for manipulating tabular data.\n",
    "    \n",
    "- Provides high-performance indexing, automatic alignment, reshaping, grouping, joining, and statistical analyses capabilities.\n",
    "\n"
   ]
  },
  {
   "cell_type": "markdown",
   "id": "e817d6a6",
   "metadata": {},
   "source": [
    "## <div class= \"alert alert-info\">Pandas Data Structures\n",
    "    \n",
    "The two primary data structures in pandas are:\n",
    "- Series objects\n",
    "- DataFrame objects "
   ]
  },
  {
   "cell_type": "markdown",
   "id": "f63c8426",
   "metadata": {},
   "source": [
    "## <div class= \"alert alert-info\"> The Series Object\n",
    "\n",
    "A Series represents a 1D labeled indexed array based on the NumPy ndarray. A pandas Series deviates from NumPy arrays by adding an associated set of labels that are used to index and efficiently access the elements of the array by the label values instead of just by the integer position.\n",
    "\n",
    "Pandas Series is nothing but a column in an excel sheet\n",
    " \n",
    "<b> Labels:</b>\n",
    "    \n",
    "label is a key feature of pandas Series and adds significant power for accessing the elements of the Series over a NumPy array. A Series always has label even if one is not specified. In this default case, pandas will create labels that consists of sequential integers starting from zero. This default behavior will make a Series initially appear to be very similar to a NumPy array. This is by design, as a Series was derived from a NumPy array. This allowed a Series to be used by existing NumPy array code that used integer-based position lookup. \n",
    "    \n",
    "Even though a Series with a default integer index labels will appear identical to a NumPy array, access to elements is not by integer position but using values in the labels. The pandas library will use the provided labels to perform a lookup of values for those labels. Unlike an array, index labels do not need to be integers, they can have repeated labels, can have hierarchical sets of labels, and are integrally utilized in a pandas concept, known as automatic alignment of values by index label. \n",
    "    \n",
    "<b> Index: </b>\n",
    "The axis labels are collectively called index.\n",
    "    \n",
    "<b> Automatic alignment of values:</b>\n",
    "    \n",
    "Automatic alignment is arguably the most significant change that a Series makes over ndarray. Operations (+,-, /,* etc) applied across multiple pandas objects are not blindly applied to the values in order by position in the Series. The pandas library will first align the two pandas objects by the index labels and then apply the operation values with aligned labels. This is in a way, a simple type of join and allows you to associate data with common index labels without any effort.\n",
    "    \n",
    "Pandas provides various specializations of indexes for different data types with each being highly optimized for that specific type of data, be it integers, floats, strings, datetime objects, or any type of <mark>hashable pandas object</mark>. Additionally, a Series can be reindexed into other types of indexes, effectively providing different views into the Series object using different indexes.\n",
    "    \n",
    "This ability to dynamically construct alternative views on data using ad hoc indexes establishes an environment for interactive data manipulation, where data can stay in a single structure but can be easily morphed into different views. This facilitates\n",
    "creating a very interactive environment to play with information and intuitively discovering meaning without having to be overburdened by its structure, such as with relational tools such as SQL.\n",
    "    \n",
    "<b> Datapoints: </b>\n",
    "    Rows in a series are called datapoints"
   ]
  },
  {
   "cell_type": "markdown",
   "id": "a79390d7",
   "metadata": {},
   "source": [
    "### <div class= \"alert alert-danger\">Creating a Series\n",
    "    \n",
    "In the real world, a Pandas Series will be created by loading the datasets from existing storage, storage can be SQL Database, CSV file, and Excel file. A Series can be created and initialized by passing either a scalar value, a NumPy ndarray, a Python list, or a Python Dict as the data parameter of the Series constructor ( pd.<span style=\"color:red\"> series(</span> parameter <span style=\"color:red\"> )</span> ). This is the default parameter and does not need to be specified if it is the first item. Series can be created in different ways, here are some ways by which we create a series:    \n",
    "    \n",
    "   "
   ]
  },
  {
   "cell_type": "code",
   "execution_count": 112,
   "id": "4978f62d",
   "metadata": {},
   "outputs": [],
   "source": [
    "import pandas as pd   # To creat a series we first need to imort Pandas library "
   ]
  },
  {
   "cell_type": "markdown",
   "id": "631f361b",
   "metadata": {},
   "source": [
    "#### (a). Creating a series from a scalar\n"
   ]
  },
  {
   "cell_type": "code",
   "execution_count": 113,
   "id": "0731dd01",
   "metadata": {},
   "outputs": [
    {
     "data": {
      "text/plain": [
       "0    55\n",
       "dtype: int64"
      ]
     },
     "execution_count": 113,
     "metadata": {},
     "output_type": "execute_result"
    }
   ],
   "source": [
    "scalar = 55  \n",
    "a_series= pd.Series(scalar)\n",
    "a_series"
   ]
  },
  {
   "cell_type": "markdown",
   "id": "15eccae8",
   "metadata": {},
   "source": [
    "<Mark> Note the output when the series 'd_series' is printed. Two integers are displayed. The 0\n",
    "value is the index label of the single item in the Series whose value is 55.</mark>"
   ]
  },
  {
   "cell_type": "code",
   "execution_count": 195,
   "id": "d7c13d70",
   "metadata": {},
   "outputs": [
    {
     "data": {
      "text/plain": [
       "pandas.core.series.Series"
      ]
     },
     "execution_count": 195,
     "metadata": {},
     "output_type": "execute_result"
    }
   ],
   "source": [
    "type(a_series)"
   ]
  },
  {
   "cell_type": "markdown",
   "id": "3405ac35",
   "metadata": {},
   "source": [
    "#### (b). Creating a series from a list\n"
   ]
  },
  {
   "cell_type": "code",
   "execution_count": 114,
   "id": "4b1ee0d4",
   "metadata": {},
   "outputs": [
    {
     "data": {
      "text/plain": [
       "0    1\n",
       "1    2\n",
       "2    3\n",
       "3    4\n",
       "dtype: int64"
      ]
     },
     "execution_count": 114,
     "metadata": {},
     "output_type": "execute_result"
    }
   ],
   "source": [
    "lst = [1 ,2 , 3, 4]\n",
    "b_series = pd.Series(lst)\n",
    "b_series"
   ]
  },
  {
   "cell_type": "markdown",
   "id": "d97a80be",
   "metadata": {},
   "source": [
    "<div class= \"alert alert-warning\"> When creating a Series object with a scalar and specifying an index with multiple labels, pandas will copy the scalar value to associate with each index label. The following code demonstrates this by creating a Series with a scalar value and an index based on an already existing index:"
   ]
  },
  {
   "cell_type": "code",
   "execution_count": 115,
   "id": "853559e3",
   "metadata": {},
   "outputs": [
    {
     "data": {
      "text/plain": [
       "0    2\n",
       "1    2\n",
       "2    2\n",
       "3    2\n",
       "dtype: int64"
      ]
     },
     "execution_count": 115,
     "metadata": {},
     "output_type": "execute_result"
    }
   ],
   "source": [
    "s4 = pd.Series(2, index=b_series.index) # series with constant 2 in all its indexs  \n",
    "s4"
   ]
  },
  {
   "cell_type": "markdown",
   "id": "c6a27f4c",
   "metadata": {},
   "source": [
    "index=b_series.index:index labels of s4 = index labels of b_series\n",
    "\n",
    "An exception is raised when index in both series are not equal"
   ]
  },
  {
   "cell_type": "code",
   "execution_count": null,
   "id": "bd339dd2",
   "metadata": {},
   "outputs": [],
   "source": [
    "sda = pd.Series([1,2,3], index = b_series)  # will give erroe"
   ]
  },
  {
   "cell_type": "markdown",
   "id": "30cb438c",
   "metadata": {},
   "source": [
    "#### (c). Creating a series from a dictionary\n"
   ]
  },
  {
   "cell_type": "code",
   "execution_count": 116,
   "id": "2d3f9e18",
   "metadata": {},
   "outputs": [
    {
     "data": {
      "text/plain": [
       "D1    420\n",
       "D2    380\n",
       "D3    390\n",
       "dtype: int64"
      ]
     },
     "execution_count": 116,
     "metadata": {},
     "output_type": "execute_result"
    }
   ],
   "source": [
    "calories = {\"D1\": 420, \"D2\": 380, \"D3\": 390}    \n",
    "c_series= pd.Series(calories)\n",
    "c_series"
   ]
  },
  {
   "cell_type": "markdown",
   "id": "59bb5cdb",
   "metadata": {},
   "source": [
    "<mark> dictionary keys became series  labels"
   ]
  },
  {
   "cell_type": "markdown",
   "id": "25dbc545",
   "metadata": {},
   "source": [
    "#### (d). Creating a series from array\n"
   ]
  },
  {
   "cell_type": "code",
   "execution_count": 117,
   "id": "6210e6f2",
   "metadata": {},
   "outputs": [],
   "source": [
    "import numpy as np"
   ]
  },
  {
   "cell_type": "code",
   "execution_count": 118,
   "id": "9185a1fa",
   "metadata": {},
   "outputs": [
    {
     "data": {
      "text/plain": [
       "0    a\n",
       "1    r\n",
       "2    r\n",
       "3    a\n",
       "4    y\n",
       "dtype: object"
      ]
     },
     "execution_count": 118,
     "metadata": {},
     "output_type": "execute_result"
    }
   ],
   "source": [
    "arr = np.array(['a','r','r','a','y']) \n",
    "d_series = pd.Series(arr)\n",
    "d_series"
   ]
  },
  {
   "cell_type": "markdown",
   "id": "e79045cb",
   "metadata": {},
   "source": [
    "<mark> In dtype: object, object means String </mark>"
   ]
  },
  {
   "cell_type": "code",
   "execution_count": 119,
   "id": "317053fb",
   "metadata": {},
   "outputs": [
    {
     "data": {
      "text/plain": [
       "RangeIndex(start=0, stop=5, step=1)"
      ]
     },
     "execution_count": 119,
     "metadata": {},
     "output_type": "execute_result"
    }
   ],
   "source": [
    "d_series.index    # the index (labels) of the series can be retrieved with the .index property:"
   ]
  },
  {
   "cell_type": "code",
   "execution_count": 120,
   "id": "5dd725bc",
   "metadata": {},
   "outputs": [
    {
     "data": {
      "text/plain": [
       "array(['a', 'r', 'r', 'a', 'y'], dtype=object)"
      ]
     },
     "execution_count": 120,
     "metadata": {},
     "output_type": "execute_result"
    }
   ],
   "source": [
    "d_series.values   # The array of values in the Series can be retrieved using the .values property"
   ]
  },
  {
   "cell_type": "markdown",
   "id": "764fef8d",
   "metadata": {},
   "source": [
    "### <div class= \"alert alert-danger\"> Naming a Series & its index"
   ]
  },
  {
   "cell_type": "code",
   "execution_count": 121,
   "id": "3460da32",
   "metadata": {},
   "outputs": [
    {
     "data": {
      "text/plain": [
       "0    1\n",
       "1    2\n",
       "2    3\n",
       "3    4\n",
       "4    4\n",
       "Name: hayyyy, dtype: int64"
      ]
     },
     "execution_count": 121,
     "metadata": {},
     "output_type": "execute_result"
    }
   ],
   "source": [
    "s_d = pd.Series([1,2,3,4,4],name = 'hayyyy' ) # naming a series \n",
    "s_d"
   ]
  },
  {
   "cell_type": "code",
   "execution_count": 122,
   "id": "79a06cb4",
   "metadata": {},
   "outputs": [
    {
     "data": {
      "text/plain": [
       "Ii\n",
       "a    1\n",
       "b    2\n",
       "c    3\n",
       "d    4\n",
       "e    4\n",
       "Name: hayyyy, dtype: int64"
      ]
     },
     "execution_count": 122,
     "metadata": {},
     "output_type": "execute_result"
    }
   ],
   "source": [
    "ind = pd.Index(['a','b','c','d','e'], name= \"Ii\")  #index name\n",
    "s_d = pd.Series([1,2,3,4,4],name = 'hayyyy',index = ind )            # naming a series \n",
    "\n",
    "s_d"
   ]
  },
  {
   "cell_type": "markdown",
   "id": "0838385a",
   "metadata": {},
   "source": [
    "### <div class= \"alert alert-danger\"> Accessing values of a series (looking up values in a series)\n",
    "    \n",
    "There are two ways through which we can access element of series, they are :\n",
    "\n",
    "- Accessing element from series with position\n",
    "- Accessing element using label (index)    "
   ]
  },
  {
   "cell_type": "markdown",
   "id": "4af2b86f",
   "metadata": {},
   "source": [
    "#### (a). Accessing Element from Series with Position\n",
    "\n",
    "To access the series element, refers to the index number. Use the index operator [ ] to access an element in a series. The index must be an integer. In order to access multiple elements from a series, we use Slice operation.\n",
    "\n",
    "(the index number of a series with default index labels are same i.e both starts from 0 - n)"
   ]
  },
  {
   "cell_type": "code",
   "execution_count": 123,
   "id": "230a9326",
   "metadata": {},
   "outputs": [
    {
     "data": {
      "text/plain": [
       "0    a\n",
       "1    r\n",
       "2    r\n",
       "3    a\n",
       "4    y\n",
       "dtype: object"
      ]
     },
     "execution_count": 123,
     "metadata": {},
     "output_type": "execute_result"
    }
   ],
   "source": [
    "d_series"
   ]
  },
  {
   "cell_type": "code",
   "execution_count": 124,
   "id": "14df4ad9",
   "metadata": {},
   "outputs": [
    {
     "data": {
      "text/plain": [
       "'a'"
      ]
     },
     "execution_count": 124,
     "metadata": {},
     "output_type": "execute_result"
    }
   ],
   "source": [
    "d_series[0]"
   ]
  },
  {
   "cell_type": "code",
   "execution_count": 125,
   "id": "05b73299",
   "metadata": {},
   "outputs": [
    {
     "data": {
      "text/plain": [
       "0    a\n",
       "1    r\n",
       "2    r\n",
       "dtype: object"
      ]
     },
     "execution_count": 125,
     "metadata": {},
     "output_type": "execute_result"
    }
   ],
   "source": [
    "d_series[:3]"
   ]
  },
  {
   "cell_type": "code",
   "execution_count": 126,
   "id": "c8434501",
   "metadata": {},
   "outputs": [
    {
     "data": {
      "text/plain": [
       "0    a\n",
       "2    r\n",
       "4    y\n",
       "dtype: object"
      ]
     },
     "execution_count": 126,
     "metadata": {},
     "output_type": "execute_result"
    }
   ],
   "source": [
    "d_series[::2]"
   ]
  },
  {
   "cell_type": "code",
   "execution_count": 127,
   "id": "205d7e11",
   "metadata": {},
   "outputs": [
    {
     "data": {
      "text/plain": [
       "'a'"
      ]
     },
     "execution_count": 127,
     "metadata": {},
     "output_type": "execute_result"
    }
   ],
   "source": [
    "d_series[3]"
   ]
  },
  {
   "cell_type": "markdown",
   "id": "67f58e7b",
   "metadata": {},
   "source": [
    "#### (b). Accessing Element using labels\n",
    "\n",
    "To access an element from series using labels, we have to set values of default index labels i.e customize labels first to notic the difference. A Series is like a fixed-size dictionary in that you can get and set values by index label."
   ]
  },
  {
   "cell_type": "markdown",
   "id": "b3b19294",
   "metadata": {},
   "source": [
    "##### <div class= \"alert alert-success\"> Customizing labels\n",
    "    \n",
    "Default index whan a series is created are integers (0-n). to create user defined index (labels) that are meaningful to us we can use the <span style=\"color:red\"> index</span> a parameter in the series() constructor    "
   ]
  },
  {
   "cell_type": "code",
   "execution_count": 128,
   "id": "e6749d8d",
   "metadata": {},
   "outputs": [
    {
     "data": {
      "text/plain": [
       "a        1\n",
       "b        7\n",
       "c        2\n",
       "x    apple\n",
       "y     True\n",
       "z    hello\n",
       "dtype: object"
      ]
     },
     "execution_count": 128,
     "metadata": {},
     "output_type": "execute_result"
    }
   ],
   "source": [
    "lst = [1, 7, 2, \"apple\", True, \"hello\" ]\n",
    "myvar = pd.Series(lst, index = [\"a\", \"b\", \"c\", \"x\", \"y\", \"z\"])  # index argument, custom labels\n",
    "myvar"
   ]
  },
  {
   "cell_type": "code",
   "execution_count": 129,
   "id": "7226742d",
   "metadata": {},
   "outputs": [
    {
     "data": {
      "text/plain": [
       "array([1, 7, 2, 'apple', True, 'hello'], dtype=object)"
      ]
     },
     "execution_count": 129,
     "metadata": {},
     "output_type": "execute_result"
    }
   ],
   "source": [
    "myvar.values"
   ]
  },
  {
   "cell_type": "code",
   "execution_count": 130,
   "id": "4869a094",
   "metadata": {},
   "outputs": [
    {
     "data": {
      "text/plain": [
       "Index(['a', 'b', 'c', 'x', 'y', 'z'], dtype='object')"
      ]
     },
     "execution_count": 130,
     "metadata": {},
     "output_type": "execute_result"
    }
   ],
   "source": [
    "myvar.index"
   ]
  },
  {
   "cell_type": "markdown",
   "id": "809cbfeb",
   "metadata": {},
   "source": [
    "<mark>The type of items in the index that are created are now of type object </mark>\n",
    "\n",
    "pandas will create different index types based on the type of data identified in the index parameter. These different index types are optimized to perform indexing operations for that specific data type. To specify the index at the time of creation\n",
    "of the Series, use the index parameter of the constructor."
   ]
  },
  {
   "cell_type": "code",
   "execution_count": 131,
   "id": "b7dece8f",
   "metadata": {},
   "outputs": [
    {
     "data": {
      "text/plain": [
       "1"
      ]
     },
     "execution_count": 131,
     "metadata": {},
     "output_type": "execute_result"
    }
   ],
   "source": [
    "myvar['a']    # is lable is a string/ character use \" \""
   ]
  },
  {
   "cell_type": "code",
   "execution_count": 132,
   "id": "b28bac99",
   "metadata": {},
   "outputs": [
    {
     "data": {
      "text/plain": [
       "True"
      ]
     },
     "execution_count": 132,
     "metadata": {},
     "output_type": "execute_result"
    }
   ],
   "source": [
    "myvar['y']     "
   ]
  },
  {
   "cell_type": "code",
   "execution_count": 133,
   "id": "766b66c7",
   "metadata": {},
   "outputs": [
    {
     "data": {
      "text/plain": [
       "a        1\n",
       "b        7\n",
       "c        2\n",
       "x    apple\n",
       "y     True\n",
       "dtype: object"
      ]
     },
     "execution_count": 133,
     "metadata": {},
     "output_type": "execute_result"
    }
   ],
   "source": [
    "myvar['a':'y']   # in integral indexing last element not included where as in lable intexing last element is included"
   ]
  },
  {
   "cell_type": "code",
   "execution_count": 134,
   "id": "6514efa6",
   "metadata": {},
   "outputs": [
    {
     "data": {
      "text/plain": [
       "a       1\n",
       "c       2\n",
       "y    True\n",
       "dtype: object"
      ]
     },
     "execution_count": 134,
     "metadata": {},
     "output_type": "execute_result"
    }
   ],
   "source": [
    "myvar['a'::2]"
   ]
  },
  {
   "cell_type": "code",
   "execution_count": 135,
   "id": "d967ac98",
   "metadata": {},
   "outputs": [
    {
     "data": {
      "text/plain": [
       "a    1\n",
       "b    7\n",
       "c    2\n",
       "dtype: object"
      ]
     },
     "execution_count": 135,
     "metadata": {},
     "output_type": "execute_result"
    }
   ],
   "source": [
    "myvar[:'d']"
   ]
  },
  {
   "cell_type": "markdown",
   "id": "aa07434c",
   "metadata": {},
   "source": [
    "To retrieve multiple items, you can pass a list of index labels via the [] operator. Instead of a single value, the result will be a new Series with both index labels and values, and data copied from the original Series."
   ]
  },
  {
   "cell_type": "code",
   "execution_count": 136,
   "id": "19e584c2",
   "metadata": {},
   "outputs": [
    {
     "data": {
      "text/plain": [
       "a    1\n",
       "c    2\n",
       "dtype: object"
      ]
     },
     "execution_count": 136,
     "metadata": {},
     "output_type": "execute_result"
    }
   ],
   "source": [
    "myvar[['a', 'c']]     # picking multiple items. "
   ]
  },
  {
   "cell_type": "markdown",
   "id": "2c6f5c61",
   "metadata": {},
   "source": [
    "<div class= \"alert alert-warning\">Even though we have changed index labels, the default index i.e the integer labels are still there and we can still access elements of a series via them"
   ]
  },
  {
   "cell_type": "code",
   "execution_count": 137,
   "id": "304aee73",
   "metadata": {},
   "outputs": [
    {
     "name": "stdout",
     "output_type": "stream",
     "text": [
      "1\n",
      "1\n",
      "apple\n",
      "apple\n"
     ]
    }
   ],
   "source": [
    "print(myvar['a'])\n",
    "print(myvar[0])\n",
    "\n",
    "print(myvar['x'])\n",
    "print(myvar[3])\n"
   ]
  },
  {
   "cell_type": "markdown",
   "id": "7d76936e",
   "metadata": {},
   "source": [
    "<div class= \"alert alert-warning\">Items can be removed from a Series using the del() function and passing the index label(s) to be removed:"
   ]
  },
  {
   "cell_type": "code",
   "execution_count": 138,
   "id": "4c270fa8",
   "metadata": {},
   "outputs": [
    {
     "data": {
      "text/plain": [
       "1    r\n",
       "2    r\n",
       "3    a\n",
       "4    y\n",
       "dtype: object"
      ]
     },
     "execution_count": 138,
     "metadata": {},
     "output_type": "execute_result"
    }
   ],
   "source": [
    "del(d_series[0])\n",
    "d_series"
   ]
  },
  {
   "cell_type": "code",
   "execution_count": 139,
   "id": "ba325137",
   "metadata": {},
   "outputs": [
    {
     "data": {
      "text/plain": [
       "b        7\n",
       "c        2\n",
       "x    apple\n",
       "y     True\n",
       "z    hello\n",
       "dtype: object"
      ]
     },
     "execution_count": 139,
     "metadata": {},
     "output_type": "execute_result"
    }
   ],
   "source": [
    "del(myvar['a'])\n",
    "myvar"
   ]
  },
  {
   "cell_type": "markdown",
   "id": "97c271c7",
   "metadata": {},
   "source": [
    "<div class= \"alert alert-success\">To alleviate the potential confusion in determining label-based lookup versus position-based lookup, index label based lookup can be enforced using the .loc[] accessor:\n",
    "    \n",
    "\n",
    "- loc[]:  force lookup  by index label  of the  values\n",
    "    \n",
    "- iloc[]: forced lookup  by location / position of the values\n",
    "    \n",
    "If a location/position passed to .iloc[] in a list is out of bounds, an exception will be thrown. This is different than with .loc[], which if passed a label that does not exist, will return NaN as the value for that label    "
   ]
  },
  {
   "cell_type": "code",
   "execution_count": 140,
   "id": "b8658e5d",
   "metadata": {},
   "outputs": [
    {
     "data": {
      "text/plain": [
       "10             1\n",
       "index label    a\n",
       "12             3\n",
       "dtype: object"
      ]
     },
     "execution_count": 140,
     "metadata": {},
     "output_type": "execute_result"
    }
   ],
   "source": [
    "\n",
    "s5 = pd.Series([1, 'a', 3], index=[10,'index label',12])\n",
    "s5"
   ]
  },
  {
   "cell_type": "code",
   "execution_count": 141,
   "id": "aca6d1c2",
   "metadata": {},
   "outputs": [
    {
     "data": {
      "text/plain": [
       "'a'"
      ]
     },
     "execution_count": 141,
     "metadata": {},
     "output_type": "execute_result"
    }
   ],
   "source": [
    "s5.loc['index label']    # force lookup by index label"
   ]
  },
  {
   "cell_type": "code",
   "execution_count": 142,
   "id": "4170f373",
   "metadata": {},
   "outputs": [
    {
     "data": {
      "text/plain": [
       "'a'"
      ]
     },
     "execution_count": 142,
     "metadata": {},
     "output_type": "execute_result"
    }
   ],
   "source": [
    "s5.iloc[1]    # forced lookup by location / position"
   ]
  },
  {
   "cell_type": "code",
   "execution_count": 143,
   "id": "86adfcbc",
   "metadata": {},
   "outputs": [
    {
     "data": {
      "text/plain": [
       "12    3\n",
       "10    1\n",
       "dtype: object"
      ]
     },
     "execution_count": 143,
     "metadata": {},
     "output_type": "execute_result"
    }
   ],
   "source": [
    "s5.loc[[12, 10]]   # multiple items by label (loc)"
   ]
  },
  {
   "cell_type": "code",
   "execution_count": 144,
   "id": "771276c6",
   "metadata": {},
   "outputs": [
    {
     "data": {
      "text/plain": [
       "10    1\n",
       "12    3\n",
       "dtype: object"
      ]
     },
     "execution_count": 144,
     "metadata": {},
     "output_type": "execute_result"
    }
   ],
   "source": [
    "s5.iloc[[0, 2]]   # multiple items by location / position (iloc)"
   ]
  },
  {
   "cell_type": "code",
   "execution_count": 145,
   "id": "ae6dac59",
   "metadata": {},
   "outputs": [
    {
     "data": {
      "text/plain": [
       "b    replaced\n",
       "c    replaced\n",
       "x       apple\n",
       "y        True\n",
       "z       hello\n",
       "dtype: object"
      ]
     },
     "execution_count": 145,
     "metadata": {},
     "output_type": "execute_result"
    }
   ],
   "source": [
    "myvar[:'d'] = \"replaced\"\n",
    "myvar"
   ]
  },
  {
   "cell_type": "code",
   "execution_count": 146,
   "id": "d5551f78",
   "metadata": {},
   "outputs": [
    {
     "data": {
      "text/plain": [
       "b    replaced\n",
       "c    replaced\n",
       "x       apple\n",
       "y        True\n",
       "z       hello\n",
       "d         NaN\n",
       "dtype: object"
      ]
     },
     "execution_count": 146,
     "metadata": {},
     "output_type": "execute_result"
    }
   ],
   "source": [
    "myvar['d'] = np.nan      # adding new value (NaN) and index to a series\n",
    "myvar"
   ]
  },
  {
   "cell_type": "code",
   "execution_count": 147,
   "id": "a7315afc",
   "metadata": {},
   "outputs": [
    {
     "data": {
      "text/plain": [
       "0    1\n",
       "2    3\n",
       "4    5\n",
       "6    7\n",
       "8    9\n",
       "dtype: int64"
      ]
     },
     "execution_count": 147,
     "metadata": {},
     "output_type": "execute_result"
    }
   ],
   "source": [
    "s_dummy = pd.Series([1,2,3,4,5,6,7,8,9,10])\n",
    "s_dummy.loc[0::2]   # we can do slicing with loc[] too"
   ]
  },
  {
   "cell_type": "code",
   "execution_count": 148,
   "id": "3a17383e",
   "metadata": {},
   "outputs": [
    {
     "data": {
      "text/plain": [
       "0    1\n",
       "2    3\n",
       "4    5\n",
       "dtype: int64"
      ]
     },
     "execution_count": 148,
     "metadata": {},
     "output_type": "execute_result"
    }
   ],
   "source": [
    "s_dummy.iloc[:6:2]   # we can do slicing with iloc[] too"
   ]
  },
  {
   "cell_type": "markdown",
   "id": "48b5af48",
   "metadata": {},
   "source": [
    "### <div class= \"alert alert-danger\"> Automatic alignment\n",
    "\n",
    "A fundamental difference between a NumPy ndarray and a pandas Series is the ability of a Series to automatically align data from another Series based on label values before performing an operation.    "
   ]
  },
  {
   "cell_type": "code",
   "execution_count": 149,
   "id": "46f4f487",
   "metadata": {},
   "outputs": [
    {
     "name": "stdout",
     "output_type": "stream",
     "text": [
      "sa1:\n",
      "\n",
      "a    1\n",
      "b    2\n",
      "c    3\n",
      "d    4\n",
      "dtype: int64\n",
      "sa2:\n",
      "\n",
      "d    4\n",
      "c    3\n",
      "b    2\n",
      "a    1\n",
      "dtype: int64\n"
     ]
    }
   ],
   "source": [
    "sa1 = pd.Series([1, 2, 3, 4], index=['a', 'b', 'c', 'd'])\n",
    "sa2 = pd.Series([4, 3, 2, 1], index=['d', 'c', 'b', 'a'])\n",
    "print(\"sa1:\\n\")\n",
    "print(sa1)\n",
    "print(\"sa2:\\n\")\n",
    "print(sa2)"
   ]
  },
  {
   "cell_type": "code",
   "execution_count": 150,
   "id": "081b6c18",
   "metadata": {},
   "outputs": [
    {
     "data": {
      "text/plain": [
       "a    2\n",
       "b    4\n",
       "c    6\n",
       "d    8\n",
       "dtype: int64"
      ]
     },
     "execution_count": 150,
     "metadata": {},
     "output_type": "execute_result"
    }
   ],
   "source": [
    "sa1 + sa2"
   ]
  },
  {
   "cell_type": "markdown",
   "id": "d208a3cc",
   "metadata": {},
   "source": [
    "The process of adding two Series objects differs from the process of addition of arrays as it first aligns data based on index label values instead of simply applying the operation to elements in the same position. This becomes significantly powerful\n",
    "when using pandas Series to combine data based on labels instead of having to first order the data manually.\n",
    "\n",
    "Also worth noting is the order of the items in the index resulting from the addition. The two Series in the addition had the same labels but were ordered differently. The index in the result is arranged in ascending order."
   ]
  },
  {
   "cell_type": "markdown",
   "id": "1b58e7f8",
   "metadata": {},
   "source": [
    "### <div class= \"alert alert-danger\"> Arithematic operations"
   ]
  },
  {
   "cell_type": "markdown",
   "id": "8d93ae3d",
   "metadata": {},
   "source": [
    "Arithmetic operations (+, -, /, *, and so on) can be applied either to a Series or between two Series objects. When applied to a single Series, the operation is applied to all of the values in that Series (Vectorize operation). The following code demonstrates arithmetic operations applied to a Series object by multiplying the values in\n",
    "b_series by 2."
   ]
  },
  {
   "cell_type": "markdown",
   "id": "b4d1fbaf",
   "metadata": {},
   "source": [
    "#### <ins> Multiplying a series by a number series</ins> "
   ]
  },
  {
   "cell_type": "code",
   "execution_count": 151,
   "id": "7103746b",
   "metadata": {},
   "outputs": [
    {
     "data": {
      "text/plain": [
       "0    2\n",
       "1    4\n",
       "2    6\n",
       "3    8\n",
       "dtype: int64"
      ]
     },
     "execution_count": 151,
     "metadata": {},
     "output_type": "execute_result"
    }
   ],
   "source": [
    "b_series *2"
   ]
  },
  {
   "cell_type": "code",
   "execution_count": 152,
   "id": "01da7dd5",
   "metadata": {},
   "outputs": [
    {
     "data": {
      "text/plain": [
       "a    2\n",
       "b    4\n",
       "c    6\n",
       "dtype: int64"
      ]
     },
     "execution_count": 152,
     "metadata": {},
     "output_type": "execute_result"
    }
   ],
   "source": [
    "s = pd.Series([1, 2, 3], index=['a', 'b', 'c'])\n",
    "\n",
    "# scalar series using s3's index\n",
    "\n",
    "t = pd.Series(2, s.index)\n",
    "s * t               "
   ]
  },
  {
   "cell_type": "markdown",
   "id": "795472b6",
   "metadata": {},
   "source": [
    "To reinforce the point that alignment is being performed when applying arithmetic operations across two Series objects, look at the following two Series as examples:"
   ]
  },
  {
   "cell_type": "markdown",
   "id": "4d33e613",
   "metadata": {},
   "source": [
    "####  <ins> Adding two series</ins> "
   ]
  },
  {
   "cell_type": "markdown",
   "id": "1da454ef",
   "metadata": {},
   "source": [
    "<b> 1. No matching labels: </b>"
   ]
  },
  {
   "cell_type": "code",
   "execution_count": 153,
   "id": "2a0b147d",
   "metadata": {},
   "outputs": [
    {
     "name": "stdout",
     "output_type": "stream",
     "text": [
      "s1: \n",
      "\n",
      "one      1\n",
      "two      2\n",
      "three    3\n",
      "four     4\n",
      "dtype: int64\n",
      " \n",
      "\n",
      "s2: \n",
      "\n",
      "apples     22\n",
      "oranges    33\n",
      "bananas    44\n",
      "gauvas     55\n",
      "dtype: int64\n"
     ]
    }
   ],
   "source": [
    "s1 = pd.Series([1,2,3,4], index = ['one','two','three','four'])\n",
    "s2 = pd.Series([22,33,44,55], index = ['apples','oranges','bananas','gauvas'])\n",
    "print(\"s1: \\n\")\n",
    "print(s1)\n",
    "print(\" \\n\")\n",
    "print(\"s2: \\n\")\n",
    "print(s2)"
   ]
  },
  {
   "cell_type": "code",
   "execution_count": 154,
   "id": "484c5e57",
   "metadata": {},
   "outputs": [
    {
     "data": {
      "text/plain": [
       "apples    NaN\n",
       "bananas   NaN\n",
       "four      NaN\n",
       "gauvas    NaN\n",
       "one       NaN\n",
       "oranges   NaN\n",
       "three     NaN\n",
       "two       NaN\n",
       "dtype: float64"
      ]
     },
     "execution_count": 154,
     "metadata": {},
     "output_type": "execute_result"
    }
   ],
   "source": [
    "s = s1 + s2  # datatype of NaN i shown fload because Python default data type is float\n",
    "s"
   ]
  },
  {
   "cell_type": "markdown",
   "id": "e9571621",
   "metadata": {},
   "source": [
    "The NaN value is, by default the result of any pandas arithmetic operation where an index label does not align with the other Series."
   ]
  },
  {
   "attachments": {
    "alignmeny.png": {
     "image/png": "[encoded data removed]"
    }
   },
   "cell_type": "markdown",
   "id": "c8a7278d",
   "metadata": {},
   "source": [
    "<div class= \"alert alert-warning\"> NaN: not a number\n",
    "\n",
    "Two series are added only when their labels are same if not they gives us Nan. to understant why Nan we must cover \"Automatic alignment of values\" described in the figure below:\n",
    "    \n",
    "![alignmeny.png](attachment:alignmeny.png)    \n",
    " \n",
    "    \n",
    "\n",
    "- NaN + NaN = NaN\n",
    "    \n",
    "- NaN + number = NaN    \n",
    "    \n",
    "- number + NaN = NaN    \n",
    "    \n",
    "- Alignment works even when labels are not equal.\n",
    "\n",
    "- Alignment is not done for a label that present in both series \n",
    "    \n",
    "- Alignment is the reason why we use series and dataframes for data analysis and not arrays"
   ]
  },
  {
   "cell_type": "markdown",
   "id": "ff988d87",
   "metadata": {},
   "source": [
    "The matching of labels and returning NaN where there are no matches is essential to how pandas operates as compared to arrays in NumPy. The tasks performed with pandas using Series (and DataFrame) objects are often such that multiple sets of data need to be aligned, and if there are no matching labels during alignment, then the operation should not fail. Hence, pandas returns NaN in those situations. \n",
    "\n",
    "This is actually common as datasets used in various statistical, financial, and data science domains often are incomplete, and more graceful techniques are required than to throw exceptions. pandas makes the assumption to return NaN in these cases. To facilitate handling of the NaN values in data and as the result of alignment, pandas changes the way that operations handle NaN by default."
   ]
  },
  {
   "cell_type": "markdown",
   "id": "78131645",
   "metadata": {},
   "source": [
    "<b> 2. some matching labels: </b>"
   ]
  },
  {
   "cell_type": "code",
   "execution_count": 155,
   "id": "caa44883",
   "metadata": {},
   "outputs": [
    {
     "data": {
      "text/plain": [
       "apples    1\n",
       "one       2\n",
       "two       3\n",
       "three     4\n",
       "four      5\n",
       "dtype: int64"
      ]
     },
     "execution_count": 155,
     "metadata": {},
     "output_type": "execute_result"
    }
   ],
   "source": [
    "s3 = pd.Series([1,2,3,4,5], index = ['apples','one','two','three','four'])\n",
    "s3"
   ]
  },
  {
   "cell_type": "code",
   "execution_count": 156,
   "id": "c7b02044",
   "metadata": {},
   "outputs": [
    {
     "data": {
      "text/plain": [
       "apples     23.0\n",
       "bananas     NaN\n",
       "four        NaN\n",
       "gauvas      NaN\n",
       "one         NaN\n",
       "oranges     NaN\n",
       "three       NaN\n",
       "two         NaN\n",
       "dtype: float64"
      ]
     },
     "execution_count": 156,
     "metadata": {},
     "output_type": "execute_result"
    }
   ],
   "source": [
    "s2 + s3          # i think index after s2+s3 are arranged in alphabetic order when some index matches \n",
    "\n",
    "#reset index function can help us reset indecis acording to our ease "
   ]
  },
  {
   "cell_type": "markdown",
   "id": "d95c5360",
   "metadata": {},
   "source": [
    "<b> 2. repeated labels: </b>"
   ]
  },
  {
   "cell_type": "markdown",
   "id": "89f59ded",
   "metadata": {},
   "source": [
    "The last example of alignment during arithmetical operations demonstrates the situation where the two Series objects have duplicate index labels. The following two Series objects each have two 'a' labels:"
   ]
  },
  {
   "cell_type": "code",
   "execution_count": 157,
   "id": "4e2428b4",
   "metadata": {},
   "outputs": [
    {
     "name": "stdout",
     "output_type": "stream",
     "text": [
      "s4: \n",
      "\n",
      "a    1.0\n",
      "a    2.0\n",
      "b    3.0\n",
      "dtype: float64\n",
      " \n",
      "\n",
      "s5: \n",
      "\n",
      "a    4.0\n",
      "a    5.0\n",
      "c    6.0\n",
      "dtype: float64\n"
     ]
    }
   ],
   "source": [
    "s4 = pd.Series([1.0, 2.0, 3.0], index=['a', 'a', 'b'])\n",
    "s5 = pd.Series([4.0, 5.0, 6.0], index=['a', 'a', 'c'])\n",
    "print(\"s4: \\n\")\n",
    "print(s4)\n",
    "print(\" \\n\")\n",
    "print(\"s5: \\n\")\n",
    "print(s5)"
   ]
  },
  {
   "cell_type": "code",
   "execution_count": 158,
   "id": "7ff8d1ee",
   "metadata": {},
   "outputs": [
    {
     "data": {
      "text/plain": [
       "a    5.0\n",
       "a    6.0\n",
       "a    6.0\n",
       "a    7.0\n",
       "b    NaN\n",
       "c    NaN\n",
       "dtype: float64"
      ]
     },
     "execution_count": 158,
     "metadata": {},
     "output_type": "execute_result"
    }
   ],
   "source": [
    "s4 + s5"
   ]
  },
  {
   "cell_type": "markdown",
   "id": "58b5f77e",
   "metadata": {},
   "source": [
    "The reason for this is that during alignment, pandas actually performs a Cartesian product of the sets of all unique index labels in both Series objects, and then applies the specified operation on all items in the products. To explain why there are four 'a' index values, s4 contains two 'a' labels, and s5 also contains two 'a' labels. Every combination of 'a' labels in each will be calculated, resulting in four 'a' labels. There is one 'b' label from s4 and one 'c' label from s5. Since there is no\n",
    "matching label for either in the other Series object, they only result in a single row in the resulting Series object. Each combination of values for 'a' in both Series are computed, resulting in the four values: 1+4, 1+5, 2+4 and 2+5.\n",
    "\n",
    "So, remember that an index can have duplicate labels, and during alignment this will\n",
    "result in a number of index labels equivalent to the products of the number of the\n",
    "labels in each Series."
   ]
  },
  {
   "cell_type": "markdown",
   "id": "7707a342",
   "metadata": {},
   "source": [
    "### <div class= \"alert alert-danger\"> Size, shape, uniqueness, and counts of values in a series"
   ]
  },
  {
   "cell_type": "code",
   "execution_count": 159,
   "id": "6c29ad95",
   "metadata": {},
   "outputs": [
    {
     "data": {
      "text/plain": [
       "0    0.0\n",
       "1    1.0\n",
       "2    1.0\n",
       "3    2.0\n",
       "4    3.0\n",
       "5    4.0\n",
       "6    5.0\n",
       "7    6.0\n",
       "8    7.0\n",
       "9    NaN\n",
       "dtype: float64"
      ]
     },
     "execution_count": 159,
     "metadata": {},
     "output_type": "execute_result"
    }
   ],
   "source": [
    "s = pd.Series([0, 1, 1, 2, 3, 4, 5, 6, 7, np.nan])\n",
    "s"
   ]
  },
  {
   "cell_type": "code",
   "execution_count": 160,
   "id": "421c48ad",
   "metadata": {},
   "outputs": [
    {
     "data": {
      "text/plain": [
       "10"
      ]
     },
     "execution_count": 160,
     "metadata": {},
     "output_type": "execute_result"
    }
   ],
   "source": [
    "len(s)             # length of series"
   ]
  },
  {
   "cell_type": "code",
   "execution_count": 161,
   "id": "f276455d",
   "metadata": {},
   "outputs": [
    {
     "data": {
      "text/plain": [
       "10"
      ]
     },
     "execution_count": 161,
     "metadata": {},
     "output_type": "execute_result"
    }
   ],
   "source": [
    "s.size           # we can also use size to find length of series\n",
    "\n",
    "# .size is also the # of items in the Series"
   ]
  },
  {
   "cell_type": "code",
   "execution_count": 162,
   "id": "57550a41",
   "metadata": {},
   "outputs": [
    {
     "data": {
      "text/plain": [
       "(10,)"
      ]
     },
     "execution_count": 162,
     "metadata": {},
     "output_type": "execute_result"
    }
   ],
   "source": [
    "s.shape         #.shape is a tuple with one value"
   ]
  },
  {
   "cell_type": "markdown",
   "id": "91ef6011",
   "metadata": {},
   "source": [
    "The number of the values that are not part of the NaN can be found by using the .count() method:"
   ]
  },
  {
   "cell_type": "code",
   "execution_count": 163,
   "id": "0cd3a173",
   "metadata": {},
   "outputs": [
    {
     "data": {
      "text/plain": [
       "9"
      ]
     },
     "execution_count": 163,
     "metadata": {},
     "output_type": "execute_result"
    }
   ],
   "source": [
    "s.count()      # count() returns the number of non-NaN values"
   ]
  },
  {
   "cell_type": "markdown",
   "id": "01222057",
   "metadata": {},
   "source": [
    "To determine all of the unique values in a Series, pandas provides the .unique() method:"
   ]
  },
  {
   "cell_type": "code",
   "execution_count": 164,
   "id": "4beb5c47",
   "metadata": {},
   "outputs": [
    {
     "data": {
      "text/plain": [
       "array([ 0.,  1.,  2.,  3.,  4.,  5.,  6.,  7., nan])"
      ]
     },
     "execution_count": 164,
     "metadata": {},
     "output_type": "execute_result"
    }
   ],
   "source": [
    "s.unique()"
   ]
  },
  {
   "cell_type": "code",
   "execution_count": 165,
   "id": "6f8ac241",
   "metadata": {},
   "outputs": [
    {
     "data": {
      "text/plain": [
       "1.0    2\n",
       "0.0    1\n",
       "2.0    1\n",
       "3.0    1\n",
       "4.0    1\n",
       "5.0    1\n",
       "6.0    1\n",
       "7.0    1\n",
       "dtype: int64"
      ]
     },
     "execution_count": 165,
     "metadata": {},
     "output_type": "execute_result"
    }
   ],
   "source": [
    "s.value_counts()     # count of non-NaN values, returned max to min order"
   ]
  },
  {
   "cell_type": "markdown",
   "id": "1227477d",
   "metadata": {},
   "source": [
    "Also, the count of each of the unique items in a Series can be obtained using .value_counts():"
   ]
  },
  {
   "cell_type": "markdown",
   "id": "a6b30406",
   "metadata": {},
   "source": [
    "### <div class= \"alert alert-danger\">Peeking at data (heads, tails, and take)"
   ]
  },
  {
   "cell_type": "markdown",
   "id": "09d9ee6d",
   "metadata": {},
   "source": [
    "pandas provides the .head() and .tail() methods to examine just the first few, or last, records in a Series. By default, these return the first or last five rows,\n",
    "respectively, but you can use the n parameter or just pass an integer to specify the number of rows:"
   ]
  },
  {
   "cell_type": "code",
   "execution_count": 166,
   "id": "595240b7",
   "metadata": {},
   "outputs": [
    {
     "data": {
      "text/plain": [
       "0    0.0\n",
       "1    1.0\n",
       "2    1.0\n",
       "3    2.0\n",
       "4    3.0\n",
       "dtype: float64"
      ]
     },
     "execution_count": 166,
     "metadata": {},
     "output_type": "execute_result"
    }
   ],
   "source": [
    "s.head()   # first five"
   ]
  },
  {
   "cell_type": "code",
   "execution_count": 167,
   "id": "1bdcdc5c",
   "metadata": {},
   "outputs": [
    {
     "data": {
      "text/plain": [
       "0    0.0\n",
       "1    1.0\n",
       "2    1.0\n",
       "dtype: float64"
      ]
     },
     "execution_count": 167,
     "metadata": {},
     "output_type": "execute_result"
    }
   ],
   "source": [
    "# first three\n",
    "s.head(n = 3) # s.head(3) is equivalent"
   ]
  },
  {
   "cell_type": "code",
   "execution_count": 168,
   "id": "c9ec86c9",
   "metadata": {},
   "outputs": [
    {
     "data": {
      "text/plain": [
       "5    4.0\n",
       "6    5.0\n",
       "7    6.0\n",
       "8    7.0\n",
       "9    NaN\n",
       "dtype: float64"
      ]
     },
     "execution_count": 168,
     "metadata": {},
     "output_type": "execute_result"
    }
   ],
   "source": [
    "# last five\n",
    "s.tail()"
   ]
  },
  {
   "cell_type": "code",
   "execution_count": 169,
   "id": "7a6f2646",
   "metadata": {},
   "outputs": [
    {
     "data": {
      "text/plain": [
       "7    6.0\n",
       "8    7.0\n",
       "9    NaN\n",
       "dtype: float64"
      ]
     },
     "execution_count": 169,
     "metadata": {},
     "output_type": "execute_result"
    }
   ],
   "source": [
    "# last 3\n",
    "s.tail(n = 3) # equivalent to s.tail(3)"
   ]
  },
  {
   "cell_type": "markdown",
   "id": "4d3c6627",
   "metadata": {},
   "source": [
    "The .take() method will return the rows in a series that correspond to the zero-based positions specified in a list:"
   ]
  },
  {
   "cell_type": "code",
   "execution_count": 170,
   "id": "91145c05",
   "metadata": {},
   "outputs": [
    {
     "data": {
      "text/plain": [
       "0    0.0\n",
       "3    2.0\n",
       "9    NaN\n",
       "dtype: float64"
      ]
     },
     "execution_count": 170,
     "metadata": {},
     "output_type": "execute_result"
    }
   ],
   "source": [
    "# only take specific items\n",
    "s.take([0, 3, 9])"
   ]
  },
  {
   "cell_type": "markdown",
   "id": "9374b3a5",
   "metadata": {},
   "source": [
    "### <div class= \"alert alert-danger\"> Boolean selection\n",
    "    \n",
    "Items in a Series can be selected, based on the value instead of index labels, via the utilization of a Boolean selection. A Boolean selection applies a logical expression to the values of the Series and returns a new Series of Boolean values representing the result for each value. \n",
    "    \n",
    "The following code demonstrates identifying items in a Series where the values are greater than 5    "
   ]
  },
  {
   "cell_type": "code",
   "execution_count": 171,
   "id": "66ea7bf4",
   "metadata": {},
   "outputs": [
    {
     "data": {
      "text/plain": [
       "0    0\n",
       "1    1\n",
       "2    2\n",
       "3    3\n",
       "4    4\n",
       "5    5\n",
       "6    6\n",
       "7    7\n",
       "8    8\n",
       "9    9\n",
       "dtype: int32"
      ]
     },
     "execution_count": 171,
     "metadata": {},
     "output_type": "execute_result"
    }
   ],
   "source": [
    "sb = pd.Series(np.arange(0, 10))\n",
    "sb"
   ]
  },
  {
   "cell_type": "code",
   "execution_count": 172,
   "id": "ad1c0b37",
   "metadata": {},
   "outputs": [
    {
     "data": {
      "text/plain": [
       "0    False\n",
       "1    False\n",
       "2    False\n",
       "3    False\n",
       "4    False\n",
       "5    False\n",
       "6     True\n",
       "7     True\n",
       "8     True\n",
       "9     True\n",
       "dtype: bool"
      ]
     },
     "execution_count": 172,
     "metadata": {},
     "output_type": "execute_result"
    }
   ],
   "source": [
    "sb > 5                             # which rows have values that are > 5?"
   ]
  },
  {
   "cell_type": "markdown",
   "id": "98c04e1c",
   "metadata": {},
   "source": [
    "To obtain the rows in the Series where the logical expression is True, simply pass the result of the Boolean expression to the [ ] operator of the Series. The result will be a new Series with a copy of index and value for the selected rows:"
   ]
  },
  {
   "cell_type": "code",
   "execution_count": 173,
   "id": "dbb3b6a5",
   "metadata": {},
   "outputs": [
    {
     "data": {
      "text/plain": [
       "6    6\n",
       "7    7\n",
       "8    8\n",
       "9    9\n",
       "dtype: int32"
      ]
     },
     "execution_count": 173,
     "metadata": {},
     "output_type": "execute_result"
    }
   ],
   "source": [
    "sb[sb > 5]    # select rows where values are > 5 "
   ]
  },
  {
   "cell_type": "markdown",
   "id": "444fc07f",
   "metadata": {},
   "source": [
    "pandas performs this Boolean selection by overloading the Series object's [ ] operator so that when passed a Series object consisting of boolean values it knows to return only the values in the outer Series (in this cases sb) where the labels in the\n",
    "Series object are passed to a [ ] operator have True values. This turns out to be very valuable and efficient in expressing\n",
    "many types of data analysis algorithms, and very convenient for extracting subsets of data based on its contents.\n",
    "\n",
    "Unfortunately, multiple logical operators cannot be used in a normal Python syntax. As an example,<b> sb[sb > 5 and sb < 8] </b>\n",
    "    causes an exception to be thrown\n",
    "\n",
    "There are technical reasons for why the preceding code does not work. The solution\n",
    "is to express the equation differently, putting parentheses around each of the logical\n",
    "conditions and using different operators for and/or ('|' and '&').    "
   ]
  },
  {
   "cell_type": "code",
   "execution_count": 174,
   "id": "a70aab25",
   "metadata": {},
   "outputs": [
    {
     "data": {
      "text/plain": [
       "6    6\n",
       "7    7\n",
       "dtype: int32"
      ]
     },
     "execution_count": 174,
     "metadata": {},
     "output_type": "execute_result"
    }
   ],
   "source": [
    "sb[(sb > 5) & (sb < 8)]"
   ]
  },
  {
   "cell_type": "markdown",
   "id": "3e032211",
   "metadata": {},
   "source": [
    "It is possible to determine whether all the values in a Series match a given expression using the .all() method. The following asks if all elements in the series are greater than or equal to 0:"
   ]
  },
  {
   "cell_type": "code",
   "execution_count": 175,
   "id": "cb93d9d6",
   "metadata": {},
   "outputs": [
    {
     "data": {
      "text/plain": [
       "True"
      ]
     },
     "execution_count": 175,
     "metadata": {},
     "output_type": "execute_result"
    }
   ],
   "source": [
    "(sb >= 0).all() # are all items >= 0?"
   ]
  },
  {
   "cell_type": "markdown",
   "id": "c4cde123",
   "metadata": {},
   "source": [
    "The .any() method returns True if any values satisfy the expressions. The following asks if any elements are less than 2:"
   ]
  },
  {
   "cell_type": "code",
   "execution_count": 176,
   "id": "0460edd2",
   "metadata": {},
   "outputs": [
    {
     "data": {
      "text/plain": [
       "True"
      ]
     },
     "execution_count": 176,
     "metadata": {},
     "output_type": "execute_result"
    }
   ],
   "source": [
    "s[s < 2].any()  # any items < 2?"
   ]
  },
  {
   "cell_type": "markdown",
   "id": "3c1c4c02",
   "metadata": {},
   "source": [
    "There is something important going on here that is worth mentioning. The result of these logical expressions is a Boolean selection, a Series of True and False values. The .sum() method of a Series, when given a series of Boolean values, will treat\n",
    "True as 1 and False as 0. The following demonstrates using this to determine the number of items in a Series that satisfy a given expression:"
   ]
  },
  {
   "cell_type": "code",
   "execution_count": 177,
   "id": "2d099ebf",
   "metadata": {},
   "outputs": [
    {
     "data": {
      "text/plain": [
       "2"
      ]
     },
     "execution_count": 177,
     "metadata": {},
     "output_type": "execute_result"
    }
   ],
   "source": [
    "(sb < 2).sum()     # how many values < 2?"
   ]
  },
  {
   "cell_type": "markdown",
   "id": "79b94d40",
   "metadata": {},
   "source": [
    "### <div class= \"alert alert-danger\"> Reindexing a series"
   ]
  },
  {
   "cell_type": "markdown",
   "id": "04598202",
   "metadata": {},
   "source": [
    "Reindexing in pandas is a process that makes the data in a Series or DataFrame match a given set of labels. This is core to the functionality of pandas as it enables label alignment across multiple objects, which may originally have different indexing schemes.\n",
    "\n",
    "This process of performing a reindex includes the following steps:\n",
    "1. Reordering existing data to match a set of labels.\n",
    "2. Inserting NaN markers where no data exists for a label.\n",
    "3. Possibly, filling missing data for a label using some type of logic (defaulting to adding NaN values).\n",
    "\n",
    "The following Series has an index with numerical values, and the index is modified to be alphabetic by simply assigning a list of characters to the .index property. This makes the values accessible via the character labels in the new index:"
   ]
  },
  {
   "cell_type": "code",
   "execution_count": 178,
   "id": "9ab24d45",
   "metadata": {},
   "outputs": [
    {
     "data": {
      "text/plain": [
       "0    1.212112\n",
       "1   -0.173215\n",
       "2    0.119209\n",
       "3   -1.044236\n",
       "4   -0.861849\n",
       "dtype: float64"
      ]
     },
     "execution_count": 178,
     "metadata": {},
     "output_type": "execute_result"
    }
   ],
   "source": [
    "s = pd.Series(np.random.randn(5))           # generating random numbers between 0 - 5\n",
    "s"
   ]
  },
  {
   "cell_type": "code",
   "execution_count": 179,
   "id": "66bc2028",
   "metadata": {},
   "outputs": [
    {
     "data": {
      "text/plain": [
       "a    1.212112\n",
       "b   -0.173215\n",
       "c    0.119209\n",
       "d   -1.044236\n",
       "e   -0.861849\n",
       "dtype: float64"
      ]
     },
     "execution_count": 179,
     "metadata": {},
     "output_type": "execute_result"
    }
   ],
   "source": [
    "s.index = ['a', 'b', 'c', 'd', 'e']\n",
    "s"
   ]
  },
  {
   "cell_type": "markdown",
   "id": "91e709e2",
   "metadata": {},
   "source": [
    "let's examine a slightly more practical example. The following code concatenates two Series objects resulting in duplicate index labels, which may not be desired in the resulting Series:"
   ]
  },
  {
   "cell_type": "code",
   "execution_count": 180,
   "id": "b3927bdc",
   "metadata": {},
   "outputs": [
    {
     "data": {
      "text/plain": [
       "0    0.469112\n",
       "1   -0.282863\n",
       "2   -1.509059\n",
       "0   -1.135632\n",
       "1    1.212112\n",
       "2   -0.173215\n",
       "dtype: float64"
      ]
     },
     "execution_count": 180,
     "metadata": {},
     "output_type": "execute_result"
    }
   ],
   "source": [
    "# concat copies index values verbatim,\n",
    "# potentially making duplicates\n",
    "np.random.seed(123456)\n",
    "s1 = pd.Series(np.random.randn(3))\n",
    "s2 = pd.Series(np.random.randn(3))\n",
    "combined = pd.concat([s1, s2])\n",
    "combined"
   ]
  },
  {
   "cell_type": "markdown",
   "id": "be4ebd3f",
   "metadata": {},
   "source": [
    "To fix this, the following creates a new index for the concatenated result which has sequential and distinct values."
   ]
  },
  {
   "cell_type": "code",
   "execution_count": 181,
   "id": "6c4c8434",
   "metadata": {},
   "outputs": [
    {
     "data": {
      "text/plain": [
       "0    0.469112\n",
       "1   -0.282863\n",
       "2   -1.509059\n",
       "3   -1.135632\n",
       "4    1.212112\n",
       "5   -0.173215\n",
       "dtype: float64"
      ]
     },
     "execution_count": 181,
     "metadata": {},
     "output_type": "execute_result"
    }
   ],
   "source": [
    "combined.index = np.arange(0, len(combined))\n",
    "combined"
   ]
  },
  {
   "cell_type": "markdown",
   "id": "bded1152",
   "metadata": {},
   "source": [
    "Greater flexibility in creating a new index is provided using the .reindex() method. An example of the flexibility of .reindex() over assigning the .index property directly is that the list provided to <span style = \"color:red\">.reindex()</span> can be of a different length than the number of rows in the Series:"
   ]
  },
  {
   "cell_type": "code",
   "execution_count": 182,
   "id": "e4993589",
   "metadata": {},
   "outputs": [
    {
     "data": {
      "text/plain": [
       "a    0.469112\n",
       "c   -1.509059\n",
       "g         NaN\n",
       "dtype: float64"
      ]
     },
     "execution_count": 182,
     "metadata": {},
     "output_type": "execute_result"
    }
   ],
   "source": [
    "np.random.seed(123456)\n",
    "s1 = pd.Series(np.random.randn(4), ['a', 'b', 'c', 'd'])\n",
    "# reindex with different number of labels\n",
    "# results in dropped rows and/or NaN's\n",
    "s2 = s1.reindex(['a', 'c', 'g'])\n",
    "s2"
   ]
  },
  {
   "cell_type": "markdown",
   "id": "17968b3f",
   "metadata": {},
   "source": [
    "There are several things here that are important to point out about .reindex():\n",
    "1. The result of a .reindex() method is a new Series. This new Series has an index with labels that are provided as the parameter to .reindex(). \n",
    "2. For each item in the given parameter list, if the original Series contains that label, then the value is assigned to that label. If the label does not exist in the original Series, pandas assigns a NaN value.\n",
    "3. Rows in the Series without a label specified in the parameter of .reindex() is not included in the result.\n",
    "\n",
    "To demonstrate that the result of .reindex() is a new Series object, changing a value in s2 does not change the values in s1:"
   ]
  },
  {
   "cell_type": "code",
   "execution_count": 183,
   "id": "a8b45d95",
   "metadata": {},
   "outputs": [
    {
     "data": {
      "text/plain": [
       "a    0.000000\n",
       "c   -1.509059\n",
       "g         NaN\n",
       "dtype: float64"
      ]
     },
     "execution_count": 183,
     "metadata": {},
     "output_type": "execute_result"
    }
   ],
   "source": [
    "# s2 is a different Series than s1\n",
    "s2['a'] = 0\n",
    "s2"
   ]
  },
  {
   "cell_type": "code",
   "execution_count": 184,
   "id": "022bd5e5",
   "metadata": {},
   "outputs": [
    {
     "data": {
      "text/plain": [
       "a    0.469112\n",
       "b   -0.282863\n",
       "c   -1.509059\n",
       "d   -1.135632\n",
       "dtype: float64"
      ]
     },
     "execution_count": 184,
     "metadata": {},
     "output_type": "execute_result"
    }
   ],
   "source": [
    "# this did not modify s1\n",
    "s1"
   ]
  },
  {
   "cell_type": "markdown",
   "id": "92e59597",
   "metadata": {},
   "source": [
    "Reindexing is also useful when you want to align two Series to perform an operation on matching elements from each series; however, for some reason, the two Series had index labels that will not initially align. \n",
    "\n",
    "The following example demonstrates this, where the first Series has indexes as sequential integers, but the second has a string representation of what would be\n",
    "the same values:"
   ]
  },
  {
   "cell_type": "code",
   "execution_count": 185,
   "id": "500594c7",
   "metadata": {},
   "outputs": [
    {
     "data": {
      "text/plain": [
       "0   NaN\n",
       "1   NaN\n",
       "2   NaN\n",
       "0   NaN\n",
       "1   NaN\n",
       "2   NaN\n",
       "dtype: float64"
      ]
     },
     "execution_count": 185,
     "metadata": {},
     "output_type": "execute_result"
    }
   ],
   "source": [
    "# different types for the same values of labels\n",
    "# causes big trouble\n",
    "s1 = pd.Series([0, 1, 2], index=[0, 1, 2])\n",
    "s2 = pd.Series([3, 4, 5], index=['0', '1', '2'])\n",
    "s1 + s2"
   ]
  },
  {
   "cell_type": "markdown",
   "id": "1a6c3396",
   "metadata": {},
   "source": [
    "This is almost a catastrophic failure in accomplishing the desired result, and exemplifies a scenario where data may have been retrieved from two different systems that used different representations for the index labels. The reasons why this happens in pandas are as follows:\n",
    "\n",
    "1. pandas first tries to align by the indexes and finds no matches, so it copies the index labels from the first series and tries to append the indexes from the second series.\n",
    "\n",
    "2. However, since they are a different type, it defaults back to a zero-based integer sequence that results in duplicate values. \n",
    "\n",
    "3. Finally, all values are NaN because the operation tries to add the item in the first series with the integer label 0, which has a value of 0, but can't find the item in the other series and therefore, the result is NaN (and this fails six times in this case).\n",
    "\n",
    "Once this situation is identified, it becomes a fairly trivial situation to fix by reindexing the second series:"
   ]
  },
  {
   "cell_type": "code",
   "execution_count": 186,
   "id": "1f527faa",
   "metadata": {},
   "outputs": [
    {
     "data": {
      "text/plain": [
       "0    3\n",
       "1    5\n",
       "2    7\n",
       "dtype: int64"
      ]
     },
     "execution_count": 186,
     "metadata": {},
     "output_type": "execute_result"
    }
   ],
   "source": [
    "# reindex by casting the label types\n",
    "# and we will get the desired result\n",
    "s2.index = s2.index.values.astype(int)\n",
    "s1 + s2"
   ]
  },
  {
   "cell_type": "markdown",
   "id": "3cf893e3",
   "metadata": {},
   "source": [
    "The default action of inserting NaN as a missing value during reindexing can be changed by using the <span style = \"color:green\"> fill_value </span>parameter of the method.\n",
    "The following example demonstrates using 0 instead of NaN:"
   ]
  },
  {
   "cell_type": "code",
   "execution_count": 187,
   "id": "0d05aaa5",
   "metadata": {},
   "outputs": [
    {
     "data": {
      "text/plain": [
       "a    1.212112\n",
       "f    0.000000\n",
       "dtype: float64"
      ]
     },
     "execution_count": 187,
     "metadata": {},
     "output_type": "execute_result"
    }
   ],
   "source": [
    "# fill with 0 instead of NaN\n",
    "s2 = s.copy()\n",
    "s.reindex(['a', 'f'], fill_value=0)"
   ]
  },
  {
   "cell_type": "markdown",
   "id": "f5ad78ae",
   "metadata": {},
   "source": [
    "<div class= \"alert alert-warning\">  Reset_index()"
   ]
  },
  {
   "cell_type": "code",
   "execution_count": 191,
   "id": "acb1540e",
   "metadata": {},
   "outputs": [
    {
     "data": {
      "text/plain": [
       "0    0.469112\n",
       "1   -0.282863\n",
       "2   -1.509059\n",
       "0   -1.135632\n",
       "1    1.212112\n",
       "2   -0.173215\n",
       "dtype: float64"
      ]
     },
     "execution_count": 191,
     "metadata": {},
     "output_type": "execute_result"
    }
   ],
   "source": [
    "np.random.seed(123456)\n",
    "s1 = pd.Series(np.random.randn(3))\n",
    "s2 = pd.Series(np.random.randn(3))\n",
    "combined = pd.concat([s1, s2])\n",
    "combined"
   ]
  },
  {
   "cell_type": "code",
   "execution_count": 193,
   "id": "2ef06438",
   "metadata": {},
   "outputs": [
    {
     "data": {
      "text/html": [
       "<div>\n",
       "<style scoped>\n",
       "    .dataframe tbody tr th:only-of-type {\n",
       "        vertical-align: middle;\n",
       "    }\n",
       "\n",
       "    .dataframe tbody tr th {\n",
       "        vertical-align: top;\n",
       "    }\n",
       "\n",
       "    .dataframe thead th {\n",
       "        text-align: right;\n",
       "    }\n",
       "</style>\n",
       "<table border=\"1\" class=\"dataframe\">\n",
       "  <thead>\n",
       "    <tr style=\"text-align: right;\">\n",
       "      <th></th>\n",
       "      <th>index</th>\n",
       "      <th>0</th>\n",
       "    </tr>\n",
       "  </thead>\n",
       "  <tbody>\n",
       "    <tr>\n",
       "      <th>0</th>\n",
       "      <td>0</td>\n",
       "      <td>0.469112</td>\n",
       "    </tr>\n",
       "    <tr>\n",
       "      <th>1</th>\n",
       "      <td>1</td>\n",
       "      <td>-0.282863</td>\n",
       "    </tr>\n",
       "    <tr>\n",
       "      <th>2</th>\n",
       "      <td>2</td>\n",
       "      <td>-1.509059</td>\n",
       "    </tr>\n",
       "    <tr>\n",
       "      <th>3</th>\n",
       "      <td>0</td>\n",
       "      <td>-1.135632</td>\n",
       "    </tr>\n",
       "    <tr>\n",
       "      <th>4</th>\n",
       "      <td>1</td>\n",
       "      <td>1.212112</td>\n",
       "    </tr>\n",
       "    <tr>\n",
       "      <th>5</th>\n",
       "      <td>2</td>\n",
       "      <td>-0.173215</td>\n",
       "    </tr>\n",
       "  </tbody>\n",
       "</table>\n",
       "</div>"
      ],
      "text/plain": [
       "   index         0\n",
       "0      0  0.469112\n",
       "1      1 -0.282863\n",
       "2      2 -1.509059\n",
       "3      0 -1.135632\n",
       "4      1  1.212112\n",
       "5      2 -0.173215"
      ]
     },
     "execution_count": 193,
     "metadata": {},
     "output_type": "execute_result"
    }
   ],
   "source": [
    "combined.reset_index()"
   ]
  },
  {
   "cell_type": "markdown",
   "id": "3967beef",
   "metadata": {},
   "source": [
    "we have both indecis to drop the old index use drop=True parameter:"
   ]
  },
  {
   "cell_type": "code",
   "execution_count": 194,
   "id": "2366f954",
   "metadata": {},
   "outputs": [
    {
     "data": {
      "text/plain": [
       "0    0.469112\n",
       "1   -0.282863\n",
       "2   -1.509059\n",
       "3   -1.135632\n",
       "4    1.212112\n",
       "5   -0.173215\n",
       "dtype: float64"
      ]
     },
     "execution_count": 194,
     "metadata": {},
     "output_type": "execute_result"
    }
   ],
   "source": [
    "combined.reset_index(drop=True)"
   ]
  },
  {
   "cell_type": "code",
   "execution_count": 196,
   "id": "e5445aa1",
   "metadata": {},
   "outputs": [],
   "source": [
    "newCom = combined.copy()   # copy by value\n",
    "oldCom  = newCom   # copy by refernce "
   ]
  },
  {
   "cell_type": "markdown",
   "id": "99c09337",
   "metadata": {},
   "source": [
    "#### <div class= \"alert alert-info\"> Definations\n",
    "\n",
    "- Data science: \n",
    "\n",
    "branch of computer science where one study how to store, use and analyze data for deriving information from it.\n",
    "- hashable: \n",
    "\n",
    "Hashing is a concept in computer science which is used to create high performance, pseudo random access data structures where large amount of data is to be stored and accessed quickly. For example, if you have 10,000 phone numbers, and you want to store them in an array (which is a sequential data structure that stores data in contiguous memory locations, and provides random access), but you might not have the required amount of contiguous memory locations.\n",
    "So, you can instead use an array of size 100, and use a hash function to map a set of values to same indices, and these values can be stored in a linked list. This provides a performance similar to an array.\n",
    "Now, a hash function can be as simple as dividing the number with the size of the array and taking the remainder as the index.\n",
    "Anything that is not mutable (mutable means, likely to change) can be hashed"
   ]
  }
 ],
 "metadata": {
  "kernelspec": {
   "display_name": "Python 3 (ipykernel)",
   "language": "python",
   "name": "python3"
  },
  "language_info": {
   "codemirror_mode": {
    "name": "ipython",
    "version": 3
   },
   "file_extension": ".py",
   "mimetype": "text/x-python",
   "name": "python",
   "nbconvert_exporter": "python",
   "pygments_lexer": "ipython3",
   "version": "3.9.12"
  }
 },
 "nbformat": 4,
 "nbformat_minor": 5
}
