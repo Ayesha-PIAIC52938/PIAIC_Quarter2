{
 "cells": [
  {
   "cell_type": "code",
   "execution_count": 1,
   "id": "453bde63",
   "metadata": {},
   "outputs": [],
   "source": [
    "import pandas as pd\n",
    "import numpy as np"
   ]
  },
  {
   "cell_type": "code",
   "execution_count": 2,
   "id": "963e1291",
   "metadata": {},
   "outputs": [
    {
     "name": "stdout",
     "output_type": "stream",
     "text": [
      "File missing\n"
     ]
    }
   ],
   "source": [
    "try:\n",
    "    data = pd.read_csv(\"astronauts.csv\")\n",
    "    print(\"dataloaded\")\n",
    "except:\n",
    "    print(\"File missing\")"
   ]
  },
  {
   "cell_type": "code",
   "execution_count": 3,
   "id": "04c2d42d",
   "metadata": {},
   "outputs": [
    {
     "ename": "NameError",
     "evalue": "name 'data' is not defined",
     "output_type": "error",
     "traceback": [
      "\u001b[1;31m---------------------------------------------------------------------------\u001b[0m",
      "\u001b[1;31mNameError\u001b[0m                                 Traceback (most recent call last)",
      "Input \u001b[1;32mIn [3]\u001b[0m, in \u001b[0;36m<cell line: 1>\u001b[1;34m()\u001b[0m\n\u001b[1;32m----> 1\u001b[0m \u001b[43mdata\u001b[49m\u001b[38;5;241m.\u001b[39mshape\n",
      "\u001b[1;31mNameError\u001b[0m: name 'data' is not defined"
     ]
    }
   ],
   "source": [
    "data.shape"
   ]
  },
  {
   "cell_type": "code",
   "execution_count": null,
   "id": "718af2a4",
   "metadata": {},
   "outputs": [],
   "source": [
    "data.ndim"
   ]
  },
  {
   "cell_type": "code",
   "execution_count": null,
   "id": "a1897a0a",
   "metadata": {},
   "outputs": [],
   "source": [
    "data.head(1)"
   ]
  },
  {
   "cell_type": "code",
   "execution_count": null,
   "id": "0fe46d66",
   "metadata": {},
   "outputs": [],
   "source": [
    "data.tail(3)"
   ]
  },
  {
   "cell_type": "code",
   "execution_count": null,
   "id": "b7fefaba",
   "metadata": {},
   "outputs": [],
   "source": [
    "data.sample(10)"
   ]
  },
  {
   "cell_type": "code",
   "execution_count": null,
   "id": "cd39d723",
   "metadata": {},
   "outputs": [],
   "source": [
    "data.columns"
   ]
  },
  {
   "cell_type": "code",
   "execution_count": null,
   "id": "e6fbaf78",
   "metadata": {},
   "outputs": [],
   "source": [
    "# changing column name\n",
    "\n",
    "data.columns = [11,22,33,44,55,66,77,88,99,100,111,222,333,444,555,666,777,888,999]\n",
    "data.columns = ['Name', 'Year', 'Group', 'Status', 'Birth Date', 'Birth Place',\n",
    "       'Gender', 'Alma Mater', 'Undergraduate Major', 'Graduate Major',\n",
    "       'Military Rank', 'Military Branch', 'Space Flights',\n",
    "       'Space Flight (hr)', 'Space Walks', 'Space Walks (hr)', 'Missions',\n",
    "       'Death Date', 'Death Mission']"
   ]
  },
  {
   "cell_type": "code",
   "execution_count": null,
   "id": "9b0c548b",
   "metadata": {},
   "outputs": [],
   "source": [
    "data.head(1)"
   ]
  },
  {
   "cell_type": "code",
   "execution_count": null,
   "id": "658f6d42",
   "metadata": {},
   "outputs": [],
   "source": [
    "data.rename(columns={'Birth Date':'birth_date', 'Birth Place':'birth_place',\n",
    "                   'Alma Mater':'alma_mater', 'Undergraduate Major':'undergraduate_major', 'Graduate Major':'graduate_major',\n",
    "       'Military Rank':'military_rank', 'Military Branch':'military_branch', 'Space Flights':'space_fights',\n",
    "       'Space Flight (hr)':'space_flight(hr)', 'Space Walks':'space_walks', 'Space Walks (hr)':'space_walks(hr)',\n",
    "       'Death Date':\"death_date\",'Space Walks (hr)':'space_walks(hr)', 'Death Mission':'death_mission' },inplace=True)"
   ]
  },
  {
   "cell_type": "code",
   "execution_count": null,
   "id": "061a9fec",
   "metadata": {},
   "outputs": [],
   "source": [
    "data.info()"
   ]
  },
  {
   "cell_type": "code",
   "execution_count": null,
   "id": "0596e3f3",
   "metadata": {},
   "outputs": [],
   "source": [
    "data.notnull().sum()\n",
    "data.isnull().sum()"
   ]
  },
  {
   "cell_type": "code",
   "execution_count": null,
   "id": "62c5ccbc",
   "metadata": {},
   "outputs": [],
   "source": [
    "data.birth_date = pd.to_datetime(data.birth_date)"
   ]
  },
  {
   "cell_type": "code",
   "execution_count": null,
   "id": "fd68309d",
   "metadata": {},
   "outputs": [],
   "source": [
    "data.birth_date"
   ]
  },
  {
   "cell_type": "code",
   "execution_count": null,
   "id": "93123f97",
   "metadata": {},
   "outputs": [],
   "source": [
    "data.death_date = pd.to_datetime(data.death_date)"
   ]
  },
  {
   "cell_type": "code",
   "execution_count": null,
   "id": "9941ab3b",
   "metadata": {},
   "outputs": [],
   "source": [
    "data.head(1)"
   ]
  },
  {
   "cell_type": "code",
   "execution_count": null,
   "id": "3b984a66",
   "metadata": {},
   "outputs": [],
   "source": [
    "# we will deal you later \n",
    "#data.Year.astype('int32')\n",
    "# data.Group.astype('int32')"
   ]
  },
  {
   "cell_type": "code",
   "execution_count": null,
   "id": "7d7be484",
   "metadata": {},
   "outputs": [],
   "source": [
    "data.Status.value_counts()"
   ]
  },
  {
   "cell_type": "code",
   "execution_count": null,
   "id": "579e2c6d",
   "metadata": {},
   "outputs": [],
   "source": [
    "data.alma_mater.value_counts().sum()"
   ]
  },
  {
   "cell_type": "code",
   "execution_count": null,
   "id": "8f3430bb",
   "metadata": {},
   "outputs": [],
   "source": [
    "#data.alma_mater.unique()\n",
    "data.alma_mater.nunique()"
   ]
  },
  {
   "cell_type": "code",
   "execution_count": null,
   "id": "3165bf6e",
   "metadata": {},
   "outputs": [],
   "source": [
    "pd.Series([11,2,np.nan, 33,33,55,6,55,np.nan]).unique()"
   ]
  },
  {
   "cell_type": "code",
   "execution_count": null,
   "id": "6eb71f55",
   "metadata": {},
   "outputs": [],
   "source": [
    "pd.Series([11,2,np.nan, 33,33,55,6,55,np.nan]).nunique()"
   ]
  },
  {
   "cell_type": "code",
   "execution_count": null,
   "id": "6a5a4f14",
   "metadata": {},
   "outputs": [],
   "source": [
    "data.Year"
   ]
  },
  {
   "cell_type": "code",
   "execution_count": null,
   "id": "ce7a67a6",
   "metadata": {},
   "outputs": [],
   "source": [
    "data[data.Year.notnull()]"
   ]
  },
  {
   "cell_type": "markdown",
   "id": "8e47433c",
   "metadata": {},
   "source": [
    "# Handling Missing Values \n",
    "    - filling missing values\n",
    "    - dropping missing values"
   ]
  },
  {
   "cell_type": "code",
   "execution_count": null,
   "id": "66605962",
   "metadata": {},
   "outputs": [],
   "source": [
    "data.info()"
   ]
  },
  {
   "cell_type": "code",
   "execution_count": null,
   "id": "77aa412e",
   "metadata": {},
   "outputs": [],
   "source": [
    "data.Year.isnull().sum()"
   ]
  },
  {
   "cell_type": "code",
   "execution_count": null,
   "id": "c06f97f9",
   "metadata": {},
   "outputs": [],
   "source": [
    "data.Year.fillna(data.Year.mode(),inplace=True)"
   ]
  },
  {
   "cell_type": "code",
   "execution_count": null,
   "id": "732272dc",
   "metadata": {},
   "outputs": [],
   "source": [
    "data.Year"
   ]
  },
  {
   "cell_type": "code",
   "execution_count": null,
   "id": "0d9ecbcd",
   "metadata": {},
   "outputs": [],
   "source": [
    "data.Year.isnull().sum()"
   ]
  },
  {
   "cell_type": "code",
   "execution_count": null,
   "id": "4a44e66e",
   "metadata": {},
   "outputs": [],
   "source": [
    "data.fillna({\n",
    "            'Group':data.Group.mode(),\n",
    "            'alma_mater':data.alma_mater.mode(),\n",
    "            'undergraduate_major':data.undergraduate_major.mode(),\n",
    "            'graduate_major':data.graduate_major.mode(),\n",
    "            })"
   ]
  },
  {
   "cell_type": "code",
   "execution_count": null,
   "id": "d9394c80",
   "metadata": {},
   "outputs": [],
   "source": [
    "data"
   ]
  },
  {
   "cell_type": "code",
   "execution_count": null,
   "id": "7c3bed68",
   "metadata": {},
   "outputs": [],
   "source": [
    "data.fillna()"
   ]
  },
  {
   "cell_type": "code",
   "execution_count": null,
   "id": "db005bce",
   "metadata": {},
   "outputs": [],
   "source": [
    "df = pd.read_excel(\"grouping.xlsx\")\n",
    "df"
   ]
  },
  {
   "cell_type": "code",
   "execution_count": null,
   "id": "b35bafba",
   "metadata": {},
   "outputs": [],
   "source": [
    "df.dropna(axis=0,how='any')"
   ]
  },
  {
   "cell_type": "code",
   "execution_count": null,
   "id": "f901e8d1",
   "metadata": {},
   "outputs": [],
   "source": [
    "df.dropna(axis=1,how='any')"
   ]
  },
  {
   "cell_type": "code",
   "execution_count": null,
   "id": "e3535465",
   "metadata": {},
   "outputs": [],
   "source": [
    "df.dropna(axis=0,how=\"all\")"
   ]
  },
  {
   "cell_type": "code",
   "execution_count": null,
   "id": "725bf5b6",
   "metadata": {},
   "outputs": [],
   "source": [
    "df.dropna(axis=1,how=\"all\")"
   ]
  },
  {
   "cell_type": "code",
   "execution_count": null,
   "id": "12e4fdb4",
   "metadata": {},
   "outputs": [],
   "source": [
    "df['Na_Vals'] = np.nan"
   ]
  },
  {
   "cell_type": "code",
   "execution_count": null,
   "id": "edd86945",
   "metadata": {},
   "outputs": [],
   "source": [
    "df.iloc[9:,:]=np.nan"
   ]
  },
  {
   "cell_type": "code",
   "execution_count": null,
   "id": "718b7f94",
   "metadata": {},
   "outputs": [],
   "source": [
    "df"
   ]
  },
  {
   "cell_type": "code",
   "execution_count": null,
   "id": "627f3a50",
   "metadata": {},
   "outputs": [],
   "source": [
    "df.dropna(axis=0, how='all')"
   ]
  },
  {
   "cell_type": "code",
   "execution_count": null,
   "id": "5a17e976",
   "metadata": {},
   "outputs": [],
   "source": [
    "df.dropna(axis=1, how='all')"
   ]
  },
  {
   "cell_type": "code",
   "execution_count": null,
   "id": "6b85d238",
   "metadata": {},
   "outputs": [],
   "source": [
    "df"
   ]
  },
  {
   "cell_type": "code",
   "execution_count": null,
   "id": "6485530c",
   "metadata": {},
   "outputs": [],
   "source": [
    "df.dropna(axis=0,thresh=5)"
   ]
  },
  {
   "cell_type": "code",
   "execution_count": null,
   "id": "cee9c290",
   "metadata": {},
   "outputs": [],
   "source": [
    "df.dropna(axis=1,thresh=4)"
   ]
  },
  {
   "cell_type": "markdown",
   "id": "d992b57b",
   "metadata": {},
   "source": [
    "# Handling Duplicates Records "
   ]
  },
  {
   "cell_type": "code",
   "execution_count": null,
   "id": "b61e92b2",
   "metadata": {},
   "outputs": [],
   "source": [
    "df.iloc[10:,:]=np.nan"
   ]
  },
  {
   "cell_type": "code",
   "execution_count": null,
   "id": "be8fee57",
   "metadata": {},
   "outputs": [],
   "source": [
    "df.iloc[8,:] = np.nan"
   ]
  },
  {
   "cell_type": "code",
   "execution_count": null,
   "id": "9560b1e1",
   "metadata": {},
   "outputs": [],
   "source": [
    "df"
   ]
  },
  {
   "cell_type": "code",
   "execution_count": null,
   "id": "288d0a57",
   "metadata": {},
   "outputs": [],
   "source": [
    "df.duplicated()"
   ]
  },
  {
   "cell_type": "code",
   "execution_count": null,
   "id": "dc1bd7ba",
   "metadata": {},
   "outputs": [],
   "source": [
    "df.duplicated().sum()"
   ]
  },
  {
   "cell_type": "code",
   "execution_count": null,
   "id": "49da251c",
   "metadata": {},
   "outputs": [],
   "source": [
    "df.drop_duplicates(subset=['Depts', 'Na_Vals'])"
   ]
  },
  {
   "cell_type": "code",
   "execution_count": null,
   "id": "0abcf222",
   "metadata": {},
   "outputs": [],
   "source": []
  }
 ],
 "metadata": {
  "kernelspec": {
   "display_name": "Python 3 (ipykernel)",
   "language": "python",
   "name": "python3"
  },
  "language_info": {
   "codemirror_mode": {
    "name": "ipython",
    "version": 3
   },
   "file_extension": ".py",
   "mimetype": "text/x-python",
   "name": "python",
   "nbconvert_exporter": "python",
   "pygments_lexer": "ipython3",
   "version": "3.9.12"
  }
 },
 "nbformat": 4,
 "nbformat_minor": 5
}
