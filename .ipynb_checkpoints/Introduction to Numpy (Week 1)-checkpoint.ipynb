{
 "cells": [
  {
   "cell_type": "markdown",
   "id": "17ac0fe7",
   "metadata": {},
   "source": [
    "# <div class=\"alert alert-success\" >Numpy Basics\n",
    "\n",
    "NumPy is a library for the Python programming language, adding support for large, multi-dimensional arrays and matrices, along with a large collection of high-level mathematical functions to operate on these arrays.The ancestor of NumPy, Numeric, was originally created by Jim Hugunin with contributions from several other developers. In 2005, Travis Oliphant created NumPy by incorporating features of the competing Numarray into Numeric, with extensive modifications. NumPy is open-source software and has many contributors."
   ]
  },
  {
   "cell_type": "markdown",
   "id": "653a563c",
   "metadata": {},
   "source": [
    "## <div class= \"alert alert-info\">(1) Creating  Numpy ndarray/ Creating array object\n",
    "  To create arrays we'll first import the Numpy library:"
   ]
  },
  {
   "cell_type": "code",
   "execution_count": 1,
   "id": "59ef37e5",
   "metadata": {},
   "outputs": [],
   "source": [
    "import numpy as np             #importing numpy library with alias np"
   ]
  },
  {
   "cell_type": "markdown",
   "id": "e3a4de3c",
   "metadata": {},
   "source": [
    "#### Creating arrays using array() method\n",
    "\n",
    "- <span style=\"color:red\"> array()</span> method creates an ndarray when we pass a list, tuple or any array-like object into this method."
   ]
  },
  {
   "cell_type": "code",
   "execution_count": 2,
   "id": "23f6f65f",
   "metadata": {},
   "outputs": [
    {
     "data": {
      "text/plain": [
       "array([ 1,  2,  3,  4,  5,  6,  7,  8,  9, 10])"
      ]
     },
     "execution_count": 2,
     "metadata": {},
     "output_type": "execute_result"
    }
   ],
   "source": [
    "a = np.array([1,2,3,4,5,6,7,8,9,10])         # 1D integer array also called Vector array.\n",
    "a"
   ]
  },
  {
   "cell_type": "code",
   "execution_count": 3,
   "id": "b8d1b7cc",
   "metadata": {},
   "outputs": [
    {
     "data": {
      "text/plain": [
       "array([[ 1,  2,  3,  4,  5],\n",
       "       [ 6,  7,  8,  9, 10]])"
      ]
     },
     "execution_count": 3,
     "metadata": {},
     "output_type": "execute_result"
    }
   ],
   "source": [
    "b = np.array([[1,2,3,4,5],[6,7,8,9,10]])         # 2D integer array also called Matix array.\n",
    "b"
   ]
  },
  {
   "cell_type": "code",
   "execution_count": 4,
   "id": "e0405971",
   "metadata": {},
   "outputs": [
    {
     "data": {
      "text/plain": [
       "array([[[ 1,  2,  3,  4]],\n",
       "\n",
       "       [[ 5,  6,  7,  8]],\n",
       "\n",
       "       [[ 9, 10, 11, 12]]])"
      ]
     },
     "execution_count": 4,
     "metadata": {},
     "output_type": "execute_result"
    }
   ],
   "source": [
    "c = np.array([[[1,2,3,4]],[[5,6,7,8]],[[9,10,11,12]]])         # 3D integer array also called Cube array.\n",
    "c"
   ]
  },
  {
   "cell_type": "markdown",
   "id": "1f3668af",
   "metadata": {},
   "source": [
    " <div class= \"alert alert-warning\"> Number of square brackets ([) in the start and end tells us about the dimension of an array\n",
    "    \n",
    "    - [ x ] is a 1D array Vector with axis= 0 i.e (axis0,) [axis and dimension in Numpy means the same]\n",
    "    - [ [ x ] ] is a 2D array Matrix with axis= 0 and axis = 1 (rows, columns)\n",
    "    - [ [ [ x ] ] ] is a 3D array Cube with depth, axis= 0 and axis= 1 (depth, rows, columns) [and so on]"
   ]
  },
  {
   "cell_type": "code",
   "execution_count": 5,
   "id": "56c4ec29",
   "metadata": {},
   "outputs": [
    {
     "data": {
      "text/plain": [
       "array(55)"
      ]
     },
     "execution_count": 5,
     "metadata": {},
     "output_type": "execute_result"
    }
   ],
   "source": [
    "d= np.array(55)     # array(number with no square brakets) give us a scalar with 0 dimension \n",
    "d"
   ]
  },
  {
   "cell_type": "code",
   "execution_count": 6,
   "id": "8292daa9",
   "metadata": {},
   "outputs": [
    {
     "data": {
      "text/plain": [
       "array(['a', 'b', 'c', 'd'], dtype='<U1')"
      ]
     },
     "execution_count": 6,
     "metadata": {},
     "output_type": "execute_result"
    }
   ],
   "source": [
    "a_s = np.array(['a','b','c','d'])     #array of strings\n",
    "a_s"
   ]
  },
  {
   "cell_type": "markdown",
   "id": "c125e78c",
   "metadata": {},
   "source": [
    "#### Datatype of array\n",
    "\n",
    "array_name.dtype will give you the datatype of array "
   ]
  },
  {
   "cell_type": "code",
   "execution_count": 7,
   "id": "e33b878b",
   "metadata": {},
   "outputs": [
    {
     "data": {
      "text/plain": [
       "dtype('int32')"
      ]
     },
     "execution_count": 7,
     "metadata": {},
     "output_type": "execute_result"
    }
   ],
   "source": [
    "a.dtype"
   ]
  },
  {
   "cell_type": "code",
   "execution_count": 8,
   "id": "8d45fe27",
   "metadata": {},
   "outputs": [
    {
     "data": {
      "text/plain": [
       "dtype('<U1')"
      ]
     },
     "execution_count": 8,
     "metadata": {},
     "output_type": "execute_result"
    }
   ],
   "source": [
    "a_s.dtype          # >U1 means string type"
   ]
  },
  {
   "cell_type": "markdown",
   "id": "31676360",
   "metadata": {},
   "source": [
    "#### Creating arrays using arange() method\n",
    "\n",
    "- arange(n) takes a number 'n' and print a 1D array from 0 to (n-1)\n",
    "- arange(1, n) takes a number 'n' and print a 1D array from 1 to (n-1)"
   ]
  },
  {
   "cell_type": "code",
   "execution_count": 9,
   "id": "3e71f584",
   "metadata": {},
   "outputs": [
    {
     "data": {
      "text/plain": [
       "array([ 1,  2,  3,  4,  5,  6,  7,  8,  9, 10])"
      ]
     },
     "execution_count": 9,
     "metadata": {},
     "output_type": "execute_result"
    }
   ],
   "source": [
    "a = np.arange(1,11)      # 1D vector\n",
    "a"
   ]
  },
  {
   "cell_type": "code",
   "execution_count": 10,
   "id": "82291689",
   "metadata": {},
   "outputs": [
    {
     "data": {
      "text/plain": [
       "array([1, 3, 5, 7, 9])"
      ]
     },
     "execution_count": 10,
     "metadata": {},
     "output_type": "execute_result"
    }
   ],
   "source": [
    "aj = np.arange(1,11,2)      # gives array from 1 to 10 with jump 2\n",
    "\n",
    "aj"
   ]
  },
  {
   "cell_type": "markdown",
   "id": "6537c228",
   "metadata": {},
   "source": [
    "- To create 2D array or higher dimension array use <span style=\"color:red\"> reshape(depth,rows,column)</span> method:"
   ]
  },
  {
   "cell_type": "code",
   "execution_count": 11,
   "id": "6d9ccb45",
   "metadata": {},
   "outputs": [
    {
     "data": {
      "text/plain": [
       "array([[ 1,  2,  3,  4,  5],\n",
       "       [ 6,  7,  8,  9, 10]])"
      ]
     },
     "execution_count": 11,
     "metadata": {},
     "output_type": "execute_result"
    }
   ],
   "source": [
    "b = np.arange(1,11).reshape(2,5)       # for 2D reshape(r,c) rxc must be equal to number of elements in the array(i.e size) \n",
    "b"
   ]
  },
  {
   "cell_type": "code",
   "execution_count": 12,
   "id": "7bf929ec",
   "metadata": {},
   "outputs": [
    {
     "data": {
      "text/plain": [
       "array([[[ 1,  2,  3,  4]],\n",
       "\n",
       "       [[ 5,  6,  7,  8]],\n",
       "\n",
       "       [[ 9, 10, 11, 12]]])"
      ]
     },
     "execution_count": 12,
     "metadata": {},
     "output_type": "execute_result"
    }
   ],
   "source": [
    "c = np.arange(1,13).reshape(3,1,4)    # for 3D reshape(d,r,c) dxrxc must be equal to number of elements in the array(i.e size) \n",
    "c"
   ]
  },
  {
   "cell_type": "markdown",
   "id": "2c7d48a9",
   "metadata": {},
   "source": [
    "#### Creating array of zeros using zeros() method\n",
    "\n",
    "<span style = \"color:red\">ones()</span> method creates an array of zeros.It takes a tuple parameter:\n",
    "\n",
    " - ( n ) for 1D [number without round bracket will also do for 1D]\n",
    " - (r,c) for 2D\n",
    " - (d,r,c) for 3D"
   ]
  },
  {
   "cell_type": "code",
   "execution_count": 13,
   "id": "533176cc",
   "metadata": {},
   "outputs": [
    {
     "data": {
      "text/plain": [
       "array([0., 0., 0., 0., 0., 0., 0., 0., 0., 0.])"
      ]
     },
     "execution_count": 13,
     "metadata": {},
     "output_type": "execute_result"
    }
   ],
   "source": [
    "az = np.zeros(10)         #  Vector     \n",
    "az                        # az array type is float by default"
   ]
  },
  {
   "cell_type": "code",
   "execution_count": 14,
   "id": "33f24e32",
   "metadata": {},
   "outputs": [
    {
     "data": {
      "text/plain": [
       "array([0, 0, 0, 0, 0, 0, 0, 0, 0, 0], dtype=int64)"
      ]
     },
     "execution_count": 14,
     "metadata": {},
     "output_type": "execute_result"
    }
   ],
   "source": [
    "az = np.zeros(10,dtype= np.int64)     #to make az integer array use dtype as a parameter\n",
    "az"
   ]
  },
  {
   "cell_type": "code",
   "execution_count": 15,
   "id": "f2f357cd",
   "metadata": {},
   "outputs": [
    {
     "data": {
      "text/plain": [
       "array([[0, 0, 0],\n",
       "       [0, 0, 0]], dtype=int64)"
      ]
     },
     "execution_count": 15,
     "metadata": {},
     "output_type": "execute_result"
    }
   ],
   "source": [
    "bz = np.zeros((2,3), dtype=np.int64)         # 2x3 Matrix\n",
    "bz"
   ]
  },
  {
   "cell_type": "code",
   "execution_count": 16,
   "id": "00a03f9c",
   "metadata": {},
   "outputs": [
    {
     "data": {
      "text/plain": [
       "array([[[0, 0],\n",
       "        [0, 0]],\n",
       "\n",
       "       [[0, 0],\n",
       "        [0, 0]],\n",
       "\n",
       "       [[0, 0],\n",
       "        [0, 0]]], dtype=int64)"
      ]
     },
     "execution_count": 16,
     "metadata": {},
     "output_type": "execute_result"
    }
   ],
   "source": [
    "cz = np.zeros((3,2,2), dtype=np.int64)         # 3x2x2 Cube\n",
    "cz"
   ]
  },
  {
   "cell_type": "markdown",
   "id": "5cd6dac6",
   "metadata": {},
   "source": [
    "#### Creating array of ones using ones() method\n",
    "\n",
    "<span style = \"color:red\">ones()</span> method creates an array of ones.It takes a tuple parameter:\n",
    "\n",
    " - ( n ) for 1D [number without round bracket will also do for 1D]\n",
    " - (r,c) for 2D\n",
    " - (d,r,c) for 3D"
   ]
  },
  {
   "cell_type": "code",
   "execution_count": 17,
   "id": "ece2f7a8",
   "metadata": {},
   "outputs": [
    {
     "data": {
      "text/plain": [
       "array([1, 1, 1, 1, 1, 1, 1, 1, 1, 1], dtype=int64)"
      ]
     },
     "execution_count": 17,
     "metadata": {},
     "output_type": "execute_result"
    }
   ],
   "source": [
    "ao = np.ones(10,dtype= np.int64)     # Vector\n",
    "ao"
   ]
  },
  {
   "cell_type": "code",
   "execution_count": 18,
   "id": "c2d3687b",
   "metadata": {},
   "outputs": [
    {
     "data": {
      "text/plain": [
       "array([[1, 1, 1],\n",
       "       [1, 1, 1]], dtype=int64)"
      ]
     },
     "execution_count": 18,
     "metadata": {},
     "output_type": "execute_result"
    }
   ],
   "source": [
    "bo = np.ones((2,3), dtype=np.int64)         # 2x3 Matrix\n",
    "bo"
   ]
  },
  {
   "cell_type": "code",
   "execution_count": 19,
   "id": "ee6f68bb",
   "metadata": {
    "scrolled": true
   },
   "outputs": [
    {
     "data": {
      "text/plain": [
       "array([[[1, 1],\n",
       "        [1, 1]],\n",
       "\n",
       "       [[1, 1],\n",
       "        [1, 1]],\n",
       "\n",
       "       [[1, 1],\n",
       "        [1, 1]]], dtype=int64)"
      ]
     },
     "execution_count": 19,
     "metadata": {},
     "output_type": "execute_result"
    }
   ],
   "source": [
    "co = np.ones((3,2,2), dtype=np.int64)         # 3x2x2 Cube\n",
    "co"
   ]
  },
  {
   "cell_type": "markdown",
   "id": "231060d5",
   "metadata": {},
   "source": [
    "#### Creating  array using linespace() method\n",
    "- <span style=\"color:red\"> linespace(start, stop, num = n, endpoint, retspep,dtype,axis)</span> generates numbers from start to stop with equal spacing 'n'\n",
    "    \n",
    "  -  <ins> Required parameters: </ins>\n",
    "    \n",
    "   - start: The starting value of the sequence.\n",
    "    \n",
    "    - end: The end value of the sequence unless the endpoint is set to False.\n",
    "    \n",
    " -   <ins> Optional parameters:</ins>\n",
    "    \n",
    "   - num: The number of samples needed to generate within the interval. The default value is 50.\n",
    "    \n",
    "   - endpoint: If the endpoint is set to false, then the end value is not included in the sequence.\n",
    "    \n",
    "   - retstep : If the retstep is true then (samples, step) is returned.Step refers to the spacing between the values in the interval.\n",
    "    \n",
    "   - dtype: The type of output array. The datatype is inferred if it is not specified.\n",
    "    \n",
    "    - axis: The axis in the result to store the samples. (Added in version 1.16.0)"
   ]
  },
  {
   "cell_type": "code",
   "execution_count": 27,
   "id": "4e1e7fa2",
   "metadata": {},
   "outputs": [
    {
     "data": {
      "text/plain": [
       "array([ 0. ,  2.5,  5. ,  7.5, 10. ])"
      ]
     },
     "execution_count": 27,
     "metadata": {},
     "output_type": "execute_result"
    }
   ],
   "source": [
    "als = np.linspace(0,10, num=5)\n",
    "als"
   ]
  },
  {
   "cell_type": "code",
   "execution_count": 28,
   "id": "6c94d6cc",
   "metadata": {},
   "outputs": [
    {
     "data": {
      "text/plain": [
       "array([ 1.,  2.,  3.,  4.,  5.,  6.,  7.,  8.,  9., 10.])"
      ]
     },
     "execution_count": 28,
     "metadata": {},
     "output_type": "execute_result"
    }
   ],
   "source": [
    "al = np.linspace(1,10, num=10)\n",
    "al"
   ]
  },
  {
   "cell_type": "code",
   "execution_count": 24,
   "id": "47ff51d6",
   "metadata": {},
   "outputs": [
    {
     "data": {
      "text/plain": [
       "array([[ 1.,  2.,  3.,  4.,  5.],\n",
       "       [ 6.,  7.,  8.,  9., 10.]])"
      ]
     },
     "execution_count": 24,
     "metadata": {},
     "output_type": "execute_result"
    }
   ],
   "source": [
    "bl = np.linspace(1,10,num=10).reshape(2,5)\n",
    "bl"
   ]
  },
  {
   "cell_type": "code",
   "execution_count": 25,
   "id": "da5c2545",
   "metadata": {},
   "outputs": [
    {
     "data": {
      "text/plain": [
       "array([[[ 1.,  2.,  3.,  4.]],\n",
       "\n",
       "       [[ 5.,  6.,  7.,  8.]],\n",
       "\n",
       "       [[ 9., 10., 11., 12.]]])"
      ]
     },
     "execution_count": 25,
     "metadata": {},
     "output_type": "execute_result"
    }
   ],
   "source": [
    "cl = np.linspace(1,12,num=12).reshape(3,1,4)\n",
    "cl"
   ]
  },
  {
   "cell_type": "code",
   "execution_count": null,
   "id": "7dac801f",
   "metadata": {},
   "outputs": [],
   "source": []
  },
  {
   "cell_type": "markdown",
   "id": "8713a22d",
   "metadata": {},
   "source": [
    "#### Creating empty array using empty() method\n",
    "\n",
    "<span style = \"color:red\">empty()</span> method creates an array of garbage values.It takes a tuple parameter:\n",
    "\n",
    " - ( n ) for 1D [number without round bracket will also do for 1D]\n",
    " - (r,c) for 2D\n",
    " - (d,r,c) for 3D"
   ]
  },
  {
   "cell_type": "code",
   "execution_count": 26,
   "id": "4cc1ef79",
   "metadata": {},
   "outputs": [
    {
     "data": {
      "text/plain": [
       "array([ 1.,  2.,  3.,  4.,  5.,  6.,  7.,  8.,  9., 10.])"
      ]
     },
     "execution_count": 26,
     "metadata": {},
     "output_type": "execute_result"
    }
   ],
   "source": [
    "ae = np.empty(10)                     # Vector\n",
    "ae"
   ]
  },
  {
   "cell_type": "code",
   "execution_count": 30,
   "id": "66b37cec",
   "metadata": {},
   "outputs": [
    {
     "data": {
      "text/plain": [
       "array([[ 1.,  2.,  3.,  4.,  5.],\n",
       "       [ 6.,  7.,  8.,  9., 10.]])"
      ]
     },
     "execution_count": 30,
     "metadata": {},
     "output_type": "execute_result"
    }
   ],
   "source": [
    "be = np.empty((1,10)).reshape(2,5)        # Matrix\n",
    "be"
   ]
  },
  {
   "cell_type": "code",
   "execution_count": 31,
   "id": "37ff27d4",
   "metadata": {},
   "outputs": [
    {
     "data": {
      "text/plain": [
       "array([[[ 1.,  2.,  3.,  4.]],\n",
       "\n",
       "       [[ 5.,  6.,  7.,  8.]],\n",
       "\n",
       "       [[ 9., 10., 11., 12.]]])"
      ]
     },
     "execution_count": 31,
     "metadata": {},
     "output_type": "execute_result"
    }
   ],
   "source": [
    "ce = np.empty((1,12)).reshape(3,1,4)     # Cube\n",
    "ce"
   ]
  },
  {
   "cell_type": "markdown",
   "id": "931c14f8",
   "metadata": {},
   "source": [
    "## <div class= \"alert alert-info\">(2) Array attributes\n"
   ]
  },
  {
   "cell_type": "markdown",
   "id": "52ee1158",
   "metadata": {},
   "source": [
    "#### Array dimension/axis\n",
    "\n",
    "<span style = \"color:red\">ndim</span>: tells us about the dimension of an array."
   ]
  },
  {
   "cell_type": "code",
   "execution_count": 35,
   "id": "872e7466",
   "metadata": {},
   "outputs": [
    {
     "data": {
      "text/plain": [
       "0"
      ]
     },
     "execution_count": 35,
     "metadata": {},
     "output_type": "execute_result"
    }
   ],
   "source": [
    "d.ndim           # d is a scalar so D = 0"
   ]
  },
  {
   "cell_type": "code",
   "execution_count": 32,
   "id": "1eeb0b5e",
   "metadata": {},
   "outputs": [
    {
     "data": {
      "text/plain": [
       "1"
      ]
     },
     "execution_count": 32,
     "metadata": {},
     "output_type": "execute_result"
    }
   ],
   "source": [
    "a.ndim            # a is a vector array so D = 1"
   ]
  },
  {
   "cell_type": "code",
   "execution_count": 33,
   "id": "56163253",
   "metadata": {},
   "outputs": [
    {
     "data": {
      "text/plain": [
       "2"
      ]
     },
     "execution_count": 33,
     "metadata": {},
     "output_type": "execute_result"
    }
   ],
   "source": [
    "b.ndim            # b is a matrix array so D = 2"
   ]
  },
  {
   "cell_type": "code",
   "execution_count": 34,
   "id": "ac6fbd31",
   "metadata": {},
   "outputs": [
    {
     "data": {
      "text/plain": [
       "3"
      ]
     },
     "execution_count": 34,
     "metadata": {},
     "output_type": "execute_result"
    }
   ],
   "source": [
    "c.ndim             # c is a cube array so D = 3"
   ]
  },
  {
   "cell_type": "markdown",
   "id": "1de31a89",
   "metadata": {},
   "source": [
    "#### Array shape\n",
    "\n",
    "<span style = \"color:red\">shape</span>: tells us about the rows,columns and depth of an array."
   ]
  },
  {
   "cell_type": "code",
   "execution_count": 37,
   "id": "bc09794c",
   "metadata": {},
   "outputs": [
    {
     "data": {
      "text/plain": [
       "()"
      ]
     },
     "execution_count": 37,
     "metadata": {},
     "output_type": "execute_result"
    }
   ],
   "source": [
    "d.shape        # shape of a scalar is an empty tuple ()"
   ]
  },
  {
   "cell_type": "code",
   "execution_count": 36,
   "id": "aa8272e9",
   "metadata": {},
   "outputs": [
    {
     "data": {
      "text/plain": [
       "(10,)"
      ]
     },
     "execution_count": 36,
     "metadata": {},
     "output_type": "execute_result"
    }
   ],
   "source": [
    "a.shape       # shape of a vector is a tuple with one element (r,)"
   ]
  },
  {
   "cell_type": "code",
   "execution_count": 38,
   "id": "36bf758a",
   "metadata": {},
   "outputs": [
    {
     "data": {
      "text/plain": [
       "(2, 5)"
      ]
     },
     "execution_count": 38,
     "metadata": {},
     "output_type": "execute_result"
    }
   ],
   "source": [
    "b.shape       # shape of a matrix is a tuple with two element (r,c)"
   ]
  },
  {
   "cell_type": "code",
   "execution_count": 39,
   "id": "0c5acd1b",
   "metadata": {},
   "outputs": [
    {
     "data": {
      "text/plain": [
       "(3, 1, 4)"
      ]
     },
     "execution_count": 39,
     "metadata": {},
     "output_type": "execute_result"
    }
   ],
   "source": [
    "c.shape      # shape of a cube is a tuple with three element (d,r,c)"
   ]
  },
  {
   "cell_type": "code",
   "execution_count": 58,
   "id": "27d7d861",
   "metadata": {},
   "outputs": [
    {
     "data": {
      "text/plain": [
       "(1, 1, 1, 1, 1, 5)"
      ]
     },
     "execution_count": 58,
     "metadata": {},
     "output_type": "execute_result"
    }
   ],
   "source": [
    "z = np.array([[[[[[2 ,4, 6, 8, 10]]]]]])  # 6D array\n",
    "z.shape"
   ]
  },
  {
   "cell_type": "markdown",
   "id": "e8ba66f3",
   "metadata": {},
   "source": [
    "<ins> <span style = \"color:green\">  Reading shape tuple </span>: <ins>\n",
    "\n",
    "- a tuple (2,5) means that b has 2 dimensions and each dimension has 5 elements\n",
    "- a tuple (3,1,4) means that c has 3 dimensions and each dimension has 1 row and 4 columns\n",
    "- a tuple (1, 1, 1, 1, 1, 5) means that z has 6 dimensions and the outer dimensions [1 to 5] has a single element and the inner most dimension [6th] has 5 elements  "
   ]
  },
  {
   "cell_type": "markdown",
   "id": "a3d4088d",
   "metadata": {},
   "source": [
    "#### Array size\n",
    "\n",
    "<span style = \"color:red\">size</span>: tells us about the number of elements an array."
   ]
  },
  {
   "cell_type": "code",
   "execution_count": 47,
   "id": "ca0ef744",
   "metadata": {},
   "outputs": [
    {
     "data": {
      "text/plain": [
       "1"
      ]
     },
     "execution_count": 47,
     "metadata": {},
     "output_type": "execute_result"
    }
   ],
   "source": [
    "d.size       # d, a scalar, has one element  "
   ]
  },
  {
   "cell_type": "code",
   "execution_count": 48,
   "id": "9ca81ea7",
   "metadata": {},
   "outputs": [
    {
     "data": {
      "text/plain": [
       "10"
      ]
     },
     "execution_count": 48,
     "metadata": {},
     "output_type": "execute_result"
    }
   ],
   "source": [
    "a.size       # a, a vector, has 10 element  "
   ]
  },
  {
   "cell_type": "code",
   "execution_count": 49,
   "id": "61292797",
   "metadata": {},
   "outputs": [
    {
     "data": {
      "text/plain": [
       "10"
      ]
     },
     "execution_count": 49,
     "metadata": {},
     "output_type": "execute_result"
    }
   ],
   "source": [
    "b.size       # b, a matrix, has 10 element  "
   ]
  },
  {
   "cell_type": "code",
   "execution_count": 50,
   "id": "562b5b2d",
   "metadata": {},
   "outputs": [
    {
     "data": {
      "text/plain": [
       "12"
      ]
     },
     "execution_count": 50,
     "metadata": {},
     "output_type": "execute_result"
    }
   ],
   "source": [
    "c.size       # c, a cube, has 12 element  "
   ]
  },
  {
   "cell_type": "markdown",
   "id": "a7358b28",
   "metadata": {},
   "source": [
    "#### Array elements size in bytes\n",
    "\n",
    "<span style = \"color:red\">itemsize</span>: tells us about the number of bytes of each element in an array."
   ]
  },
  {
   "cell_type": "code",
   "execution_count": 59,
   "id": "dfaec583",
   "metadata": {},
   "outputs": [
    {
     "data": {
      "text/plain": [
       "4"
      ]
     },
     "execution_count": 59,
     "metadata": {},
     "output_type": "execute_result"
    }
   ],
   "source": [
    "d.itemsize     # d, a scalar, has one element of 4 bytes "
   ]
  },
  {
   "cell_type": "code",
   "execution_count": 60,
   "id": "d2b06f10",
   "metadata": {},
   "outputs": [
    {
     "data": {
      "text/plain": [
       "4"
      ]
     },
     "execution_count": 60,
     "metadata": {},
     "output_type": "execute_result"
    }
   ],
   "source": [
    "a.itemsize     # a, a vector, has 10 elements each of 4 bytes "
   ]
  },
  {
   "cell_type": "code",
   "execution_count": 61,
   "id": "3d17e0f0",
   "metadata": {},
   "outputs": [
    {
     "data": {
      "text/plain": [
       "4"
      ]
     },
     "execution_count": 61,
     "metadata": {},
     "output_type": "execute_result"
    }
   ],
   "source": [
    "b.itemsize     # b, a matrix, has 10 elements each of 4 bytes "
   ]
  },
  {
   "cell_type": "code",
   "execution_count": 62,
   "id": "6cd763ad",
   "metadata": {},
   "outputs": [
    {
     "data": {
      "text/plain": [
       "4"
      ]
     },
     "execution_count": 62,
     "metadata": {},
     "output_type": "execute_result"
    }
   ],
   "source": [
    "c.itemsize     # c, a cume, has 12 elements each of 4 bytes "
   ]
  },
  {
   "cell_type": "markdown",
   "id": "da556de2",
   "metadata": {},
   "source": [
    "#### Array elements total size in bytes\n",
    "\n",
    "<span style = \"color:red\">nbytes</span>: tells us about the total number of bytes of the elements in an array occupies. [v.nbytes = v.size X v.itemsize]"
   ]
  },
  {
   "cell_type": "code",
   "execution_count": 64,
   "id": "1fb6e7a2",
   "metadata": {},
   "outputs": [
    {
     "data": {
      "text/plain": [
       "4"
      ]
     },
     "execution_count": 64,
     "metadata": {},
     "output_type": "execute_result"
    }
   ],
   "source": [
    "d.nbytes               # 1x4 = 4"
   ]
  },
  {
   "cell_type": "code",
   "execution_count": 65,
   "id": "53cb6b66",
   "metadata": {},
   "outputs": [
    {
     "data": {
      "text/plain": [
       "40"
      ]
     },
     "execution_count": 65,
     "metadata": {},
     "output_type": "execute_result"
    }
   ],
   "source": [
    "a.nbytes              # 10x4 = 40  "
   ]
  },
  {
   "cell_type": "code",
   "execution_count": 66,
   "id": "671ec0cc",
   "metadata": {},
   "outputs": [
    {
     "data": {
      "text/plain": [
       "40"
      ]
     },
     "execution_count": 66,
     "metadata": {},
     "output_type": "execute_result"
    }
   ],
   "source": [
    "b.nbytes              # 10x4 = 40"
   ]
  },
  {
   "cell_type": "code",
   "execution_count": 67,
   "id": "eae818eb",
   "metadata": {},
   "outputs": [
    {
     "data": {
      "text/plain": [
       "48"
      ]
     },
     "execution_count": 67,
     "metadata": {},
     "output_type": "execute_result"
    }
   ],
   "source": [
    "c.nbytes              # 12x4 = 48"
   ]
  },
  {
   "cell_type": "markdown",
   "id": "ed562e51",
   "metadata": {},
   "source": [
    "#### Array datatype\n",
    "\n",
    "<span style = \"color:red\">dtype</span>: tells us about the data type of an array (i.e each element)."
   ]
  },
  {
   "cell_type": "code",
   "execution_count": 51,
   "id": "e9e8ae5d",
   "metadata": {},
   "outputs": [
    {
     "data": {
      "text/plain": [
       "dtype('int32')"
      ]
     },
     "execution_count": 51,
     "metadata": {},
     "output_type": "execute_result"
    }
   ],
   "source": [
    "d.dtype"
   ]
  },
  {
   "cell_type": "code",
   "execution_count": 52,
   "id": "902ebfca",
   "metadata": {},
   "outputs": [
    {
     "data": {
      "text/plain": [
       "dtype('int32')"
      ]
     },
     "execution_count": 52,
     "metadata": {},
     "output_type": "execute_result"
    }
   ],
   "source": [
    "a.dtype"
   ]
  },
  {
   "cell_type": "code",
   "execution_count": 53,
   "id": "9a7c0173",
   "metadata": {},
   "outputs": [
    {
     "data": {
      "text/plain": [
       "dtype('int32')"
      ]
     },
     "execution_count": 53,
     "metadata": {},
     "output_type": "execute_result"
    }
   ],
   "source": [
    "b.dtype"
   ]
  },
  {
   "cell_type": "code",
   "execution_count": 54,
   "id": "b753c402",
   "metadata": {},
   "outputs": [
    {
     "data": {
      "text/plain": [
       "dtype('int32')"
      ]
     },
     "execution_count": 54,
     "metadata": {},
     "output_type": "execute_result"
    }
   ],
   "source": [
    "c.dtype"
   ]
  },
  {
   "cell_type": "code",
   "execution_count": 56,
   "id": "659a2537",
   "metadata": {},
   "outputs": [
    {
     "data": {
      "text/plain": [
       "dtype('<U1')"
      ]
     },
     "execution_count": 56,
     "metadata": {},
     "output_type": "execute_result"
    }
   ],
   "source": [
    "\n",
    "a_s.dtype"
   ]
  },
  {
   "cell_type": "markdown",
   "id": "52be6085",
   "metadata": {},
   "source": [
    "#### Array transpose\n",
    "\n",
    "<span style = \"color:red\">T</span>: transposes an array. If array rank < 2 then transpose simply gives us view of an array [this means T wirks for 2D or higher array]"
   ]
  },
  {
   "cell_type": "code",
   "execution_count": 68,
   "id": "106a59ae",
   "metadata": {},
   "outputs": [
    {
     "data": {
      "text/plain": [
       "array(55)"
      ]
     },
     "execution_count": 68,
     "metadata": {},
     "output_type": "execute_result"
    }
   ],
   "source": [
    "d.T"
   ]
  },
  {
   "cell_type": "code",
   "execution_count": 69,
   "id": "213277d7",
   "metadata": {},
   "outputs": [
    {
     "data": {
      "text/plain": [
       "array([ 1,  2,  3,  4,  5,  6,  7,  8,  9, 10])"
      ]
     },
     "execution_count": 69,
     "metadata": {},
     "output_type": "execute_result"
    }
   ],
   "source": [
    "a.T"
   ]
  },
  {
   "cell_type": "code",
   "execution_count": 70,
   "id": "648f9f25",
   "metadata": {},
   "outputs": [
    {
     "data": {
      "text/plain": [
       "array([[ 1,  6],\n",
       "       [ 2,  7],\n",
       "       [ 3,  8],\n",
       "       [ 4,  9],\n",
       "       [ 5, 10]])"
      ]
     },
     "execution_count": 70,
     "metadata": {},
     "output_type": "execute_result"
    }
   ],
   "source": [
    "b.T"
   ]
  },
  {
   "cell_type": "code",
   "execution_count": 71,
   "id": "3a633a2c",
   "metadata": {},
   "outputs": [
    {
     "data": {
      "text/plain": [
       "array([[[ 1,  5,  9]],\n",
       "\n",
       "       [[ 2,  6, 10]],\n",
       "\n",
       "       [[ 3,  7, 11]],\n",
       "\n",
       "       [[ 4,  8, 12]]])"
      ]
     },
     "execution_count": 71,
     "metadata": {},
     "output_type": "execute_result"
    }
   ],
   "source": [
    "c.T"
   ]
  },
  {
   "cell_type": "markdown",
   "id": "1eba3216",
   "metadata": {},
   "source": [
    "#### Array's real and imagnary parts\n",
    "\n",
    "To create a complex array we use ' j ' to denote the imagnary part of an element."
   ]
  },
  {
   "cell_type": "code",
   "execution_count": 74,
   "id": "4357c17c",
   "metadata": {},
   "outputs": [
    {
     "data": {
      "text/plain": [
       "array([1.+1.j, 0.+4.j, 0.+5.j, 2.+3.j])"
      ]
     },
     "execution_count": 74,
     "metadata": {},
     "output_type": "execute_result"
    }
   ],
   "source": [
    "a_c = np.array([1+1.j ,0+4.j,0+5.j,2+3.j])         # vector\n",
    "a_c"
   ]
  },
  {
   "cell_type": "code",
   "execution_count": 85,
   "id": "e8459f01",
   "metadata": {},
   "outputs": [
    {
     "data": {
      "text/plain": [
       "array([[1. +0.j, 5. +4.j],\n",
       "       [0.+54.j, 2.+23.j]])"
      ]
     },
     "execution_count": 85,
     "metadata": {},
     "output_type": "execute_result"
    }
   ],
   "source": [
    "b_c = np.array([1+0.j ,5+4.j,0+54.j,2+23.j]).reshape(2,2)     # matrix\n",
    "b_c"
   ]
  },
  {
   "cell_type": "code",
   "execution_count": 86,
   "id": "10ca579b",
   "metadata": {},
   "outputs": [
    {
     "data": {
      "text/plain": [
       "array([[[ 1.+15.j,  0.+40.j],\n",
       "        [40. +5.j,  2.+33.j]]])"
      ]
     },
     "execution_count": 86,
     "metadata": {},
     "output_type": "execute_result"
    }
   ],
   "source": [
    "c_c = np.array([1+15.j ,0+40.j,40+5.j,2+33.j]).reshape(1,2,2)    # cube\n",
    "c_c"
   ]
  },
  {
   "cell_type": "markdown",
   "id": "9d84af1a",
   "metadata": {},
   "source": [
    "- <span style = \"color:red\">real</span>: extracts real part of a complex array"
   ]
  },
  {
   "cell_type": "code",
   "execution_count": 87,
   "id": "238abc15",
   "metadata": {},
   "outputs": [
    {
     "data": {
      "text/plain": [
       "array([1., 0., 0., 2.])"
      ]
     },
     "execution_count": 87,
     "metadata": {},
     "output_type": "execute_result"
    }
   ],
   "source": [
    "a_c.real"
   ]
  },
  {
   "cell_type": "code",
   "execution_count": 88,
   "id": "fb736842",
   "metadata": {},
   "outputs": [
    {
     "data": {
      "text/plain": [
       "array([[1., 5.],\n",
       "       [0., 2.]])"
      ]
     },
     "execution_count": 88,
     "metadata": {},
     "output_type": "execute_result"
    }
   ],
   "source": [
    "b_c.real"
   ]
  },
  {
   "cell_type": "code",
   "execution_count": 89,
   "id": "35d3ea23",
   "metadata": {},
   "outputs": [
    {
     "data": {
      "text/plain": [
       "array([[[ 1.,  0.],\n",
       "        [40.,  2.]]])"
      ]
     },
     "execution_count": 89,
     "metadata": {},
     "output_type": "execute_result"
    }
   ],
   "source": [
    "c_c.real"
   ]
  },
  {
   "cell_type": "markdown",
   "id": "9d360a3a",
   "metadata": {},
   "source": [
    "- <span style = \"color:red\">imag</span>: extracts imagnary part of a complex array."
   ]
  },
  {
   "cell_type": "code",
   "execution_count": 90,
   "id": "bd4e58e3",
   "metadata": {},
   "outputs": [
    {
     "data": {
      "text/plain": [
       "array([1., 4., 5., 3.])"
      ]
     },
     "execution_count": 90,
     "metadata": {},
     "output_type": "execute_result"
    }
   ],
   "source": [
    "a_c.imag"
   ]
  },
  {
   "cell_type": "code",
   "execution_count": 91,
   "id": "d87f4af0",
   "metadata": {},
   "outputs": [
    {
     "data": {
      "text/plain": [
       "array([[ 0.,  4.],\n",
       "       [54., 23.]])"
      ]
     },
     "execution_count": 91,
     "metadata": {},
     "output_type": "execute_result"
    }
   ],
   "source": [
    "b_c.imag"
   ]
  },
  {
   "cell_type": "code",
   "execution_count": 92,
   "id": "2eb3d532",
   "metadata": {},
   "outputs": [
    {
     "data": {
      "text/plain": [
       "array([[[15., 40.],\n",
       "        [ 5., 33.]]])"
      ]
     },
     "execution_count": 92,
     "metadata": {},
     "output_type": "execute_result"
    }
   ],
   "source": [
    "c_c.imag"
   ]
  },
  {
   "cell_type": "markdown",
   "id": "56133fa0",
   "metadata": {},
   "source": [
    "#### 1D iterator over an array\n",
    "\n",
    "<span style = \"color:red\">flat</span>: is a 1D array iterator. It acts similar to, but is not a subclass of, Python built in iterator object."
   ]
  },
  {
   "cell_type": "code",
   "execution_count": 93,
   "id": "30c2c37d",
   "metadata": {},
   "outputs": [
    {
     "data": {
      "text/plain": [
       "array([[1, 2, 3],\n",
       "       [4, 5, 6]])"
      ]
     },
     "execution_count": 93,
     "metadata": {},
     "output_type": "execute_result"
    }
   ],
   "source": [
    "dummy = np.arange(1,7).reshape(2,3)\n",
    "dummy"
   ]
  },
  {
   "cell_type": "code",
   "execution_count": 94,
   "id": "80892bec",
   "metadata": {},
   "outputs": [
    {
     "data": {
      "text/plain": [
       "<numpy.flatiter at 0x218d6ea0410>"
      ]
     },
     "execution_count": 94,
     "metadata": {},
     "output_type": "execute_result"
    }
   ],
   "source": [
    "dummy.flat"
   ]
  },
  {
   "cell_type": "code",
   "execution_count": 95,
   "id": "bf414ed9",
   "metadata": {},
   "outputs": [
    {
     "data": {
      "text/plain": [
       "1"
      ]
     },
     "execution_count": 95,
     "metadata": {},
     "output_type": "execute_result"
    }
   ],
   "source": [
    "dummy.flat[0]    # [n] acts as element number"
   ]
  },
  {
   "cell_type": "code",
   "execution_count": 97,
   "id": "3c626cc2",
   "metadata": {},
   "outputs": [
    {
     "data": {
      "text/plain": [
       "2"
      ]
     },
     "execution_count": 97,
     "metadata": {},
     "output_type": "execute_result"
    }
   ],
   "source": [
    "dummy.flat[1]"
   ]
  },
  {
   "cell_type": "code",
   "execution_count": 98,
   "id": "f6d647ce",
   "metadata": {},
   "outputs": [
    {
     "data": {
      "text/plain": [
       "6"
      ]
     },
     "execution_count": 98,
     "metadata": {},
     "output_type": "execute_result"
    }
   ],
   "source": [
    "dummy.flat[-1]"
   ]
  },
  {
   "cell_type": "code",
   "execution_count": 99,
   "id": "80abf131",
   "metadata": {},
   "outputs": [
    {
     "data": {
      "text/plain": [
       "array([[1, 2, 3],\n",
       "       [4, 0, 6]])"
      ]
     },
     "execution_count": 99,
     "metadata": {},
     "output_type": "execute_result"
    }
   ],
   "source": [
    "dummy.flat[4]=0\n",
    "dummy"
   ]
  },
  {
   "cell_type": "code",
   "execution_count": 100,
   "id": "9e5fe856",
   "metadata": {},
   "outputs": [
    {
     "data": {
      "text/plain": [
       "3"
      ]
     },
     "execution_count": 100,
     "metadata": {},
     "output_type": "execute_result"
    }
   ],
   "source": [
    "dummy.T.flat[4]"
   ]
  },
  {
   "cell_type": "code",
   "execution_count": 102,
   "id": "27485d39",
   "metadata": {},
   "outputs": [
    {
     "data": {
      "text/plain": [
       "array([[2, 2, 2],\n",
       "       [2, 2, 2]])"
      ]
     },
     "execution_count": 102,
     "metadata": {},
     "output_type": "execute_result"
    }
   ],
   "source": [
    "dummy.flat = 2\n",
    "dummy"
   ]
  },
  {
   "cell_type": "code",
   "execution_count": 103,
   "id": "18e6aac1",
   "metadata": {},
   "outputs": [
    {
     "data": {
      "text/plain": [
       "array([[2, 0, 2],\n",
       "       [2, 0, 0]])"
      ]
     },
     "execution_count": 103,
     "metadata": {},
     "output_type": "execute_result"
    }
   ],
   "source": [
    "dummy.flat[[1,4,5]] = 0     # reffering to multiple elements to be 0\n",
    "dummy"
   ]
  }
 ],
 "metadata": {
  "kernelspec": {
   "display_name": "Python 3 (ipykernel)",
   "language": "python",
   "name": "python3"
  },
  "language_info": {
   "codemirror_mode": {
    "name": "ipython",
    "version": 3
   },
   "file_extension": ".py",
   "mimetype": "text/x-python",
   "name": "python",
   "nbconvert_exporter": "python",
   "pygments_lexer": "ipython3",
   "version": "3.9.12"
  }
 },
 "nbformat": 4,
 "nbformat_minor": 5
}
