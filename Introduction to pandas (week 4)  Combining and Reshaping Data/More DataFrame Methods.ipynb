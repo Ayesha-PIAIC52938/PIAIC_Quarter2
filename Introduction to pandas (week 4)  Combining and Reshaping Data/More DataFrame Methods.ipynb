{
 "cells": [
  {
   "cell_type": "markdown",
   "id": "2044d02b",
   "metadata": {},
   "source": [
    "# More DataFrame Methods"
   ]
  },
  {
   "cell_type": "markdown",
   "id": "2b2c5eb2",
   "metadata": {},
   "source": [
    "# <div class= \"alert alert-info\"> .concat()"
   ]
  },
  {
   "cell_type": "markdown",
   "id": "218956f1",
   "metadata": {},
   "source": [
    "# <div class= \"alert alert-info\"> .append()"
   ]
  },
  {
   "cell_type": "markdown",
   "id": "325cb3f8",
   "metadata": {},
   "source": [
    "# <div class= \"alert alert-info\">.get()"
   ]
  },
  {
   "cell_type": "markdown",
   "id": "18d8b5ee",
   "metadata": {},
   "source": [
    "# <div class= \"alert alert-info\">.merge()"
   ]
  },
  {
   "cell_type": "markdown",
   "id": "a7d2641a",
   "metadata": {},
   "source": [
    "# <div class= \"alert alert-info\">.join()"
   ]
  },
  {
   "cell_type": "markdown",
   "id": "136d9f90",
   "metadata": {},
   "source": [
    "# <div class= \"alert alert-info\">"
   ]
  },
  {
   "cell_type": "markdown",
   "id": "d9b99ef7",
   "metadata": {},
   "source": [
    "# <div class= \"alert alert-info\">"
   ]
  },
  {
   "cell_type": "markdown",
   "id": "6dbb9532",
   "metadata": {},
   "source": [
    "# <div class= \"alert alert-info\">"
   ]
  },
  {
   "cell_type": "markdown",
   "id": "727066e3",
   "metadata": {},
   "source": [
    "# <div class= \"alert alert-info\">"
   ]
  },
  {
   "cell_type": "markdown",
   "id": "07bf6a38",
   "metadata": {},
   "source": [
    "# <div class= \"alert alert-info\">"
   ]
  },
  {
   "cell_type": "markdown",
   "id": "ab3904c3",
   "metadata": {},
   "source": [
    "# <div class= \"alert alert-info\">"
   ]
  }
 ],
 "metadata": {
  "kernelspec": {
   "display_name": "Python 3 (ipykernel)",
   "language": "python",
   "name": "python3"
  },
  "language_info": {
   "codemirror_mode": {
    "name": "ipython",
    "version": 3
   },
   "file_extension": ".py",
   "mimetype": "text/x-python",
   "name": "python",
   "nbconvert_exporter": "python",
   "pygments_lexer": "ipython3",
   "version": "3.9.12"
  }
 },
 "nbformat": 4,
 "nbformat_minor": 5
}
