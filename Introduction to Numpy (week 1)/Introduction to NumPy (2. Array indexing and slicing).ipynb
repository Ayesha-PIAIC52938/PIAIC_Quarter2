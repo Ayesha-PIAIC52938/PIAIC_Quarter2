{
 "cells": [
  {
   "cell_type": "markdown",
   "id": "fa15afcb",
   "metadata": {},
   "source": [
    "# <div class=\"alert alert-success\" >(2) Array indexing\n",
    "    \n",
    "Array indexing means accessing array elements. in Numpy indexing an array follows the same ryles as python list indexing\n",
    "   \n",
    "- Positive indexing:is from 0 to [n-1]. with first element at index 0 and last element at indes[n-1]. n is the size of an array\n",
    "- Negative indexing:is from [-n] to [-1]. with first element at index [-n] and last element at indes[-1]. n is the size of an array"
   ]
  },
  {
   "cell_type": "code",
   "execution_count": 1,
   "id": "e8876def",
   "metadata": {},
   "outputs": [],
   "source": [
    "import numpy as np\n",
    "a = np.arange(1,11)\n",
    "b = np.arange(1,11).reshape(2,5)\n",
    "c = np.arange(1,13).reshape(2,2,3)"
   ]
  },
  {
   "cell_type": "markdown",
   "id": "daf9f638",
   "metadata": {},
   "source": [
    "#### <div class= \"alert alert-info\">Vector Indexing:"
   ]
  },
  {
   "cell_type": "code",
   "execution_count": 2,
   "id": "b37b6b7e",
   "metadata": {},
   "outputs": [
    {
     "data": {
      "text/plain": [
       "array([ 1,  2,  3,  4,  5,  6,  7,  8,  9, 10])"
      ]
     },
     "execution_count": 2,
     "metadata": {},
     "output_type": "execute_result"
    }
   ],
   "source": [
    "a"
   ]
  },
  {
   "cell_type": "code",
   "execution_count": 3,
   "id": "0b5c4b32",
   "metadata": {},
   "outputs": [
    {
     "data": {
      "text/plain": [
       "1"
      ]
     },
     "execution_count": 3,
     "metadata": {},
     "output_type": "execute_result"
    }
   ],
   "source": [
    "a[0]        # element at index 0"
   ]
  },
  {
   "cell_type": "code",
   "execution_count": 4,
   "id": "782d7d35",
   "metadata": {},
   "outputs": [
    {
     "data": {
      "text/plain": [
       "4"
      ]
     },
     "execution_count": 4,
     "metadata": {},
     "output_type": "execute_result"
    }
   ],
   "source": [
    "a[3]        # element at index 3"
   ]
  },
  {
   "cell_type": "code",
   "execution_count": 5,
   "id": "979fe3ba",
   "metadata": {},
   "outputs": [
    {
     "data": {
      "text/plain": [
       "10"
      ]
     },
     "execution_count": 5,
     "metadata": {},
     "output_type": "execute_result"
    }
   ],
   "source": [
    "a[9]        # element at index 9"
   ]
  },
  {
   "cell_type": "code",
   "execution_count": 6,
   "id": "1f45e838",
   "metadata": {},
   "outputs": [
    {
     "data": {
      "text/plain": [
       "1"
      ]
     },
     "execution_count": 6,
     "metadata": {},
     "output_type": "execute_result"
    }
   ],
   "source": [
    "a[-10]         # first element of an array"
   ]
  },
  {
   "cell_type": "code",
   "execution_count": 7,
   "id": "e0691a79",
   "metadata": {},
   "outputs": [
    {
     "data": {
      "text/plain": [
       "2"
      ]
     },
     "execution_count": 7,
     "metadata": {},
     "output_type": "execute_result"
    }
   ],
   "source": [
    "a[-9]"
   ]
  },
  {
   "cell_type": "code",
   "execution_count": 8,
   "id": "903fd804",
   "metadata": {},
   "outputs": [
    {
     "data": {
      "text/plain": [
       "3"
      ]
     },
     "execution_count": 8,
     "metadata": {},
     "output_type": "execute_result"
    }
   ],
   "source": [
    "a[-8]"
   ]
  },
  {
   "cell_type": "code",
   "execution_count": 9,
   "id": "a5fb5c58",
   "metadata": {},
   "outputs": [
    {
     "data": {
      "text/plain": [
       "8"
      ]
     },
     "execution_count": 9,
     "metadata": {},
     "output_type": "execute_result"
    }
   ],
   "source": [
    "a[-3]"
   ]
  },
  {
   "cell_type": "code",
   "execution_count": 10,
   "id": "91530b6c",
   "metadata": {},
   "outputs": [
    {
     "data": {
      "text/plain": [
       "9"
      ]
     },
     "execution_count": 10,
     "metadata": {},
     "output_type": "execute_result"
    }
   ],
   "source": [
    "a[-2]"
   ]
  },
  {
   "cell_type": "code",
   "execution_count": 11,
   "id": "b8a7093b",
   "metadata": {},
   "outputs": [
    {
     "data": {
      "text/plain": [
       "10"
      ]
     },
     "execution_count": 11,
     "metadata": {},
     "output_type": "execute_result"
    }
   ],
   "source": [
    "a[-1]              # last element of an array"
   ]
  },
  {
   "cell_type": "markdown",
   "id": "2121015d",
   "metadata": {},
   "source": [
    "#### <div class= \"alert alert-info\">Matrix Indexing:\n",
    "    \n",
    " Matrix indixing require row and columns ie matrix[r,c] or matrix[r][c].\n",
    "    \n",
    " [ [r0 c0-1],[r1 c0-1] ]2x2 "
   ]
  },
  {
   "cell_type": "code",
   "execution_count": 12,
   "id": "524d1fb4",
   "metadata": {},
   "outputs": [
    {
     "data": {
      "text/plain": [
       "array([[ 1,  2,  3,  4,  5],\n",
       "       [ 6,  7,  8,  9, 10]])"
      ]
     },
     "execution_count": 12,
     "metadata": {},
     "output_type": "execute_result"
    }
   ],
   "source": [
    "b"
   ]
  },
  {
   "cell_type": "code",
   "execution_count": 13,
   "id": "967bdc83",
   "metadata": {},
   "outputs": [
    {
     "data": {
      "text/plain": [
       "1"
      ]
     },
     "execution_count": 13,
     "metadata": {},
     "output_type": "execute_result"
    }
   ],
   "source": [
    "b[0,0]         # element @ r0,c0 "
   ]
  },
  {
   "cell_type": "code",
   "execution_count": 14,
   "id": "6a1d83e9",
   "metadata": {},
   "outputs": [
    {
     "data": {
      "text/plain": [
       "2"
      ]
     },
     "execution_count": 14,
     "metadata": {},
     "output_type": "execute_result"
    }
   ],
   "source": [
    "b[0][1]"
   ]
  },
  {
   "cell_type": "code",
   "execution_count": 15,
   "id": "80383db6",
   "metadata": {},
   "outputs": [
    {
     "data": {
      "text/plain": [
       "3"
      ]
     },
     "execution_count": 15,
     "metadata": {},
     "output_type": "execute_result"
    }
   ],
   "source": [
    "b[0,2]         # element @ r0,c2 "
   ]
  },
  {
   "cell_type": "code",
   "execution_count": 16,
   "id": "84e9ec74",
   "metadata": {},
   "outputs": [
    {
     "data": {
      "text/plain": [
       "5"
      ]
     },
     "execution_count": 16,
     "metadata": {},
     "output_type": "execute_result"
    }
   ],
   "source": [
    "b[0,4]         # element @ r0,c4 "
   ]
  },
  {
   "cell_type": "code",
   "execution_count": 17,
   "id": "4bf00c51",
   "metadata": {},
   "outputs": [
    {
     "data": {
      "text/plain": [
       "6"
      ]
     },
     "execution_count": 17,
     "metadata": {},
     "output_type": "execute_result"
    }
   ],
   "source": [
    "b[1,0]         # element @ r1,c0 "
   ]
  },
  {
   "cell_type": "code",
   "execution_count": 18,
   "id": "1d575cd8",
   "metadata": {},
   "outputs": [
    {
     "data": {
      "text/plain": [
       "8"
      ]
     },
     "execution_count": 18,
     "metadata": {},
     "output_type": "execute_result"
    }
   ],
   "source": [
    "b[1,2]         # element @ r1,c2 "
   ]
  },
  {
   "cell_type": "code",
   "execution_count": 19,
   "id": "b7c1a3b9",
   "metadata": {},
   "outputs": [
    {
     "data": {
      "text/plain": [
       "10"
      ]
     },
     "execution_count": 19,
     "metadata": {},
     "output_type": "execute_result"
    }
   ],
   "source": [
    "b[1,4]         # element @ r1,c4 "
   ]
  },
  {
   "cell_type": "code",
   "execution_count": 20,
   "id": "5329ad51",
   "metadata": {},
   "outputs": [
    {
     "data": {
      "text/plain": [
       "9"
      ]
     },
     "execution_count": 20,
     "metadata": {},
     "output_type": "execute_result"
    }
   ],
   "source": [
    "b[1,3]         # element @ r1,c3"
   ]
  },
  {
   "cell_type": "markdown",
   "id": "a47085a1",
   "metadata": {},
   "source": [
    "### <div class= \"alert alert-info\">Cube Indexing:\n",
    "\n",
    "Matrix indixing require depth, row and columns ie matrix[d,r,c] or matrix[d][r][c]\n",
    "    \n",
    "[ [[d0 r0-1 c0-2]],[[d0 r0-1 c0-2]] ]2x2x3 "
   ]
  },
  {
   "cell_type": "code",
   "execution_count": 21,
   "id": "988f6c45",
   "metadata": {},
   "outputs": [
    {
     "data": {
      "text/plain": [
       "array([[[ 1,  2,  3],\n",
       "        [ 4,  5,  6]],\n",
       "\n",
       "       [[ 7,  8,  9],\n",
       "        [10, 11, 12]]])"
      ]
     },
     "execution_count": 21,
     "metadata": {},
     "output_type": "execute_result"
    }
   ],
   "source": [
    "c"
   ]
  },
  {
   "cell_type": "code",
   "execution_count": 22,
   "id": "069e728e",
   "metadata": {},
   "outputs": [
    {
     "data": {
      "text/plain": [
       "2"
      ]
     },
     "execution_count": 22,
     "metadata": {},
     "output_type": "execute_result"
    }
   ],
   "source": [
    "c[0,0,1]           # element @ d0 r0 c1"
   ]
  },
  {
   "cell_type": "code",
   "execution_count": 23,
   "id": "e6e16ae0",
   "metadata": {},
   "outputs": [
    {
     "data": {
      "text/plain": [
       "6"
      ]
     },
     "execution_count": 23,
     "metadata": {},
     "output_type": "execute_result"
    }
   ],
   "source": [
    "c[0][1][2]          # element @ d0 r1 c2"
   ]
  },
  {
   "cell_type": "code",
   "execution_count": 24,
   "id": "6271af55",
   "metadata": {},
   "outputs": [
    {
     "data": {
      "text/plain": [
       "8"
      ]
     },
     "execution_count": 24,
     "metadata": {},
     "output_type": "execute_result"
    }
   ],
   "source": [
    "c[1,0,1]           # element @ d1 r0 c1"
   ]
  },
  {
   "cell_type": "code",
   "execution_count": 25,
   "id": "fcc2751b",
   "metadata": {},
   "outputs": [
    {
     "data": {
      "text/plain": [
       "11"
      ]
     },
     "execution_count": 25,
     "metadata": {},
     "output_type": "execute_result"
    }
   ],
   "source": [
    "c[1,1,1]           # element @ d1 r1 c1"
   ]
  },
  {
   "cell_type": "code",
   "execution_count": 26,
   "id": "5c9cb3ad",
   "metadata": {},
   "outputs": [
    {
     "data": {
      "text/plain": [
       "12"
      ]
     },
     "execution_count": 26,
     "metadata": {},
     "output_type": "execute_result"
    }
   ],
   "source": [
    "c[1,1,2]           # element @ d0 r0 c1"
   ]
  },
  {
   "cell_type": "markdown",
   "id": "d0aeb707",
   "metadata": {},
   "source": [
    "# <div class=\"alert alert-success\" >Array slicing\n",
    "\n",
    "    Slicing is indexing but it selects a range of elements. Like Python we use : for slicing."
   ]
  },
  {
   "cell_type": "markdown",
   "id": "f1ca6324",
   "metadata": {},
   "source": [
    "#### <div class= \"alert alert-info\">Vector Slicing:\n",
    "    \n",
    "- 1D array is sliced like:-   array_name[a:b:n]. It starts slicing array_name from 'a' to [b-1] with a jump on n \n",
    "   "
   ]
  },
  {
   "cell_type": "code",
   "execution_count": 27,
   "id": "60558630",
   "metadata": {},
   "outputs": [
    {
     "data": {
      "text/plain": [
       "array([ 1,  2,  3,  4,  5,  6,  7,  8,  9, 10])"
      ]
     },
     "execution_count": 27,
     "metadata": {},
     "output_type": "execute_result"
    }
   ],
   "source": [
    "a"
   ]
  },
  {
   "cell_type": "code",
   "execution_count": 28,
   "id": "97b425ae",
   "metadata": {},
   "outputs": [
    {
     "data": {
      "text/plain": [
       "array([4, 5, 6])"
      ]
     },
     "execution_count": 28,
     "metadata": {},
     "output_type": "execute_result"
    }
   ],
   "source": [
    "a[3:6]      # slice array from index 3 to 5"
   ]
  },
  {
   "cell_type": "code",
   "execution_count": 29,
   "id": "14213e20",
   "metadata": {},
   "outputs": [
    {
     "data": {
      "text/plain": [
       "array([1, 2, 3, 4, 5, 6])"
      ]
     },
     "execution_count": 29,
     "metadata": {},
     "output_type": "execute_result"
    }
   ],
   "source": [
    "a[:6]      # slice array from index 0 to 5"
   ]
  },
  {
   "cell_type": "code",
   "execution_count": 30,
   "id": "2de777a8",
   "metadata": {},
   "outputs": [
    {
     "data": {
      "text/plain": [
       "array([ 1,  2,  3,  4,  5,  6,  7,  8,  9, 10])"
      ]
     },
     "execution_count": 30,
     "metadata": {},
     "output_type": "execute_result"
    }
   ],
   "source": [
    "a[:]      # slice array from index 0 to 9 ie all array elements"
   ]
  },
  {
   "cell_type": "code",
   "execution_count": 31,
   "id": "049d86bd",
   "metadata": {},
   "outputs": [
    {
     "data": {
      "text/plain": [
       "array([ 2,  3,  4,  5,  6,  7,  8,  9, 10])"
      ]
     },
     "execution_count": 31,
     "metadata": {},
     "output_type": "execute_result"
    }
   ],
   "source": [
    "a[1: ]      # slice array from index 1 to 9 (till end)"
   ]
  },
  {
   "cell_type": "code",
   "execution_count": 32,
   "id": "29a512fb",
   "metadata": {},
   "outputs": [
    {
     "data": {
      "text/plain": [
       "array([1, 3, 5, 7])"
      ]
     },
     "execution_count": 32,
     "metadata": {},
     "output_type": "execute_result"
    }
   ],
   "source": [
    "a[0:7:2]      # slice array from index 0 to 6 with a jump of 2"
   ]
  },
  {
   "cell_type": "code",
   "execution_count": 33,
   "id": "8e5b7879",
   "metadata": {},
   "outputs": [
    {
     "data": {
      "text/plain": [
       "array([1, 3, 5, 7, 9])"
      ]
     },
     "execution_count": 33,
     "metadata": {},
     "output_type": "execute_result"
    }
   ],
   "source": [
    "a[: :2]      # slice array from index 0 to 9 with a jump of 2"
   ]
  },
  {
   "cell_type": "code",
   "execution_count": 34,
   "id": "0564e5ba",
   "metadata": {},
   "outputs": [
    {
     "data": {
      "text/plain": [
       "array([ 4,  7, 10])"
      ]
     },
     "execution_count": 34,
     "metadata": {},
     "output_type": "execute_result"
    }
   ],
   "source": [
    "a[3::3]      # slice array from index 3 to 9 with a jump of 3"
   ]
  },
  {
   "cell_type": "markdown",
   "id": "ca59de7d",
   "metadata": {},
   "source": [
    "#### <div class= \"alert alert-info\">Matrix Slicing:\n",
    "    \n",
    "- 2D array is sliced like:-   array_name[ra:rb:rn , ca:cb,rn]. It starts slicing array_name rows from 'ra' to [rb-1] with a jump on rn and columns from 'ca' to [cb-1] with a jump on cn.\n",
    "    \n",
    "<div class=\"alert alert-warning\"> If either row or column is fixed while the other is sliced we get 1D array </div>"
   ]
  },
  {
   "cell_type": "code",
   "execution_count": 35,
   "id": "4fc60557",
   "metadata": {},
   "outputs": [
    {
     "data": {
      "text/plain": [
       "array([[ 1,  2,  3,  4,  5],\n",
       "       [ 6,  7,  8,  9, 10]])"
      ]
     },
     "execution_count": 35,
     "metadata": {},
     "output_type": "execute_result"
    }
   ],
   "source": [
    "b"
   ]
  },
  {
   "cell_type": "code",
   "execution_count": 36,
   "id": "7df65e65",
   "metadata": {},
   "outputs": [
    {
     "data": {
      "text/plain": [
       "array([[8, 9]])"
      ]
     },
     "execution_count": 36,
     "metadata": {},
     "output_type": "execute_result"
    }
   ],
   "source": [
    "b[1:2,2:4]   # slicse  r1 from c2-3 "
   ]
  },
  {
   "cell_type": "code",
   "execution_count": 37,
   "id": "7ed781ed",
   "metadata": {},
   "outputs": [
    {
     "data": {
      "text/plain": [
       "array([[ 4,  5],\n",
       "       [ 9, 10]])"
      ]
     },
     "execution_count": 37,
     "metadata": {},
     "output_type": "execute_result"
    }
   ],
   "source": [
    "b[0:2,3:5]   # slicse from r0-1 to c3-4 "
   ]
  },
  {
   "cell_type": "code",
   "execution_count": 38,
   "id": "814a2ce0",
   "metadata": {},
   "outputs": [
    {
     "data": {
      "text/plain": [
       "array([[2, 3]])"
      ]
     },
     "execution_count": 38,
     "metadata": {},
     "output_type": "execute_result"
    }
   ],
   "source": [
    "b[::2,1:3]   # slicse from r0-1 with jump 2 (ie just r0) and c1-2"
   ]
  },
  {
   "cell_type": "markdown",
   "id": "036950e3",
   "metadata": {},
   "source": [
    "<mark> When row is fixed and column is sliced or vie versa it results in 1D array as below: </mark>"
   ]
  },
  {
   "cell_type": "code",
   "execution_count": 39,
   "id": "e0280a6b",
   "metadata": {},
   "outputs": [
    {
     "data": {
      "text/plain": [
       "array([ 7,  8,  9, 10])"
      ]
     },
     "execution_count": 39,
     "metadata": {},
     "output_type": "execute_result"
    }
   ],
   "source": [
    "b[1,1:66]   # slicse  r1 from c1-4 (if index out of range it slice till end)"
   ]
  },
  {
   "cell_type": "code",
   "execution_count": 40,
   "id": "eae2ed83",
   "metadata": {},
   "outputs": [
    {
     "data": {
      "text/plain": [
       "array([4, 9])"
      ]
     },
     "execution_count": 40,
     "metadata": {},
     "output_type": "execute_result"
    }
   ],
   "source": [
    "b[0:3,3]"
   ]
  },
  {
   "cell_type": "code",
   "execution_count": 41,
   "id": "eb6bcb1c",
   "metadata": {},
   "outputs": [
    {
     "data": {
      "text/plain": [
       "array([[ 1,  3,  5],\n",
       "       [ 6,  8, 10]])"
      ]
     },
     "execution_count": 41,
     "metadata": {},
     "output_type": "execute_result"
    }
   ],
   "source": [
    "b[:,::2]   # slicse from r0-1 and c1-4 with jump 2 "
   ]
  },
  {
   "cell_type": "code",
   "execution_count": 42,
   "id": "9712184f",
   "metadata": {},
   "outputs": [
    {
     "data": {
      "text/plain": [
       "array([[ 5,  3,  1],\n",
       "       [10,  8,  6]])"
      ]
     },
     "execution_count": 42,
     "metadata": {},
     "output_type": "execute_result"
    }
   ],
   "source": [
    "b[:,::-2]   # slicse from r0-1 and c1-4 with jump -2 "
   ]
  },
  {
   "cell_type": "code",
   "execution_count": 43,
   "id": "a0ad8ae1",
   "metadata": {},
   "outputs": [
    {
     "data": {
      "text/plain": [
       "array([[10,  9,  8,  7,  6],\n",
       "       [ 5,  4,  3,  2,  1]])"
      ]
     },
     "execution_count": 43,
     "metadata": {},
     "output_type": "execute_result"
    }
   ],
   "source": [
    "b[::-1,::-1]   # slicse from r0-1 with jump -1 and c1-4 with jump -1"
   ]
  },
  {
   "cell_type": "markdown",
   "id": "a531df24",
   "metadata": {},
   "source": [
    "#### <div class= \"alert alert-info\">Cube Slicing:\n",
    "    \n",
    "- 3D array is sliced like:-   array_name[da:db:dn ,  ra:rb:rn , ca:cb,rn]. It starts slicing array_name depth from 'da' to [db-1] with a jump on dn , rows from 'ra' to [rb-1] with a jump on rn and columns from 'ca' to [cb-1] with a jump on cn.\n",
    "    \n",
    "<div class=\"alert alert-warning\"> \n",
    "    \n",
    "  - If depth is sliced while rows & columns are fixed we get 1D array [Depth slicing]\n",
    "    \n",
    "  - If row is sliced while depth & columns are fixed we get 1D array  [Row slicing]\n",
    "    \n",
    "  - If column is sliced while rows & depth are fixed we get 1D array  [Column slicing] \n",
    "    \n",
    "  - If depth & row is sliced while column is fixed we get 2D array\n",
    "    \n",
    "  - If depth & column is sliced while row is fixed we get 2D array\n",
    "</div>"
   ]
  },
  {
   "cell_type": "code",
   "execution_count": 44,
   "id": "0a7e1ac9",
   "metadata": {},
   "outputs": [
    {
     "data": {
      "text/plain": [
       "array([[[ 1,  2,  3],\n",
       "        [ 4,  5,  6]],\n",
       "\n",
       "       [[ 7,  8,  9],\n",
       "        [10, 11, 12]]])"
      ]
     },
     "execution_count": 44,
     "metadata": {},
     "output_type": "execute_result"
    }
   ],
   "source": [
    "c"
   ]
  },
  {
   "cell_type": "markdown",
   "id": "20e5cecd",
   "metadata": {},
   "source": [
    "##### 1D Slicing"
   ]
  },
  {
   "cell_type": "code",
   "execution_count": 46,
   "id": "ad643190",
   "metadata": {},
   "outputs": [
    {
     "data": {
      "text/plain": [
       "array([12])"
      ]
     },
     "execution_count": 46,
     "metadata": {},
     "output_type": "execute_result"
    }
   ],
   "source": [
    "c[1:2,1,2]             # Slices c's depth from d1-2 (ie d1 ) for r1 &c2  [depth slicing]"
   ]
  },
  {
   "cell_type": "code",
   "execution_count": 47,
   "id": "b4e35898",
   "metadata": {},
   "outputs": [
    {
     "data": {
      "text/plain": [
       "array([ 8, 11])"
      ]
     },
     "execution_count": 47,
     "metadata": {},
     "output_type": "execute_result"
    }
   ],
   "source": [
    "c[1,:2,1]              # Slices c's row from r0-2 (ie r0 & r1 ) for d1 &c1  [row slicing] "
   ]
  },
  {
   "cell_type": "code",
   "execution_count": 54,
   "id": "27a44b68",
   "metadata": {},
   "outputs": [
    {
     "data": {
      "text/plain": [
       "array([10, 12])"
      ]
     },
     "execution_count": 54,
     "metadata": {},
     "output_type": "execute_result"
    }
   ],
   "source": [
    "c[1,1,0:3:2]            # Slices c's columns from c0-1 with  jump 2 for d1 &r1  [column slicing]"
   ]
  },
  {
   "cell_type": "markdown",
   "id": "f63a7523",
   "metadata": {},
   "source": [
    "<div class =\"alert alert-warning\"> In a cube array depth is axis = 0 and row is axis = 1 and col is axis = 2? </div>"
   ]
  },
  {
   "cell_type": "markdown",
   "id": "2b578ad2",
   "metadata": {},
   "source": [
    "##### 2D Slicing"
   ]
  },
  {
   "cell_type": "code",
   "execution_count": 56,
   "id": "0de84b80",
   "metadata": {},
   "outputs": [
    {
     "data": {
      "text/plain": [
       "array([[ 6],\n",
       "       [12]])"
      ]
     },
     "execution_count": 56,
     "metadata": {},
     "output_type": "execute_result"
    }
   ],
   "source": [
    "c[:,1:2,2]            # Slices c's depth and row from  d0-1, r1-2 (ie r1) for c2"
   ]
  },
  {
   "cell_type": "markdown",
   "id": "cf907b7e",
   "metadata": {},
   "source": [
    "<mark> c[0] or c[1] for 3D is basically depth slicing: </mark>"
   ]
  },
  {
   "cell_type": "code",
   "execution_count": 68,
   "id": "5fe40b0a",
   "metadata": {},
   "outputs": [
    {
     "data": {
      "text/plain": [
       "array([[1, 2, 3],\n",
       "       [4, 5, 6]])"
      ]
     },
     "execution_count": 68,
     "metadata": {},
     "output_type": "execute_result"
    }
   ],
   "source": [
    "c[0]         # slicing d0 for all rows and columns"
   ]
  },
  {
   "cell_type": "code",
   "execution_count": 69,
   "id": "7a448014",
   "metadata": {},
   "outputs": [
    {
     "data": {
      "text/plain": [
       "array([[ 7,  8,  9],\n",
       "       [10, 11, 12]])"
      ]
     },
     "execution_count": 69,
     "metadata": {},
     "output_type": "execute_result"
    }
   ],
   "source": [
    "c[1]         # slicing d1 for all rows and columns"
   ]
  },
  {
   "cell_type": "code",
   "execution_count": 70,
   "id": "56fe788c",
   "metadata": {},
   "outputs": [
    {
     "data": {
      "text/plain": [
       "array([[[ 7,  8,  9],\n",
       "        [10, 11, 12]],\n",
       "\n",
       "       [[ 1,  2,  3],\n",
       "        [ 4,  5,  6]]])"
      ]
     },
     "execution_count": 70,
     "metadata": {},
     "output_type": "execute_result"
    }
   ],
   "source": [
    "c[: : -1]          # reverses depths"
   ]
  },
  {
   "cell_type": "code",
   "execution_count": 71,
   "id": "944e3f41",
   "metadata": {},
   "outputs": [
    {
     "data": {
      "text/plain": [
       "array([[[10, 11, 12],\n",
       "        [ 7,  8,  9]],\n",
       "\n",
       "       [[ 4,  5,  6],\n",
       "        [ 1,  2,  3]]])"
      ]
     },
     "execution_count": 71,
     "metadata": {},
     "output_type": "execute_result"
    }
   ],
   "source": [
    "c[: : -1, : : -1,:]      # reverses depths and rows per depth"
   ]
  },
  {
   "cell_type": "code",
   "execution_count": 72,
   "id": "64cfd68a",
   "metadata": {},
   "outputs": [
    {
     "data": {
      "text/plain": [
       "array([[[12, 11, 10],\n",
       "        [ 9,  8,  7]],\n",
       "\n",
       "       [[ 6,  5,  4],\n",
       "        [ 3,  2,  1]]])"
      ]
     },
     "execution_count": 72,
     "metadata": {},
     "output_type": "execute_result"
    }
   ],
   "source": [
    "c[: : -1, : : -1,: : -1]      # reverses depths, columns per depth and rows per depth"
   ]
  },
  {
   "cell_type": "code",
   "execution_count": 57,
   "id": "3e2b5f74",
   "metadata": {},
   "outputs": [
    {
     "data": {
      "text/plain": [
       "array([[1, 3],\n",
       "       [7, 9]])"
      ]
     },
     "execution_count": 57,
     "metadata": {},
     "output_type": "execute_result"
    }
   ],
   "source": [
    "c[:,0,0:3:2]            # Slices c's depth and columns  from  d0-1, c0-2 with jump 2 for r0"
   ]
  },
  {
   "cell_type": "code",
   "execution_count": 58,
   "id": "dbf41cb9",
   "metadata": {},
   "outputs": [
    {
     "data": {
      "text/plain": [
       "array([[ 7,  9],\n",
       "       [10, 12]])"
      ]
     },
     "execution_count": 58,
     "metadata": {},
     "output_type": "execute_result"
    }
   ],
   "source": [
    "c[1,:,0:3:2]            # Slices c's rows and columns from  r0-1, c0-2 with jump 2 for d1"
   ]
  },
  {
   "cell_type": "markdown",
   "id": "157a70e6",
   "metadata": {},
   "source": [
    "##### 3D Slicing"
   ]
  },
  {
   "cell_type": "code",
   "execution_count": 59,
   "id": "67836e14",
   "metadata": {},
   "outputs": [
    {
     "data": {
      "text/plain": [
       "array([[[ 8,  9],\n",
       "        [11, 12]]])"
      ]
     },
     "execution_count": 59,
     "metadata": {},
     "output_type": "execute_result"
    }
   ],
   "source": [
    "c[1:,:,1:3]           # Slicing c's depth d1, row from r0-1 and column from c1-2"
   ]
  },
  {
   "cell_type": "markdown",
   "id": "24a23930",
   "metadata": {},
   "source": [
    "##### Ellipsis function (...)\n",
    "\n",
    "Ellipsis reffers to multiple dimensions at once i.e for c[:,:,1] we can simply write c[...,1]. \n",
    "Similarly c[0,:,:] = c[0,...]"
   ]
  },
  {
   "cell_type": "code",
   "execution_count": 60,
   "id": "9fa0b552",
   "metadata": {},
   "outputs": [
    {
     "data": {
      "text/plain": [
       "array([[ 2,  5],\n",
       "       [ 8, 11]])"
      ]
     },
     "execution_count": 60,
     "metadata": {},
     "output_type": "execute_result"
    }
   ],
   "source": [
    "c[:,:,1]"
   ]
  },
  {
   "cell_type": "code",
   "execution_count": 61,
   "id": "e7af1dc6",
   "metadata": {},
   "outputs": [
    {
     "data": {
      "text/plain": [
       "array([[ 2,  5],\n",
       "       [ 8, 11]])"
      ]
     },
     "execution_count": 61,
     "metadata": {},
     "output_type": "execute_result"
    }
   ],
   "source": [
    "c[...,1]"
   ]
  },
  {
   "cell_type": "code",
   "execution_count": 62,
   "id": "63ee9512",
   "metadata": {},
   "outputs": [
    {
     "data": {
      "text/plain": [
       "array([[ 7,  8,  9],\n",
       "       [10, 11, 12]])"
      ]
     },
     "execution_count": 62,
     "metadata": {},
     "output_type": "execute_result"
    }
   ],
   "source": [
    "c[1,:,:]"
   ]
  },
  {
   "cell_type": "code",
   "execution_count": 63,
   "id": "c708ddf2",
   "metadata": {},
   "outputs": [
    {
     "data": {
      "text/plain": [
       "array([[ 7,  8,  9],\n",
       "       [10, 11, 12]])"
      ]
     },
     "execution_count": 63,
     "metadata": {},
     "output_type": "execute_result"
    }
   ],
   "source": [
    "c[1,...]"
   ]
  },
  {
   "cell_type": "markdown",
   "id": "ae3c2adb",
   "metadata": {},
   "source": [
    "<mark> ... works for consective axis i.e axis 0,1 or 1,2 </mark>"
   ]
  }
 ],
 "metadata": {
  "kernelspec": {
   "display_name": "Python 3 (ipykernel)",
   "language": "python",
   "name": "python3"
  },
  "language_info": {
   "codemirror_mode": {
    "name": "ipython",
    "version": 3
   },
   "file_extension": ".py",
   "mimetype": "text/x-python",
   "name": "python",
   "nbconvert_exporter": "python",
   "pygments_lexer": "ipython3",
   "version": "3.9.12"
  }
 },
 "nbformat": 4,
 "nbformat_minor": 5
}
