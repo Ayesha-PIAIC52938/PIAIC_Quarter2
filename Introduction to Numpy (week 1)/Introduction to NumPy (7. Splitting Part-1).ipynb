{
 "cells": [
  {
   "cell_type": "markdown",
   "id": "a6626e38",
   "metadata": {},
   "source": [
    "# <div class=\"alert alert-success\" >(7). Splitting (part-1)\n",
    "    \n",
    "Splitting os the reversal of joining. splitting breaks one arry into multiple. there are three type of splits:\n",
    "\n",
    "- Horizontal split\n",
    "- Vertical split\n",
    "- Depth split\n"
   ]
  },
  {
   "cell_type": "markdown",
   "id": "b13f35c5",
   "metadata": {},
   "source": [
    "#### <div class= \"alert alert-info\"> The split functions: split() & array_split()\n"
   ]
  },
  {
   "cell_type": "markdown",
   "id": "71795752",
   "metadata": {},
   "source": [
    "#### <div class = \"alert alert-warning\"> array_split()</div>\n",
    "\n",
    "<span style=\"color:red\">array_split()</span> method is used to split an array into multiple subarrays of equal size. The return type of array_split() function is an array that contains the number of splits, as specified when the method is called. array_split() method can also adjust the number of elements when elements are less in the source array for splitting. \n",
    "\n",
    "<mark> maximum number of splits = size of array</mark>\n",
    "\n",
    "<span style=\"color:red\">array_split(</span> array , no of splits , axis = 0/1  <span style=\"color:red\">)</span> splits an array into specified number of smaller arrays along the specified axis"
   ]
  },
  {
   "cell_type": "markdown",
   "id": "3edc5c0d",
   "metadata": {},
   "source": [
    "#### <div class = \"alert alert-warning\"> split()</div>    \n",
    "\n",
    "<span style=\"color:red\">split()</span> method is same as array_split() method but the only difference being that split() method can not adjust the number of elements when elements are less in the source array for splitting, thus gives error for such case. "
   ]
  },
  {
   "cell_type": "markdown",
   "id": "4d2efa35",
   "metadata": {},
   "source": [
    "#### <div class= \"alert alert-danger\">1D arrays splitting"
   ]
  },
  {
   "cell_type": "markdown",
   "id": "54179316",
   "metadata": {},
   "source": [
    "#### <div class= \"alert alert-danger\">2D arrays splitting"
   ]
  },
  {
   "cell_type": "markdown",
   "id": "6f09671f",
   "metadata": {},
   "source": [
    "#### <div class= \"alert alert-danger\">3D arrays splitting"
   ]
  },
  {
   "cell_type": "code",
   "execution_count": null,
   "id": "f9dfd5f2",
   "metadata": {},
   "outputs": [],
   "source": []
  }
 ],
 "metadata": {
  "kernelspec": {
   "display_name": "Python 3 (ipykernel)",
   "language": "python",
   "name": "python3"
  },
  "language_info": {
   "codemirror_mode": {
    "name": "ipython",
    "version": 3
   },
   "file_extension": ".py",
   "mimetype": "text/x-python",
   "name": "python",
   "nbconvert_exporter": "python",
   "pygments_lexer": "ipython3",
   "version": "3.9.12"
  }
 },
 "nbformat": 4,
 "nbformat_minor": 5
}
