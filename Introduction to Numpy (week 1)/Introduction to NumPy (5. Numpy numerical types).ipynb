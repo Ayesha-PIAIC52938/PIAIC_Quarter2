{
 "cells": [
  {
   "cell_type": "markdown",
   "id": "fd851a1d",
   "metadata": {},
   "source": [
    "# <div class=\"alert alert-success\" > (5). Numpy numerical types</div>\n",
    "\n",
    "Default datatype of Python is float thus  , default datatype of array is also float.cNumbers in array can be integer type, float type and complex type (string type array not used in DS). These are not enough for scientific computing that is why Numpy \n",
    "has alot of more data types with varying precision (depending on memory requirment).\n",
    "\n",
    "Most of Numpy numerical types ends with a number (e.g int64), this number indicates the number of bits associated with the type. Following are the numerical types in Numpy:\n",
    "\n",
    "<div class = \"alert alert-warning\"> \n",
    "    \n",
    "    \n",
    "| Type | Discription|\n",
    "|------|----------------------------------------|\n",
    "| bool | boolean (True or False) stored as a bit|    \n",
    "| inti | platform integer (normally either int 32 or int64)|\n",
    "| int8 | byte (-128 to 127)|\n",
    "| int16 | integer (-32768 to 32767) |\n",
    "| int32 | integer (-2**31 to 2**(31-1)) |\n",
    "| int64 | integer (-2**63 to 2**(63-1))|        \n",
    "| unit8 | unsigned integer (0 to 255| \n",
    "| unit16 | unsigned integer (0 to 65535)|         \n",
    "| unit32 | unsigned integer (0 to 2**(32-1))|\n",
    "| unit64 | unsigned integer (0 to2**(64-1))|  \n",
    "| float16 |half precision float: sign bit, 5 bits exponent, 10 bits mantissa|\n",
    "| float32 |single precision float: sign bit, 8 bits exponent, 32 bits mantissa| \n",
    "| float64 / float |double precision float: sign bit, 11 bits exponent, 52 bits mantissa|     \n",
    "| complex64 |complex number, represented by two 32 bits floats(real & imagnary components) \n",
    "| complex128 / complex |complex number, represented by two 64 bits floats(real & imagnary components)     \n",
    "</div>"
   ]
  },
  {
   "cell_type": "markdown",
   "id": "0aa66afe",
   "metadata": {},
   "source": [
    "<div class = \"alert alert-warning\"> For floating typee, we can request information with <span style=\"color:red\">finfo()</span> function e.g :"
   ]
  },
  {
   "cell_type": "code",
   "execution_count": 1,
   "id": "9260ae7b",
   "metadata": {},
   "outputs": [],
   "source": [
    "import numpy as np"
   ]
  },
  {
   "cell_type": "code",
   "execution_count": 2,
   "id": "cab09306",
   "metadata": {},
   "outputs": [
    {
     "data": {
      "text/plain": [
       "finfo(resolution=0.001, min=-6.55040e+04, max=6.55040e+04, dtype=float16)"
      ]
     },
     "execution_count": 2,
     "metadata": {},
     "output_type": "execute_result"
    }
   ],
   "source": [
    "np.finfo(np.float16)"
   ]
  },
  {
   "cell_type": "markdown",
   "id": "cdd56d42",
   "metadata": {},
   "source": [
    "For each data type there exist a corrosponding conversion function:"
   ]
  },
  {
   "cell_type": "code",
   "execution_count": 12,
   "id": "f4bd4ad4",
   "metadata": {},
   "outputs": [
    {
     "data": {
      "text/plain": [
       "42.0"
      ]
     },
     "execution_count": 12,
     "metadata": {},
     "output_type": "execute_result"
    }
   ],
   "source": [
    "np.float64(42)         # int to float"
   ]
  },
  {
   "cell_type": "code",
   "execution_count": 13,
   "id": "76071175",
   "metadata": {},
   "outputs": [
    {
     "data": {
      "text/plain": [
       "42"
      ]
     },
     "execution_count": 13,
     "metadata": {},
     "output_type": "execute_result"
    }
   ],
   "source": [
    "np.int8(np.float64(42))     # float to int"
   ]
  },
  {
   "cell_type": "code",
   "execution_count": 15,
   "id": "ee2b3455",
   "metadata": {},
   "outputs": [
    {
     "data": {
      "text/plain": [
       "True"
      ]
     },
     "execution_count": 15,
     "metadata": {},
     "output_type": "execute_result"
    }
   ],
   "source": [
    "bool(42)"
   ]
  },
  {
   "cell_type": "code",
   "execution_count": 16,
   "id": "300f861f",
   "metadata": {},
   "outputs": [
    {
     "data": {
      "text/plain": [
       "False"
      ]
     },
     "execution_count": 16,
     "metadata": {},
     "output_type": "execute_result"
    }
   ],
   "source": [
    "bool(0)"
   ]
  },
  {
   "cell_type": "code",
   "execution_count": 17,
   "id": "f7ae2dde",
   "metadata": {},
   "outputs": [
    {
     "data": {
      "text/plain": [
       "1"
      ]
     },
     "execution_count": 17,
     "metadata": {},
     "output_type": "execute_result"
    }
   ],
   "source": [
    "np.int8(bool(42))"
   ]
  },
  {
   "cell_type": "code",
   "execution_count": 18,
   "id": "d8e47675",
   "metadata": {},
   "outputs": [
    {
     "data": {
      "text/plain": [
       "0"
      ]
     },
     "execution_count": 18,
     "metadata": {},
     "output_type": "execute_result"
    }
   ],
   "source": [
    "np.int8(bool(0))"
   ]
  },
  {
   "cell_type": "code",
   "execution_count": 20,
   "id": "6a360450",
   "metadata": {},
   "outputs": [
    {
     "data": {
      "text/plain": [
       "1.0"
      ]
     },
     "execution_count": 20,
     "metadata": {},
     "output_type": "execute_result"
    }
   ],
   "source": [
    "float(True)"
   ]
  },
  {
   "cell_type": "markdown",
   "id": "5cfbd2f1",
   "metadata": {},
   "source": [
    "Many methods have a data type option thats optional e.g np.<span style=\"color:red\">arange(</span> 7 , dtype = np.complex64 <span style=\"color:red\">)</span>"
   ]
  },
  {
   "cell_type": "code",
   "execution_count": 25,
   "id": "a60ebc96",
   "metadata": {},
   "outputs": [
    {
     "data": {
      "text/plain": [
       "array([0.+0.j, 1.+0.j, 2.+0.j, 3.+0.j, 4.+0.j, 5.+0.j, 6.+0.j],\n",
       "      dtype=complex64)"
      ]
     },
     "execution_count": 25,
     "metadata": {},
     "output_type": "execute_result"
    }
   ],
   "source": [
    "np.arange( 7 , dtype = np.complex64)"
   ]
  },
  {
   "cell_type": "markdown",
   "id": "ff148759",
   "metadata": {},
   "source": [
    "###### <div class = \"alert alert-warning\">We cant convert complex numbers to int or float and vice versa </div>"
   ]
  },
  {
   "cell_type": "markdown",
   "id": "8d6572f8",
   "metadata": {},
   "source": [
    "#### <div class= \"alert alert-info\"> Data type objects\n",
    "    \n",
    "Data type objects are instances of np.dtype class .Again arrays do have a data type, to be precise every element in a Numpy array has the same  data type. Data type object can tell you the size of the data in bytes using the datatype class attribute <span style=\"color:red\">itemsize</span>. e.g"
   ]
  },
  {
   "cell_type": "code",
   "execution_count": 26,
   "id": "a38f4c16",
   "metadata": {},
   "outputs": [],
   "source": [
    "a = np.arange(3)"
   ]
  },
  {
   "cell_type": "code",
   "execution_count": 27,
   "id": "bb34f780",
   "metadata": {},
   "outputs": [
    {
     "data": {
      "text/plain": [
       "dtype('int32')"
      ]
     },
     "execution_count": 27,
     "metadata": {},
     "output_type": "execute_result"
    }
   ],
   "source": [
    "a.dtype"
   ]
  },
  {
   "cell_type": "code",
   "execution_count": 28,
   "id": "ce8d172a",
   "metadata": {},
   "outputs": [
    {
     "data": {
      "text/plain": [
       "4"
      ]
     },
     "execution_count": 28,
     "metadata": {},
     "output_type": "execute_result"
    }
   ],
   "source": [
    "a.itemsize"
   ]
  },
  {
   "cell_type": "markdown",
   "id": "82774b2d",
   "metadata": {},
   "source": [
    "#### <div class= \"alert alert-info\"> Character codes\n",
    "    \n",
    "Character codes are included for backwords compatibility with numerics. Numerics is the predecessor of Numpy. Their use isn't recommended but are provided here as they do popup in several places. We should instead use the dtype objects. Below table shows character codes:\n",
    "    \n",
    "| Type                   | Character code |\n",
    "|------------------------|----------------|\n",
    "| Intiger                | i              |    \n",
    "| Insigned integer       | u              |\n",
    "| Single precision float | f              |\n",
    "| Double precision float | d              |\n",
    "| Boolean                | b              |\n",
    "| Complex                | D              |        \n",
    "| String                 | S              | \n",
    "| Unicode                | U              |         \n",
    "| Void                   | V              |\n"
   ]
  },
  {
   "cell_type": "code",
   "execution_count": 30,
   "id": "7c6fd863",
   "metadata": {},
   "outputs": [
    {
     "data": {
      "text/plain": [
       "array([0., 1., 2.], dtype=float32)"
      ]
     },
     "execution_count": 30,
     "metadata": {},
     "output_type": "execute_result"
    }
   ],
   "source": [
    "b = np.arange(3,dtype = \"f\")\n",
    "b"
   ]
  },
  {
   "cell_type": "code",
   "execution_count": 32,
   "id": "96ff852c",
   "metadata": {},
   "outputs": [
    {
     "data": {
      "text/plain": [
       "array([0.+0.j, 1.+0.j, 2.+0.j])"
      ]
     },
     "execution_count": 32,
     "metadata": {},
     "output_type": "execute_result"
    }
   ],
   "source": [
    "c = np.arange(3,dtype = \"D\")\n",
    "c"
   ]
  },
  {
   "cell_type": "code",
   "execution_count": 35,
   "id": "6795cc95",
   "metadata": {},
   "outputs": [
    {
     "name": "stdout",
     "output_type": "stream",
     "text": [
      "b's datatypr =  float32\n",
      "c's datatypr =  complex128\n"
     ]
    }
   ],
   "source": [
    "print(\"b's datatypr = \",b.dtype)\n",
    "print(\"c's datatypr = \",c.dtype)"
   ]
  },
  {
   "cell_type": "markdown",
   "id": "d23642ab",
   "metadata": {},
   "source": [
    "###### <div class = \"alert alert-warning\">To create arrays with defined data types, use <span style=\"color:red\">arange()</span> or <span style=\"color:red\">array()</span> functions. This function can take an optional argument (dtype) that allows you to define the data type of an array. "
   ]
  },
  {
   "cell_type": "code",
   "execution_count": 37,
   "id": "201b0f25",
   "metadata": {},
   "outputs": [
    {
     "data": {
      "text/plain": [
       "array([b'1', b'2', b'3', b'4', b'5'], dtype='|S1')"
      ]
     },
     "execution_count": 37,
     "metadata": {},
     "output_type": "execute_result"
    }
   ],
   "source": [
    "d = np.array([1,2,3,4,5],dtype = \"S\")\n",
    "d"
   ]
  },
  {
   "cell_type": "code",
   "execution_count": 38,
   "id": "3e987161",
   "metadata": {},
   "outputs": [
    {
     "data": {
      "text/plain": [
       "array(['1', '2', '3', '4', '5'], dtype='<U1')"
      ]
     },
     "execution_count": 38,
     "metadata": {},
     "output_type": "execute_result"
    }
   ],
   "source": [
    "np.array([1,2,3,4,5],dtype = \"U\")"
   ]
  },
  {
   "cell_type": "code",
   "execution_count": 39,
   "id": "c2ecb3cc",
   "metadata": {},
   "outputs": [
    {
     "data": {
      "text/plain": [
       "array([1, 2, 3, 4, 5], dtype=int32)"
      ]
     },
     "execution_count": 39,
     "metadata": {},
     "output_type": "execute_result"
    }
   ],
   "source": [
    "np.array([1,2,3,4,5],dtype = \"i\")"
   ]
  },
  {
   "cell_type": "code",
   "execution_count": 40,
   "id": "5322d7a5",
   "metadata": {},
   "outputs": [
    {
     "data": {
      "text/plain": [
       "array([1., 2., 3., 4., 5.], dtype=float32)"
      ]
     },
     "execution_count": 40,
     "metadata": {},
     "output_type": "execute_result"
    }
   ],
   "source": [
    "np.array([1,2,3,4,5],dtype = \"f\")"
   ]
  },
  {
   "cell_type": "code",
   "execution_count": 42,
   "id": "7b3d2722",
   "metadata": {},
   "outputs": [
    {
     "data": {
      "text/plain": [
       "array([1., 2., 3., 4., 5.])"
      ]
     },
     "execution_count": 42,
     "metadata": {},
     "output_type": "execute_result"
    }
   ],
   "source": [
    "np.array([1,2,3,4,5],dtype = \"d\")"
   ]
  },
  {
   "cell_type": "code",
   "execution_count": 43,
   "id": "c6d1840a",
   "metadata": {},
   "outputs": [
    {
     "data": {
      "text/plain": [
       "array([1, 2, 3, 4, 5], dtype=int8)"
      ]
     },
     "execution_count": 43,
     "metadata": {},
     "output_type": "execute_result"
    }
   ],
   "source": [
    "np.array([1,2,3,4,5],dtype = \"b\")"
   ]
  },
  {
   "cell_type": "code",
   "execution_count": 44,
   "id": "0fd6367f",
   "metadata": {},
   "outputs": [
    {
     "data": {
      "text/plain": [
       "array([1.+0.j, 2.+0.j, 3.+0.j, 4.+0.j, 5.+0.j])"
      ]
     },
     "execution_count": 44,
     "metadata": {},
     "output_type": "execute_result"
    }
   ],
   "source": [
    "np.array([1,2,3,4,5],dtype = \"D\")"
   ]
  },
  {
   "cell_type": "markdown",
   "id": "c513f388",
   "metadata": {},
   "source": [
    "#### <div class= \"alert alert-info\"> Coverting data type of existing arrray\n",
    "    \n",
    "Best way to convert the data tyoe of an array is to make a copy of the array with the <span style=\"color:red\">astype()</span> method.\n",
    "    \n",
    "<span style=\"color:red\">astype()</span> function creates a copy of the array and allows you to specify the data type as a parameter. The data type can be specified as strings, like: 'f' for float  'i' for intiger, etc or you can use the data type directly like 'float' , 'int' , etc."
   ]
  },
  {
   "cell_type": "code",
   "execution_count": 48,
   "id": "3fab88fa",
   "metadata": {},
   "outputs": [
    {
     "data": {
      "text/plain": [
       "array([0, 1, 2])"
      ]
     },
     "execution_count": 48,
     "metadata": {},
     "output_type": "execute_result"
    }
   ],
   "source": [
    "a"
   ]
  },
  {
   "cell_type": "code",
   "execution_count": 51,
   "id": "fcb1460e",
   "metadata": {},
   "outputs": [
    {
     "data": {
      "text/plain": [
       "dtype('int32')"
      ]
     },
     "execution_count": 51,
     "metadata": {},
     "output_type": "execute_result"
    }
   ],
   "source": [
    "a.dtype"
   ]
  },
  {
   "cell_type": "code",
   "execution_count": 49,
   "id": "3d36e900",
   "metadata": {},
   "outputs": [
    {
     "data": {
      "text/plain": [
       "array([0., 1., 2.], dtype=float32)"
      ]
     },
     "execution_count": 49,
     "metadata": {},
     "output_type": "execute_result"
    }
   ],
   "source": [
    "a.astype('f')"
   ]
  },
  {
   "cell_type": "code",
   "execution_count": 52,
   "id": "b3003f9d",
   "metadata": {},
   "outputs": [
    {
     "data": {
      "text/plain": [
       "array([0., 1., 2.])"
      ]
     },
     "execution_count": 52,
     "metadata": {},
     "output_type": "execute_result"
    }
   ],
   "source": [
    "a.astype(float)"
   ]
  },
  {
   "cell_type": "code",
   "execution_count": 56,
   "id": "7a2cc947",
   "metadata": {},
   "outputs": [
    {
     "data": {
      "text/plain": [
       "array([False,  True,  True])"
      ]
     },
     "execution_count": 56,
     "metadata": {},
     "output_type": "execute_result"
    }
   ],
   "source": [
    "a.astype(bool)"
   ]
  },
  {
   "cell_type": "code",
   "execution_count": null,
   "id": "a21190db",
   "metadata": {},
   "outputs": [],
   "source": []
  }
 ],
 "metadata": {
  "kernelspec": {
   "display_name": "Python 3 (ipykernel)",
   "language": "python",
   "name": "python3"
  },
  "language_info": {
   "codemirror_mode": {
    "name": "ipython",
    "version": 3
   },
   "file_extension": ".py",
   "mimetype": "text/x-python",
   "name": "python",
   "nbconvert_exporter": "python",
   "pygments_lexer": "ipython3",
   "version": "3.9.12"
  }
 },
 "nbformat": 4,
 "nbformat_minor": 5
}
