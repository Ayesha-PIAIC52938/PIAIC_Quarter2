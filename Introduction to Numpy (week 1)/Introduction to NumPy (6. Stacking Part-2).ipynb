{
 "cells": [
  {
   "cell_type": "markdown",
   "id": "fb8925de",
   "metadata": {},
   "source": [
    "# <div class=\"alert alert-success\" >(6). Stacking (part-2)"
   ]
  },
  {
   "cell_type": "code",
   "execution_count": 1,
   "id": "3d082af6",
   "metadata": {},
   "outputs": [],
   "source": [
    "import numpy as np"
   ]
  },
  {
   "cell_type": "markdown",
   "id": "b201ac2e",
   "metadata": {},
   "source": [
    "#### <div class = \"alert alert-warning\"> Stacking Vs Concatenation </div>\n",
    "\n",
    "<span style=\"color:red\">concatenate()</span> joins arrays just like <span style=\"color:red\">stack()</span> but on the same axis. thus when 1D arrays are concatenated they results ina a1D array not 2D array"
   ]
  },
  {
   "cell_type": "markdown",
   "id": "a1daf00b",
   "metadata": {},
   "source": [
    "#### <div class= \"alert alert-danger\">1D arrays concatenate\n",
    "    \n",
    "Because concatenate joins arrays on same axis so, 1D arrays can be concatenate along axis = 0 only"
   ]
  },
  {
   "cell_type": "markdown",
   "id": "158677e5",
   "metadata": {},
   "source": [
    "######  Along axis = 0 (Row wise)"
   ]
  },
  {
   "cell_type": "code",
   "execution_count": 2,
   "id": "5a4703d0",
   "metadata": {},
   "outputs": [
    {
     "name": "stdout",
     "output_type": "stream",
     "text": [
      "a =  [1 2 3 4] \n",
      "\n",
      "b =  [5 6 7 8]\n"
     ]
    }
   ],
   "source": [
    "a = np.arange(1,5)\n",
    "b = np.arange(5,9)\n",
    "print(\"a = \",a,'\\n')\n",
    "print(\"b = \",b)"
   ]
  },
  {
   "cell_type": "code",
   "execution_count": 3,
   "id": "3facec95",
   "metadata": {},
   "outputs": [
    {
     "data": {
      "text/plain": [
       "array([1, 2, 3, 4, 5, 6, 7, 8])"
      ]
     },
     "execution_count": 3,
     "metadata": {},
     "output_type": "execute_result"
    }
   ],
   "source": [
    "arr0 = np.concatenate((a,b))   # axis by default is zero\n",
    "arr0"
   ]
  },
  {
   "cell_type": "code",
   "execution_count": 4,
   "id": "802dac96",
   "metadata": {},
   "outputs": [
    {
     "data": {
      "text/plain": [
       "(8,)"
      ]
     },
     "execution_count": 4,
     "metadata": {},
     "output_type": "execute_result"
    }
   ],
   "source": [
    "arr0.shape"
   ]
  },
  {
   "cell_type": "code",
   "execution_count": 5,
   "id": "16d6f178",
   "metadata": {},
   "outputs": [
    {
     "data": {
      "text/plain": [
       "array([1, 2, 3, 4, 5, 6, 7, 8])"
      ]
     },
     "execution_count": 5,
     "metadata": {},
     "output_type": "execute_result"
    }
   ],
   "source": [
    "arr0[:]"
   ]
  },
  {
   "attachments": {
    "3.png": {
     "image/png": "[encoded data removed]"
    }
   },
   "cell_type": "markdown",
   "id": "e1a90974",
   "metadata": {},
   "source": [
    "<mark>  Resultant 2D array has elements: = [ a & b ] \n",
    "    \n",
    "![3.png](attachment:3.png)"
   ]
  },
  {
   "cell_type": "markdown",
   "id": "81b5c36d",
   "metadata": {},
   "source": [
    "#### <div class= \"alert alert-danger\">2D arrays concatenate\n",
    "2D arrays can be concatenate along axis = 0 & axis = 1        "
   ]
  },
  {
   "cell_type": "code",
   "execution_count": 6,
   "id": "388fbb35",
   "metadata": {},
   "outputs": [
    {
     "name": "stdout",
     "output_type": "stream",
     "text": [
      "c =  [[1 2]\n",
      " [3 4]] \n",
      "\n",
      "d =  [[5 6]\n",
      " [7 8]]\n"
     ]
    }
   ],
   "source": [
    "c = np.arange(1,5).reshape(2,2)\n",
    "d = np.arange(5,9).reshape(2,2)\n",
    "print(\"c = \",c,'\\n')\n",
    "print(\"d = \",d)"
   ]
  },
  {
   "cell_type": "markdown",
   "id": "8d9d47b7",
   "metadata": {},
   "source": [
    "######  Along axis = 0 (Row wise)"
   ]
  },
  {
   "cell_type": "code",
   "execution_count": 19,
   "id": "30261a3a",
   "metadata": {},
   "outputs": [
    {
     "data": {
      "text/plain": [
       "array([[1, 2],\n",
       "       [3, 4],\n",
       "       [5, 6],\n",
       "       [7, 8]])"
      ]
     },
     "execution_count": 19,
     "metadata": {},
     "output_type": "execute_result"
    }
   ],
   "source": [
    "brr0 = np.concatenate((c,d), axis = 0)  \n",
    "brr0"
   ]
  },
  {
   "cell_type": "code",
   "execution_count": 20,
   "id": "932cc7c6",
   "metadata": {},
   "outputs": [
    {
     "data": {
      "text/plain": [
       "(4, 2)"
      ]
     },
     "execution_count": 20,
     "metadata": {},
     "output_type": "execute_result"
    }
   ],
   "source": [
    "brr0.shape"
   ]
  },
  {
   "attachments": {
    "1-2.png": {
     "image/png": "[encoded data removed]"
    }
   },
   "cell_type": "markdown",
   "id": "f019b504",
   "metadata": {},
   "source": [
    "<mark> 2D array with rows: Ci = [ [c[Ci] & d[Ci] ] ] </mark> \n",
    "\n",
    "![1-2.png](attachment:1-2.png)"
   ]
  },
  {
   "cell_type": "markdown",
   "id": "ed7516a5",
   "metadata": {},
   "source": [
    "######  Along axis = 1 (Column wise)"
   ]
  },
  {
   "cell_type": "code",
   "execution_count": 15,
   "id": "80fdc950",
   "metadata": {},
   "outputs": [
    {
     "data": {
      "text/plain": [
       "array([[1, 2, 5, 6],\n",
       "       [3, 4, 7, 8]])"
      ]
     },
     "execution_count": 15,
     "metadata": {},
     "output_type": "execute_result"
    }
   ],
   "source": [
    "brr1 = np.concatenate((c,d), axis = 1)  \n",
    "brr1"
   ]
  },
  {
   "cell_type": "code",
   "execution_count": 16,
   "id": "8e435010",
   "metadata": {},
   "outputs": [
    {
     "data": {
      "text/plain": [
       "(2, 4)"
      ]
     },
     "execution_count": 16,
     "metadata": {},
     "output_type": "execute_result"
    }
   ],
   "source": [
    "brr1.shape"
   ]
  },
  {
   "cell_type": "code",
   "execution_count": 17,
   "id": "b8230e65",
   "metadata": {},
   "outputs": [
    {
     "data": {
      "text/plain": [
       "array([1, 2, 5, 6])"
      ]
     },
     "execution_count": 17,
     "metadata": {},
     "output_type": "execute_result"
    }
   ],
   "source": [
    "brr1[0, :]       # row 0"
   ]
  },
  {
   "cell_type": "code",
   "execution_count": 18,
   "id": "09af59c1",
   "metadata": {},
   "outputs": [
    {
     "data": {
      "text/plain": [
       "array([1, 2, 5, 6])"
      ]
     },
     "execution_count": 18,
     "metadata": {},
     "output_type": "execute_result"
    }
   ],
   "source": [
    "brr1[0, :]       # row 1"
   ]
  },
  {
   "attachments": {
    "2.png": {
     "image/png": "[encoded data removed]"
    }
   },
   "cell_type": "markdown",
   "id": "82271dce",
   "metadata": {},
   "source": [
    "<mark> extends c's rows by joining d's elements to it as new rows ie [ [c] , [d] ]</mark>\n",
    "\n",
    "![2.png](attachment:2.png)"
   ]
  },
  {
   "cell_type": "markdown",
   "id": "a3dacfc8",
   "metadata": {},
   "source": [
    "#### <div class= \"alert alert-danger\">3D arrays concatenate\n",
    "    \n",
    "3D arrays can be concatenate along axis = 0, xis = 1  & axis = 2     "
   ]
  },
  {
   "cell_type": "markdown",
   "id": "cb05cafa",
   "metadata": {},
   "source": [
    "######  Along axis = 0 (depth wise)"
   ]
  },
  {
   "cell_type": "code",
   "execution_count": 12,
   "id": "811345e4",
   "metadata": {},
   "outputs": [
    {
     "name": "stdout",
     "output_type": "stream",
     "text": [
      "e =  [[[0 1 2]\n",
      "  [3 4 5]\n",
      "  [6 7 8]]] \n",
      "\n",
      "f =  [[[ 9 10 11]\n",
      "  [12 13 14]\n",
      "  [15 16 17]]]\n"
     ]
    }
   ],
   "source": [
    "e = np.arange(9).reshape(1,3,3)\n",
    "f = np.arange(9,18).reshape(1,3,3)\n",
    "print(\"e = \",e,'\\n')\n",
    "print(\"f = \",f)"
   ]
  },
  {
   "cell_type": "code",
   "execution_count": 21,
   "id": "69d50581",
   "metadata": {},
   "outputs": [
    {
     "data": {
      "text/plain": [
       "array([[[ 0,  1,  2],\n",
       "        [ 3,  4,  5],\n",
       "        [ 6,  7,  8]],\n",
       "\n",
       "       [[ 9, 10, 11],\n",
       "        [12, 13, 14],\n",
       "        [15, 16, 17]]])"
      ]
     },
     "execution_count": 21,
     "metadata": {},
     "output_type": "execute_result"
    }
   ],
   "source": [
    "crr0 = np.concatenate((e,f))   \n",
    "crr0"
   ]
  },
  {
   "cell_type": "code",
   "execution_count": 26,
   "id": "448c649a",
   "metadata": {},
   "outputs": [
    {
     "data": {
      "text/plain": [
       "(2, 3, 3)"
      ]
     },
     "execution_count": 26,
     "metadata": {},
     "output_type": "execute_result"
    }
   ],
   "source": [
    "crr0.shape"
   ]
  },
  {
   "attachments": {
    "4-2.png": {
     "image/png": "[encoded data removed]"
    }
   },
   "cell_type": "markdown",
   "id": "a8bfb91c",
   "metadata": {},
   "source": [
    "<mark>concatenates e and f such that the resultant 3D array d0 = e & d1 = f </mark>\n",
    "\n",
    "![4-2.png](attachment:4-2.png)"
   ]
  },
  {
   "cell_type": "markdown",
   "id": "164ca626",
   "metadata": {},
   "source": [
    "######  Along axis = 1 (Row wise)"
   ]
  },
  {
   "cell_type": "code",
   "execution_count": 22,
   "id": "cd965a4d",
   "metadata": {},
   "outputs": [
    {
     "data": {
      "text/plain": [
       "array([[[ 0,  1,  2],\n",
       "        [ 3,  4,  5],\n",
       "        [ 6,  7,  8],\n",
       "        [ 9, 10, 11],\n",
       "        [12, 13, 14],\n",
       "        [15, 16, 17]]])"
      ]
     },
     "execution_count": 22,
     "metadata": {},
     "output_type": "execute_result"
    }
   ],
   "source": [
    "crr1 = np.concatenate((e,f), axis = 1)   \n",
    "crr1"
   ]
  },
  {
   "cell_type": "code",
   "execution_count": 24,
   "id": "71d220ce",
   "metadata": {},
   "outputs": [
    {
     "data": {
      "text/plain": [
       "(1, 6, 3)"
      ]
     },
     "execution_count": 24,
     "metadata": {},
     "output_type": "execute_result"
    }
   ],
   "source": [
    "crr1.shape"
   ]
  },
  {
   "attachments": {
    "5.png": {
     "image/png": "[encoded data removed]"
    }
   },
   "cell_type": "markdown",
   "id": "50e942b3",
   "metadata": {},
   "source": [
    "<mark> concatenates e and f such that the resultant 3D array has d0 = [ [[e] ,[ f]] ]^T\n",
    "\n",
    "![5.png](attachment:5.png)"
   ]
  },
  {
   "cell_type": "markdown",
   "id": "2a0c80c6",
   "metadata": {},
   "source": [
    "######  Along axis = 2 (Column wise)"
   ]
  },
  {
   "cell_type": "code",
   "execution_count": 23,
   "id": "eef9a10e",
   "metadata": {},
   "outputs": [
    {
     "data": {
      "text/plain": [
       "array([[[ 0,  1,  2,  9, 10, 11],\n",
       "        [ 3,  4,  5, 12, 13, 14],\n",
       "        [ 6,  7,  8, 15, 16, 17]]])"
      ]
     },
     "execution_count": 23,
     "metadata": {},
     "output_type": "execute_result"
    }
   ],
   "source": [
    "crr2 = np.concatenate((e,f), axis = 2)   \n",
    "crr2"
   ]
  },
  {
   "cell_type": "code",
   "execution_count": 25,
   "id": "571306cc",
   "metadata": {},
   "outputs": [
    {
     "data": {
      "text/plain": [
       "(1, 3, 6)"
      ]
     },
     "execution_count": 25,
     "metadata": {},
     "output_type": "execute_result"
    }
   ],
   "source": [
    "crr2.shape"
   ]
  },
  {
   "attachments": {
    "6.png": {
     "image/png": "[encoded data removed]"
    }
   },
   "cell_type": "markdown",
   "id": "845e7810",
   "metadata": {},
   "source": [
    "<mark> concatenates e and f such that the resultant 3D array has d0 = [ [[e] ,[ f]] ]\n",
    "    \n",
    "![6.png](attachment:6.png)    "
   ]
  },
  {
   "cell_type": "markdown",
   "id": "3a9a201a",
   "metadata": {},
   "source": [
    "#### <div class=\"alert alert-success\" >Summary\n",
    "    \n",
    "1D concatenates\n",
    "    \n",
    "| Axis | Discription|\n",
    "|------|----------------------------------------|\n",
    "| 0    | 1D array with elements: [ a & b ] |    \n",
    "    \n",
    "\n",
    "2D concatenates  \n",
    "\n",
    "| Axis | Discription|\n",
    "|------|----------------------------------------|\n",
    "| 0    | 2D array with rows: ri = [ [a[ri] & b[ri] ] ] |    \n",
    "| 1    | extends c's rows by joining d's elements to it as new rows ie [ [c] , [d] ] |\n",
    "\n",
    "3D concatenates \n",
    "\n",
    "| Axis | Discription|\n",
    "|------|----------------------------------------|\n",
    "| 0    | 3D array with d0 = array1 and d1 = array2 |    \n",
    "| 1    | 3D array with  d0 = [ [[array1 , array2]] ]^T | \n",
    "| 2    | 3D array with  d0 = [ [[array1 , array2]] ]|    "
   ]
  }
 ],
 "metadata": {
  "kernelspec": {
   "display_name": "Python 3 (ipykernel)",
   "language": "python",
   "name": "python3"
  },
  "language_info": {
   "codemirror_mode": {
    "name": "ipython",
    "version": 3
   },
   "file_extension": ".py",
   "mimetype": "text/x-python",
   "name": "python",
   "nbconvert_exporter": "python",
   "pygments_lexer": "ipython3",
   "version": "3.9.12"
  }
 },
 "nbformat": 4,
 "nbformat_minor": 5
}
