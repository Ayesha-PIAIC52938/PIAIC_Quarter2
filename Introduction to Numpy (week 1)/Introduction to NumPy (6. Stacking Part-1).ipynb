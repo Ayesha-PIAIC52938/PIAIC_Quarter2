{
 "cells": [
  {
   "cell_type": "markdown",
   "id": "9eabfbcc",
   "metadata": {},
   "source": [
    "# <div class=\"alert alert-success\" >(6). Stacking (part-1)\n",
    "    \n",
    "Stacking is the concept of joining same dimension arrays in Numpy. Stacking is done along a new axis and leads to increased customization of an array. We can combine the stack function with other functions to further increse its capability.\n",
    "\n",
    "Stacking can be done along three dimensions/axis:\n",
    "- Along the Rows i.e axis = 0 (Vertical stacking)\n",
    "- Along the columns i.e axis = 1 (Horizontal stacking)\n",
    "- Along the depth i.e axis = 0  (Depth stacking)\n",
    "Other stacking includes row stacking (same as Vertical stacking) and column stacking (same as horizontal stacking)\n",
    "    \n",
    "<div class = \"alert alert-warning\"> In 3D arrays axis = 0 represents depth, axis = 1 represents rows and axis = 2 represents columns </div>    "
   ]
  },
  {
   "cell_type": "code",
   "execution_count": 2,
   "id": "01cdb0dd",
   "metadata": {},
   "outputs": [],
   "source": [
    "import numpy as np"
   ]
  },
  {
   "cell_type": "markdown",
   "id": "dd3e8a04",
   "metadata": {},
   "source": [
    "#### <div class= \"alert alert-info\"> The stack function: stack()\n",
    "    \n",
    " To join two arrays along the second axis, which would result in putting one over the otheri.e stacking, we pass a sequence of arrays (that we want to join) to the <span style=\"color:red\">stack()</span> method anlon with the axis.<mark> if the axis is not explicitly passed it is taken as 0</mark>.\n",
    "    \n",
    "<span style=\"color:red\">stack(</span> (array1 , array2), axis = 0/1/2  <span style=\"color:red\">)</span>\n",
    "- stack() stacks array2 after array1, vertically, horizontally or depth wise depending on the axis"
   ]
  },
  {
   "cell_type": "markdown",
   "id": "ffa38978",
   "metadata": {},
   "source": [
    "#### <div class= \"alert alert-danger\">1D arrays stacking    \n",
    "1D arrays stacking results in a 2D array so we can stack it row or column wise    </div>"
   ]
  },
  {
   "cell_type": "code",
   "execution_count": 4,
   "id": "887fc317",
   "metadata": {},
   "outputs": [
    {
     "name": "stdout",
     "output_type": "stream",
     "text": [
      "a =  [1 2 3]\n",
      "b =  [4 5 6]\n"
     ]
    }
   ],
   "source": [
    "a = np.array([1,2,3])   # defining 1D arrays\n",
    "b = np.array([4,5,6])\n",
    "print(\"a = \",a)\n",
    "print(\"b = \",b)"
   ]
  },
  {
   "cell_type": "code",
   "execution_count": 89,
   "id": "5eb04731",
   "metadata": {},
   "outputs": [
    {
     "name": "stdout",
     "output_type": "stream",
     "text": [
      "a's shape =  (3,) \n",
      "\n",
      "b's shape =  (3,)\n"
     ]
    }
   ],
   "source": [
    "print(\"a's shape = \",a.shape,'\\n')\n",
    "print(\"b's shape = \",b.shape)"
   ]
  },
  {
   "cell_type": "markdown",
   "id": "f134b916",
   "metadata": {},
   "source": [
    "######  The stack function along axis = 1 (column wise)"
   ]
  },
  {
   "cell_type": "code",
   "execution_count": 38,
   "id": "d24b167e",
   "metadata": {},
   "outputs": [
    {
     "data": {
      "text/plain": [
       "array([[1, 4],\n",
       "       [2, 5],\n",
       "       [3, 6]])"
      ]
     },
     "execution_count": 38,
     "metadata": {},
     "output_type": "execute_result"
    }
   ],
   "source": [
    "arr1 = np.stack((a,b), axis = 1)  # stacking 1D arrays column wise resulted in a 2D array\n",
    "arr1"
   ]
  },
  {
   "cell_type": "code",
   "execution_count": 18,
   "id": "371be961",
   "metadata": {},
   "outputs": [
    {
     "data": {
      "text/plain": [
       "(3, 2)"
      ]
     },
     "execution_count": 18,
     "metadata": {},
     "output_type": "execute_result"
    }
   ],
   "source": [
    "arr1.shape        # arr1 has 3 rows and 2 columns"
   ]
  },
  {
   "cell_type": "code",
   "execution_count": 19,
   "id": "cc46c9bc",
   "metadata": {},
   "outputs": [
    {
     "data": {
      "text/plain": [
       "array([1, 4])"
      ]
     },
     "execution_count": 19,
     "metadata": {},
     "output_type": "execute_result"
    }
   ],
   "source": [
    "arr1[0,:]       # arr1's row 0"
   ]
  },
  {
   "cell_type": "code",
   "execution_count": 20,
   "id": "3ee80475",
   "metadata": {},
   "outputs": [
    {
     "data": {
      "text/plain": [
       "array([2, 5])"
      ]
     },
     "execution_count": 20,
     "metadata": {},
     "output_type": "execute_result"
    }
   ],
   "source": [
    "arr1[1,:]      # arr1's row 1"
   ]
  },
  {
   "cell_type": "code",
   "execution_count": 26,
   "id": "51bc68c9",
   "metadata": {},
   "outputs": [
    {
     "data": {
      "text/plain": [
       "array([3, 6])"
      ]
     },
     "execution_count": 26,
     "metadata": {},
     "output_type": "execute_result"
    }
   ],
   "source": [
    "arr1[2,:]       # arr1's row 2"
   ]
  },
  {
   "cell_type": "code",
   "execution_count": 27,
   "id": "cca461b5",
   "metadata": {},
   "outputs": [
    {
     "data": {
      "text/plain": [
       "array([1, 2, 3])"
      ]
     },
     "execution_count": 27,
     "metadata": {},
     "output_type": "execute_result"
    }
   ],
   "source": [
    "arr1[:,0]       # arr1's column 0"
   ]
  },
  {
   "cell_type": "code",
   "execution_count": 28,
   "id": "3a441bd2",
   "metadata": {},
   "outputs": [
    {
     "data": {
      "text/plain": [
       "array([4, 5, 6])"
      ]
     },
     "execution_count": 28,
     "metadata": {},
     "output_type": "execute_result"
    }
   ],
   "source": [
    "arr1[:,1]       # arr1's column 1"
   ]
  },
  {
   "cell_type": "markdown",
   "id": "33a10df1",
   "metadata": {},
   "source": [
    "<mark>stacking 1D arrays (a & b) column wise (axis = 1) resulted in a 2D array 'arr1' =[[ a b]] (ie arr1[c0]=a & arr1[c1]=b)</mark>"
   ]
  },
  {
   "cell_type": "markdown",
   "id": "33f2d92d",
   "metadata": {},
   "source": [
    "###### The stack function along axis = 0 (row wise)"
   ]
  },
  {
   "cell_type": "code",
   "execution_count": 29,
   "id": "acbe6c62",
   "metadata": {},
   "outputs": [
    {
     "data": {
      "text/plain": [
       "array([[1, 2, 3],\n",
       "       [4, 5, 6]])"
      ]
     },
     "execution_count": 29,
     "metadata": {},
     "output_type": "execute_result"
    }
   ],
   "source": [
    "arr0 = np.stack((a,b)) # axis by default is 0 axis ie row wise stacking\n",
    "arr0"
   ]
  },
  {
   "cell_type": "code",
   "execution_count": 32,
   "id": "562c8038",
   "metadata": {},
   "outputs": [
    {
     "data": {
      "text/plain": [
       "(2, 3)"
      ]
     },
     "execution_count": 32,
     "metadata": {},
     "output_type": "execute_result"
    }
   ],
   "source": [
    "arr0.shape   # arr0 has 2 rows and 3 columns"
   ]
  },
  {
   "cell_type": "code",
   "execution_count": 33,
   "id": "319b5bc1",
   "metadata": {},
   "outputs": [
    {
     "data": {
      "text/plain": [
       "array([1, 2, 3])"
      ]
     },
     "execution_count": 33,
     "metadata": {},
     "output_type": "execute_result"
    }
   ],
   "source": [
    "arr0[0,:]           # arr0's row 0"
   ]
  },
  {
   "cell_type": "code",
   "execution_count": 34,
   "id": "e06653ef",
   "metadata": {},
   "outputs": [
    {
     "data": {
      "text/plain": [
       "array([1, 2, 3])"
      ]
     },
     "execution_count": 34,
     "metadata": {},
     "output_type": "execute_result"
    }
   ],
   "source": [
    "arr0[0,:]           # arr0's row 1"
   ]
  },
  {
   "cell_type": "code",
   "execution_count": 35,
   "id": "40e34cee",
   "metadata": {},
   "outputs": [
    {
     "data": {
      "text/plain": [
       "array([1, 4])"
      ]
     },
     "execution_count": 35,
     "metadata": {},
     "output_type": "execute_result"
    }
   ],
   "source": [
    "arr0[:,0]           # arr0's column 0"
   ]
  },
  {
   "cell_type": "code",
   "execution_count": 36,
   "id": "cc5f0c97",
   "metadata": {},
   "outputs": [
    {
     "data": {
      "text/plain": [
       "array([2, 5])"
      ]
     },
     "execution_count": 36,
     "metadata": {},
     "output_type": "execute_result"
    }
   ],
   "source": [
    "arr0[:,1]           # arr0's column 1"
   ]
  },
  {
   "cell_type": "code",
   "execution_count": 37,
   "id": "91941141",
   "metadata": {},
   "outputs": [
    {
     "data": {
      "text/plain": [
       "array([3, 6])"
      ]
     },
     "execution_count": 37,
     "metadata": {},
     "output_type": "execute_result"
    }
   ],
   "source": [
    "arr0[:,2]           # arr0's column 2"
   ]
  },
  {
   "cell_type": "markdown",
   "id": "ccdb5c64",
   "metadata": {},
   "source": [
    "<mark>stacking 1D arrays (a & b) row wise (axis = 0) resulted in a 2D array 'arr0' =[[ a b]] (ie arr0[r0]=a & arr0[r1]=b)</mark>"
   ]
  },
  {
   "cell_type": "markdown",
   "id": "04203722",
   "metadata": {},
   "source": [
    "#### <div class= \"alert alert-danger\">2D arrays stacking\n",
    "2D arrays stacking results in a 3D array so we can stack it row, column or depth wise    "
   ]
  },
  {
   "cell_type": "code",
   "execution_count": 76,
   "id": "9bc734ab",
   "metadata": {},
   "outputs": [
    {
     "name": "stdout",
     "output_type": "stream",
     "text": [
      "c =  [[1 2]\n",
      " [3 4]\n",
      " [5 6]] \n",
      "\n",
      "d =  [[ 7  8]\n",
      " [ 9 10]\n",
      " [11 12]]\n"
     ]
    }
   ],
   "source": [
    "c = np.array([[1,2],[3,4], [5,6]])\n",
    "d = np.arange(7,13).reshape(3,2)\n",
    "print('c = ',c,'\\n')\n",
    "print('d = ',d)"
   ]
  },
  {
   "cell_type": "code",
   "execution_count": 88,
   "id": "47271db1",
   "metadata": {},
   "outputs": [
    {
     "name": "stdout",
     "output_type": "stream",
     "text": [
      "c's shape =  (3, 2) \n",
      "\n",
      "d's shape =  (3, 2)\n"
     ]
    }
   ],
   "source": [
    "print(\"c's shape = \",c.shape,'\\n')\n",
    "print(\"d's shape = \",d.shape)"
   ]
  },
  {
   "cell_type": "markdown",
   "id": "e65d5e6a",
   "metadata": {},
   "source": [
    "###### The stack function along axis = 0 (depth wise)"
   ]
  },
  {
   "cell_type": "code",
   "execution_count": 77,
   "id": "0513086c",
   "metadata": {},
   "outputs": [
    {
     "data": {
      "text/plain": [
       "array([[[ 1,  2],\n",
       "        [ 3,  4],\n",
       "        [ 5,  6]],\n",
       "\n",
       "       [[ 7,  8],\n",
       "        [ 9, 10],\n",
       "        [11, 12]]])"
      ]
     },
     "execution_count": 77,
     "metadata": {},
     "output_type": "execute_result"
    }
   ],
   "source": [
    "brr0 = np.stack((c,d), axis = 0)    # brr0 = np.stack((c,d)) will also do\n",
    "brr0"
   ]
  },
  {
   "cell_type": "code",
   "execution_count": 78,
   "id": "4e17643b",
   "metadata": {},
   "outputs": [
    {
     "data": {
      "text/plain": [
       "(2, 3, 2)"
      ]
     },
     "execution_count": 78,
     "metadata": {},
     "output_type": "execute_result"
    }
   ],
   "source": [
    "brr0.shape         # stacking two 2D arrays results in a 3D array "
   ]
  },
  {
   "cell_type": "code",
   "execution_count": 79,
   "id": "a7862480",
   "metadata": {},
   "outputs": [
    {
     "data": {
      "text/plain": [
       "array([[1, 2],\n",
       "       [3, 4],\n",
       "       [5, 6]])"
      ]
     },
     "execution_count": 79,
     "metadata": {},
     "output_type": "execute_result"
    }
   ],
   "source": [
    "brr0[0,:,:]       # brr0's depth 0"
   ]
  },
  {
   "cell_type": "code",
   "execution_count": 80,
   "id": "e3e19b27",
   "metadata": {},
   "outputs": [
    {
     "data": {
      "text/plain": [
       "array([[ 7,  8],\n",
       "       [ 9, 10],\n",
       "       [11, 12]])"
      ]
     },
     "execution_count": 80,
     "metadata": {},
     "output_type": "execute_result"
    }
   ],
   "source": [
    "brr0[1,:,:]       # brr0's depth 1"
   ]
  },
  {
   "cell_type": "markdown",
   "id": "cf4a36b7",
   "metadata": {},
   "source": [
    "<mark>stacking 2D arrays (c & d) depth wise (axis = 0) resulted in a 3D array 'brr0' =[ [[c]], [[d]] ] (ie brr0[d0] = c & brr0[d1] = d)</mark>"
   ]
  },
  {
   "cell_type": "markdown",
   "id": "3828293d",
   "metadata": {},
   "source": [
    "###### The stack function along axis = 1 (row wise)"
   ]
  },
  {
   "cell_type": "code",
   "execution_count": 81,
   "id": "50863117",
   "metadata": {},
   "outputs": [
    {
     "data": {
      "text/plain": [
       "array([[[ 1,  2],\n",
       "        [ 7,  8]],\n",
       "\n",
       "       [[ 3,  4],\n",
       "        [ 9, 10]],\n",
       "\n",
       "       [[ 5,  6],\n",
       "        [11, 12]]])"
      ]
     },
     "execution_count": 81,
     "metadata": {},
     "output_type": "execute_result"
    }
   ],
   "source": [
    "brr1 = np.stack((c,d), axis = 1)    \n",
    "brr1"
   ]
  },
  {
   "cell_type": "code",
   "execution_count": 82,
   "id": "f5fe5c75",
   "metadata": {},
   "outputs": [
    {
     "data": {
      "text/plain": [
       "(3, 2, 2)"
      ]
     },
     "execution_count": 82,
     "metadata": {},
     "output_type": "execute_result"
    }
   ],
   "source": [
    "brr1.shape         # stacking two 2D arrays results in a 3D array "
   ]
  },
  {
   "cell_type": "code",
   "execution_count": 83,
   "id": "3f2203ec",
   "metadata": {},
   "outputs": [
    {
     "data": {
      "text/plain": [
       "array([[1, 2],\n",
       "       [7, 8]])"
      ]
     },
     "execution_count": 83,
     "metadata": {},
     "output_type": "execute_result"
    }
   ],
   "source": [
    "brr1[0,:,:]       # brr1's depth 0"
   ]
  },
  {
   "cell_type": "code",
   "execution_count": 84,
   "id": "6462fdaf",
   "metadata": {},
   "outputs": [
    {
     "data": {
      "text/plain": [
       "array([[ 3,  4],\n",
       "       [ 9, 10]])"
      ]
     },
     "execution_count": 84,
     "metadata": {},
     "output_type": "execute_result"
    }
   ],
   "source": [
    "brr1[1,:,:]       # brr1's depth 1"
   ]
  },
  {
   "cell_type": "code",
   "execution_count": 85,
   "id": "acfaf407",
   "metadata": {},
   "outputs": [
    {
     "data": {
      "text/plain": [
       "array([[ 5,  6],\n",
       "       [11, 12]])"
      ]
     },
     "execution_count": 85,
     "metadata": {},
     "output_type": "execute_result"
    }
   ],
   "source": [
    "brr1[2,:,:]       # brr1's depth 2"
   ]
  },
  {
   "cell_type": "markdown",
   "id": "ee126a58",
   "metadata": {},
   "source": [
    "<mark>stacking 2D arrays (c & d) row wise (axis = 1) resulted in a 3D array 'brr1' =[ [[ c[r0] , d[ro] ]], [[ c[r1] , d[r1]  ]] , [[ c[r2] , d[r2] ]]] (ie brr1[d0] = c[r0] & d[r0] , brr1[d1] = c[r1] & d[r1] and brr1[d2] = c[r2] & d[r2])</mark>\n",
    "\n",
    "\n",
    "<mark> 2D stacking row wise: depth = rows of c/d (as both are of same shape)</mark>"
   ]
  },
  {
   "cell_type": "markdown",
   "id": "defc8324",
   "metadata": {},
   "source": [
    "###### The stack function along axis = 2 ( column wise)"
   ]
  },
  {
   "cell_type": "code",
   "execution_count": 90,
   "id": "3990a4e1",
   "metadata": {},
   "outputs": [
    {
     "data": {
      "text/plain": [
       "array([[[ 1,  7],\n",
       "        [ 2,  8]],\n",
       "\n",
       "       [[ 3,  9],\n",
       "        [ 4, 10]],\n",
       "\n",
       "       [[ 5, 11],\n",
       "        [ 6, 12]]])"
      ]
     },
     "execution_count": 90,
     "metadata": {},
     "output_type": "execute_result"
    }
   ],
   "source": [
    "brr2 = np.stack((c,d), axis = 2) \n",
    "brr2"
   ]
  },
  {
   "cell_type": "code",
   "execution_count": 91,
   "id": "bf12c985",
   "metadata": {},
   "outputs": [
    {
     "data": {
      "text/plain": [
       "(3, 2, 2)"
      ]
     },
     "execution_count": 91,
     "metadata": {},
     "output_type": "execute_result"
    }
   ],
   "source": [
    "brr2.shape   # 2D stacking column wise: depth = rows of c/d (as both are of same shape)"
   ]
  },
  {
   "cell_type": "code",
   "execution_count": 92,
   "id": "f754a41e",
   "metadata": {},
   "outputs": [
    {
     "data": {
      "text/plain": [
       "array([[1, 7],\n",
       "       [2, 8]])"
      ]
     },
     "execution_count": 92,
     "metadata": {},
     "output_type": "execute_result"
    }
   ],
   "source": [
    "brr2[0,:,:]         "
   ]
  },
  {
   "cell_type": "code",
   "execution_count": 95,
   "id": "c6c15c85",
   "metadata": {},
   "outputs": [
    {
     "data": {
      "text/plain": [
       "array([[ 3,  9],\n",
       "       [ 4, 10]])"
      ]
     },
     "execution_count": 95,
     "metadata": {},
     "output_type": "execute_result"
    }
   ],
   "source": [
    "brr2[1,:,:]         "
   ]
  },
  {
   "cell_type": "code",
   "execution_count": 96,
   "id": "b87a8382",
   "metadata": {},
   "outputs": [
    {
     "data": {
      "text/plain": [
       "array([[ 5, 11],\n",
       "       [ 6, 12]])"
      ]
     },
     "execution_count": 96,
     "metadata": {},
     "output_type": "execute_result"
    }
   ],
   "source": [
    "brr2[2,:,:]         "
   ]
  },
  {
   "cell_type": "markdown",
   "id": "39c99892",
   "metadata": {},
   "source": [
    "<mark>stacking 2D arrays (c & d) column wise (axis = 2) resulted in a 3D array:\n",
    "'brr2' = [ [[ c[C0=r0] , d[C0=r0] ]], [[ c[C1=r1] , d[C1=r1]  ]] , [[ c[C2=r2] , d[C2=r2] ]]]\n",
    "\n",
    "(ie brr2[d0] = C0=c[r0] & C0=d[r0] , brr2[d1] = C1=c[r1] & C1=d[r1] and brr2[d2] = C2=c[r2] & C2=d[r2])</mark>\n",
    "\n",
    "or simply Depth[i]: Colimns[i] = Rows[i]\n",
    "\n",
    "<mark> 2D stacking column wise: depth = rows of c/d (as both are of same shape)</mark>"
   ]
  },
  {
   "cell_type": "markdown",
   "id": "a3695e93",
   "metadata": {},
   "source": [
    "#### <div class= \"alert alert-danger\">3D arrays stacking\n",
    "    \n",
    " 3D arrays stacking results in a 4D array, so we can stack it page (4th dim),depyh, row or column wise     "
   ]
  },
  {
   "cell_type": "code",
   "execution_count": 103,
   "id": "54f7cc5b",
   "metadata": {},
   "outputs": [
    {
     "name": "stdout",
     "output_type": "stream",
     "text": [
      "e =  [[[0 1 2]\n",
      "  [3 4 5]\n",
      "  [6 7 8]]] \n",
      "\n",
      "f =  [[[ 9 10 11]\n",
      "  [12 13 14]\n",
      "  [15 16 17]]]\n"
     ]
    }
   ],
   "source": [
    "e = np.arange(9).reshape(1,3,3)\n",
    "f = np.arange(9,18).reshape(1,3,3)\n",
    "print(\"e = \",e,\"\\n\")\n",
    "print(\"f = \",f)"
   ]
  },
  {
   "cell_type": "code",
   "execution_count": 104,
   "id": "0ad95e32",
   "metadata": {},
   "outputs": [
    {
     "name": "stdout",
     "output_type": "stream",
     "text": [
      "e's shape =  (1, 3, 3) \n",
      "\n",
      "f's shape =  (1, 3, 3)\n"
     ]
    }
   ],
   "source": [
    "print(\"e's shape = \",e.shape,'\\n')\n",
    "print(\"f's shape = \",f.shape)"
   ]
  },
  {
   "cell_type": "markdown",
   "id": "3ed31288",
   "metadata": {},
   "source": [
    "###### The stack function along axis = 0 (page wise)"
   ]
  },
  {
   "cell_type": "code",
   "execution_count": 105,
   "id": "47e289f6",
   "metadata": {},
   "outputs": [
    {
     "data": {
      "text/plain": [
       "array([[[[ 0,  1,  2],\n",
       "         [ 3,  4,  5],\n",
       "         [ 6,  7,  8]]],\n",
       "\n",
       "\n",
       "       [[[ 9, 10, 11],\n",
       "         [12, 13, 14],\n",
       "         [15, 16, 17]]]])"
      ]
     },
     "execution_count": 105,
     "metadata": {},
     "output_type": "execute_result"
    }
   ],
   "source": [
    "crr0 = np.stack((e,f))\n",
    "crr0"
   ]
  },
  {
   "cell_type": "code",
   "execution_count": 68,
   "id": "f3d97e4b",
   "metadata": {},
   "outputs": [
    {
     "data": {
      "text/plain": [
       "(2, 1, 3, 3)"
      ]
     },
     "execution_count": 68,
     "metadata": {},
     "output_type": "execute_result"
    }
   ],
   "source": [
    "crr0.shape    # stacking 3D arrays results in a 4D array.\n",
    "\n",
    "# An n-dimensional array is a collection of n-1 dimensional arrays, for n > 0"
   ]
  },
  {
   "cell_type": "markdown",
   "id": "00622012",
   "metadata": {},
   "source": [
    "<mark>In 4D arrays: (n,d,r,c)  </mark>\n",
    "\n",
    "- <mark>n = number of 3D arrays (i call it page for sor simplicity) </mark>\n",
    "- <mark>d = depth of each 3D array </mark>\n",
    "- <mark>r = rows per depth of each 3D array </mark>\n",
    "- <mark>c = columns per depth of each 3D array </mark>"
   ]
  },
  {
   "cell_type": "code",
   "execution_count": 64,
   "id": "4a48dc5e",
   "metadata": {},
   "outputs": [
    {
     "data": {
      "text/plain": [
       "array([[[0, 1, 2],\n",
       "        [3, 4, 5],\n",
       "        [6, 7, 8]]])"
      ]
     },
     "execution_count": 64,
     "metadata": {},
     "output_type": "execute_result"
    }
   ],
   "source": [
    "crr0[0,:,:,:]           # 1st 3D array of 4D array"
   ]
  },
  {
   "cell_type": "code",
   "execution_count": 69,
   "id": "51486f13",
   "metadata": {},
   "outputs": [
    {
     "data": {
      "text/plain": [
       "array([[[ 9, 10, 11],\n",
       "        [12, 13, 14],\n",
       "        [15, 16, 17]]])"
      ]
     },
     "execution_count": 69,
     "metadata": {},
     "output_type": "execute_result"
    }
   ],
   "source": [
    "crr0[1,:,:,:]           # 2nd 3D array of 4D array"
   ]
  },
  {
   "cell_type": "markdown",
   "id": "15e602d3",
   "metadata": {},
   "source": [
    "<mark>stacking 3D arrays (e & f) page wise (axis = 0) resulted in a 4D array 'crr0' =[ [[[e]]], [[[f]]] ] (ie two 3D arrays on a page, each with depth 1, and rows and columns = (3,3) )</mark>"
   ]
  },
  {
   "cell_type": "markdown",
   "id": "0bc78b31",
   "metadata": {},
   "source": [
    "###### The stack function along axis = 1 (depth wise)"
   ]
  },
  {
   "cell_type": "code",
   "execution_count": 106,
   "id": "a1caaf19",
   "metadata": {},
   "outputs": [
    {
     "data": {
      "text/plain": [
       "array([[[[ 0,  1,  2],\n",
       "         [ 3,  4,  5],\n",
       "         [ 6,  7,  8]],\n",
       "\n",
       "        [[ 9, 10, 11],\n",
       "         [12, 13, 14],\n",
       "         [15, 16, 17]]]])"
      ]
     },
     "execution_count": 106,
     "metadata": {},
     "output_type": "execute_result"
    }
   ],
   "source": [
    "crr1 = np.stack((e,f), axis = 1)\n",
    "crr1"
   ]
  },
  {
   "cell_type": "code",
   "execution_count": 107,
   "id": "de9ae279",
   "metadata": {},
   "outputs": [
    {
     "data": {
      "text/plain": [
       "(1, 2, 3, 3)"
      ]
     },
     "execution_count": 107,
     "metadata": {},
     "output_type": "execute_result"
    }
   ],
   "source": [
    "crr1.shape"
   ]
  },
  {
   "cell_type": "markdown",
   "id": "b6f5e2ff",
   "metadata": {},
   "source": [
    "<mark>stacking 3D arrays (e & f) depth wise (axis = 1) resulted in a 4D array 'crr1' =[ [ [[e ]], [[f]] ] ] (ie 4D array with one 3D array with d0 = e and d1 = f </mark>"
   ]
  },
  {
   "cell_type": "markdown",
   "id": "343091b3",
   "metadata": {},
   "source": [
    "###### The stack function along axis = 2 (row wise)"
   ]
  },
  {
   "cell_type": "code",
   "execution_count": 108,
   "id": "a5dab517",
   "metadata": {},
   "outputs": [
    {
     "data": {
      "text/plain": [
       "array([[[[ 0,  1,  2],\n",
       "         [ 9, 10, 11]],\n",
       "\n",
       "        [[ 3,  4,  5],\n",
       "         [12, 13, 14]],\n",
       "\n",
       "        [[ 6,  7,  8],\n",
       "         [15, 16, 17]]]])"
      ]
     },
     "execution_count": 108,
     "metadata": {},
     "output_type": "execute_result"
    }
   ],
   "source": [
    "crr2 = np.stack((e,f), axis = 2)\n",
    "crr2"
   ]
  },
  {
   "cell_type": "code",
   "execution_count": 109,
   "id": "6cd298b8",
   "metadata": {},
   "outputs": [
    {
     "data": {
      "text/plain": [
       "(1, 3, 2, 3)"
      ]
     },
     "execution_count": 109,
     "metadata": {},
     "output_type": "execute_result"
    }
   ],
   "source": [
    "crr2.shape"
   ]
  },
  {
   "cell_type": "markdown",
   "id": "3dfcab13",
   "metadata": {},
   "source": [
    "<mark>stacking 3D arrays (e & f) row wise (axis = 2) resulted in a 4D array 'crr2' =[ [ [[e[r0], f[r0] ]], [[e[r1], f[r1]], [[e[r2], f[r2]] ] ] (ie 4D array with one 3D array with depth di: ci = e[ri] & f[ri]  </mark>\n",
    "\n",
    "<mark>  4D array with one 3D array whose di: ri = e[ri] & f[ri] </mark>\n",
    "\n",
    "<mark>  rows per depth = 2 (always)</mark>"
   ]
  },
  {
   "cell_type": "markdown",
   "id": "4b6c9dd0",
   "metadata": {},
   "source": [
    "###### The stack function along axis = 3(column wise)"
   ]
  },
  {
   "cell_type": "code",
   "execution_count": 110,
   "id": "78278c5c",
   "metadata": {},
   "outputs": [
    {
     "data": {
      "text/plain": [
       "array([[[[ 0,  9],\n",
       "         [ 1, 10],\n",
       "         [ 2, 11]],\n",
       "\n",
       "        [[ 3, 12],\n",
       "         [ 4, 13],\n",
       "         [ 5, 14]],\n",
       "\n",
       "        [[ 6, 15],\n",
       "         [ 7, 16],\n",
       "         [ 8, 17]]]])"
      ]
     },
     "execution_count": 110,
     "metadata": {},
     "output_type": "execute_result"
    }
   ],
   "source": [
    "crr3 = np.stack((e,f), axis = 3)\n",
    "crr3"
   ]
  },
  {
   "cell_type": "code",
   "execution_count": 111,
   "id": "5138777d",
   "metadata": {},
   "outputs": [
    {
     "data": {
      "text/plain": [
       "(1, 3, 3, 2)"
      ]
     },
     "execution_count": 111,
     "metadata": {},
     "output_type": "execute_result"
    }
   ],
   "source": [
    "crr3.shape"
   ]
  },
  {
   "cell_type": "markdown",
   "id": "3fd8df32",
   "metadata": {},
   "source": [
    "stacking 3D arrays (e & f) column wise (axis = 3) resulted in a 4D array 'crr3' =[ [ [[C0 = e[r0], C2 = f[r0 ]], [[C1 = e[r1], C1 = f[r1]], [[C0 = e[r2],C1 = f[r2]] ] ] (ie 4D array with one 3D array with depth di: ci = e[ri] & f[ri]  </mark>\n",
    "\n",
    "<mark>  4D array with one 3D array whose di: ci = e[ri] & f[ri] </mark>\n",
    "\n",
    "<mark>  columns per depth = 2 (always)</mark>"
   ]
  },
  {
   "cell_type": "markdown",
   "id": "f57e2d76",
   "metadata": {},
   "source": [
    "#### <div class=\"alert alert-success\" > summary\n",
    "    \n",
    "            1D stack\n",
    "    \n",
    "| Axis | Discription of resultant array         |\n",
    "|------|----------------------------------------|\n",
    "| 0    | 2D array whose rows: ri = array1[ri] & array2[ri] |    \n",
    "| 1    | 2D array whose columns: ci = array1[ri] & array2[ri] |    \n",
    "\n",
    "            2D stack  \n",
    "\n",
    "| Axis | Discription of resultant array|\n",
    "|------|----------------------------------------|\n",
    "| 0    |  3D array whose depths are the 2D arrays|    \n",
    "| 1    |  3D array with depths = rows of array1or2. d0 has array1&2's row0  and d1 has array1&2's row1|\n",
    "| 2    |  3D array with Depth[i]: Colimns[i] = Rows[i]|   \n",
    "    \n",
    "            3D stack\n",
    "\n",
    "| Axis | Discription of resultant array|\n",
    "|------|----------------------------------------|\n",
    "| 0    |   4D array with two 3D arrays : array=[ [[[array1]]], [[[array2]]] ] |    \n",
    "| 1    |   4D array with one 3D array whose d0 = e and d1 = f|\n",
    "| 2    |   4D array with one 3D array whose di: ri = array1[ri] & array2[ri] |\n",
    "| 3    |   4D array with one 3D array whose di: ci = array1[ri] & array2[ri]|        "
   ]
  }
 ],
 "metadata": {
  "kernelspec": {
   "display_name": "Python 3 (ipykernel)",
   "language": "python",
   "name": "python3"
  },
  "language_info": {
   "codemirror_mode": {
    "name": "ipython",
    "version": 3
   },
   "file_extension": ".py",
   "mimetype": "text/x-python",
   "name": "python",
   "nbconvert_exporter": "python",
   "pygments_lexer": "ipython3",
   "version": "3.9.12"
  }
 },
 "nbformat": 4,
 "nbformat_minor": 5
}
