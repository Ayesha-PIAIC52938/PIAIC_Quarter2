{
 "cells": [
  {
   "cell_type": "markdown",
   "id": "1684b266",
   "metadata": {},
   "source": [
    "# <div class=\"alert alert-success\" >(7). Splitting (part-4)\n"
   ]
  },
  {
   "cell_type": "code",
   "execution_count": 1,
   "id": "b499b727",
   "metadata": {},
   "outputs": [],
   "source": [
    "import numpy as np"
   ]
  },
  {
   "cell_type": "markdown",
   "id": "4404041f",
   "metadata": {},
   "source": [
    "#### <div class= \"alert alert-info\"> The depth split functions: dsplit() \n"
   ]
  },
  {
   "cell_type": "code",
   "execution_count": null,
   "id": "f33d1dda",
   "metadata": {},
   "outputs": [],
   "source": []
  }
 ],
 "metadata": {
  "kernelspec": {
   "display_name": "Python 3 (ipykernel)",
   "language": "python",
   "name": "python3"
  },
  "language_info": {
   "codemirror_mode": {
    "name": "ipython",
    "version": 3
   },
   "file_extension": ".py",
   "mimetype": "text/x-python",
   "name": "python",
   "nbconvert_exporter": "python",
   "pygments_lexer": "ipython3",
   "version": "3.9.12"
  }
 },
 "nbformat": 4,
 "nbformat_minor": 5
}
