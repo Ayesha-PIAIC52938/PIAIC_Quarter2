{
 "cells": [
  {
   "cell_type": "markdown",
   "id": "99223bf8",
   "metadata": {},
   "source": [
    "# <div class=\"alert alert-success\" >(6). Stacking (part-4)"
   ]
  },
  {
   "cell_type": "code",
   "execution_count": 2,
   "id": "8dfd7fcb",
   "metadata": {},
   "outputs": [],
   "source": [
    "import numpy as np"
   ]
  },
  {
   "attachments": {
    "1.png": {
     "image/png": "[encoded data removed]"
    }
   },
   "cell_type": "markdown",
   "id": "cd6aa09f",
   "metadata": {},
   "source": [
    "#### <div class= \"alert alert-info\"> Vertical stacking\n",
    "    \n",
    "<span style=\"color:red\">vstack()</span> function is basically <span style=\"color:red\">concatenate()</span> with axis = 0. vertical stacking results in a new array with same columns as array1/array2 but rows increases i.e new array extends vertically\n",
    "    \n",
    "![1.png](attachment:1.png)\n",
    "    \n",
    "in vertical stacking rows changes while column remain fix    "
   ]
  },
  {
   "cell_type": "markdown",
   "id": "1099166b",
   "metadata": {},
   "source": [
    "#### <div class= \"alert alert-danger\">1D vertical stacking"
   ]
  },
  {
   "cell_type": "code",
   "execution_count": 3,
   "id": "24e4fc9a",
   "metadata": {},
   "outputs": [
    {
     "name": "stdout",
     "output_type": "stream",
     "text": [
      "a = [1 2 3 4 5] \n",
      "\n",
      "b = [-1  0  1  2  3]\n"
     ]
    }
   ],
   "source": [
    "a = np.arange(1,6)\n",
    "b = a-2\n",
    "print(\"a =\",a,'\\n')\n",
    "print(\"b =\",b)"
   ]
  },
  {
   "cell_type": "code",
   "execution_count": 4,
   "id": "f28c0c8b",
   "metadata": {},
   "outputs": [
    {
     "data": {
      "text/plain": [
       "array([[ 1,  2,  3,  4,  5],\n",
       "       [-1,  0,  1,  2,  3]])"
      ]
     },
     "execution_count": 4,
     "metadata": {},
     "output_type": "execute_result"
    }
   ],
   "source": [
    "arr1d = np.vstack((a,b)) \n",
    "arr1d"
   ]
  },
  {
   "cell_type": "code",
   "execution_count": 20,
   "id": "a22ddacc",
   "metadata": {},
   "outputs": [
    {
     "data": {
      "text/plain": [
       "(2, 5)"
      ]
     },
     "execution_count": 20,
     "metadata": {},
     "output_type": "execute_result"
    }
   ],
   "source": [
    "arr1d.shape"
   ]
  },
  {
   "attachments": {
    "2.png": {
     "image/png": "[encoded data removed]"
    }
   },
   "cell_type": "markdown",
   "id": "9504f41c",
   "metadata": {},
   "source": [
    "<mark> resultant 1D array stacks b below a ie [a b]^T </mark>\n",
    "\n",
    "![2.png](attachment:2.png)"
   ]
  },
  {
   "cell_type": "markdown",
   "id": "ff4dd595",
   "metadata": {},
   "source": [
    "#### <div class= \"alert alert-danger\">2D vertical stacking\n"
   ]
  },
  {
   "cell_type": "code",
   "execution_count": 7,
   "id": "13c920d6",
   "metadata": {},
   "outputs": [
    {
     "name": "stdout",
     "output_type": "stream",
     "text": [
      "c = [[0 1 2 3 4]\n",
      " [5 6 7 8 9]] \n",
      "\n",
      "d = [[ 3  4  5  6  7]\n",
      " [ 8  9 10 11 12]]\n"
     ]
    }
   ],
   "source": [
    "c = np.arange(10).reshape(2,5)\n",
    "d = c+3\n",
    "print(\"c =\",c,'\\n')\n",
    "print(\"d =\",d)"
   ]
  },
  {
   "cell_type": "code",
   "execution_count": 8,
   "id": "a52dc8f2",
   "metadata": {},
   "outputs": [
    {
     "data": {
      "text/plain": [
       "array([[ 0,  1,  2,  3,  4],\n",
       "       [ 5,  6,  7,  8,  9],\n",
       "       [ 3,  4,  5,  6,  7],\n",
       "       [ 8,  9, 10, 11, 12]])"
      ]
     },
     "execution_count": 8,
     "metadata": {},
     "output_type": "execute_result"
    }
   ],
   "source": [
    "arr2d = np.vstack((c,d)) \n",
    "arr2d"
   ]
  },
  {
   "cell_type": "code",
   "execution_count": 21,
   "id": "acaa30ea",
   "metadata": {},
   "outputs": [
    {
     "data": {
      "text/plain": [
       "(4, 5)"
      ]
     },
     "execution_count": 21,
     "metadata": {},
     "output_type": "execute_result"
    }
   ],
   "source": [
    "arr2d.shape"
   ]
  },
  {
   "attachments": {
    "3.png": {
     "image/png": "[encoded data removed]"
    }
   },
   "cell_type": "markdown",
   "id": "d29b1c1a",
   "metadata": {},
   "source": [
    "<mark> resultant 2D array stacks d below c ie [c d]^T </mark>\n",
    "\n",
    "![3.png](attachment:3.png)"
   ]
  },
  {
   "cell_type": "markdown",
   "id": "519541d1",
   "metadata": {},
   "source": [
    "#### <div class= \"alert alert-danger\">3D vertical stacking\n"
   ]
  },
  {
   "cell_type": "code",
   "execution_count": 9,
   "id": "e7bbb122",
   "metadata": {},
   "outputs": [
    {
     "name": "stdout",
     "output_type": "stream",
     "text": [
      "e = [[[ 0  1  2  3  4]\n",
      "  [ 5  6  7  8  9]]\n",
      "\n",
      " [[10 11 12 13 14]\n",
      "  [15 16 17 18 19]]] \n",
      "\n",
      "f = [[[10 11 12 13 14]\n",
      "  [15 16 17 18 19]]\n",
      "\n",
      " [[20 21 22 23 24]\n",
      "  [25 26 27 28 29]]]\n"
     ]
    }
   ],
   "source": [
    "e = np.arange(20).reshape(2,2,5)\n",
    "f = e+10\n",
    "print(\"e =\",e,'\\n')\n",
    "print(\"f =\",f)"
   ]
  },
  {
   "cell_type": "code",
   "execution_count": 10,
   "id": "8c68d4f5",
   "metadata": {},
   "outputs": [
    {
     "data": {
      "text/plain": [
       "array([[[ 0,  1,  2,  3,  4],\n",
       "        [ 5,  6,  7,  8,  9]],\n",
       "\n",
       "       [[10, 11, 12, 13, 14],\n",
       "        [15, 16, 17, 18, 19]],\n",
       "\n",
       "       [[10, 11, 12, 13, 14],\n",
       "        [15, 16, 17, 18, 19]],\n",
       "\n",
       "       [[20, 21, 22, 23, 24],\n",
       "        [25, 26, 27, 28, 29]]])"
      ]
     },
     "execution_count": 10,
     "metadata": {},
     "output_type": "execute_result"
    }
   ],
   "source": [
    "arr3d = np.vstack((e,f)) \n",
    "arr3d"
   ]
  },
  {
   "cell_type": "code",
   "execution_count": 22,
   "id": "b5a13563",
   "metadata": {},
   "outputs": [
    {
     "data": {
      "text/plain": [
       "(4, 2, 5)"
      ]
     },
     "execution_count": 22,
     "metadata": {},
     "output_type": "execute_result"
    }
   ],
   "source": [
    "arr3d.shape"
   ]
  },
  {
   "attachments": {
    "4-2.png": {
     "image/png": "[encoded data removed]"
    }
   },
   "cell_type": "markdown",
   "id": "e5657590",
   "metadata": {},
   "source": [
    "<mark> resultant 3D array stacks f after e ie di = [ [[ e f ]] ]^T </mark>\n",
    "\n",
    "![4-2.png](attachment:4-2.png)"
   ]
  },
  {
   "cell_type": "markdown",
   "id": "c66a1874",
   "metadata": {},
   "source": [
    "#### <div class = \"alert alert-warning\"> Row stacking\n",
    "    \n",
    "<span style=\"color:red\">Row_stack()</span> stacks array2 as extended rows of array1. row_stack() is just like vstack().   "
   ]
  },
  {
   "cell_type": "markdown",
   "id": "e594de5e",
   "metadata": {},
   "source": [
    "#### <div class= \"alert alert-danger\">1D row stacking"
   ]
  },
  {
   "cell_type": "code",
   "execution_count": 11,
   "id": "586a3e9b",
   "metadata": {},
   "outputs": [
    {
     "name": "stdout",
     "output_type": "stream",
     "text": [
      "a1 = [1 2 3 4 5] \n",
      "\n",
      "b1 = [ 2  4  6  8 10]\n"
     ]
    }
   ],
   "source": [
    "a1 = np.arange(1,6)\n",
    "b1 = a1*2\n",
    "print(\"a1 =\",a1,'\\n')\n",
    "print(\"b1 =\",b1)"
   ]
  },
  {
   "cell_type": "code",
   "execution_count": 15,
   "id": "84474242",
   "metadata": {},
   "outputs": [
    {
     "data": {
      "text/plain": [
       "array([[ 1,  2,  3,  4,  5],\n",
       "       [ 2,  4,  6,  8, 10]])"
      ]
     },
     "execution_count": 15,
     "metadata": {},
     "output_type": "execute_result"
    }
   ],
   "source": [
    "arr1d_rs = np.row_stack((a1,b1))  \n",
    "arr1d_rs"
   ]
  },
  {
   "cell_type": "code",
   "execution_count": 24,
   "id": "aa9a88cc",
   "metadata": {},
   "outputs": [
    {
     "data": {
      "text/plain": [
       "(2, 5)"
      ]
     },
     "execution_count": 24,
     "metadata": {},
     "output_type": "execute_result"
    }
   ],
   "source": [
    "arr1d_rs.shape"
   ]
  },
  {
   "cell_type": "markdown",
   "id": "f461b28f",
   "metadata": {},
   "source": [
    "#### <div class= \"alert alert-danger\">2D row stacking"
   ]
  },
  {
   "cell_type": "code",
   "execution_count": 16,
   "id": "37cb5bf0",
   "metadata": {},
   "outputs": [
    {
     "name": "stdout",
     "output_type": "stream",
     "text": [
      "c1 = [[0 1 2]\n",
      " [3 4 5]] \n",
      "\n",
      "d1 = [[ 0  3  6]\n",
      " [ 9 12 15]]\n"
     ]
    }
   ],
   "source": [
    "c1 = np.arange(6).reshape(2,3)\n",
    "d1 = c1*3\n",
    "print(\"c1 =\",c1,'\\n')\n",
    "print(\"d1 =\",d1)"
   ]
  },
  {
   "cell_type": "code",
   "execution_count": 17,
   "id": "888206bd",
   "metadata": {},
   "outputs": [
    {
     "data": {
      "text/plain": [
       "array([[ 0,  1,  2],\n",
       "       [ 3,  4,  5],\n",
       "       [ 0,  3,  6],\n",
       "       [ 9, 12, 15]])"
      ]
     },
     "execution_count": 17,
     "metadata": {},
     "output_type": "execute_result"
    }
   ],
   "source": [
    "arr2d_rs = np.row_stack((c1,d1)) \n",
    "arr2d_rs"
   ]
  },
  {
   "cell_type": "code",
   "execution_count": 25,
   "id": "e8001208",
   "metadata": {},
   "outputs": [
    {
     "data": {
      "text/plain": [
       "(4, 3)"
      ]
     },
     "execution_count": 25,
     "metadata": {},
     "output_type": "execute_result"
    }
   ],
   "source": [
    "arr2d_rs.shape"
   ]
  },
  {
   "cell_type": "markdown",
   "id": "886bec64",
   "metadata": {},
   "source": [
    "#### <div class= \"alert alert-danger\">3D row stacking"
   ]
  },
  {
   "cell_type": "code",
   "execution_count": 18,
   "id": "f2afc623",
   "metadata": {},
   "outputs": [
    {
     "name": "stdout",
     "output_type": "stream",
     "text": [
      "e1 = [[[ 0  1  2  3  4]\n",
      "  [ 5  6  7  8  9]]\n",
      "\n",
      " [[10 11 12 13 14]\n",
      "  [15 16 17 18 19]]] \n",
      "\n",
      "f1 = [[[-2 -1  0  1  2]\n",
      "  [ 3  4  5  6  7]]\n",
      "\n",
      " [[ 8  9 10 11 12]\n",
      "  [13 14 15 16 17]]]\n"
     ]
    }
   ],
   "source": [
    "e1 = np.arange(20).reshape(2,2,5)\n",
    "f1 = e1-2\n",
    "print(\"e1 =\",e1,'\\n')\n",
    "print(\"f1 =\",f1)"
   ]
  },
  {
   "cell_type": "code",
   "execution_count": 19,
   "id": "82c0caec",
   "metadata": {},
   "outputs": [
    {
     "data": {
      "text/plain": [
       "array([[[ 0,  1,  2,  3,  4],\n",
       "        [ 5,  6,  7,  8,  9]],\n",
       "\n",
       "       [[10, 11, 12, 13, 14],\n",
       "        [15, 16, 17, 18, 19]],\n",
       "\n",
       "       [[-2, -1,  0,  1,  2],\n",
       "        [ 3,  4,  5,  6,  7]],\n",
       "\n",
       "       [[ 8,  9, 10, 11, 12],\n",
       "        [13, 14, 15, 16, 17]]])"
      ]
     },
     "execution_count": 19,
     "metadata": {},
     "output_type": "execute_result"
    }
   ],
   "source": [
    "arr3d_rs = np.row_stack((e1,f1))  \n",
    "arr3d_rs"
   ]
  },
  {
   "cell_type": "code",
   "execution_count": 26,
   "id": "6dcea036",
   "metadata": {},
   "outputs": [
    {
     "data": {
      "text/plain": [
       "(4, 2, 5)"
      ]
     },
     "execution_count": 26,
     "metadata": {},
     "output_type": "execute_result"
    }
   ],
   "source": [
    "arr3d_rs.shape"
   ]
  },
  {
   "cell_type": "markdown",
   "id": "4750315d",
   "metadata": {},
   "source": [
    "#### <div class=\"alert alert-success\" > summary\n",
    "\n",
    "1D vstack()\n",
    "\n",
    "- 1D array: = [array1, array2]^T     \n",
    "\n",
    "2D vstack()\n",
    "\n",
    "-  resultant 2D array stacks array2 after array1 ie [array1, array2]^T\n",
    "    \n",
    "3D vstack()\n",
    "\n",
    "-  resultant 3D array stacks array2 after array1 ie di = [ [[ array1, array2  ]] ]^T       \n",
    " "
   ]
  }
 ],
 "metadata": {
  "kernelspec": {
   "display_name": "Python 3 (ipykernel)",
   "language": "python",
   "name": "python3"
  },
  "language_info": {
   "codemirror_mode": {
    "name": "ipython",
    "version": 3
   },
   "file_extension": ".py",
   "mimetype": "text/x-python",
   "name": "python",
   "nbconvert_exporter": "python",
   "pygments_lexer": "ipython3",
   "version": "3.9.12"
  }
 },
 "nbformat": 4,
 "nbformat_minor": 5
}
