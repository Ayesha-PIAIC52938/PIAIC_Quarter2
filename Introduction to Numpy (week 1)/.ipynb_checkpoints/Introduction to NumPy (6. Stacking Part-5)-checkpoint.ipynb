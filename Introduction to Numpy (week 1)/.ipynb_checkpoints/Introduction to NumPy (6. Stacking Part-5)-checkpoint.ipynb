{
 "cells": [
  {
   "cell_type": "markdown",
   "id": "e4b6d2dd",
   "metadata": {},
   "source": [
    "# <div class=\"alert alert-success\" >(6). Stacking (part-5)"
   ]
  },
  {
   "cell_type": "code",
   "execution_count": 1,
   "id": "31bd16e7",
   "metadata": {},
   "outputs": [],
   "source": [
    "import numpy as np"
   ]
  },
  {
   "cell_type": "markdown",
   "id": "c890937f",
   "metadata": {},
   "source": [
    "#### <div class= \"alert alert-info\">  Depth stacking"
   ]
  },
  {
   "attachments": {
    "d.png": {
     "image/png": "[encoded data removed]"
    }
   },
   "cell_type": "markdown",
   "id": "7d133c46",
   "metadata": {},
   "source": [
    "<span style=\"color:red\">dstack()</span> function stacks array2 as depth after array1. In 1D & 2D depth stacking rows and columns remain sam only depth changes.\n",
    "\n",
    "![d.png](attachment:d.png)\n",
    "\n",
    "Depth stacking 1D and 2D arrays results in a 3D array"
   ]
  },
  {
   "cell_type": "markdown",
   "id": "bf34c6d8",
   "metadata": {},
   "source": [
    "#### <div class= \"alert alert-danger\">1D depth stacking"
   ]
  },
  {
   "cell_type": "code",
   "execution_count": 2,
   "id": "2bc642dd",
   "metadata": {},
   "outputs": [
    {
     "name": "stdout",
     "output_type": "stream",
     "text": [
      "a = [1 2 3 4 5] \n",
      "\n",
      "b = [-1  0  1  2  3]\n"
     ]
    }
   ],
   "source": [
    "a = np.arange(1,6)\n",
    "b = a-2\n",
    "print(\"a =\",a,'\\n')\n",
    "print(\"b =\",b)"
   ]
  },
  {
   "cell_type": "code",
   "execution_count": 3,
   "id": "c924dc45",
   "metadata": {},
   "outputs": [
    {
     "data": {
      "text/plain": [
       "array([[[ 1, -1],\n",
       "        [ 2,  0],\n",
       "        [ 3,  1],\n",
       "        [ 4,  2],\n",
       "        [ 5,  3]]])"
      ]
     },
     "execution_count": 3,
     "metadata": {},
     "output_type": "execute_result"
    }
   ],
   "source": [
    "arr1d = np.dstack((a,b)) \n",
    "arr1d"
   ]
  },
  {
   "cell_type": "code",
   "execution_count": 4,
   "id": "9d5a7ae9",
   "metadata": {},
   "outputs": [
    {
     "data": {
      "text/plain": [
       "(1, 5, 2)"
      ]
     },
     "execution_count": 4,
     "metadata": {},
     "output_type": "execute_result"
    }
   ],
   "source": [
    "arr1d.shape"
   ]
  },
  {
   "cell_type": "markdown",
   "id": "a4e6c24c",
   "metadata": {},
   "source": [
    "<mark> resultant 3D array stacks b after a columns ie [  [[a^T b^T]]  ] </mark>"
   ]
  },
  {
   "cell_type": "markdown",
   "id": "59130781",
   "metadata": {},
   "source": [
    "#### <div class= \"alert alert-danger\">2D depth stacking"
   ]
  },
  {
   "cell_type": "code",
   "execution_count": 5,
   "id": "5517db1a",
   "metadata": {},
   "outputs": [
    {
     "name": "stdout",
     "output_type": "stream",
     "text": [
      "c = [[0 1 2 3 4]\n",
      " [5 6 7 8 9]] \n",
      "\n",
      "d = [[ 3  4  5  6  7]\n",
      " [ 8  9 10 11 12]]\n"
     ]
    }
   ],
   "source": [
    "c = np.arange(10).reshape(2,5)\n",
    "d = c+3\n",
    "print(\"c =\",c,'\\n')\n",
    "print(\"d =\",d)"
   ]
  },
  {
   "cell_type": "code",
   "execution_count": 6,
   "id": "2189f0e2",
   "metadata": {},
   "outputs": [
    {
     "data": {
      "text/plain": [
       "array([[[ 0,  3],\n",
       "        [ 1,  4],\n",
       "        [ 2,  5],\n",
       "        [ 3,  6],\n",
       "        [ 4,  7]],\n",
       "\n",
       "       [[ 5,  8],\n",
       "        [ 6,  9],\n",
       "        [ 7, 10],\n",
       "        [ 8, 11],\n",
       "        [ 9, 12]]])"
      ]
     },
     "execution_count": 6,
     "metadata": {},
     "output_type": "execute_result"
    }
   ],
   "source": [
    "arr2d = np.dstack((c,d)) \n",
    "arr2d"
   ]
  },
  {
   "cell_type": "code",
   "execution_count": 7,
   "id": "53010ddf",
   "metadata": {},
   "outputs": [
    {
     "data": {
      "text/plain": [
       "(2, 5, 2)"
      ]
     },
     "execution_count": 7,
     "metadata": {},
     "output_type": "execute_result"
    }
   ],
   "source": [
    "arr2d.shape"
   ]
  },
  {
   "cell_type": "markdown",
   "id": "81427145",
   "metadata": {},
   "source": [
    "<mark> resultant 3D array stacks d after c as columns ie [  [[c[ri]^T , d[ri]^T]]  ] </mark>"
   ]
  },
  {
   "cell_type": "markdown",
   "id": "4b53e3b2",
   "metadata": {},
   "source": [
    "#### <div class= \"alert alert-danger\">3D depth stacking"
   ]
  },
  {
   "cell_type": "code",
   "execution_count": 8,
   "id": "9b418e2a",
   "metadata": {},
   "outputs": [
    {
     "name": "stdout",
     "output_type": "stream",
     "text": [
      "e = [[[ 0  1  2  3  4]\n",
      "  [ 5  6  7  8  9]]\n",
      "\n",
      " [[10 11 12 13 14]\n",
      "  [15 16 17 18 19]]] \n",
      "\n",
      "f = [[[10 11 12 13 14]\n",
      "  [15 16 17 18 19]]\n",
      "\n",
      " [[20 21 22 23 24]\n",
      "  [25 26 27 28 29]]]\n"
     ]
    }
   ],
   "source": [
    "e = np.arange(20).reshape(2,2,5)\n",
    "f = e+10\n",
    "print(\"e =\",e,'\\n')\n",
    "print(\"f =\",f)"
   ]
  },
  {
   "cell_type": "code",
   "execution_count": 9,
   "id": "f8703f03",
   "metadata": {},
   "outputs": [
    {
     "data": {
      "text/plain": [
       "array([[[ 0,  1,  2,  3,  4, 10, 11, 12, 13, 14],\n",
       "        [ 5,  6,  7,  8,  9, 15, 16, 17, 18, 19]],\n",
       "\n",
       "       [[10, 11, 12, 13, 14, 20, 21, 22, 23, 24],\n",
       "        [15, 16, 17, 18, 19, 25, 26, 27, 28, 29]]])"
      ]
     },
     "execution_count": 9,
     "metadata": {},
     "output_type": "execute_result"
    }
   ],
   "source": [
    "arr3d = np.dstack((e,f)) \n",
    "arr3d"
   ]
  },
  {
   "cell_type": "code",
   "execution_count": 10,
   "id": "38074c8b",
   "metadata": {},
   "outputs": [
    {
     "data": {
      "text/plain": [
       "(2, 2, 10)"
      ]
     },
     "execution_count": 10,
     "metadata": {},
     "output_type": "execute_result"
    }
   ],
   "source": [
    "arr3d.shape"
   ]
  },
  {
   "cell_type": "markdown",
   "id": "6b3c2a81",
   "metadata": {},
   "source": [
    "<mark> resultant 3D array joins f after e in the corrosponding depths ie di =  [[c[ri]^T d[ri]^T]] </mark>"
   ]
  },
  {
   "cell_type": "markdown",
   "id": "a06b4b41",
   "metadata": {},
   "source": [
    "#### <div class=\"alert alert-success\" > summary\n",
    "\n",
    "1D dstack()\n",
    "\n",
    "- 3D array:  [  [[array1^T array2^T]]  ]\n",
    "    \n",
    "2D dstack()\n",
    "\n",
    "-  3D array: [  [[array1[ri]^T , array2[ri]^T]]  ] \n",
    "    \n",
    "3D dstack()\n",
    "\n",
    "-  3D array with depths: di =  [[c[ri]^T d[ri]^T]]        \n",
    " "
   ]
  },
  {
   "cell_type": "code",
   "execution_count": null,
   "id": "3d42b0f1",
   "metadata": {},
   "outputs": [],
   "source": []
  }
 ],
 "metadata": {
  "kernelspec": {
   "display_name": "Python 3 (ipykernel)",
   "language": "python",
   "name": "python3"
  },
  "language_info": {
   "codemirror_mode": {
    "name": "ipython",
    "version": 3
   },
   "file_extension": ".py",
   "mimetype": "text/x-python",
   "name": "python",
   "nbconvert_exporter": "python",
   "pygments_lexer": "ipython3",
   "version": "3.9.12"
  }
 },
 "nbformat": 4,
 "nbformat_minor": 5
}
