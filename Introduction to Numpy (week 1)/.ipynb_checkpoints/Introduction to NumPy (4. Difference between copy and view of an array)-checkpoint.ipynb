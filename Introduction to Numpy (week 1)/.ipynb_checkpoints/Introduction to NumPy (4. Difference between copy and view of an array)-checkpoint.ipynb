{
 "cells": [
  {
   "cell_type": "markdown",
   "id": "3adbaba6",
   "metadata": {},
   "source": [
    "# <div class=\"alert alert-success\" > (4). Difference between copy and view of an array</div>\n",
    "\n",
    "### <div class = \"alert alert-warning\"> Copy </div>\n",
    "    1. copy gives a new array \n",
    "    2. copy owns the data \n",
    "    3. any changes made to copy array elements will not affect the orignal array elements and vice versa \n",
    "    \n",
    "### <div class = \"alert alert-warning\"> View </div>\n",
    "    1.view just reffer to the orignal array\n",
    "    2. view doesn't owns the data \n",
    "    3. any changes made to view array elements will affect the orignal array elements and vice versa "
   ]
  },
  {
   "cell_type": "code",
   "execution_count": 1,
   "id": "14e9385b",
   "metadata": {},
   "outputs": [],
   "source": [
    "import numpy as np\n"
   ]
  },
  {
   "cell_type": "markdown",
   "id": "ec90fefb",
   "metadata": {},
   "source": [
    "#### <div class= \"alert alert-info\"> Array Copy"
   ]
  },
  {
   "cell_type": "code",
   "execution_count": 2,
   "id": "af673827",
   "metadata": {},
   "outputs": [
    {
     "data": {
      "text/plain": [
       "array([0, 1, 2, 3, 4, 5, 6, 7, 8, 9])"
      ]
     },
     "execution_count": 2,
     "metadata": {},
     "output_type": "execute_result"
    }
   ],
   "source": [
    "arr = np.arange(10)\n",
    "arr"
   ]
  },
  {
   "cell_type": "code",
   "execution_count": 3,
   "id": "a11b6a19",
   "metadata": {},
   "outputs": [
    {
     "data": {
      "text/plain": [
       "array([0, 1, 2, 3, 4, 5, 6, 7, 8, 9])"
      ]
     },
     "execution_count": 3,
     "metadata": {},
     "output_type": "execute_result"
    }
   ],
   "source": [
    "arr_copy = arr.copy()\n",
    "arr_copy"
   ]
  },
  {
   "cell_type": "markdown",
   "id": "d46e91dc",
   "metadata": {},
   "source": [
    "##### changes in array copy and orignal array:"
   ]
  },
  {
   "cell_type": "code",
   "execution_count": 4,
   "id": "8d772fa6",
   "metadata": {},
   "outputs": [
    {
     "data": {
      "text/plain": [
       "array([10,  1,  2,  3,  4,  5,  6,  7,  8,  9])"
      ]
     },
     "execution_count": 4,
     "metadata": {},
     "output_type": "execute_result"
    }
   ],
   "source": [
    "arr[0] = 10                        # change to orignal array\n",
    "arr  "
   ]
  },
  {
   "cell_type": "code",
   "execution_count": 5,
   "id": "f9ad4aaf",
   "metadata": {},
   "outputs": [
    {
     "data": {
      "text/plain": [
       "array([0, 1, 2, 3, 4, 5, 6, 7, 8, 9])"
      ]
     },
     "execution_count": 5,
     "metadata": {},
     "output_type": "execute_result"
    }
   ],
   "source": [
    "arr_copy                           # change to orignal array didnt change array copy"
   ]
  },
  {
   "cell_type": "code",
   "execution_count": 6,
   "id": "59b15381",
   "metadata": {},
   "outputs": [
    {
     "data": {
      "text/plain": [
       "array([  0,   1,   2,   3, 999,   5,   6,   7,   8,   9])"
      ]
     },
     "execution_count": 6,
     "metadata": {},
     "output_type": "execute_result"
    }
   ],
   "source": [
    "arr_copy[4] = 999                  # change to  array copy\n",
    "arr_copy"
   ]
  },
  {
   "cell_type": "code",
   "execution_count": 7,
   "id": "bd3223a6",
   "metadata": {},
   "outputs": [
    {
     "data": {
      "text/plain": [
       "array([10,  1,  2,  3,  4,  5,  6,  7,  8,  9])"
      ]
     },
     "execution_count": 7,
     "metadata": {},
     "output_type": "execute_result"
    }
   ],
   "source": [
    "arr                               # change to array copy didnt change the orignal array "
   ]
  },
  {
   "cell_type": "markdown",
   "id": "a9abde42",
   "metadata": {},
   "source": [
    "#### <div class= \"alert alert-info\"> Array View"
   ]
  },
  {
   "cell_type": "code",
   "execution_count": 8,
   "id": "0672540d",
   "metadata": {},
   "outputs": [
    {
     "data": {
      "text/plain": [
       "array([0, 1, 2, 3, 4, 5, 6, 7, 8, 9])"
      ]
     },
     "execution_count": 8,
     "metadata": {},
     "output_type": "execute_result"
    }
   ],
   "source": [
    "arr = np.arange(10)\n",
    "arr"
   ]
  },
  {
   "cell_type": "code",
   "execution_count": 9,
   "id": "cd7a80c0",
   "metadata": {},
   "outputs": [
    {
     "data": {
      "text/plain": [
       "array([0, 1, 2, 3, 4, 5, 6, 7, 8, 9])"
      ]
     },
     "execution_count": 9,
     "metadata": {},
     "output_type": "execute_result"
    }
   ],
   "source": [
    "arr_view = arr.view()\n",
    "arr_view"
   ]
  },
  {
   "cell_type": "markdown",
   "id": "8f69bcd7",
   "metadata": {},
   "source": [
    "##### changes in array view and orignal array:"
   ]
  },
  {
   "cell_type": "code",
   "execution_count": 10,
   "id": "9c32480a",
   "metadata": {},
   "outputs": [
    {
     "data": {
      "text/plain": [
       "array([   0,    1,    2, 8888,    4,    5,    6,    7,    8,    9])"
      ]
     },
     "execution_count": 10,
     "metadata": {},
     "output_type": "execute_result"
    }
   ],
   "source": [
    "arr[3] = 8888                     # change to orignal array\n",
    "arr"
   ]
  },
  {
   "cell_type": "code",
   "execution_count": 11,
   "id": "7d3b6294",
   "metadata": {},
   "outputs": [
    {
     "data": {
      "text/plain": [
       "array([   0,    1,    2, 8888,    4,    5,    6,    7,    8,    9])"
      ]
     },
     "execution_count": 11,
     "metadata": {},
     "output_type": "execute_result"
    }
   ],
   "source": [
    "arr_view                           # change to orignal array elements did change array view"
   ]
  },
  {
   "cell_type": "code",
   "execution_count": 12,
   "id": "76018cd3",
   "metadata": {},
   "outputs": [
    {
     "data": {
      "text/plain": [
       "array([   0,    1,    2, 8888,   -3,    5,    6,    7,    8,    9])"
      ]
     },
     "execution_count": 12,
     "metadata": {},
     "output_type": "execute_result"
    }
   ],
   "source": [
    "arr_view[4] = -3                # change to  array view\n",
    "arr_view"
   ]
  },
  {
   "cell_type": "code",
   "execution_count": 13,
   "id": "218c4bab",
   "metadata": {},
   "outputs": [
    {
     "data": {
      "text/plain": [
       "array([   0,    1,    2, 8888,   -3,    5,    6,    7,    8,    9])"
      ]
     },
     "execution_count": 13,
     "metadata": {},
     "output_type": "execute_result"
    }
   ],
   "source": [
    "arr                             # change to array view did change the orignal array "
   ]
  },
  {
   "cell_type": "markdown",
   "id": "13659591",
   "metadata": {},
   "source": [
    "#### <div class= \"alert alert-warning\">checking if array owns its data:</div> \n",
    "\n",
    "Copy owns its data and view doesn't we cah check this using Numpy array attribute <span style=\"color:red\">base</span>. base returns \" None\" if array owns its data or returns the array if the array doesn't owns its data\n"
   ]
  },
  {
   "cell_type": "code",
   "execution_count": 15,
   "id": "14370362",
   "metadata": {},
   "outputs": [
    {
     "name": "stdout",
     "output_type": "stream",
     "text": [
      "copy of array,arr_copy:  None\n"
     ]
    }
   ],
   "source": [
    "print(\"copy of array,arr_copy: \",arr_copy.base)"
   ]
  },
  {
   "cell_type": "code",
   "execution_count": 16,
   "id": "8fbf6bec",
   "metadata": {},
   "outputs": [
    {
     "name": "stdout",
     "output_type": "stream",
     "text": [
      "view of array,arr_view:  [   0    1    2 8888   -3    5    6    7    8    9]\n"
     ]
    }
   ],
   "source": [
    "print(\"view of array,arr_view: \",arr_view.base)"
   ]
  },
  {
   "cell_type": "code",
   "execution_count": null,
   "id": "4d51b155",
   "metadata": {},
   "outputs": [],
   "source": []
  }
 ],
 "metadata": {
  "kernelspec": {
   "display_name": "Python 3 (ipykernel)",
   "language": "python",
   "name": "python3"
  },
  "language_info": {
   "codemirror_mode": {
    "name": "ipython",
    "version": 3
   },
   "file_extension": ".py",
   "mimetype": "text/x-python",
   "name": "python",
   "nbconvert_exporter": "python",
   "pygments_lexer": "ipython3",
   "version": "3.9.12"
  }
 },
 "nbformat": 4,
 "nbformat_minor": 5
}
