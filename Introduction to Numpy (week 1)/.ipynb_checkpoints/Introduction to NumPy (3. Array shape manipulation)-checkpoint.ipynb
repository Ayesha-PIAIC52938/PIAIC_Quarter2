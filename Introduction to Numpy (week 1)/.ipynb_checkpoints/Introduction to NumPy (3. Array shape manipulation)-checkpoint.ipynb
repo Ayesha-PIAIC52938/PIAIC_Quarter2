{
 "cells": [
  {
   "cell_type": "markdown",
   "id": "04c3e5e4",
   "metadata": {},
   "source": [
    "# <div class=\"alert alert-success\" >(3) Array shape manipulation\n",
    "\n",
    "Like the name suggest we will be looking at some functions that can change the shape of an array ie change number of elements per row, column and depth "
   ]
  },
  {
   "cell_type": "code",
   "execution_count": 1,
   "id": "a1e028dd",
   "metadata": {},
   "outputs": [
    {
     "data": {
      "text/plain": [
       "array([ 0,  1,  2,  3,  4,  5,  6,  7,  8,  9, 10, 11, 12, 13, 14, 15, 16,\n",
       "       17, 18, 19, 20, 21, 22, 23, 24, 25, 26, 27, 28, 29])"
      ]
     },
     "execution_count": 1,
     "metadata": {},
     "output_type": "execute_result"
    }
   ],
   "source": [
    "import numpy as np\n",
    "a = np.arange(30)\n",
    "a"
   ]
  },
  {
   "cell_type": "markdown",
   "id": "11c8c6a0",
   "metadata": {},
   "source": [
    "#### <div class= \"alert alert-info\">Reshaping Array using reshape() method:\n",
    "    \n",
    "<span style=\"color:red\"> reshape(newshape, order='C')</span>: Gives a new shape to an array without changing its data.\n",
    "\n",
    "<ins>Parameters:</ins>\n",
    "    \n",
    "   - newshape:is an integer or tuple of ints. The new shape should be compatible with the original shape. If an integer, then the result       will be a 1-D array of that length. One shape dimension can be -1. In this case, the value is inferred from the length of       the array and remaining dimensions.\n",
    "\n",
    "    \n",
    "  - order{‘C’, ‘F’, ‘A’}: optional.Read the elements of a using this index order, and place the elements into the reshaped         array using this index order. ‘C’ means to read / write the elements using C-like index order, with the last axis index         changing fastest, back to the first axis index changing slowest. ‘F’ means to read / write the elements using Fortran-like     index order, with the first index changing fastest, and the last index changing slowest. Note that the ‘C’ and ‘F’ options     take no account of the memory layout of the underlying array, and only refer to the order of indexing. ‘A’ means to read /     write the elements in Fortran-like index order if a is Fortran contiguous in memory, C-like order otherwise.\n",
    "\n",
    "<ins>Returns:</ins>\n",
    "    \n",
    "  -reshaped_arrayndarray:This will be a new view object if possible; otherwise, it will be a copy. Note there is no guarantee      of the memory layout(C- or Fortran- contiguous) of the returned array."
   ]
  },
  {
   "cell_type": "code",
   "execution_count": 2,
   "id": "200d608a",
   "metadata": {},
   "outputs": [
    {
     "data": {
      "text/plain": [
       "array([[ 0,  1,  2,  3,  4,  5,  6,  7,  8,  9],\n",
       "       [10, 11, 12, 13, 14, 15, 16, 17, 18, 19],\n",
       "       [20, 21, 22, 23, 24, 25, 26, 27, 28, 29]])"
      ]
     },
     "execution_count": 2,
     "metadata": {},
     "output_type": "execute_result"
    }
   ],
   "source": [
    "b = a.reshape(3,10)    #a.size = 30 so reshape to 2D array: r x c = 30 (3x10=30)\n",
    "b"
   ]
  },
  {
   "cell_type": "code",
   "execution_count": 3,
   "id": "8d9f33c4",
   "metadata": {},
   "outputs": [
    {
     "data": {
      "text/plain": [
       "array([[[ 0,  1,  2,  3,  4],\n",
       "        [ 5,  6,  7,  8,  9]],\n",
       "\n",
       "       [[10, 11, 12, 13, 14],\n",
       "        [15, 16, 17, 18, 19]],\n",
       "\n",
       "       [[20, 21, 22, 23, 24],\n",
       "        [25, 26, 27, 28, 29]]])"
      ]
     },
     "execution_count": 3,
     "metadata": {},
     "output_type": "execute_result"
    }
   ],
   "source": [
    "c = a.reshape(3,2,5)   #a.size = 30 so reshape 3D: d x r x c = 30 (i.e 3x2x5=30)\n",
    "c"
   ]
  },
  {
   "cell_type": "markdown",
   "id": "31e30352",
   "metadata": {},
   "source": [
    "<div class = \"alert alert-warning\"> if we cant figure out any ONE dimension for reshaping an array we can use ' -1 ' for that dimension. Numpy calculates it for us. I no such number exist it raise err:</div>"
   ]
  },
  {
   "cell_type": "code",
   "execution_count": 4,
   "id": "1128520a",
   "metadata": {},
   "outputs": [
    {
     "data": {
      "text/plain": [
       "array([[[ 0,  1,  2,  3,  4],\n",
       "        [ 5,  6,  7,  8,  9]],\n",
       "\n",
       "       [[10, 11, 12, 13, 14],\n",
       "        [15, 16, 17, 18, 19]],\n",
       "\n",
       "       [[20, 21, 22, 23, 24],\n",
       "        [25, 26, 27, 28, 29]]])"
      ]
     },
     "execution_count": 4,
     "metadata": {},
     "output_type": "execute_result"
    }
   ],
   "source": [
    "d= a.reshape(3,-1,5)\n",
    "d"
   ]
  },
  {
   "cell_type": "code",
   "execution_count": 5,
   "id": "1c84ea75",
   "metadata": {},
   "outputs": [
    {
     "data": {
      "text/plain": [
       "(3, 2, 5)"
      ]
     },
     "execution_count": 5,
     "metadata": {},
     "output_type": "execute_result"
    }
   ],
   "source": [
    "d.shape"
   ]
  },
  {
   "cell_type": "code",
   "execution_count": 6,
   "id": "729177e9",
   "metadata": {},
   "outputs": [
    {
     "data": {
      "text/plain": [
       "array([[ 0,  1,  2,  3,  4,  5,  6,  7,  8,  9, 10, 11, 12, 13, 14],\n",
       "       [15, 16, 17, 18, 19, 20, 21, 22, 23, 24, 25, 26, 27, 28, 29]])"
      ]
     },
     "execution_count": 6,
     "metadata": {},
     "output_type": "execute_result"
    }
   ],
   "source": [
    "e = a.reshape(2,-1)\n",
    "e"
   ]
  },
  {
   "cell_type": "code",
   "execution_count": 7,
   "id": "d6b30aab",
   "metadata": {},
   "outputs": [
    {
     "data": {
      "text/plain": [
       "(2, 15)"
      ]
     },
     "execution_count": 7,
     "metadata": {},
     "output_type": "execute_result"
    }
   ],
   "source": [
    "e.shape"
   ]
  },
  {
   "cell_type": "markdown",
   "id": "b80feb45",
   "metadata": {},
   "source": [
    "#### <div class= \"alert alert-info\">Reshaping  using shape() with tuple"
   ]
  },
  {
   "cell_type": "code",
   "execution_count": 8,
   "id": "08c18259",
   "metadata": {},
   "outputs": [
    {
     "data": {
      "text/plain": [
       "array([ 0,  1,  2,  3,  4,  5,  6,  7,  8,  9, 10, 11, 12, 13, 14, 15, 16,\n",
       "       17, 18, 19, 20, 21, 22, 23, 24, 25, 26, 27, 28, 29])"
      ]
     },
     "execution_count": 8,
     "metadata": {},
     "output_type": "execute_result"
    }
   ],
   "source": [
    "a"
   ]
  },
  {
   "cell_type": "code",
   "execution_count": 9,
   "id": "a5d249e7",
   "metadata": {},
   "outputs": [
    {
     "data": {
      "text/plain": [
       "array([[ 0,  1,  2,  3,  4,  5],\n",
       "       [ 6,  7,  8,  9, 10, 11],\n",
       "       [12, 13, 14, 15, 16, 17],\n",
       "       [18, 19, 20, 21, 22, 23],\n",
       "       [24, 25, 26, 27, 28, 29]])"
      ]
     },
     "execution_count": 9,
     "metadata": {},
     "output_type": "execute_result"
    }
   ],
   "source": [
    "a.shape = (5,6)\n",
    "a"
   ]
  },
  {
   "cell_type": "code",
   "execution_count": 10,
   "id": "f6a0592a",
   "metadata": {},
   "outputs": [
    {
     "data": {
      "text/plain": [
       "array([[[ 0,  1,  2,  3,  4],\n",
       "        [ 5,  6,  7,  8,  9],\n",
       "        [10, 11, 12, 13, 14]],\n",
       "\n",
       "       [[15, 16, 17, 18, 19],\n",
       "        [20, 21, 22, 23, 24],\n",
       "        [25, 26, 27, 28, 29]]])"
      ]
     },
     "execution_count": 10,
     "metadata": {},
     "output_type": "execute_result"
    }
   ],
   "source": [
    "a.shape = (2,3,5)\n",
    "a"
   ]
  },
  {
   "cell_type": "markdown",
   "id": "8a2b1a56",
   "metadata": {},
   "source": [
    "#### <div class= \"alert alert-info\">Flattening Array:\n",
    "    \n",
    "    Flattening an array means changing a multidimensional array to a 1D array(Vector)."
   ]
  },
  {
   "cell_type": "markdown",
   "id": "73cdedf9",
   "metadata": {},
   "source": [
    "#### (a).Using reshape() function:"
   ]
  },
  {
   "cell_type": "code",
   "execution_count": 11,
   "id": "4f4af16a",
   "metadata": {},
   "outputs": [
    {
     "data": {
      "text/plain": [
       "array([[[ 0,  1,  2,  3,  4],\n",
       "        [ 5,  6,  7,  8,  9],\n",
       "        [10, 11, 12, 13, 14]],\n",
       "\n",
       "       [[15, 16, 17, 18, 19],\n",
       "        [20, 21, 22, 23, 24],\n",
       "        [25, 26, 27, 28, 29]]])"
      ]
     },
     "execution_count": 11,
     "metadata": {},
     "output_type": "execute_result"
    }
   ],
   "source": [
    "a"
   ]
  },
  {
   "cell_type": "code",
   "execution_count": 12,
   "id": "3518f00a",
   "metadata": {},
   "outputs": [
    {
     "data": {
      "text/plain": [
       "array([ 0,  1,  2,  3,  4,  5,  6,  7,  8,  9, 10, 11, 12, 13, 14, 15, 16,\n",
       "       17, 18, 19, 20, 21, 22, 23, 24, 25, 26, 27, 28, 29])"
      ]
     },
     "execution_count": 12,
     "metadata": {},
     "output_type": "execute_result"
    }
   ],
   "source": [
    "aflat = a.reshape(-1)\n",
    "aflat"
   ]
  },
  {
   "cell_type": "markdown",
   "id": "67fa9b05",
   "metadata": {},
   "source": [
    "#### (b). Using flatten() function:"
   ]
  },
  {
   "cell_type": "code",
   "execution_count": 13,
   "id": "eb637ca3",
   "metadata": {},
   "outputs": [
    {
     "data": {
      "text/plain": [
       "array([[ 0,  1,  2,  3,  4,  5,  6,  7,  8,  9],\n",
       "       [10, 11, 12, 13, 14, 15, 16, 17, 18, 19],\n",
       "       [20, 21, 22, 23, 24, 25, 26, 27, 28, 29]])"
      ]
     },
     "execution_count": 13,
     "metadata": {},
     "output_type": "execute_result"
    }
   ],
   "source": [
    "b"
   ]
  },
  {
   "cell_type": "code",
   "execution_count": 14,
   "id": "68e12d85",
   "metadata": {},
   "outputs": [
    {
     "data": {
      "text/plain": [
       "array([ 0,  1,  2,  3,  4,  5,  6,  7,  8,  9, 10, 11, 12, 13, 14, 15, 16,\n",
       "       17, 18, 19, 20, 21, 22, 23, 24, 25, 26, 27, 28, 29])"
      ]
     },
     "execution_count": 14,
     "metadata": {},
     "output_type": "execute_result"
    }
   ],
   "source": [
    "bflat = b.flatten()\n",
    "bflat"
   ]
  },
  {
   "cell_type": "markdown",
   "id": "2ab0d9c7",
   "metadata": {},
   "source": [
    "#### (a).Using ravel() function:"
   ]
  },
  {
   "cell_type": "code",
   "execution_count": 15,
   "id": "4552a442",
   "metadata": {},
   "outputs": [
    {
     "data": {
      "text/plain": [
       "array([[[ 0,  1,  2,  3,  4],\n",
       "        [ 5,  6,  7,  8,  9]],\n",
       "\n",
       "       [[10, 11, 12, 13, 14],\n",
       "        [15, 16, 17, 18, 19]],\n",
       "\n",
       "       [[20, 21, 22, 23, 24],\n",
       "        [25, 26, 27, 28, 29]]])"
      ]
     },
     "execution_count": 15,
     "metadata": {},
     "output_type": "execute_result"
    }
   ],
   "source": [
    "c"
   ]
  },
  {
   "cell_type": "code",
   "execution_count": 16,
   "id": "560ea25c",
   "metadata": {},
   "outputs": [
    {
     "data": {
      "text/plain": [
       "array([ 0,  1,  2,  3,  4,  5,  6,  7,  8,  9, 10, 11, 12, 13, 14, 15, 16,\n",
       "       17, 18, 19, 20, 21, 22, 23, 24, 25, 26, 27, 28, 29])"
      ]
     },
     "execution_count": 16,
     "metadata": {},
     "output_type": "execute_result"
    }
   ],
   "source": [
    "cflat = c.ravel()\n",
    "cflat"
   ]
  },
  {
   "cell_type": "code",
   "execution_count": 17,
   "id": "220ec116",
   "metadata": {},
   "outputs": [
    {
     "data": {
      "text/plain": [
       "array([ True,  True,  True,  True,  True,  True,  True,  True,  True,\n",
       "        True,  True,  True,  True,  True,  True,  True,  True,  True,\n",
       "        True,  True,  True,  True,  True,  True,  True,  True,  True,\n",
       "        True,  True,  True])"
      ]
     },
     "execution_count": 17,
     "metadata": {},
     "output_type": "execute_result"
    }
   ],
   "source": [
    "aflat == bflat"
   ]
  },
  {
   "cell_type": "code",
   "execution_count": 18,
   "id": "ac8a2a75",
   "metadata": {},
   "outputs": [
    {
     "data": {
      "text/plain": [
       "array([ True,  True,  True,  True,  True,  True,  True,  True,  True,\n",
       "        True,  True,  True,  True,  True,  True,  True,  True,  True,\n",
       "        True,  True,  True,  True,  True,  True,  True,  True,  True,\n",
       "        True,  True,  True])"
      ]
     },
     "execution_count": 18,
     "metadata": {},
     "output_type": "execute_result"
    }
   ],
   "source": [
    " bflat == cflat    # thus aflat == cflat"
   ]
  },
  {
   "cell_type": "markdown",
   "id": "dafcda1c",
   "metadata": {},
   "source": [
    "#### <div class= \"alert alert-warning\">Difference between flatten() & ravel()</div> \n",
    "\n",
    "- <mark>flatten():</mark>\n",
    "    \n",
    "    1. is a method of ndarray object\n",
    "    2. slower then ravel()\n",
    "    3. returns a copy of orignal array  (More on copy and view of array in next topic)\n",
    "    4. modifying the resultant 1D arrayhas no effect on the orignal array\n",
    "\n",
    "- <mark>ravel():</mark>\n",
    "\n",
    "    1. is a library level function  \n",
    "    2. is faster then flatten()\n",
    "    3. returns only a refrence/view of the orignal array (More on copy and view of array in next topic)\n",
    "    4. changing elements of resultant 1D array changes the orignal array\n"
   ]
  },
  {
   "cell_type": "markdown",
   "id": "9bdef11e",
   "metadata": {},
   "source": [
    "#### <div class= \"alert alert-info\">Changing array shape using transpose() function:\n",
    "    \n",
    "    T or transpose() interchanges rowas and columns in 2D array and in 3D array inderchanges dimension of depth with column and rows remains fixed"
   ]
  },
  {
   "cell_type": "markdown",
   "id": "8338c6ca",
   "metadata": {},
   "source": [
    "##### 1D"
   ]
  },
  {
   "cell_type": "code",
   "execution_count": 19,
   "id": "9a1cf457",
   "metadata": {},
   "outputs": [
    {
     "data": {
      "text/plain": [
       "array([ 0,  1,  2,  3,  4,  5,  6,  7,  8,  9, 10, 11, 12, 13, 14, 15, 16,\n",
       "       17, 18, 19, 20, 21, 22, 23, 24, 25, 26, 27, 28, 29])"
      ]
     },
     "execution_count": 19,
     "metadata": {},
     "output_type": "execute_result"
    }
   ],
   "source": [
    "aa = np.arange(30)\n",
    "aa"
   ]
  },
  {
   "cell_type": "code",
   "execution_count": null,
   "id": "e9a1579a",
   "metadata": {},
   "outputs": [],
   "source": []
  },
  {
   "cell_type": "code",
   "execution_count": 20,
   "id": "a9c0f2a8",
   "metadata": {},
   "outputs": [
    {
     "data": {
      "text/plain": [
       "array([ 0,  1,  2,  3,  4,  5,  6,  7,  8,  9, 10, 11, 12, 13, 14, 15, 16,\n",
       "       17, 18, 19, 20, 21, 22, 23, 24, 25, 26, 27, 28, 29])"
      ]
     },
     "execution_count": 20,
     "metadata": {},
     "output_type": "execute_result"
    }
   ],
   "source": [
    "bb = aa.T\n",
    "bb"
   ]
  },
  {
   "cell_type": "markdown",
   "id": "90ea585f",
   "metadata": {},
   "source": [
    "<div class= \"alert alert-warning\">1D array transpose is the same 1D array</div>"
   ]
  },
  {
   "cell_type": "code",
   "execution_count": 21,
   "id": "06e664c1",
   "metadata": {},
   "outputs": [
    {
     "data": {
      "text/plain": [
       "array([ True,  True,  True,  True,  True,  True,  True,  True,  True,\n",
       "        True,  True,  True,  True,  True,  True,  True,  True,  True,\n",
       "        True,  True,  True,  True,  True,  True,  True,  True,  True,\n",
       "        True,  True,  True])"
      ]
     },
     "execution_count": 21,
     "metadata": {},
     "output_type": "execute_result"
    }
   ],
   "source": [
    "aa == bb"
   ]
  },
  {
   "cell_type": "markdown",
   "id": "821392af",
   "metadata": {},
   "source": [
    "##### 2D"
   ]
  },
  {
   "cell_type": "code",
   "execution_count": 22,
   "id": "1181faab",
   "metadata": {},
   "outputs": [
    {
     "data": {
      "text/plain": [
       "array([[ 0,  1,  2,  3,  4],\n",
       "       [ 5,  6,  7,  8,  9],\n",
       "       [10, 11, 12, 13, 14],\n",
       "       [15, 16, 17, 18, 19],\n",
       "       [20, 21, 22, 23, 24],\n",
       "       [25, 26, 27, 28, 29]])"
      ]
     },
     "execution_count": 22,
     "metadata": {},
     "output_type": "execute_result"
    }
   ],
   "source": [
    "cc = aa.reshape(6,5)\n",
    "cc"
   ]
  },
  {
   "cell_type": "code",
   "execution_count": 23,
   "id": "36cfb770",
   "metadata": {},
   "outputs": [
    {
     "data": {
      "text/plain": [
       "array([[ 0,  5, 10, 15, 20, 25],\n",
       "       [ 1,  6, 11, 16, 21, 26],\n",
       "       [ 2,  7, 12, 17, 22, 27],\n",
       "       [ 3,  8, 13, 18, 23, 28],\n",
       "       [ 4,  9, 14, 19, 24, 29]])"
      ]
     },
     "execution_count": 23,
     "metadata": {},
     "output_type": "execute_result"
    }
   ],
   "source": [
    "cc.transpose()"
   ]
  },
  {
   "cell_type": "markdown",
   "id": "30989bf3",
   "metadata": {},
   "source": [
    "##### 3D"
   ]
  },
  {
   "cell_type": "code",
   "execution_count": 24,
   "id": "7bcd8000",
   "metadata": {},
   "outputs": [
    {
     "data": {
      "text/plain": [
       "array([[[ 0,  1,  2,  3,  4],\n",
       "        [ 5,  6,  7,  8,  9],\n",
       "        [10, 11, 12, 13, 14]],\n",
       "\n",
       "       [[15, 16, 17, 18, 19],\n",
       "        [20, 21, 22, 23, 24],\n",
       "        [25, 26, 27, 28, 29]]])"
      ]
     },
     "execution_count": 24,
     "metadata": {},
     "output_type": "execute_result"
    }
   ],
   "source": [
    "dd = aa.reshape(2,3,5)\n",
    "dd"
   ]
  },
  {
   "cell_type": "code",
   "execution_count": 25,
   "id": "374f13f7",
   "metadata": {},
   "outputs": [
    {
     "data": {
      "text/plain": [
       "array([[[ 0, 15],\n",
       "        [ 5, 20],\n",
       "        [10, 25]],\n",
       "\n",
       "       [[ 1, 16],\n",
       "        [ 6, 21],\n",
       "        [11, 26]],\n",
       "\n",
       "       [[ 2, 17],\n",
       "        [ 7, 22],\n",
       "        [12, 27]],\n",
       "\n",
       "       [[ 3, 18],\n",
       "        [ 8, 23],\n",
       "        [13, 28]],\n",
       "\n",
       "       [[ 4, 19],\n",
       "        [ 9, 24],\n",
       "        [14, 29]]])"
      ]
     },
     "execution_count": 25,
     "metadata": {},
     "output_type": "execute_result"
    }
   ],
   "source": [
    "dd.T    # in 3D (d,r,c)^T = (d_new = c,r, c_new = d)"
   ]
  },
  {
   "cell_type": "markdown",
   "id": "a78f7233",
   "metadata": {},
   "source": [
    "<div class= \"alert alert-warning\"> dd.T = [ [[d0c0 d1c0]] , [[d0c1 d1c1]] , [[d0c2 d1c2]] , [[d0c3 d1c3]] , [[d0c4 d1c4]] ] </div>"
   ]
  },
  {
   "cell_type": "markdown",
   "id": "412f8eea",
   "metadata": {},
   "source": [
    "#### <div class= \"alert alert-info\">Changing array shape using resize() function:"
   ]
  },
  {
   "cell_type": "code",
   "execution_count": 26,
   "id": "502001cf",
   "metadata": {},
   "outputs": [
    {
     "data": {
      "text/plain": [
       "array([ 0,  1,  2,  3,  4,  5,  6,  7,  8,  9, 10, 11, 12, 13, 14, 15, 16,\n",
       "       17, 18, 19, 20, 21, 22, 23, 24, 25, 26, 27, 28, 29])"
      ]
     },
     "execution_count": 26,
     "metadata": {},
     "output_type": "execute_result"
    }
   ],
   "source": [
    "aa"
   ]
  },
  {
   "cell_type": "code",
   "execution_count": 29,
   "id": "12d63a57",
   "metadata": {},
   "outputs": [
    {
     "data": {
      "text/plain": [
       "array([[ 0,  1,  2,  3,  4],\n",
       "       [ 5,  6,  7,  8,  9],\n",
       "       [10, 11, 12, 13, 14],\n",
       "       [15, 16, 17, 18, 19],\n",
       "       [20, 21, 22, 23, 24],\n",
       "       [25, 26, 27, 28, 29]])"
      ]
     },
     "execution_count": 29,
     "metadata": {},
     "output_type": "execute_result"
    }
   ],
   "source": [
    "aa.resize((6,5))\n",
    "aa"
   ]
  },
  {
   "cell_type": "code",
   "execution_count": 32,
   "id": "64d1e279",
   "metadata": {},
   "outputs": [
    {
     "data": {
      "text/plain": [
       "array([[[ 0,  1,  2,  3,  4],\n",
       "        [ 5,  6,  7,  8,  9]],\n",
       "\n",
       "       [[10, 11, 12, 13, 14],\n",
       "        [15, 16, 17, 18, 19]],\n",
       "\n",
       "       [[20, 21, 22, 23, 24],\n",
       "        [25, 26, 27, 28, 29]]])"
      ]
     },
     "execution_count": 32,
     "metadata": {},
     "output_type": "execute_result"
    }
   ],
   "source": [
    "aa.resize((3,2,5))\n",
    "aa"
   ]
  },
  {
   "cell_type": "markdown",
   "id": "b441567a",
   "metadata": {},
   "source": [
    "#### <div class= \"alert alert-warning\">Difference between reshape() & resize()</div> \n",
    "\n",
    "- <mark>reshape():</mark>\n",
    "    \n",
    "    1. modifies shape of an array\n",
    "    2. doesn't return the orignal array, only the changed array\n",
    "\n",
    "- <mark>resize():</mark>\n",
    "\n",
    "    1. modifies array shape and adds a copy orignal array if necessary\n",
    "    2. resize method returns nothing and directly changes the orignal array"
   ]
  }
 ],
 "metadata": {
  "kernelspec": {
   "display_name": "Python 3 (ipykernel)",
   "language": "python",
   "name": "python3"
  },
  "language_info": {
   "codemirror_mode": {
    "name": "ipython",
    "version": 3
   },
   "file_extension": ".py",
   "mimetype": "text/x-python",
   "name": "python",
   "nbconvert_exporter": "python",
   "pygments_lexer": "ipython3",
   "version": "3.9.12"
  }
 },
 "nbformat": 4,
 "nbformat_minor": 5
}
